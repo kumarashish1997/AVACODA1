{
 "cells": [
  {
   "cell_type": "code",
   "execution_count": 1,
   "id": "463c0043",
   "metadata": {},
   "outputs": [],
   "source": [
    "import numpy as np\n",
    "import pandas as pd\n",
    "import matplotlib.pyplot as plt\n",
    "import seaborn as sns\n",
    "# Import warnings\n",
    "import warnings\n",
    "warnings.filterwarnings('ignore')"
   ]
  },
  {
   "cell_type": "code",
   "execution_count": 2,
   "id": "82fc01da",
   "metadata": {},
   "outputs": [],
   "source": [
    "# regresion models\n",
    "from sklearn.linear_model import LinearRegression\n",
    "from sklearn.linear_model import Lasso\n",
    "from sklearn.linear_model import Ridge\n",
    "# regressor models\n",
    "from sklearn.tree import DecisionTreeRegressor\n",
    "from sklearn.svm import SVR\n",
    "from sklearn.neighbors import KNeighborsRegressor\n",
    "# ensemble models\n",
    "from sklearn.ensemble import AdaBoostRegressor\n",
    "from sklearn.ensemble import GradientBoostingRegressor\n",
    "from sklearn.ensemble import RandomForestRegressor"
   ]
  },
  {
   "cell_type": "code",
   "execution_count": 3,
   "id": "6965e610",
   "metadata": {},
   "outputs": [],
   "source": [
    "# model selection methods\n",
    "from sklearn.model_selection import train_test_split\n",
    "from sklearn.model_selection import KFold\n",
    "from sklearn.model_selection import GridSearchCV\n",
    "from sklearn.model_selection import cross_val_score"
   ]
  },
  {
   "cell_type": "code",
   "execution_count": 4,
   "id": "51f9adeb",
   "metadata": {},
   "outputs": [],
   "source": [
    "# import Regressor metrics\n",
    "from sklearn.metrics import r2_score,mean_absolute_error,mean_squared_error"
   ]
  },
  {
   "cell_type": "code",
   "execution_count": 5,
   "id": "29f39625",
   "metadata": {},
   "outputs": [
    {
     "data": {
      "text/html": [
       "<div>\n",
       "<style scoped>\n",
       "    .dataframe tbody tr th:only-of-type {\n",
       "        vertical-align: middle;\n",
       "    }\n",
       "\n",
       "    .dataframe tbody tr th {\n",
       "        vertical-align: top;\n",
       "    }\n",
       "\n",
       "    .dataframe thead th {\n",
       "        text-align: right;\n",
       "    }\n",
       "</style>\n",
       "<table border=\"1\" class=\"dataframe\">\n",
       "  <thead>\n",
       "    <tr style=\"text-align: right;\">\n",
       "      <th></th>\n",
       "      <th>Unnamed: 0</th>\n",
       "      <th>Date</th>\n",
       "      <th>AveragePrice</th>\n",
       "      <th>Total Volume</th>\n",
       "      <th>4046</th>\n",
       "      <th>4225</th>\n",
       "      <th>4770</th>\n",
       "      <th>Total Bags</th>\n",
       "      <th>Small Bags</th>\n",
       "      <th>Large Bags</th>\n",
       "      <th>XLarge Bags</th>\n",
       "      <th>type</th>\n",
       "      <th>year</th>\n",
       "      <th>region</th>\n",
       "    </tr>\n",
       "  </thead>\n",
       "  <tbody>\n",
       "    <tr>\n",
       "      <th>0</th>\n",
       "      <td>0</td>\n",
       "      <td>2015-12-27</td>\n",
       "      <td>1.33</td>\n",
       "      <td>64236.62</td>\n",
       "      <td>1036.74</td>\n",
       "      <td>54454.85</td>\n",
       "      <td>48.16</td>\n",
       "      <td>8696.87</td>\n",
       "      <td>8603.62</td>\n",
       "      <td>93.25</td>\n",
       "      <td>0.0</td>\n",
       "      <td>conventional</td>\n",
       "      <td>2015</td>\n",
       "      <td>Albany</td>\n",
       "    </tr>\n",
       "    <tr>\n",
       "      <th>1</th>\n",
       "      <td>1</td>\n",
       "      <td>2015-12-20</td>\n",
       "      <td>1.35</td>\n",
       "      <td>54876.98</td>\n",
       "      <td>674.28</td>\n",
       "      <td>44638.81</td>\n",
       "      <td>58.33</td>\n",
       "      <td>9505.56</td>\n",
       "      <td>9408.07</td>\n",
       "      <td>97.49</td>\n",
       "      <td>0.0</td>\n",
       "      <td>conventional</td>\n",
       "      <td>2015</td>\n",
       "      <td>Albany</td>\n",
       "    </tr>\n",
       "    <tr>\n",
       "      <th>2</th>\n",
       "      <td>2</td>\n",
       "      <td>2015-12-13</td>\n",
       "      <td>0.93</td>\n",
       "      <td>118220.22</td>\n",
       "      <td>794.70</td>\n",
       "      <td>109149.67</td>\n",
       "      <td>130.50</td>\n",
       "      <td>8145.35</td>\n",
       "      <td>8042.21</td>\n",
       "      <td>103.14</td>\n",
       "      <td>0.0</td>\n",
       "      <td>conventional</td>\n",
       "      <td>2015</td>\n",
       "      <td>Albany</td>\n",
       "    </tr>\n",
       "    <tr>\n",
       "      <th>3</th>\n",
       "      <td>3</td>\n",
       "      <td>2015-12-06</td>\n",
       "      <td>1.08</td>\n",
       "      <td>78992.15</td>\n",
       "      <td>1132.00</td>\n",
       "      <td>71976.41</td>\n",
       "      <td>72.58</td>\n",
       "      <td>5811.16</td>\n",
       "      <td>5677.40</td>\n",
       "      <td>133.76</td>\n",
       "      <td>0.0</td>\n",
       "      <td>conventional</td>\n",
       "      <td>2015</td>\n",
       "      <td>Albany</td>\n",
       "    </tr>\n",
       "    <tr>\n",
       "      <th>4</th>\n",
       "      <td>4</td>\n",
       "      <td>2015-11-29</td>\n",
       "      <td>1.28</td>\n",
       "      <td>51039.60</td>\n",
       "      <td>941.48</td>\n",
       "      <td>43838.39</td>\n",
       "      <td>75.78</td>\n",
       "      <td>6183.95</td>\n",
       "      <td>5986.26</td>\n",
       "      <td>197.69</td>\n",
       "      <td>0.0</td>\n",
       "      <td>conventional</td>\n",
       "      <td>2015</td>\n",
       "      <td>Albany</td>\n",
       "    </tr>\n",
       "    <tr>\n",
       "      <th>...</th>\n",
       "      <td>...</td>\n",
       "      <td>...</td>\n",
       "      <td>...</td>\n",
       "      <td>...</td>\n",
       "      <td>...</td>\n",
       "      <td>...</td>\n",
       "      <td>...</td>\n",
       "      <td>...</td>\n",
       "      <td>...</td>\n",
       "      <td>...</td>\n",
       "      <td>...</td>\n",
       "      <td>...</td>\n",
       "      <td>...</td>\n",
       "      <td>...</td>\n",
       "    </tr>\n",
       "    <tr>\n",
       "      <th>18244</th>\n",
       "      <td>7</td>\n",
       "      <td>2018-02-04</td>\n",
       "      <td>1.63</td>\n",
       "      <td>17074.83</td>\n",
       "      <td>2046.96</td>\n",
       "      <td>1529.20</td>\n",
       "      <td>0.00</td>\n",
       "      <td>13498.67</td>\n",
       "      <td>13066.82</td>\n",
       "      <td>431.85</td>\n",
       "      <td>0.0</td>\n",
       "      <td>organic</td>\n",
       "      <td>2018</td>\n",
       "      <td>WestTexNewMexico</td>\n",
       "    </tr>\n",
       "    <tr>\n",
       "      <th>18245</th>\n",
       "      <td>8</td>\n",
       "      <td>2018-01-28</td>\n",
       "      <td>1.71</td>\n",
       "      <td>13888.04</td>\n",
       "      <td>1191.70</td>\n",
       "      <td>3431.50</td>\n",
       "      <td>0.00</td>\n",
       "      <td>9264.84</td>\n",
       "      <td>8940.04</td>\n",
       "      <td>324.80</td>\n",
       "      <td>0.0</td>\n",
       "      <td>organic</td>\n",
       "      <td>2018</td>\n",
       "      <td>WestTexNewMexico</td>\n",
       "    </tr>\n",
       "    <tr>\n",
       "      <th>18246</th>\n",
       "      <td>9</td>\n",
       "      <td>2018-01-21</td>\n",
       "      <td>1.87</td>\n",
       "      <td>13766.76</td>\n",
       "      <td>1191.92</td>\n",
       "      <td>2452.79</td>\n",
       "      <td>727.94</td>\n",
       "      <td>9394.11</td>\n",
       "      <td>9351.80</td>\n",
       "      <td>42.31</td>\n",
       "      <td>0.0</td>\n",
       "      <td>organic</td>\n",
       "      <td>2018</td>\n",
       "      <td>WestTexNewMexico</td>\n",
       "    </tr>\n",
       "    <tr>\n",
       "      <th>18247</th>\n",
       "      <td>10</td>\n",
       "      <td>2018-01-14</td>\n",
       "      <td>1.93</td>\n",
       "      <td>16205.22</td>\n",
       "      <td>1527.63</td>\n",
       "      <td>2981.04</td>\n",
       "      <td>727.01</td>\n",
       "      <td>10969.54</td>\n",
       "      <td>10919.54</td>\n",
       "      <td>50.00</td>\n",
       "      <td>0.0</td>\n",
       "      <td>organic</td>\n",
       "      <td>2018</td>\n",
       "      <td>WestTexNewMexico</td>\n",
       "    </tr>\n",
       "    <tr>\n",
       "      <th>18248</th>\n",
       "      <td>11</td>\n",
       "      <td>2018-01-07</td>\n",
       "      <td>1.62</td>\n",
       "      <td>17489.58</td>\n",
       "      <td>2894.77</td>\n",
       "      <td>2356.13</td>\n",
       "      <td>224.53</td>\n",
       "      <td>12014.15</td>\n",
       "      <td>11988.14</td>\n",
       "      <td>26.01</td>\n",
       "      <td>0.0</td>\n",
       "      <td>organic</td>\n",
       "      <td>2018</td>\n",
       "      <td>WestTexNewMexico</td>\n",
       "    </tr>\n",
       "  </tbody>\n",
       "</table>\n",
       "<p>18249 rows × 14 columns</p>\n",
       "</div>"
      ],
      "text/plain": [
       "       Unnamed: 0        Date  AveragePrice  Total Volume     4046       4225  \\\n",
       "0               0  2015-12-27          1.33      64236.62  1036.74   54454.85   \n",
       "1               1  2015-12-20          1.35      54876.98   674.28   44638.81   \n",
       "2               2  2015-12-13          0.93     118220.22   794.70  109149.67   \n",
       "3               3  2015-12-06          1.08      78992.15  1132.00   71976.41   \n",
       "4               4  2015-11-29          1.28      51039.60   941.48   43838.39   \n",
       "...           ...         ...           ...           ...      ...        ...   \n",
       "18244           7  2018-02-04          1.63      17074.83  2046.96    1529.20   \n",
       "18245           8  2018-01-28          1.71      13888.04  1191.70    3431.50   \n",
       "18246           9  2018-01-21          1.87      13766.76  1191.92    2452.79   \n",
       "18247          10  2018-01-14          1.93      16205.22  1527.63    2981.04   \n",
       "18248          11  2018-01-07          1.62      17489.58  2894.77    2356.13   \n",
       "\n",
       "         4770  Total Bags  Small Bags  Large Bags  XLarge Bags          type  \\\n",
       "0       48.16     8696.87     8603.62       93.25          0.0  conventional   \n",
       "1       58.33     9505.56     9408.07       97.49          0.0  conventional   \n",
       "2      130.50     8145.35     8042.21      103.14          0.0  conventional   \n",
       "3       72.58     5811.16     5677.40      133.76          0.0  conventional   \n",
       "4       75.78     6183.95     5986.26      197.69          0.0  conventional   \n",
       "...       ...         ...         ...         ...          ...           ...   \n",
       "18244    0.00    13498.67    13066.82      431.85          0.0       organic   \n",
       "18245    0.00     9264.84     8940.04      324.80          0.0       organic   \n",
       "18246  727.94     9394.11     9351.80       42.31          0.0       organic   \n",
       "18247  727.01    10969.54    10919.54       50.00          0.0       organic   \n",
       "18248  224.53    12014.15    11988.14       26.01          0.0       organic   \n",
       "\n",
       "       year            region  \n",
       "0      2015            Albany  \n",
       "1      2015            Albany  \n",
       "2      2015            Albany  \n",
       "3      2015            Albany  \n",
       "4      2015            Albany  \n",
       "...     ...               ...  \n",
       "18244  2018  WestTexNewMexico  \n",
       "18245  2018  WestTexNewMexico  \n",
       "18246  2018  WestTexNewMexico  \n",
       "18247  2018  WestTexNewMexico  \n",
       "18248  2018  WestTexNewMexico  \n",
       "\n",
       "[18249 rows x 14 columns]"
      ]
     },
     "execution_count": 5,
     "metadata": {},
     "output_type": "execute_result"
    }
   ],
   "source": [
    "# loded dataset\n",
    "ds=pd.read_csv('avocado.csv')\n",
    "ds"
   ]
  },
  {
   "cell_type": "code",
   "execution_count": 6,
   "id": "1cb9543a",
   "metadata": {
    "scrolled": true
   },
   "outputs": [
    {
     "data": {
      "text/plain": [
       "dtype('O')"
      ]
     },
     "execution_count": 6,
     "metadata": {},
     "output_type": "execute_result"
    }
   ],
   "source": [
    "ds['Date'].dtype   #check date type"
   ]
  },
  {
   "cell_type": "markdown",
   "id": "58d5d649",
   "metadata": {},
   "source": [
    "Date type is obj so first of all it convert into date time foramt.By this we easily pivot it day,month and year columns"
   ]
  },
  {
   "cell_type": "code",
   "execution_count": 7,
   "id": "1ccb1b57",
   "metadata": {},
   "outputs": [
    {
     "data": {
      "text/html": [
       "<div>\n",
       "<style scoped>\n",
       "    .dataframe tbody tr th:only-of-type {\n",
       "        vertical-align: middle;\n",
       "    }\n",
       "\n",
       "    .dataframe tbody tr th {\n",
       "        vertical-align: top;\n",
       "    }\n",
       "\n",
       "    .dataframe thead th {\n",
       "        text-align: right;\n",
       "    }\n",
       "</style>\n",
       "<table border=\"1\" class=\"dataframe\">\n",
       "  <thead>\n",
       "    <tr style=\"text-align: right;\">\n",
       "      <th></th>\n",
       "      <th>Unnamed: 0</th>\n",
       "      <th>Date</th>\n",
       "      <th>AveragePrice</th>\n",
       "      <th>Total Volume</th>\n",
       "      <th>4046</th>\n",
       "      <th>4225</th>\n",
       "      <th>4770</th>\n",
       "      <th>Total Bags</th>\n",
       "      <th>Small Bags</th>\n",
       "      <th>Large Bags</th>\n",
       "      <th>XLarge Bags</th>\n",
       "      <th>type</th>\n",
       "      <th>year</th>\n",
       "      <th>region</th>\n",
       "    </tr>\n",
       "  </thead>\n",
       "  <tbody>\n",
       "    <tr>\n",
       "      <th>0</th>\n",
       "      <td>0</td>\n",
       "      <td>2015-12-27</td>\n",
       "      <td>1.33</td>\n",
       "      <td>64236.62</td>\n",
       "      <td>1036.74</td>\n",
       "      <td>54454.85</td>\n",
       "      <td>48.16</td>\n",
       "      <td>8696.87</td>\n",
       "      <td>8603.62</td>\n",
       "      <td>93.25</td>\n",
       "      <td>0.0</td>\n",
       "      <td>conventional</td>\n",
       "      <td>2015</td>\n",
       "      <td>Albany</td>\n",
       "    </tr>\n",
       "    <tr>\n",
       "      <th>1</th>\n",
       "      <td>1</td>\n",
       "      <td>2015-12-20</td>\n",
       "      <td>1.35</td>\n",
       "      <td>54876.98</td>\n",
       "      <td>674.28</td>\n",
       "      <td>44638.81</td>\n",
       "      <td>58.33</td>\n",
       "      <td>9505.56</td>\n",
       "      <td>9408.07</td>\n",
       "      <td>97.49</td>\n",
       "      <td>0.0</td>\n",
       "      <td>conventional</td>\n",
       "      <td>2015</td>\n",
       "      <td>Albany</td>\n",
       "    </tr>\n",
       "    <tr>\n",
       "      <th>2</th>\n",
       "      <td>2</td>\n",
       "      <td>2015-12-13</td>\n",
       "      <td>0.93</td>\n",
       "      <td>118220.22</td>\n",
       "      <td>794.70</td>\n",
       "      <td>109149.67</td>\n",
       "      <td>130.50</td>\n",
       "      <td>8145.35</td>\n",
       "      <td>8042.21</td>\n",
       "      <td>103.14</td>\n",
       "      <td>0.0</td>\n",
       "      <td>conventional</td>\n",
       "      <td>2015</td>\n",
       "      <td>Albany</td>\n",
       "    </tr>\n",
       "    <tr>\n",
       "      <th>3</th>\n",
       "      <td>3</td>\n",
       "      <td>2015-12-06</td>\n",
       "      <td>1.08</td>\n",
       "      <td>78992.15</td>\n",
       "      <td>1132.00</td>\n",
       "      <td>71976.41</td>\n",
       "      <td>72.58</td>\n",
       "      <td>5811.16</td>\n",
       "      <td>5677.40</td>\n",
       "      <td>133.76</td>\n",
       "      <td>0.0</td>\n",
       "      <td>conventional</td>\n",
       "      <td>2015</td>\n",
       "      <td>Albany</td>\n",
       "    </tr>\n",
       "    <tr>\n",
       "      <th>4</th>\n",
       "      <td>4</td>\n",
       "      <td>2015-11-29</td>\n",
       "      <td>1.28</td>\n",
       "      <td>51039.60</td>\n",
       "      <td>941.48</td>\n",
       "      <td>43838.39</td>\n",
       "      <td>75.78</td>\n",
       "      <td>6183.95</td>\n",
       "      <td>5986.26</td>\n",
       "      <td>197.69</td>\n",
       "      <td>0.0</td>\n",
       "      <td>conventional</td>\n",
       "      <td>2015</td>\n",
       "      <td>Albany</td>\n",
       "    </tr>\n",
       "    <tr>\n",
       "      <th>...</th>\n",
       "      <td>...</td>\n",
       "      <td>...</td>\n",
       "      <td>...</td>\n",
       "      <td>...</td>\n",
       "      <td>...</td>\n",
       "      <td>...</td>\n",
       "      <td>...</td>\n",
       "      <td>...</td>\n",
       "      <td>...</td>\n",
       "      <td>...</td>\n",
       "      <td>...</td>\n",
       "      <td>...</td>\n",
       "      <td>...</td>\n",
       "      <td>...</td>\n",
       "    </tr>\n",
       "    <tr>\n",
       "      <th>18244</th>\n",
       "      <td>7</td>\n",
       "      <td>2018-02-04</td>\n",
       "      <td>1.63</td>\n",
       "      <td>17074.83</td>\n",
       "      <td>2046.96</td>\n",
       "      <td>1529.20</td>\n",
       "      <td>0.00</td>\n",
       "      <td>13498.67</td>\n",
       "      <td>13066.82</td>\n",
       "      <td>431.85</td>\n",
       "      <td>0.0</td>\n",
       "      <td>organic</td>\n",
       "      <td>2018</td>\n",
       "      <td>WestTexNewMexico</td>\n",
       "    </tr>\n",
       "    <tr>\n",
       "      <th>18245</th>\n",
       "      <td>8</td>\n",
       "      <td>2018-01-28</td>\n",
       "      <td>1.71</td>\n",
       "      <td>13888.04</td>\n",
       "      <td>1191.70</td>\n",
       "      <td>3431.50</td>\n",
       "      <td>0.00</td>\n",
       "      <td>9264.84</td>\n",
       "      <td>8940.04</td>\n",
       "      <td>324.80</td>\n",
       "      <td>0.0</td>\n",
       "      <td>organic</td>\n",
       "      <td>2018</td>\n",
       "      <td>WestTexNewMexico</td>\n",
       "    </tr>\n",
       "    <tr>\n",
       "      <th>18246</th>\n",
       "      <td>9</td>\n",
       "      <td>2018-01-21</td>\n",
       "      <td>1.87</td>\n",
       "      <td>13766.76</td>\n",
       "      <td>1191.92</td>\n",
       "      <td>2452.79</td>\n",
       "      <td>727.94</td>\n",
       "      <td>9394.11</td>\n",
       "      <td>9351.80</td>\n",
       "      <td>42.31</td>\n",
       "      <td>0.0</td>\n",
       "      <td>organic</td>\n",
       "      <td>2018</td>\n",
       "      <td>WestTexNewMexico</td>\n",
       "    </tr>\n",
       "    <tr>\n",
       "      <th>18247</th>\n",
       "      <td>10</td>\n",
       "      <td>2018-01-14</td>\n",
       "      <td>1.93</td>\n",
       "      <td>16205.22</td>\n",
       "      <td>1527.63</td>\n",
       "      <td>2981.04</td>\n",
       "      <td>727.01</td>\n",
       "      <td>10969.54</td>\n",
       "      <td>10919.54</td>\n",
       "      <td>50.00</td>\n",
       "      <td>0.0</td>\n",
       "      <td>organic</td>\n",
       "      <td>2018</td>\n",
       "      <td>WestTexNewMexico</td>\n",
       "    </tr>\n",
       "    <tr>\n",
       "      <th>18248</th>\n",
       "      <td>11</td>\n",
       "      <td>2018-01-07</td>\n",
       "      <td>1.62</td>\n",
       "      <td>17489.58</td>\n",
       "      <td>2894.77</td>\n",
       "      <td>2356.13</td>\n",
       "      <td>224.53</td>\n",
       "      <td>12014.15</td>\n",
       "      <td>11988.14</td>\n",
       "      <td>26.01</td>\n",
       "      <td>0.0</td>\n",
       "      <td>organic</td>\n",
       "      <td>2018</td>\n",
       "      <td>WestTexNewMexico</td>\n",
       "    </tr>\n",
       "  </tbody>\n",
       "</table>\n",
       "<p>18249 rows × 14 columns</p>\n",
       "</div>"
      ],
      "text/plain": [
       "       Unnamed: 0       Date  AveragePrice  Total Volume     4046       4225  \\\n",
       "0               0 2015-12-27          1.33      64236.62  1036.74   54454.85   \n",
       "1               1 2015-12-20          1.35      54876.98   674.28   44638.81   \n",
       "2               2 2015-12-13          0.93     118220.22   794.70  109149.67   \n",
       "3               3 2015-12-06          1.08      78992.15  1132.00   71976.41   \n",
       "4               4 2015-11-29          1.28      51039.60   941.48   43838.39   \n",
       "...           ...        ...           ...           ...      ...        ...   \n",
       "18244           7 2018-02-04          1.63      17074.83  2046.96    1529.20   \n",
       "18245           8 2018-01-28          1.71      13888.04  1191.70    3431.50   \n",
       "18246           9 2018-01-21          1.87      13766.76  1191.92    2452.79   \n",
       "18247          10 2018-01-14          1.93      16205.22  1527.63    2981.04   \n",
       "18248          11 2018-01-07          1.62      17489.58  2894.77    2356.13   \n",
       "\n",
       "         4770  Total Bags  Small Bags  Large Bags  XLarge Bags          type  \\\n",
       "0       48.16     8696.87     8603.62       93.25          0.0  conventional   \n",
       "1       58.33     9505.56     9408.07       97.49          0.0  conventional   \n",
       "2      130.50     8145.35     8042.21      103.14          0.0  conventional   \n",
       "3       72.58     5811.16     5677.40      133.76          0.0  conventional   \n",
       "4       75.78     6183.95     5986.26      197.69          0.0  conventional   \n",
       "...       ...         ...         ...         ...          ...           ...   \n",
       "18244    0.00    13498.67    13066.82      431.85          0.0       organic   \n",
       "18245    0.00     9264.84     8940.04      324.80          0.0       organic   \n",
       "18246  727.94     9394.11     9351.80       42.31          0.0       organic   \n",
       "18247  727.01    10969.54    10919.54       50.00          0.0       organic   \n",
       "18248  224.53    12014.15    11988.14       26.01          0.0       organic   \n",
       "\n",
       "       year            region  \n",
       "0      2015            Albany  \n",
       "1      2015            Albany  \n",
       "2      2015            Albany  \n",
       "3      2015            Albany  \n",
       "4      2015            Albany  \n",
       "...     ...               ...  \n",
       "18244  2018  WestTexNewMexico  \n",
       "18245  2018  WestTexNewMexico  \n",
       "18246  2018  WestTexNewMexico  \n",
       "18247  2018  WestTexNewMexico  \n",
       "18248  2018  WestTexNewMexico  \n",
       "\n",
       "[18249 rows x 14 columns]"
      ]
     },
     "execution_count": 7,
     "metadata": {},
     "output_type": "execute_result"
    }
   ],
   "source": [
    "ds=pd.read_csv('avocado.csv',parse_dates=['Date'])   #parse_dates=it convert obj type to date time type\n",
    "ds"
   ]
  },
  {
   "cell_type": "code",
   "execution_count": 8,
   "id": "09f39bca",
   "metadata": {},
   "outputs": [
    {
     "data": {
      "text/plain": [
       "pandas._libs.tslibs.timestamps.Timestamp"
      ]
     },
     "execution_count": 8,
     "metadata": {},
     "output_type": "execute_result"
    }
   ],
   "source": [
    "type(ds['Date'][0])   #check after convert type "
   ]
  },
  {
   "cell_type": "markdown",
   "id": "18aced15",
   "metadata": {},
   "source": [
    "it convert into timestamp type"
   ]
  },
  {
   "cell_type": "markdown",
   "id": "3ea6f0b3",
   "metadata": {},
   "source": [
    "# Split date variable in day,month,year"
   ]
  },
  {
   "cell_type": "code",
   "execution_count": 9,
   "id": "f8711555",
   "metadata": {},
   "outputs": [],
   "source": [
    "# datetime laibary\n",
    "import datetime\n",
    "dt=datetime.datetime.now()"
   ]
  },
  {
   "cell_type": "code",
   "execution_count": 10,
   "id": "f9d938b5",
   "metadata": {},
   "outputs": [
    {
     "data": {
      "text/html": [
       "<div>\n",
       "<style scoped>\n",
       "    .dataframe tbody tr th:only-of-type {\n",
       "        vertical-align: middle;\n",
       "    }\n",
       "\n",
       "    .dataframe tbody tr th {\n",
       "        vertical-align: top;\n",
       "    }\n",
       "\n",
       "    .dataframe thead th {\n",
       "        text-align: right;\n",
       "    }\n",
       "</style>\n",
       "<table border=\"1\" class=\"dataframe\">\n",
       "  <thead>\n",
       "    <tr style=\"text-align: right;\">\n",
       "      <th></th>\n",
       "      <th>Unnamed: 0</th>\n",
       "      <th>Date</th>\n",
       "      <th>AveragePrice</th>\n",
       "      <th>Total Volume</th>\n",
       "      <th>4046</th>\n",
       "      <th>4225</th>\n",
       "      <th>4770</th>\n",
       "      <th>Total Bags</th>\n",
       "      <th>Small Bags</th>\n",
       "      <th>Large Bags</th>\n",
       "      <th>XLarge Bags</th>\n",
       "      <th>type</th>\n",
       "      <th>year</th>\n",
       "      <th>region</th>\n",
       "      <th>Day</th>\n",
       "      <th>Month</th>\n",
       "      <th>Year</th>\n",
       "    </tr>\n",
       "  </thead>\n",
       "  <tbody>\n",
       "    <tr>\n",
       "      <th>0</th>\n",
       "      <td>0</td>\n",
       "      <td>2015-12-27</td>\n",
       "      <td>1.33</td>\n",
       "      <td>64236.62</td>\n",
       "      <td>1036.74</td>\n",
       "      <td>54454.85</td>\n",
       "      <td>48.16</td>\n",
       "      <td>8696.87</td>\n",
       "      <td>8603.62</td>\n",
       "      <td>93.25</td>\n",
       "      <td>0.0</td>\n",
       "      <td>conventional</td>\n",
       "      <td>2015</td>\n",
       "      <td>Albany</td>\n",
       "      <td>27</td>\n",
       "      <td>12</td>\n",
       "      <td>2015</td>\n",
       "    </tr>\n",
       "    <tr>\n",
       "      <th>1</th>\n",
       "      <td>1</td>\n",
       "      <td>2015-12-20</td>\n",
       "      <td>1.35</td>\n",
       "      <td>54876.98</td>\n",
       "      <td>674.28</td>\n",
       "      <td>44638.81</td>\n",
       "      <td>58.33</td>\n",
       "      <td>9505.56</td>\n",
       "      <td>9408.07</td>\n",
       "      <td>97.49</td>\n",
       "      <td>0.0</td>\n",
       "      <td>conventional</td>\n",
       "      <td>2015</td>\n",
       "      <td>Albany</td>\n",
       "      <td>20</td>\n",
       "      <td>12</td>\n",
       "      <td>2015</td>\n",
       "    </tr>\n",
       "    <tr>\n",
       "      <th>2</th>\n",
       "      <td>2</td>\n",
       "      <td>2015-12-13</td>\n",
       "      <td>0.93</td>\n",
       "      <td>118220.22</td>\n",
       "      <td>794.70</td>\n",
       "      <td>109149.67</td>\n",
       "      <td>130.50</td>\n",
       "      <td>8145.35</td>\n",
       "      <td>8042.21</td>\n",
       "      <td>103.14</td>\n",
       "      <td>0.0</td>\n",
       "      <td>conventional</td>\n",
       "      <td>2015</td>\n",
       "      <td>Albany</td>\n",
       "      <td>13</td>\n",
       "      <td>12</td>\n",
       "      <td>2015</td>\n",
       "    </tr>\n",
       "    <tr>\n",
       "      <th>3</th>\n",
       "      <td>3</td>\n",
       "      <td>2015-12-06</td>\n",
       "      <td>1.08</td>\n",
       "      <td>78992.15</td>\n",
       "      <td>1132.00</td>\n",
       "      <td>71976.41</td>\n",
       "      <td>72.58</td>\n",
       "      <td>5811.16</td>\n",
       "      <td>5677.40</td>\n",
       "      <td>133.76</td>\n",
       "      <td>0.0</td>\n",
       "      <td>conventional</td>\n",
       "      <td>2015</td>\n",
       "      <td>Albany</td>\n",
       "      <td>6</td>\n",
       "      <td>12</td>\n",
       "      <td>2015</td>\n",
       "    </tr>\n",
       "    <tr>\n",
       "      <th>4</th>\n",
       "      <td>4</td>\n",
       "      <td>2015-11-29</td>\n",
       "      <td>1.28</td>\n",
       "      <td>51039.60</td>\n",
       "      <td>941.48</td>\n",
       "      <td>43838.39</td>\n",
       "      <td>75.78</td>\n",
       "      <td>6183.95</td>\n",
       "      <td>5986.26</td>\n",
       "      <td>197.69</td>\n",
       "      <td>0.0</td>\n",
       "      <td>conventional</td>\n",
       "      <td>2015</td>\n",
       "      <td>Albany</td>\n",
       "      <td>29</td>\n",
       "      <td>11</td>\n",
       "      <td>2015</td>\n",
       "    </tr>\n",
       "    <tr>\n",
       "      <th>...</th>\n",
       "      <td>...</td>\n",
       "      <td>...</td>\n",
       "      <td>...</td>\n",
       "      <td>...</td>\n",
       "      <td>...</td>\n",
       "      <td>...</td>\n",
       "      <td>...</td>\n",
       "      <td>...</td>\n",
       "      <td>...</td>\n",
       "      <td>...</td>\n",
       "      <td>...</td>\n",
       "      <td>...</td>\n",
       "      <td>...</td>\n",
       "      <td>...</td>\n",
       "      <td>...</td>\n",
       "      <td>...</td>\n",
       "      <td>...</td>\n",
       "    </tr>\n",
       "    <tr>\n",
       "      <th>18244</th>\n",
       "      <td>7</td>\n",
       "      <td>2018-02-04</td>\n",
       "      <td>1.63</td>\n",
       "      <td>17074.83</td>\n",
       "      <td>2046.96</td>\n",
       "      <td>1529.20</td>\n",
       "      <td>0.00</td>\n",
       "      <td>13498.67</td>\n",
       "      <td>13066.82</td>\n",
       "      <td>431.85</td>\n",
       "      <td>0.0</td>\n",
       "      <td>organic</td>\n",
       "      <td>2018</td>\n",
       "      <td>WestTexNewMexico</td>\n",
       "      <td>4</td>\n",
       "      <td>2</td>\n",
       "      <td>2018</td>\n",
       "    </tr>\n",
       "    <tr>\n",
       "      <th>18245</th>\n",
       "      <td>8</td>\n",
       "      <td>2018-01-28</td>\n",
       "      <td>1.71</td>\n",
       "      <td>13888.04</td>\n",
       "      <td>1191.70</td>\n",
       "      <td>3431.50</td>\n",
       "      <td>0.00</td>\n",
       "      <td>9264.84</td>\n",
       "      <td>8940.04</td>\n",
       "      <td>324.80</td>\n",
       "      <td>0.0</td>\n",
       "      <td>organic</td>\n",
       "      <td>2018</td>\n",
       "      <td>WestTexNewMexico</td>\n",
       "      <td>28</td>\n",
       "      <td>1</td>\n",
       "      <td>2018</td>\n",
       "    </tr>\n",
       "    <tr>\n",
       "      <th>18246</th>\n",
       "      <td>9</td>\n",
       "      <td>2018-01-21</td>\n",
       "      <td>1.87</td>\n",
       "      <td>13766.76</td>\n",
       "      <td>1191.92</td>\n",
       "      <td>2452.79</td>\n",
       "      <td>727.94</td>\n",
       "      <td>9394.11</td>\n",
       "      <td>9351.80</td>\n",
       "      <td>42.31</td>\n",
       "      <td>0.0</td>\n",
       "      <td>organic</td>\n",
       "      <td>2018</td>\n",
       "      <td>WestTexNewMexico</td>\n",
       "      <td>21</td>\n",
       "      <td>1</td>\n",
       "      <td>2018</td>\n",
       "    </tr>\n",
       "    <tr>\n",
       "      <th>18247</th>\n",
       "      <td>10</td>\n",
       "      <td>2018-01-14</td>\n",
       "      <td>1.93</td>\n",
       "      <td>16205.22</td>\n",
       "      <td>1527.63</td>\n",
       "      <td>2981.04</td>\n",
       "      <td>727.01</td>\n",
       "      <td>10969.54</td>\n",
       "      <td>10919.54</td>\n",
       "      <td>50.00</td>\n",
       "      <td>0.0</td>\n",
       "      <td>organic</td>\n",
       "      <td>2018</td>\n",
       "      <td>WestTexNewMexico</td>\n",
       "      <td>14</td>\n",
       "      <td>1</td>\n",
       "      <td>2018</td>\n",
       "    </tr>\n",
       "    <tr>\n",
       "      <th>18248</th>\n",
       "      <td>11</td>\n",
       "      <td>2018-01-07</td>\n",
       "      <td>1.62</td>\n",
       "      <td>17489.58</td>\n",
       "      <td>2894.77</td>\n",
       "      <td>2356.13</td>\n",
       "      <td>224.53</td>\n",
       "      <td>12014.15</td>\n",
       "      <td>11988.14</td>\n",
       "      <td>26.01</td>\n",
       "      <td>0.0</td>\n",
       "      <td>organic</td>\n",
       "      <td>2018</td>\n",
       "      <td>WestTexNewMexico</td>\n",
       "      <td>7</td>\n",
       "      <td>1</td>\n",
       "      <td>2018</td>\n",
       "    </tr>\n",
       "  </tbody>\n",
       "</table>\n",
       "<p>18249 rows × 17 columns</p>\n",
       "</div>"
      ],
      "text/plain": [
       "       Unnamed: 0       Date  AveragePrice  Total Volume     4046       4225  \\\n",
       "0               0 2015-12-27          1.33      64236.62  1036.74   54454.85   \n",
       "1               1 2015-12-20          1.35      54876.98   674.28   44638.81   \n",
       "2               2 2015-12-13          0.93     118220.22   794.70  109149.67   \n",
       "3               3 2015-12-06          1.08      78992.15  1132.00   71976.41   \n",
       "4               4 2015-11-29          1.28      51039.60   941.48   43838.39   \n",
       "...           ...        ...           ...           ...      ...        ...   \n",
       "18244           7 2018-02-04          1.63      17074.83  2046.96    1529.20   \n",
       "18245           8 2018-01-28          1.71      13888.04  1191.70    3431.50   \n",
       "18246           9 2018-01-21          1.87      13766.76  1191.92    2452.79   \n",
       "18247          10 2018-01-14          1.93      16205.22  1527.63    2981.04   \n",
       "18248          11 2018-01-07          1.62      17489.58  2894.77    2356.13   \n",
       "\n",
       "         4770  Total Bags  Small Bags  Large Bags  XLarge Bags          type  \\\n",
       "0       48.16     8696.87     8603.62       93.25          0.0  conventional   \n",
       "1       58.33     9505.56     9408.07       97.49          0.0  conventional   \n",
       "2      130.50     8145.35     8042.21      103.14          0.0  conventional   \n",
       "3       72.58     5811.16     5677.40      133.76          0.0  conventional   \n",
       "4       75.78     6183.95     5986.26      197.69          0.0  conventional   \n",
       "...       ...         ...         ...         ...          ...           ...   \n",
       "18244    0.00    13498.67    13066.82      431.85          0.0       organic   \n",
       "18245    0.00     9264.84     8940.04      324.80          0.0       organic   \n",
       "18246  727.94     9394.11     9351.80       42.31          0.0       organic   \n",
       "18247  727.01    10969.54    10919.54       50.00          0.0       organic   \n",
       "18248  224.53    12014.15    11988.14       26.01          0.0       organic   \n",
       "\n",
       "       year            region  Day  Month  Year  \n",
       "0      2015            Albany   27     12  2015  \n",
       "1      2015            Albany   20     12  2015  \n",
       "2      2015            Albany   13     12  2015  \n",
       "3      2015            Albany    6     12  2015  \n",
       "4      2015            Albany   29     11  2015  \n",
       "...     ...               ...  ...    ...   ...  \n",
       "18244  2018  WestTexNewMexico    4      2  2018  \n",
       "18245  2018  WestTexNewMexico   28      1  2018  \n",
       "18246  2018  WestTexNewMexico   21      1  2018  \n",
       "18247  2018  WestTexNewMexico   14      1  2018  \n",
       "18248  2018  WestTexNewMexico    7      1  2018  \n",
       "\n",
       "[18249 rows x 17 columns]"
      ]
     },
     "execution_count": 10,
     "metadata": {},
     "output_type": "execute_result"
    }
   ],
   "source": [
    "ds['Day']=ds['Date'].dt.day   #convert into day columnns\n",
    "ds['Month']=ds['Date'].dt.month  #convert into month columnns\n",
    "ds['Year']=ds['Date'].dt.year   #convert into year columnns\n",
    "ds"
   ]
  },
  {
   "cell_type": "code",
   "execution_count": 11,
   "id": "04e61ae8",
   "metadata": {},
   "outputs": [
    {
     "data": {
      "text/html": [
       "<div>\n",
       "<style scoped>\n",
       "    .dataframe tbody tr th:only-of-type {\n",
       "        vertical-align: middle;\n",
       "    }\n",
       "\n",
       "    .dataframe tbody tr th {\n",
       "        vertical-align: top;\n",
       "    }\n",
       "\n",
       "    .dataframe thead th {\n",
       "        text-align: right;\n",
       "    }\n",
       "</style>\n",
       "<table border=\"1\" class=\"dataframe\">\n",
       "  <thead>\n",
       "    <tr style=\"text-align: right;\">\n",
       "      <th></th>\n",
       "      <th>Unnamed: 0</th>\n",
       "      <th>Date</th>\n",
       "      <th>AveragePrice</th>\n",
       "      <th>Total Volume</th>\n",
       "      <th>4046</th>\n",
       "      <th>4225</th>\n",
       "      <th>4770</th>\n",
       "      <th>Total Bags</th>\n",
       "      <th>Small Bags</th>\n",
       "      <th>Large Bags</th>\n",
       "      <th>XLarge Bags</th>\n",
       "      <th>type</th>\n",
       "      <th>year</th>\n",
       "      <th>region</th>\n",
       "      <th>Day</th>\n",
       "      <th>Month</th>\n",
       "      <th>Year</th>\n",
       "    </tr>\n",
       "  </thead>\n",
       "  <tbody>\n",
       "    <tr>\n",
       "      <th>0</th>\n",
       "      <td>0</td>\n",
       "      <td>2015-12-27</td>\n",
       "      <td>1.33</td>\n",
       "      <td>64236.62</td>\n",
       "      <td>1036.74</td>\n",
       "      <td>54454.85</td>\n",
       "      <td>48.16</td>\n",
       "      <td>8696.87</td>\n",
       "      <td>8603.62</td>\n",
       "      <td>93.25</td>\n",
       "      <td>0.0</td>\n",
       "      <td>conventional</td>\n",
       "      <td>2015</td>\n",
       "      <td>Albany</td>\n",
       "      <td>27</td>\n",
       "      <td>12</td>\n",
       "      <td>2015</td>\n",
       "    </tr>\n",
       "    <tr>\n",
       "      <th>1</th>\n",
       "      <td>1</td>\n",
       "      <td>2015-12-20</td>\n",
       "      <td>1.35</td>\n",
       "      <td>54876.98</td>\n",
       "      <td>674.28</td>\n",
       "      <td>44638.81</td>\n",
       "      <td>58.33</td>\n",
       "      <td>9505.56</td>\n",
       "      <td>9408.07</td>\n",
       "      <td>97.49</td>\n",
       "      <td>0.0</td>\n",
       "      <td>conventional</td>\n",
       "      <td>2015</td>\n",
       "      <td>Albany</td>\n",
       "      <td>20</td>\n",
       "      <td>12</td>\n",
       "      <td>2015</td>\n",
       "    </tr>\n",
       "    <tr>\n",
       "      <th>2</th>\n",
       "      <td>2</td>\n",
       "      <td>2015-12-13</td>\n",
       "      <td>0.93</td>\n",
       "      <td>118220.22</td>\n",
       "      <td>794.70</td>\n",
       "      <td>109149.67</td>\n",
       "      <td>130.50</td>\n",
       "      <td>8145.35</td>\n",
       "      <td>8042.21</td>\n",
       "      <td>103.14</td>\n",
       "      <td>0.0</td>\n",
       "      <td>conventional</td>\n",
       "      <td>2015</td>\n",
       "      <td>Albany</td>\n",
       "      <td>13</td>\n",
       "      <td>12</td>\n",
       "      <td>2015</td>\n",
       "    </tr>\n",
       "    <tr>\n",
       "      <th>3</th>\n",
       "      <td>3</td>\n",
       "      <td>2015-12-06</td>\n",
       "      <td>1.08</td>\n",
       "      <td>78992.15</td>\n",
       "      <td>1132.00</td>\n",
       "      <td>71976.41</td>\n",
       "      <td>72.58</td>\n",
       "      <td>5811.16</td>\n",
       "      <td>5677.40</td>\n",
       "      <td>133.76</td>\n",
       "      <td>0.0</td>\n",
       "      <td>conventional</td>\n",
       "      <td>2015</td>\n",
       "      <td>Albany</td>\n",
       "      <td>6</td>\n",
       "      <td>12</td>\n",
       "      <td>2015</td>\n",
       "    </tr>\n",
       "    <tr>\n",
       "      <th>4</th>\n",
       "      <td>4</td>\n",
       "      <td>2015-11-29</td>\n",
       "      <td>1.28</td>\n",
       "      <td>51039.60</td>\n",
       "      <td>941.48</td>\n",
       "      <td>43838.39</td>\n",
       "      <td>75.78</td>\n",
       "      <td>6183.95</td>\n",
       "      <td>5986.26</td>\n",
       "      <td>197.69</td>\n",
       "      <td>0.0</td>\n",
       "      <td>conventional</td>\n",
       "      <td>2015</td>\n",
       "      <td>Albany</td>\n",
       "      <td>29</td>\n",
       "      <td>11</td>\n",
       "      <td>2015</td>\n",
       "    </tr>\n",
       "    <tr>\n",
       "      <th>...</th>\n",
       "      <td>...</td>\n",
       "      <td>...</td>\n",
       "      <td>...</td>\n",
       "      <td>...</td>\n",
       "      <td>...</td>\n",
       "      <td>...</td>\n",
       "      <td>...</td>\n",
       "      <td>...</td>\n",
       "      <td>...</td>\n",
       "      <td>...</td>\n",
       "      <td>...</td>\n",
       "      <td>...</td>\n",
       "      <td>...</td>\n",
       "      <td>...</td>\n",
       "      <td>...</td>\n",
       "      <td>...</td>\n",
       "      <td>...</td>\n",
       "    </tr>\n",
       "    <tr>\n",
       "      <th>18244</th>\n",
       "      <td>7</td>\n",
       "      <td>2018-02-04</td>\n",
       "      <td>1.63</td>\n",
       "      <td>17074.83</td>\n",
       "      <td>2046.96</td>\n",
       "      <td>1529.20</td>\n",
       "      <td>0.00</td>\n",
       "      <td>13498.67</td>\n",
       "      <td>13066.82</td>\n",
       "      <td>431.85</td>\n",
       "      <td>0.0</td>\n",
       "      <td>organic</td>\n",
       "      <td>2018</td>\n",
       "      <td>WestTexNewMexico</td>\n",
       "      <td>4</td>\n",
       "      <td>2</td>\n",
       "      <td>2018</td>\n",
       "    </tr>\n",
       "    <tr>\n",
       "      <th>18245</th>\n",
       "      <td>8</td>\n",
       "      <td>2018-01-28</td>\n",
       "      <td>1.71</td>\n",
       "      <td>13888.04</td>\n",
       "      <td>1191.70</td>\n",
       "      <td>3431.50</td>\n",
       "      <td>0.00</td>\n",
       "      <td>9264.84</td>\n",
       "      <td>8940.04</td>\n",
       "      <td>324.80</td>\n",
       "      <td>0.0</td>\n",
       "      <td>organic</td>\n",
       "      <td>2018</td>\n",
       "      <td>WestTexNewMexico</td>\n",
       "      <td>28</td>\n",
       "      <td>1</td>\n",
       "      <td>2018</td>\n",
       "    </tr>\n",
       "    <tr>\n",
       "      <th>18246</th>\n",
       "      <td>9</td>\n",
       "      <td>2018-01-21</td>\n",
       "      <td>1.87</td>\n",
       "      <td>13766.76</td>\n",
       "      <td>1191.92</td>\n",
       "      <td>2452.79</td>\n",
       "      <td>727.94</td>\n",
       "      <td>9394.11</td>\n",
       "      <td>9351.80</td>\n",
       "      <td>42.31</td>\n",
       "      <td>0.0</td>\n",
       "      <td>organic</td>\n",
       "      <td>2018</td>\n",
       "      <td>WestTexNewMexico</td>\n",
       "      <td>21</td>\n",
       "      <td>1</td>\n",
       "      <td>2018</td>\n",
       "    </tr>\n",
       "    <tr>\n",
       "      <th>18247</th>\n",
       "      <td>10</td>\n",
       "      <td>2018-01-14</td>\n",
       "      <td>1.93</td>\n",
       "      <td>16205.22</td>\n",
       "      <td>1527.63</td>\n",
       "      <td>2981.04</td>\n",
       "      <td>727.01</td>\n",
       "      <td>10969.54</td>\n",
       "      <td>10919.54</td>\n",
       "      <td>50.00</td>\n",
       "      <td>0.0</td>\n",
       "      <td>organic</td>\n",
       "      <td>2018</td>\n",
       "      <td>WestTexNewMexico</td>\n",
       "      <td>14</td>\n",
       "      <td>1</td>\n",
       "      <td>2018</td>\n",
       "    </tr>\n",
       "    <tr>\n",
       "      <th>18248</th>\n",
       "      <td>11</td>\n",
       "      <td>2018-01-07</td>\n",
       "      <td>1.62</td>\n",
       "      <td>17489.58</td>\n",
       "      <td>2894.77</td>\n",
       "      <td>2356.13</td>\n",
       "      <td>224.53</td>\n",
       "      <td>12014.15</td>\n",
       "      <td>11988.14</td>\n",
       "      <td>26.01</td>\n",
       "      <td>0.0</td>\n",
       "      <td>organic</td>\n",
       "      <td>2018</td>\n",
       "      <td>WestTexNewMexico</td>\n",
       "      <td>7</td>\n",
       "      <td>1</td>\n",
       "      <td>2018</td>\n",
       "    </tr>\n",
       "  </tbody>\n",
       "</table>\n",
       "<p>18249 rows × 17 columns</p>\n",
       "</div>"
      ],
      "text/plain": [
       "       Unnamed: 0       Date  AveragePrice  Total Volume     4046       4225  \\\n",
       "0               0 2015-12-27          1.33      64236.62  1036.74   54454.85   \n",
       "1               1 2015-12-20          1.35      54876.98   674.28   44638.81   \n",
       "2               2 2015-12-13          0.93     118220.22   794.70  109149.67   \n",
       "3               3 2015-12-06          1.08      78992.15  1132.00   71976.41   \n",
       "4               4 2015-11-29          1.28      51039.60   941.48   43838.39   \n",
       "...           ...        ...           ...           ...      ...        ...   \n",
       "18244           7 2018-02-04          1.63      17074.83  2046.96    1529.20   \n",
       "18245           8 2018-01-28          1.71      13888.04  1191.70    3431.50   \n",
       "18246           9 2018-01-21          1.87      13766.76  1191.92    2452.79   \n",
       "18247          10 2018-01-14          1.93      16205.22  1527.63    2981.04   \n",
       "18248          11 2018-01-07          1.62      17489.58  2894.77    2356.13   \n",
       "\n",
       "         4770  Total Bags  Small Bags  Large Bags  XLarge Bags          type  \\\n",
       "0       48.16     8696.87     8603.62       93.25          0.0  conventional   \n",
       "1       58.33     9505.56     9408.07       97.49          0.0  conventional   \n",
       "2      130.50     8145.35     8042.21      103.14          0.0  conventional   \n",
       "3       72.58     5811.16     5677.40      133.76          0.0  conventional   \n",
       "4       75.78     6183.95     5986.26      197.69          0.0  conventional   \n",
       "...       ...         ...         ...         ...          ...           ...   \n",
       "18244    0.00    13498.67    13066.82      431.85          0.0       organic   \n",
       "18245    0.00     9264.84     8940.04      324.80          0.0       organic   \n",
       "18246  727.94     9394.11     9351.80       42.31          0.0       organic   \n",
       "18247  727.01    10969.54    10919.54       50.00          0.0       organic   \n",
       "18248  224.53    12014.15    11988.14       26.01          0.0       organic   \n",
       "\n",
       "       year            region  Day  Month  Year  \n",
       "0      2015            Albany   27     12  2015  \n",
       "1      2015            Albany   20     12  2015  \n",
       "2      2015            Albany   13     12  2015  \n",
       "3      2015            Albany    6     12  2015  \n",
       "4      2015            Albany   29     11  2015  \n",
       "...     ...               ...  ...    ...   ...  \n",
       "18244  2018  WestTexNewMexico    4      2  2018  \n",
       "18245  2018  WestTexNewMexico   28      1  2018  \n",
       "18246  2018  WestTexNewMexico   21      1  2018  \n",
       "18247  2018  WestTexNewMexico   14      1  2018  \n",
       "18248  2018  WestTexNewMexico    7      1  2018  \n",
       "\n",
       "[18249 rows x 17 columns]"
      ]
     },
     "execution_count": 11,
     "metadata": {},
     "output_type": "execute_result"
    }
   ],
   "source": [
    "#frame it into daatframe\n",
    "df=pd.DataFrame(data=ds)\n",
    "df"
   ]
  },
  {
   "cell_type": "markdown",
   "id": "e3dc3440",
   "metadata": {},
   "source": [
    "Total Volume->4046 + 4225 + 4770 + Total Bags + Small Bags + Large Bags + XLarge Bags"
   ]
  },
  {
   "cell_type": "markdown",
   "id": "a139fb64",
   "metadata": {},
   "source": [
    "Total Bags=Small Bags + Large Bags + XLarge Bags"
   ]
  },
  {
   "cell_type": "markdown",
   "id": "70c1786f",
   "metadata": {},
   "source": [
    "Date-->we separate date into day,month,year formate so we remove Date and year columns"
   ]
  },
  {
   "cell_type": "markdown",
   "id": "bda96eab",
   "metadata": {},
   "source": [
    "Unnames-->no significant"
   ]
  },
  {
   "cell_type": "code",
   "execution_count": 12,
   "id": "6489d6c4",
   "metadata": {},
   "outputs": [],
   "source": [
    "df.drop(['Unnamed: 0','Date','year','Total Bags','Total Volume'],axis=1,inplace=True)  #drop date bcoz ew split it"
   ]
  },
  {
   "cell_type": "code",
   "execution_count": 13,
   "id": "2180651d",
   "metadata": {},
   "outputs": [
    {
     "data": {
      "text/html": [
       "<div>\n",
       "<style scoped>\n",
       "    .dataframe tbody tr th:only-of-type {\n",
       "        vertical-align: middle;\n",
       "    }\n",
       "\n",
       "    .dataframe tbody tr th {\n",
       "        vertical-align: top;\n",
       "    }\n",
       "\n",
       "    .dataframe thead th {\n",
       "        text-align: right;\n",
       "    }\n",
       "</style>\n",
       "<table border=\"1\" class=\"dataframe\">\n",
       "  <thead>\n",
       "    <tr style=\"text-align: right;\">\n",
       "      <th></th>\n",
       "      <th>AveragePrice</th>\n",
       "      <th>4046</th>\n",
       "      <th>4225</th>\n",
       "      <th>4770</th>\n",
       "      <th>Small Bags</th>\n",
       "      <th>Large Bags</th>\n",
       "      <th>XLarge Bags</th>\n",
       "      <th>type</th>\n",
       "      <th>region</th>\n",
       "      <th>Day</th>\n",
       "      <th>Month</th>\n",
       "      <th>Year</th>\n",
       "    </tr>\n",
       "  </thead>\n",
       "  <tbody>\n",
       "    <tr>\n",
       "      <th>0</th>\n",
       "      <td>1.33</td>\n",
       "      <td>1036.74</td>\n",
       "      <td>54454.85</td>\n",
       "      <td>48.16</td>\n",
       "      <td>8603.62</td>\n",
       "      <td>93.25</td>\n",
       "      <td>0.0</td>\n",
       "      <td>conventional</td>\n",
       "      <td>Albany</td>\n",
       "      <td>27</td>\n",
       "      <td>12</td>\n",
       "      <td>2015</td>\n",
       "    </tr>\n",
       "    <tr>\n",
       "      <th>1</th>\n",
       "      <td>1.35</td>\n",
       "      <td>674.28</td>\n",
       "      <td>44638.81</td>\n",
       "      <td>58.33</td>\n",
       "      <td>9408.07</td>\n",
       "      <td>97.49</td>\n",
       "      <td>0.0</td>\n",
       "      <td>conventional</td>\n",
       "      <td>Albany</td>\n",
       "      <td>20</td>\n",
       "      <td>12</td>\n",
       "      <td>2015</td>\n",
       "    </tr>\n",
       "    <tr>\n",
       "      <th>2</th>\n",
       "      <td>0.93</td>\n",
       "      <td>794.70</td>\n",
       "      <td>109149.67</td>\n",
       "      <td>130.50</td>\n",
       "      <td>8042.21</td>\n",
       "      <td>103.14</td>\n",
       "      <td>0.0</td>\n",
       "      <td>conventional</td>\n",
       "      <td>Albany</td>\n",
       "      <td>13</td>\n",
       "      <td>12</td>\n",
       "      <td>2015</td>\n",
       "    </tr>\n",
       "    <tr>\n",
       "      <th>3</th>\n",
       "      <td>1.08</td>\n",
       "      <td>1132.00</td>\n",
       "      <td>71976.41</td>\n",
       "      <td>72.58</td>\n",
       "      <td>5677.40</td>\n",
       "      <td>133.76</td>\n",
       "      <td>0.0</td>\n",
       "      <td>conventional</td>\n",
       "      <td>Albany</td>\n",
       "      <td>6</td>\n",
       "      <td>12</td>\n",
       "      <td>2015</td>\n",
       "    </tr>\n",
       "    <tr>\n",
       "      <th>4</th>\n",
       "      <td>1.28</td>\n",
       "      <td>941.48</td>\n",
       "      <td>43838.39</td>\n",
       "      <td>75.78</td>\n",
       "      <td>5986.26</td>\n",
       "      <td>197.69</td>\n",
       "      <td>0.0</td>\n",
       "      <td>conventional</td>\n",
       "      <td>Albany</td>\n",
       "      <td>29</td>\n",
       "      <td>11</td>\n",
       "      <td>2015</td>\n",
       "    </tr>\n",
       "    <tr>\n",
       "      <th>...</th>\n",
       "      <td>...</td>\n",
       "      <td>...</td>\n",
       "      <td>...</td>\n",
       "      <td>...</td>\n",
       "      <td>...</td>\n",
       "      <td>...</td>\n",
       "      <td>...</td>\n",
       "      <td>...</td>\n",
       "      <td>...</td>\n",
       "      <td>...</td>\n",
       "      <td>...</td>\n",
       "      <td>...</td>\n",
       "    </tr>\n",
       "    <tr>\n",
       "      <th>18244</th>\n",
       "      <td>1.63</td>\n",
       "      <td>2046.96</td>\n",
       "      <td>1529.20</td>\n",
       "      <td>0.00</td>\n",
       "      <td>13066.82</td>\n",
       "      <td>431.85</td>\n",
       "      <td>0.0</td>\n",
       "      <td>organic</td>\n",
       "      <td>WestTexNewMexico</td>\n",
       "      <td>4</td>\n",
       "      <td>2</td>\n",
       "      <td>2018</td>\n",
       "    </tr>\n",
       "    <tr>\n",
       "      <th>18245</th>\n",
       "      <td>1.71</td>\n",
       "      <td>1191.70</td>\n",
       "      <td>3431.50</td>\n",
       "      <td>0.00</td>\n",
       "      <td>8940.04</td>\n",
       "      <td>324.80</td>\n",
       "      <td>0.0</td>\n",
       "      <td>organic</td>\n",
       "      <td>WestTexNewMexico</td>\n",
       "      <td>28</td>\n",
       "      <td>1</td>\n",
       "      <td>2018</td>\n",
       "    </tr>\n",
       "    <tr>\n",
       "      <th>18246</th>\n",
       "      <td>1.87</td>\n",
       "      <td>1191.92</td>\n",
       "      <td>2452.79</td>\n",
       "      <td>727.94</td>\n",
       "      <td>9351.80</td>\n",
       "      <td>42.31</td>\n",
       "      <td>0.0</td>\n",
       "      <td>organic</td>\n",
       "      <td>WestTexNewMexico</td>\n",
       "      <td>21</td>\n",
       "      <td>1</td>\n",
       "      <td>2018</td>\n",
       "    </tr>\n",
       "    <tr>\n",
       "      <th>18247</th>\n",
       "      <td>1.93</td>\n",
       "      <td>1527.63</td>\n",
       "      <td>2981.04</td>\n",
       "      <td>727.01</td>\n",
       "      <td>10919.54</td>\n",
       "      <td>50.00</td>\n",
       "      <td>0.0</td>\n",
       "      <td>organic</td>\n",
       "      <td>WestTexNewMexico</td>\n",
       "      <td>14</td>\n",
       "      <td>1</td>\n",
       "      <td>2018</td>\n",
       "    </tr>\n",
       "    <tr>\n",
       "      <th>18248</th>\n",
       "      <td>1.62</td>\n",
       "      <td>2894.77</td>\n",
       "      <td>2356.13</td>\n",
       "      <td>224.53</td>\n",
       "      <td>11988.14</td>\n",
       "      <td>26.01</td>\n",
       "      <td>0.0</td>\n",
       "      <td>organic</td>\n",
       "      <td>WestTexNewMexico</td>\n",
       "      <td>7</td>\n",
       "      <td>1</td>\n",
       "      <td>2018</td>\n",
       "    </tr>\n",
       "  </tbody>\n",
       "</table>\n",
       "<p>18249 rows × 12 columns</p>\n",
       "</div>"
      ],
      "text/plain": [
       "       AveragePrice     4046       4225    4770  Small Bags  Large Bags  \\\n",
       "0              1.33  1036.74   54454.85   48.16     8603.62       93.25   \n",
       "1              1.35   674.28   44638.81   58.33     9408.07       97.49   \n",
       "2              0.93   794.70  109149.67  130.50     8042.21      103.14   \n",
       "3              1.08  1132.00   71976.41   72.58     5677.40      133.76   \n",
       "4              1.28   941.48   43838.39   75.78     5986.26      197.69   \n",
       "...             ...      ...        ...     ...         ...         ...   \n",
       "18244          1.63  2046.96    1529.20    0.00    13066.82      431.85   \n",
       "18245          1.71  1191.70    3431.50    0.00     8940.04      324.80   \n",
       "18246          1.87  1191.92    2452.79  727.94     9351.80       42.31   \n",
       "18247          1.93  1527.63    2981.04  727.01    10919.54       50.00   \n",
       "18248          1.62  2894.77    2356.13  224.53    11988.14       26.01   \n",
       "\n",
       "       XLarge Bags          type            region  Day  Month  Year  \n",
       "0              0.0  conventional            Albany   27     12  2015  \n",
       "1              0.0  conventional            Albany   20     12  2015  \n",
       "2              0.0  conventional            Albany   13     12  2015  \n",
       "3              0.0  conventional            Albany    6     12  2015  \n",
       "4              0.0  conventional            Albany   29     11  2015  \n",
       "...            ...           ...               ...  ...    ...   ...  \n",
       "18244          0.0       organic  WestTexNewMexico    4      2  2018  \n",
       "18245          0.0       organic  WestTexNewMexico   28      1  2018  \n",
       "18246          0.0       organic  WestTexNewMexico   21      1  2018  \n",
       "18247          0.0       organic  WestTexNewMexico   14      1  2018  \n",
       "18248          0.0       organic  WestTexNewMexico    7      1  2018  \n",
       "\n",
       "[18249 rows x 12 columns]"
      ]
     },
     "execution_count": 13,
     "metadata": {},
     "output_type": "execute_result"
    }
   ],
   "source": [
    "df"
   ]
  },
  {
   "cell_type": "code",
   "execution_count": 14,
   "id": "d89662e2",
   "metadata": {},
   "outputs": [
    {
     "data": {
      "text/plain": [
       "(18249, 12)"
      ]
     },
     "execution_count": 14,
     "metadata": {},
     "output_type": "execute_result"
    }
   ],
   "source": [
    "df.shape  # check shape of dataset"
   ]
  },
  {
   "cell_type": "markdown",
   "id": "bac3e908",
   "metadata": {},
   "source": [
    "In dataset 18249 rows and 12 columns"
   ]
  },
  {
   "cell_type": "code",
   "execution_count": 15,
   "id": "a06fdaf6",
   "metadata": {},
   "outputs": [
    {
     "name": "stdout",
     "output_type": "stream",
     "text": [
      "<class 'pandas.core.frame.DataFrame'>\n",
      "RangeIndex: 18249 entries, 0 to 18248\n",
      "Data columns (total 12 columns):\n",
      " #   Column        Non-Null Count  Dtype  \n",
      "---  ------        --------------  -----  \n",
      " 0   AveragePrice  18249 non-null  float64\n",
      " 1   4046          18249 non-null  float64\n",
      " 2   4225          18249 non-null  float64\n",
      " 3   4770          18249 non-null  float64\n",
      " 4   Small Bags    18249 non-null  float64\n",
      " 5   Large Bags    18249 non-null  float64\n",
      " 6   XLarge Bags   18249 non-null  float64\n",
      " 7   type          18249 non-null  object \n",
      " 8   region        18249 non-null  object \n",
      " 9   Day           18249 non-null  int64  \n",
      " 10  Month         18249 non-null  int64  \n",
      " 11  Year          18249 non-null  int64  \n",
      "dtypes: float64(7), int64(3), object(2)\n",
      "memory usage: 1.7+ MB\n"
     ]
    }
   ],
   "source": [
    "df.info()  # get information about dataset"
   ]
  },
  {
   "cell_type": "markdown",
   "id": "0a5f9df6",
   "metadata": {},
   "source": [
    "In dataset 18249 rows and 12 columns. In 12 columns, 2 columns are object type and 3 columns int type and \n",
    "7 columns are floating type.Null values not present in dats set"
   ]
  },
  {
   "cell_type": "code",
   "execution_count": 16,
   "id": "8dd13525",
   "metadata": {},
   "outputs": [
    {
     "data": {
      "text/plain": [
       "0"
      ]
     },
     "execution_count": 16,
     "metadata": {},
     "output_type": "execute_result"
    }
   ],
   "source": [
    "df.isnull().sum().sum()   #check total null values present in datset"
   ]
  },
  {
   "cell_type": "markdown",
   "id": "54a8d716",
   "metadata": {},
   "source": [
    "Zero null values present in dataset"
   ]
  },
  {
   "cell_type": "code",
   "execution_count": 17,
   "id": "0d23ac49",
   "metadata": {},
   "outputs": [
    {
     "data": {
      "text/plain": [
       "AveragePrice    0\n",
       "4046            0\n",
       "4225            0\n",
       "4770            0\n",
       "Small Bags      0\n",
       "Large Bags      0\n",
       "XLarge Bags     0\n",
       "type            0\n",
       "region          0\n",
       "Day             0\n",
       "Month           0\n",
       "Year            0\n",
       "dtype: int64"
      ]
     },
     "execution_count": 17,
     "metadata": {},
     "output_type": "execute_result"
    }
   ],
   "source": [
    "df.isnull().sum()  #check null values in all columns"
   ]
  },
  {
   "cell_type": "markdown",
   "id": "e36b5e21",
   "metadata": {},
   "source": [
    "Null values are not present in columns"
   ]
  },
  {
   "cell_type": "code",
   "execution_count": 18,
   "id": "ae4be8f7",
   "metadata": {},
   "outputs": [
    {
     "data": {
      "text/plain": [
       "<AxesSubplot:>"
      ]
     },
     "execution_count": 18,
     "metadata": {},
     "output_type": "execute_result"
    },
    {
     "data": {
      "image/png": "[encoded data removed]",
      "text/plain": [
       "<Figure size 432x288 with 2 Axes>"
      ]
     },
     "metadata": {
      "needs_background": "light"
     },
     "output_type": "display_data"
    }
   ],
   "source": [
    "sns.heatmap(df.isnull())   #check null values by visual"
   ]
  },
  {
   "cell_type": "markdown",
   "id": "53f1c59d",
   "metadata": {},
   "source": [
    "No null values present in dataset"
   ]
  },
  {
   "cell_type": "code",
   "execution_count": 19,
   "id": "08103bfa",
   "metadata": {},
   "outputs": [
    {
     "data": {
      "text/plain": [
       "pandas.core.frame.DataFrame"
      ]
     },
     "execution_count": 19,
     "metadata": {},
     "output_type": "execute_result"
    }
   ],
   "source": [
    "type(df)   #check dataset type"
   ]
  },
  {
   "cell_type": "markdown",
   "id": "f1e99c07",
   "metadata": {},
   "source": [
    "# Unique values"
   ]
  },
  {
   "cell_type": "code",
   "execution_count": 20,
   "id": "dcf681d6",
   "metadata": {},
   "outputs": [
    {
     "data": {
      "text/plain": [
       "array(['conventional', 'organic'], dtype=object)"
      ]
     },
     "execution_count": 20,
     "metadata": {},
     "output_type": "execute_result"
    }
   ],
   "source": [
    "df['type'].unique()  #check unique values in type variable"
   ]
  },
  {
   "cell_type": "markdown",
   "id": "2b679c62",
   "metadata": {},
   "source": [
    "Only 2 type values conventional and organic "
   ]
  },
  {
   "cell_type": "code",
   "execution_count": 21,
   "id": "02ca7351",
   "metadata": {
    "scrolled": true
   },
   "outputs": [
    {
     "data": {
      "text/plain": [
       "<AxesSubplot:xlabel='type', ylabel='count'>"
      ]
     },
     "execution_count": 21,
     "metadata": {},
     "output_type": "execute_result"
    },
    {
     "data": {
      "image/png": "[encoded data removed]",
      "text/plain": [
       "<Figure size 432x288 with 1 Axes>"
      ]
     },
     "metadata": {
      "needs_background": "light"
     },
     "output_type": "display_data"
    }
   ],
   "source": [
    "sns.countplot(df.type)"
   ]
  },
  {
   "cell_type": "markdown",
   "id": "ab52d65e",
   "metadata": {},
   "source": [
    "Both quanity of avocado is use in all region"
   ]
  },
  {
   "cell_type": "code",
   "execution_count": 22,
   "id": "ab5ab9d2",
   "metadata": {},
   "outputs": [
    {
     "data": {
      "text/plain": [
       "array(['Albany', 'Atlanta', 'BaltimoreWashington', 'Boise', 'Boston',\n",
       "       'BuffaloRochester', 'California', 'Charlotte', 'Chicago',\n",
       "       'CincinnatiDayton', 'Columbus', 'DallasFtWorth', 'Denver',\n",
       "       'Detroit', 'GrandRapids', 'GreatLakes', 'HarrisburgScranton',\n",
       "       'HartfordSpringfield', 'Houston', 'Indianapolis', 'Jacksonville',\n",
       "       'LasVegas', 'LosAngeles', 'Louisville', 'MiamiFtLauderdale',\n",
       "       'Midsouth', 'Nashville', 'NewOrleansMobile', 'NewYork',\n",
       "       'Northeast', 'NorthernNewEngland', 'Orlando', 'Philadelphia',\n",
       "       'PhoenixTucson', 'Pittsburgh', 'Plains', 'Portland',\n",
       "       'RaleighGreensboro', 'RichmondNorfolk', 'Roanoke', 'Sacramento',\n",
       "       'SanDiego', 'SanFrancisco', 'Seattle', 'SouthCarolina',\n",
       "       'SouthCentral', 'Southeast', 'Spokane', 'StLouis', 'Syracuse',\n",
       "       'Tampa', 'TotalUS', 'West', 'WestTexNewMexico'], dtype=object)"
      ]
     },
     "execution_count": 22,
     "metadata": {},
     "output_type": "execute_result"
    }
   ],
   "source": [
    "df['region'].unique()  #check unique values in region variable"
   ]
  },
  {
   "cell_type": "code",
   "execution_count": 23,
   "id": "e65c4097",
   "metadata": {
    "scrolled": false
   },
   "outputs": [
    {
     "data": {
      "text/plain": [
       "<seaborn.axisgrid.FacetGrid at 0x252030fed30>"
      ]
     },
     "execution_count": 23,
     "metadata": {},
     "output_type": "execute_result"
    },
    {
     "data": {
      "image/png": "[encoded data removed]",
      "text/plain": [
       "<Figure size 360x360 with 1 Axes>"
      ]
     },
     "metadata": {
      "needs_background": "light"
     },
     "output_type": "display_data"
    }
   ],
   "source": [
    "sns.catplot(x='type',y='AveragePrice',kind='bar',data=df)"
   ]
  },
  {
   "cell_type": "markdown",
   "id": "5ddeaed7",
   "metadata": {},
   "source": [
    "The price of organic avogado is more compare to conventional type avogado."
   ]
  },
  {
   "cell_type": "markdown",
   "id": "5ea786fa",
   "metadata": {},
   "source": [
    "# Apply encoder method"
   ]
  },
  {
   "cell_type": "code",
   "execution_count": 24,
   "id": "5a1c8569",
   "metadata": {},
   "outputs": [],
   "source": [
    "from sklearn.preprocessing import LabelEncoder"
   ]
  },
  {
   "cell_type": "code",
   "execution_count": 25,
   "id": "e06e24de",
   "metadata": {},
   "outputs": [],
   "source": [
    "le=LabelEncoder()"
   ]
  },
  {
   "cell_type": "code",
   "execution_count": 26,
   "id": "17110102",
   "metadata": {},
   "outputs": [],
   "source": [
    "list1=['type','region']\n",
    "for i in list1:\n",
    "    df[i]=le.fit_transform(df[i].astype(str))"
   ]
  },
  {
   "cell_type": "code",
   "execution_count": 27,
   "id": "1b4dcb2b",
   "metadata": {
    "scrolled": false
   },
   "outputs": [
    {
     "data": {
      "text/html": [
       "<div>\n",
       "<style scoped>\n",
       "    .dataframe tbody tr th:only-of-type {\n",
       "        vertical-align: middle;\n",
       "    }\n",
       "\n",
       "    .dataframe tbody tr th {\n",
       "        vertical-align: top;\n",
       "    }\n",
       "\n",
       "    .dataframe thead th {\n",
       "        text-align: right;\n",
       "    }\n",
       "</style>\n",
       "<table border=\"1\" class=\"dataframe\">\n",
       "  <thead>\n",
       "    <tr style=\"text-align: right;\">\n",
       "      <th></th>\n",
       "      <th>AveragePrice</th>\n",
       "      <th>4046</th>\n",
       "      <th>4225</th>\n",
       "      <th>4770</th>\n",
       "      <th>Small Bags</th>\n",
       "      <th>Large Bags</th>\n",
       "      <th>XLarge Bags</th>\n",
       "      <th>type</th>\n",
       "      <th>region</th>\n",
       "      <th>Day</th>\n",
       "      <th>Month</th>\n",
       "      <th>Year</th>\n",
       "    </tr>\n",
       "  </thead>\n",
       "  <tbody>\n",
       "    <tr>\n",
       "      <th>0</th>\n",
       "      <td>1.33</td>\n",
       "      <td>1036.74</td>\n",
       "      <td>54454.85</td>\n",
       "      <td>48.16</td>\n",
       "      <td>8603.62</td>\n",
       "      <td>93.25</td>\n",
       "      <td>0.0</td>\n",
       "      <td>0</td>\n",
       "      <td>0</td>\n",
       "      <td>27</td>\n",
       "      <td>12</td>\n",
       "      <td>2015</td>\n",
       "    </tr>\n",
       "    <tr>\n",
       "      <th>1</th>\n",
       "      <td>1.35</td>\n",
       "      <td>674.28</td>\n",
       "      <td>44638.81</td>\n",
       "      <td>58.33</td>\n",
       "      <td>9408.07</td>\n",
       "      <td>97.49</td>\n",
       "      <td>0.0</td>\n",
       "      <td>0</td>\n",
       "      <td>0</td>\n",
       "      <td>20</td>\n",
       "      <td>12</td>\n",
       "      <td>2015</td>\n",
       "    </tr>\n",
       "    <tr>\n",
       "      <th>2</th>\n",
       "      <td>0.93</td>\n",
       "      <td>794.70</td>\n",
       "      <td>109149.67</td>\n",
       "      <td>130.50</td>\n",
       "      <td>8042.21</td>\n",
       "      <td>103.14</td>\n",
       "      <td>0.0</td>\n",
       "      <td>0</td>\n",
       "      <td>0</td>\n",
       "      <td>13</td>\n",
       "      <td>12</td>\n",
       "      <td>2015</td>\n",
       "    </tr>\n",
       "    <tr>\n",
       "      <th>3</th>\n",
       "      <td>1.08</td>\n",
       "      <td>1132.00</td>\n",
       "      <td>71976.41</td>\n",
       "      <td>72.58</td>\n",
       "      <td>5677.40</td>\n",
       "      <td>133.76</td>\n",
       "      <td>0.0</td>\n",
       "      <td>0</td>\n",
       "      <td>0</td>\n",
       "      <td>6</td>\n",
       "      <td>12</td>\n",
       "      <td>2015</td>\n",
       "    </tr>\n",
       "    <tr>\n",
       "      <th>4</th>\n",
       "      <td>1.28</td>\n",
       "      <td>941.48</td>\n",
       "      <td>43838.39</td>\n",
       "      <td>75.78</td>\n",
       "      <td>5986.26</td>\n",
       "      <td>197.69</td>\n",
       "      <td>0.0</td>\n",
       "      <td>0</td>\n",
       "      <td>0</td>\n",
       "      <td>29</td>\n",
       "      <td>11</td>\n",
       "      <td>2015</td>\n",
       "    </tr>\n",
       "    <tr>\n",
       "      <th>...</th>\n",
       "      <td>...</td>\n",
       "      <td>...</td>\n",
       "      <td>...</td>\n",
       "      <td>...</td>\n",
       "      <td>...</td>\n",
       "      <td>...</td>\n",
       "      <td>...</td>\n",
       "      <td>...</td>\n",
       "      <td>...</td>\n",
       "      <td>...</td>\n",
       "      <td>...</td>\n",
       "      <td>...</td>\n",
       "    </tr>\n",
       "    <tr>\n",
       "      <th>18244</th>\n",
       "      <td>1.63</td>\n",
       "      <td>2046.96</td>\n",
       "      <td>1529.20</td>\n",
       "      <td>0.00</td>\n",
       "      <td>13066.82</td>\n",
       "      <td>431.85</td>\n",
       "      <td>0.0</td>\n",
       "      <td>1</td>\n",
       "      <td>53</td>\n",
       "      <td>4</td>\n",
       "      <td>2</td>\n",
       "      <td>2018</td>\n",
       "    </tr>\n",
       "    <tr>\n",
       "      <th>18245</th>\n",
       "      <td>1.71</td>\n",
       "      <td>1191.70</td>\n",
       "      <td>3431.50</td>\n",
       "      <td>0.00</td>\n",
       "      <td>8940.04</td>\n",
       "      <td>324.80</td>\n",
       "      <td>0.0</td>\n",
       "      <td>1</td>\n",
       "      <td>53</td>\n",
       "      <td>28</td>\n",
       "      <td>1</td>\n",
       "      <td>2018</td>\n",
       "    </tr>\n",
       "    <tr>\n",
       "      <th>18246</th>\n",
       "      <td>1.87</td>\n",
       "      <td>1191.92</td>\n",
       "      <td>2452.79</td>\n",
       "      <td>727.94</td>\n",
       "      <td>9351.80</td>\n",
       "      <td>42.31</td>\n",
       "      <td>0.0</td>\n",
       "      <td>1</td>\n",
       "      <td>53</td>\n",
       "      <td>21</td>\n",
       "      <td>1</td>\n",
       "      <td>2018</td>\n",
       "    </tr>\n",
       "    <tr>\n",
       "      <th>18247</th>\n",
       "      <td>1.93</td>\n",
       "      <td>1527.63</td>\n",
       "      <td>2981.04</td>\n",
       "      <td>727.01</td>\n",
       "      <td>10919.54</td>\n",
       "      <td>50.00</td>\n",
       "      <td>0.0</td>\n",
       "      <td>1</td>\n",
       "      <td>53</td>\n",
       "      <td>14</td>\n",
       "      <td>1</td>\n",
       "      <td>2018</td>\n",
       "    </tr>\n",
       "    <tr>\n",
       "      <th>18248</th>\n",
       "      <td>1.62</td>\n",
       "      <td>2894.77</td>\n",
       "      <td>2356.13</td>\n",
       "      <td>224.53</td>\n",
       "      <td>11988.14</td>\n",
       "      <td>26.01</td>\n",
       "      <td>0.0</td>\n",
       "      <td>1</td>\n",
       "      <td>53</td>\n",
       "      <td>7</td>\n",
       "      <td>1</td>\n",
       "      <td>2018</td>\n",
       "    </tr>\n",
       "  </tbody>\n",
       "</table>\n",
       "<p>18249 rows × 12 columns</p>\n",
       "</div>"
      ],
      "text/plain": [
       "       AveragePrice     4046       4225    4770  Small Bags  Large Bags  \\\n",
       "0              1.33  1036.74   54454.85   48.16     8603.62       93.25   \n",
       "1              1.35   674.28   44638.81   58.33     9408.07       97.49   \n",
       "2              0.93   794.70  109149.67  130.50     8042.21      103.14   \n",
       "3              1.08  1132.00   71976.41   72.58     5677.40      133.76   \n",
       "4              1.28   941.48   43838.39   75.78     5986.26      197.69   \n",
       "...             ...      ...        ...     ...         ...         ...   \n",
       "18244          1.63  2046.96    1529.20    0.00    13066.82      431.85   \n",
       "18245          1.71  1191.70    3431.50    0.00     8940.04      324.80   \n",
       "18246          1.87  1191.92    2452.79  727.94     9351.80       42.31   \n",
       "18247          1.93  1527.63    2981.04  727.01    10919.54       50.00   \n",
       "18248          1.62  2894.77    2356.13  224.53    11988.14       26.01   \n",
       "\n",
       "       XLarge Bags  type  region  Day  Month  Year  \n",
       "0              0.0     0       0   27     12  2015  \n",
       "1              0.0     0       0   20     12  2015  \n",
       "2              0.0     0       0   13     12  2015  \n",
       "3              0.0     0       0    6     12  2015  \n",
       "4              0.0     0       0   29     11  2015  \n",
       "...            ...   ...     ...  ...    ...   ...  \n",
       "18244          0.0     1      53    4      2  2018  \n",
       "18245          0.0     1      53   28      1  2018  \n",
       "18246          0.0     1      53   21      1  2018  \n",
       "18247          0.0     1      53   14      1  2018  \n",
       "18248          0.0     1      53    7      1  2018  \n",
       "\n",
       "[18249 rows x 12 columns]"
      ]
     },
     "execution_count": 27,
     "metadata": {},
     "output_type": "execute_result"
    }
   ],
   "source": [
    "df"
   ]
  },
  {
   "cell_type": "code",
   "execution_count": 28,
   "id": "fbfe163a",
   "metadata": {},
   "outputs": [
    {
     "name": "stdout",
     "output_type": "stream",
     "text": [
      "<class 'pandas.core.frame.DataFrame'>\n",
      "RangeIndex: 18249 entries, 0 to 18248\n",
      "Data columns (total 12 columns):\n",
      " #   Column        Non-Null Count  Dtype  \n",
      "---  ------        --------------  -----  \n",
      " 0   AveragePrice  18249 non-null  float64\n",
      " 1   4046          18249 non-null  float64\n",
      " 2   4225          18249 non-null  float64\n",
      " 3   4770          18249 non-null  float64\n",
      " 4   Small Bags    18249 non-null  float64\n",
      " 5   Large Bags    18249 non-null  float64\n",
      " 6   XLarge Bags   18249 non-null  float64\n",
      " 7   type          18249 non-null  int32  \n",
      " 8   region        18249 non-null  int32  \n",
      " 9   Day           18249 non-null  int64  \n",
      " 10  Month         18249 non-null  int64  \n",
      " 11  Year          18249 non-null  int64  \n",
      "dtypes: float64(7), int32(2), int64(3)\n",
      "memory usage: 1.5 MB\n"
     ]
    }
   ],
   "source": [
    "df.info()  #check information after apply encodeding method"
   ]
  },
  {
   "cell_type": "markdown",
   "id": "6abc19c6",
   "metadata": {},
   "source": [
    "no object and null values peresent"
   ]
  },
  {
   "cell_type": "markdown",
   "id": "51d316b8",
   "metadata": {},
   "source": [
    "# Statistic of Dataset"
   ]
  },
  {
   "cell_type": "code",
   "execution_count": 29,
   "id": "6a041248",
   "metadata": {
    "scrolled": true
   },
   "outputs": [
    {
     "data": {
      "text/html": [
       "<div>\n",
       "<style scoped>\n",
       "    .dataframe tbody tr th:only-of-type {\n",
       "        vertical-align: middle;\n",
       "    }\n",
       "\n",
       "    .dataframe tbody tr th {\n",
       "        vertical-align: top;\n",
       "    }\n",
       "\n",
       "    .dataframe thead th {\n",
       "        text-align: right;\n",
       "    }\n",
       "</style>\n",
       "<table border=\"1\" class=\"dataframe\">\n",
       "  <thead>\n",
       "    <tr style=\"text-align: right;\">\n",
       "      <th></th>\n",
       "      <th>AveragePrice</th>\n",
       "      <th>4046</th>\n",
       "      <th>4225</th>\n",
       "      <th>4770</th>\n",
       "      <th>Small Bags</th>\n",
       "      <th>Large Bags</th>\n",
       "      <th>XLarge Bags</th>\n",
       "      <th>type</th>\n",
       "      <th>region</th>\n",
       "      <th>Day</th>\n",
       "      <th>Month</th>\n",
       "      <th>Year</th>\n",
       "    </tr>\n",
       "  </thead>\n",
       "  <tbody>\n",
       "    <tr>\n",
       "      <th>count</th>\n",
       "      <td>18249.000000</td>\n",
       "      <td>1.824900e+04</td>\n",
       "      <td>1.824900e+04</td>\n",
       "      <td>1.824900e+04</td>\n",
       "      <td>1.824900e+04</td>\n",
       "      <td>1.824900e+04</td>\n",
       "      <td>18249.000000</td>\n",
       "      <td>18249.000000</td>\n",
       "      <td>18249.000000</td>\n",
       "      <td>18249.000000</td>\n",
       "      <td>18249.000000</td>\n",
       "      <td>18249.000000</td>\n",
       "    </tr>\n",
       "    <tr>\n",
       "      <th>mean</th>\n",
       "      <td>1.405978</td>\n",
       "      <td>2.930084e+05</td>\n",
       "      <td>2.951546e+05</td>\n",
       "      <td>2.283974e+04</td>\n",
       "      <td>1.821947e+05</td>\n",
       "      <td>5.433809e+04</td>\n",
       "      <td>3106.426507</td>\n",
       "      <td>0.499918</td>\n",
       "      <td>26.495644</td>\n",
       "      <td>15.662612</td>\n",
       "      <td>6.177215</td>\n",
       "      <td>2016.147899</td>\n",
       "    </tr>\n",
       "    <tr>\n",
       "      <th>std</th>\n",
       "      <td>0.402677</td>\n",
       "      <td>1.264989e+06</td>\n",
       "      <td>1.204120e+06</td>\n",
       "      <td>1.074641e+05</td>\n",
       "      <td>7.461785e+05</td>\n",
       "      <td>2.439660e+05</td>\n",
       "      <td>17692.894652</td>\n",
       "      <td>0.500014</td>\n",
       "      <td>15.583788</td>\n",
       "      <td>8.776281</td>\n",
       "      <td>3.534130</td>\n",
       "      <td>0.939938</td>\n",
       "    </tr>\n",
       "    <tr>\n",
       "      <th>min</th>\n",
       "      <td>0.440000</td>\n",
       "      <td>0.000000e+00</td>\n",
       "      <td>0.000000e+00</td>\n",
       "      <td>0.000000e+00</td>\n",
       "      <td>0.000000e+00</td>\n",
       "      <td>0.000000e+00</td>\n",
       "      <td>0.000000</td>\n",
       "      <td>0.000000</td>\n",
       "      <td>0.000000</td>\n",
       "      <td>1.000000</td>\n",
       "      <td>1.000000</td>\n",
       "      <td>2015.000000</td>\n",
       "    </tr>\n",
       "    <tr>\n",
       "      <th>25%</th>\n",
       "      <td>1.100000</td>\n",
       "      <td>8.540700e+02</td>\n",
       "      <td>3.008780e+03</td>\n",
       "      <td>0.000000e+00</td>\n",
       "      <td>2.849420e+03</td>\n",
       "      <td>1.274700e+02</td>\n",
       "      <td>0.000000</td>\n",
       "      <td>0.000000</td>\n",
       "      <td>13.000000</td>\n",
       "      <td>8.000000</td>\n",
       "      <td>3.000000</td>\n",
       "      <td>2015.000000</td>\n",
       "    </tr>\n",
       "    <tr>\n",
       "      <th>50%</th>\n",
       "      <td>1.370000</td>\n",
       "      <td>8.645300e+03</td>\n",
       "      <td>2.906102e+04</td>\n",
       "      <td>1.849900e+02</td>\n",
       "      <td>2.636282e+04</td>\n",
       "      <td>2.647710e+03</td>\n",
       "      <td>0.000000</td>\n",
       "      <td>0.000000</td>\n",
       "      <td>26.000000</td>\n",
       "      <td>16.000000</td>\n",
       "      <td>6.000000</td>\n",
       "      <td>2016.000000</td>\n",
       "    </tr>\n",
       "    <tr>\n",
       "      <th>75%</th>\n",
       "      <td>1.660000</td>\n",
       "      <td>1.110202e+05</td>\n",
       "      <td>1.502069e+05</td>\n",
       "      <td>6.243420e+03</td>\n",
       "      <td>8.333767e+04</td>\n",
       "      <td>2.202925e+04</td>\n",
       "      <td>132.500000</td>\n",
       "      <td>1.000000</td>\n",
       "      <td>40.000000</td>\n",
       "      <td>23.000000</td>\n",
       "      <td>9.000000</td>\n",
       "      <td>2017.000000</td>\n",
       "    </tr>\n",
       "    <tr>\n",
       "      <th>max</th>\n",
       "      <td>3.250000</td>\n",
       "      <td>2.274362e+07</td>\n",
       "      <td>2.047057e+07</td>\n",
       "      <td>2.546439e+06</td>\n",
       "      <td>1.338459e+07</td>\n",
       "      <td>5.719097e+06</td>\n",
       "      <td>551693.650000</td>\n",
       "      <td>1.000000</td>\n",
       "      <td>53.000000</td>\n",
       "      <td>31.000000</td>\n",
       "      <td>12.000000</td>\n",
       "      <td>2018.000000</td>\n",
       "    </tr>\n",
       "  </tbody>\n",
       "</table>\n",
       "</div>"
      ],
      "text/plain": [
       "       AveragePrice          4046          4225          4770    Small Bags  \\\n",
       "count  18249.000000  1.824900e+04  1.824900e+04  1.824900e+04  1.824900e+04   \n",
       "mean       1.405978  2.930084e+05  2.951546e+05  2.283974e+04  1.821947e+05   \n",
       "std        0.402677  1.264989e+06  1.204120e+06  1.074641e+05  7.461785e+05   \n",
       "min        0.440000  0.000000e+00  0.000000e+00  0.000000e+00  0.000000e+00   \n",
       "25%        1.100000  8.540700e+02  3.008780e+03  0.000000e+00  2.849420e+03   \n",
       "50%        1.370000  8.645300e+03  2.906102e+04  1.849900e+02  2.636282e+04   \n",
       "75%        1.660000  1.110202e+05  1.502069e+05  6.243420e+03  8.333767e+04   \n",
       "max        3.250000  2.274362e+07  2.047057e+07  2.546439e+06  1.338459e+07   \n",
       "\n",
       "         Large Bags    XLarge Bags          type        region           Day  \\\n",
       "count  1.824900e+04   18249.000000  18249.000000  18249.000000  18249.000000   \n",
       "mean   5.433809e+04    3106.426507      0.499918     26.495644     15.662612   \n",
       "std    2.439660e+05   17692.894652      0.500014     15.583788      8.776281   \n",
       "min    0.000000e+00       0.000000      0.000000      0.000000      1.000000   \n",
       "25%    1.274700e+02       0.000000      0.000000     13.000000      8.000000   \n",
       "50%    2.647710e+03       0.000000      0.000000     26.000000     16.000000   \n",
       "75%    2.202925e+04     132.500000      1.000000     40.000000     23.000000   \n",
       "max    5.719097e+06  551693.650000      1.000000     53.000000     31.000000   \n",
       "\n",
       "              Month          Year  \n",
       "count  18249.000000  18249.000000  \n",
       "mean       6.177215   2016.147899  \n",
       "std        3.534130      0.939938  \n",
       "min        1.000000   2015.000000  \n",
       "25%        3.000000   2015.000000  \n",
       "50%        6.000000   2016.000000  \n",
       "75%        9.000000   2017.000000  \n",
       "max       12.000000   2018.000000  "
      ]
     },
     "execution_count": 29,
     "metadata": {},
     "output_type": "execute_result"
    }
   ],
   "source": [
    "df.describe()  #check statistic of avocada"
   ]
  },
  {
   "cell_type": "markdown",
   "id": "3197ad31",
   "metadata": {},
   "source": [
    "Better under stand statistic plot heatmap"
   ]
  },
  {
   "cell_type": "code",
   "execution_count": 30,
   "id": "4f00d0f9",
   "metadata": {},
   "outputs": [
    {
     "data": {
      "image/png": "[encoded data removed]",
      "text/plain": [
       "<Figure size 1440x360 with 2 Axes>"
      ]
     },
     "metadata": {
      "needs_background": "light"
     },
     "output_type": "display_data"
    }
   ],
   "source": [
    "plt.figure(figsize=(20,5))\n",
    "sns.heatmap(df.describe(),annot=True,linewidth=1,linecolor='y')\n",
    "plt.title('Statistic of Avocado dataset')\n",
    "plt.savefig('Statistic of Avocado dataset')\n",
    "plt.show()"
   ]
  },
  {
   "cell_type": "markdown",
   "id": "6b8f58ba",
   "metadata": {},
   "source": [
    "# Check Outliers-Box Plot"
   ]
  },
  {
   "cell_type": "code",
   "execution_count": 31,
   "id": "f10ec6fd",
   "metadata": {},
   "outputs": [],
   "source": [
    "col=df.columns\n",
    "ncol=6\n",
    "nrow=15"
   ]
  },
  {
   "cell_type": "code",
   "execution_count": 32,
   "id": "beafb83a",
   "metadata": {},
   "outputs": [
    {
     "data": {
      "image/png": "[encoded data removed]",
      "text/plain": [
       "<Figure size 432x3456 with 12 Axes>"
      ]
     },
     "metadata": {
      "needs_background": "light"
     },
     "output_type": "display_data"
    }
   ],
   "source": [
    "plt.figure(figsize=(ncol,8*ncol))\n",
    "for i in range(len(col)):\n",
    "    plt.subplot(nrow,ncol,i+1)\n",
    "    plt.title(i)\n",
    "    sns.boxplot(data=df[col[i]],color='r',orient='v')\n",
    "    plt.savefig('Outliers of dataset Avocado')\n",
    "    plt.tight_layout()"
   ]
  },
  {
   "cell_type": "markdown",
   "id": "6c6c1052",
   "metadata": {},
   "source": [
    "Outliers are present in Average_price,4046,4225,4770,Small_bags,Large_bags,Xlarge_bags."
   ]
  },
  {
   "cell_type": "code",
   "execution_count": 33,
   "id": "3e1a9954",
   "metadata": {
    "scrolled": false
   },
   "outputs": [
    {
     "data": {
      "image/png": "[encoded data removed]",
      "text/plain": [
       "<Figure size 216x360 with 1 Axes>"
      ]
     },
     "metadata": {
      "needs_background": "light"
     },
     "output_type": "display_data"
    },
    {
     "data": {
      "image/png": "[encoded data removed]",
      "text/plain": [
       "<Figure size 216x360 with 1 Axes>"
      ]
     },
     "metadata": {
      "needs_background": "light"
     },
     "output_type": "display_data"
    },
    {
     "data": {
      "image/png": "[encoded data removed]",
      "text/plain": [
       "<Figure size 216x360 with 1 Axes>"
      ]
     },
     "metadata": {
      "needs_background": "light"
     },
     "output_type": "display_data"
    },
    {
     "data": {
      "image/png": "[encoded data removed]",
      "text/plain": [
       "<Figure size 216x360 with 1 Axes>"
      ]
     },
     "metadata": {
      "needs_background": "light"
     },
     "output_type": "display_data"
    },
    {
     "data": {
      "image/png": "[encoded data removed]",
      "text/plain": [
       "<Figure size 216x360 with 1 Axes>"
      ]
     },
     "metadata": {
      "needs_background": "light"
     },
     "output_type": "display_data"
    },
    {
     "data": {
      "image/png": "[encoded data removed]",
      "text/plain": [
       "<Figure size 216x360 with 1 Axes>"
      ]
     },
     "metadata": {
      "needs_background": "light"
     },
     "output_type": "display_data"
    },
    {
     "data": {
      "image/png": "[encoded data removed]",
      "text/plain": [
       "<Figure size 216x360 with 1 Axes>"
      ]
     },
     "metadata": {
      "needs_background": "light"
     },
     "output_type": "display_data"
    },
    {
     "data": {
      "image/png": "[encoded data removed]",
      "text/plain": [
       "<Figure size 216x360 with 1 Axes>"
      ]
     },
     "metadata": {
      "needs_background": "light"
     },
     "output_type": "display_data"
    },
    {
     "data": {
      "image/png": "[encoded data removed]",
      "text/plain": [
       "<Figure size 216x360 with 1 Axes>"
      ]
     },
     "metadata": {
      "needs_background": "light"
     },
     "output_type": "display_data"
    },
    {
     "data": {
      "image/png": "[encoded data removed]",
      "text/plain": [
       "<Figure size 216x360 with 1 Axes>"
      ]
     },
     "metadata": {
      "needs_background": "light"
     },
     "output_type": "display_data"
    },
    {
     "data": {
      "image/png": "[encoded data removed]",
      "text/plain": [
       "<Figure size 216x360 with 1 Axes>"
      ]
     },
     "metadata": {
      "needs_background": "light"
     },
     "output_type": "display_data"
    },
    {
     "data": {
      "image/png": "[encoded data removed]",
      "text/plain": [
       "<Figure size 216x360 with 1 Axes>"
      ]
     },
     "metadata": {
      "needs_background": "light"
     },
     "output_type": "display_data"
    }
   ],
   "source": [
    "for i in df.columns:\n",
    "    plt.figure(figsize=(3,5))\n",
    "    plt.title(i)\n",
    "    sns.boxplot(data=df[i])\n",
    "    plt.show()"
   ]
  },
  {
   "cell_type": "markdown",
   "id": "a9721497",
   "metadata": {},
   "source": [
    "Outliers are present in Average_price,Total_volume,4046,4225,4770,Total_bags,Small_bags,Large_bags,Xlarge_bags."
   ]
  },
  {
   "cell_type": "markdown",
   "id": "5ac1348e",
   "metadata": {},
   "source": [
    "# Check skewness-Distplot"
   ]
  },
  {
   "cell_type": "code",
   "execution_count": 34,
   "id": "8b86b597",
   "metadata": {},
   "outputs": [
    {
     "data": {
      "text/plain": [
       "<AxesSubplot:xlabel='AveragePrice', ylabel='Count'>"
      ]
     },
     "execution_count": 34,
     "metadata": {},
     "output_type": "execute_result"
    },
    {
     "data": {
      "image/png": "[encoded data removed]",
      "text/plain": [
       "<Figure size 432x288 with 1 Axes>"
      ]
     },
     "metadata": {
      "needs_background": "light"
     },
     "output_type": "display_data"
    }
   ],
   "source": [
    "sns.histplot(df.AveragePrice,bins=10)"
   ]
  },
  {
   "cell_type": "markdown",
   "id": "e35b1885",
   "metadata": {},
   "source": [
    "Average price of avagoda is lie between 1 to 1.7 at count 4800 avogado"
   ]
  },
  {
   "cell_type": "code",
   "execution_count": 35,
   "id": "55de04f8",
   "metadata": {},
   "outputs": [
    {
     "data": {
      "text/plain": [
       "<AxesSubplot:xlabel='4046', ylabel='Count'>"
      ]
     },
     "execution_count": 35,
     "metadata": {},
     "output_type": "execute_result"
    },
    {
     "data": {
      "image/png": "[encoded data removed]",
      "text/plain": [
       "<Figure size 432x288 with 1 Axes>"
      ]
     },
     "metadata": {
      "needs_background": "light"
     },
     "output_type": "display_data"
    }
   ],
   "source": [
    "sns.histplot(df['4046'],bins=10)"
   ]
  },
  {
   "cell_type": "markdown",
   "id": "717e674c",
   "metadata": {},
   "source": [
    "Total sales volume of Small/Medium has Avocado  is lie between 0 to 0.45 at count 17500 and near 0.9 to 1.6 avogado is lie between 800 count"
   ]
  },
  {
   "cell_type": "code",
   "execution_count": 36,
   "id": "b49d14c5",
   "metadata": {},
   "outputs": [
    {
     "data": {
      "text/plain": [
       "<AxesSubplot:xlabel='4225', ylabel='Count'>"
      ]
     },
     "execution_count": 36,
     "metadata": {},
     "output_type": "execute_result"
    },
    {
     "data": {
      "image/png": "[encoded data removed]",
      "text/plain": [
       "<Figure size 432x288 with 1 Axes>"
      ]
     },
     "metadata": {
      "needs_background": "light"
     },
     "output_type": "display_data"
    }
   ],
   "source": [
    "sns.histplot(df['4225'],bins=10)"
   ]
  },
  {
   "cell_type": "markdown",
   "id": "23e49b78",
   "metadata": {},
   "source": [
    "Total sales volume of large has Avocado is 0.0 to 0.4 "
   ]
  },
  {
   "cell_type": "code",
   "execution_count": 37,
   "id": "2fb05391",
   "metadata": {},
   "outputs": [
    {
     "data": {
      "text/plain": [
       "<AxesSubplot:xlabel='4770', ylabel='Count'>"
      ]
     },
     "execution_count": 37,
     "metadata": {},
     "output_type": "execute_result"
    },
    {
     "data": {
      "image/png": "[encoded data removed]",
      "text/plain": [
       "<Figure size 432x288 with 1 Axes>"
      ]
     },
     "metadata": {
      "needs_background": "light"
     },
     "output_type": "display_data"
    }
   ],
   "source": [
    "sns.histplot(df['4770'],bins=10)"
   ]
  },
  {
   "cell_type": "markdown",
   "id": "e544331c",
   "metadata": {},
   "source": [
    "Total sales volume of Xlarge has Avocado lie between 0.0 to 1"
   ]
  },
  {
   "cell_type": "code",
   "execution_count": 38,
   "id": "1eaf33b8",
   "metadata": {},
   "outputs": [
    {
     "data": {
      "text/plain": [
       "<AxesSubplot:xlabel='Small Bags', ylabel='Count'>"
      ]
     },
     "execution_count": 38,
     "metadata": {},
     "output_type": "execute_result"
    },
    {
     "data": {
      "image/png": "[encoded data removed]",
      "text/plain": [
       "<Figure size 432x288 with 1 Axes>"
      ]
     },
     "metadata": {
      "needs_background": "light"
     },
     "output_type": "display_data"
    }
   ],
   "source": [
    "sns.histplot(df['Small Bags'],bins=5)"
   ]
  },
  {
   "cell_type": "markdown",
   "id": "aa857e14",
   "metadata": {},
   "source": [
    "Little skewness is present in small bags"
   ]
  },
  {
   "cell_type": "code",
   "execution_count": 39,
   "id": "2077c227",
   "metadata": {},
   "outputs": [
    {
     "data": {
      "text/plain": [
       "<AxesSubplot:xlabel='Large Bags', ylabel='Count'>"
      ]
     },
     "execution_count": 39,
     "metadata": {},
     "output_type": "execute_result"
    },
    {
     "data": {
      "image/png": "[encoded data removed]",
      "text/plain": [
       "<Figure size 432x288 with 1 Axes>"
      ]
     },
     "metadata": {
      "needs_background": "light"
     },
     "output_type": "display_data"
    }
   ],
   "source": [
    "sns.histplot(df['Large Bags'])"
   ]
  },
  {
   "cell_type": "markdown",
   "id": "089461dd",
   "metadata": {},
   "source": [
    "Skewness is present in large bags"
   ]
  },
  {
   "cell_type": "code",
   "execution_count": 40,
   "id": "e77adce0",
   "metadata": {},
   "outputs": [
    {
     "data": {
      "text/plain": [
       "<AxesSubplot:xlabel='XLarge Bags', ylabel='Count'>"
      ]
     },
     "execution_count": 40,
     "metadata": {},
     "output_type": "execute_result"
    },
    {
     "data": {
      "image/png": "[encoded data removed]",
      "text/plain": [
       "<Figure size 432x288 with 1 Axes>"
      ]
     },
     "metadata": {
      "needs_background": "light"
     },
     "output_type": "display_data"
    }
   ],
   "source": [
    "sns.histplot(df['XLarge Bags'],bins=10)"
   ]
  },
  {
   "cell_type": "markdown",
   "id": "63b4f1f8",
   "metadata": {},
   "source": [
    "skewwness is present"
   ]
  },
  {
   "cell_type": "code",
   "execution_count": 41,
   "id": "528943a6",
   "metadata": {},
   "outputs": [
    {
     "data": {
      "text/plain": [
       "<AxesSubplot:xlabel='type', ylabel='Density'>"
      ]
     },
     "execution_count": 41,
     "metadata": {},
     "output_type": "execute_result"
    },
    {
     "data": {
      "image/png": "[encoded data removed]",
      "text/plain": [
       "<Figure size 432x288 with 1 Axes>"
      ]
     },
     "metadata": {
      "needs_background": "light"
     },
     "output_type": "display_data"
    }
   ],
   "source": [
    "sns.distplot(df['type'])"
   ]
  },
  {
   "cell_type": "markdown",
   "id": "ca1c62e3",
   "metadata": {},
   "source": [
    "in one type left skewness is present and another type right skewness is present"
   ]
  },
  {
   "cell_type": "code",
   "execution_count": 42,
   "id": "64903877",
   "metadata": {},
   "outputs": [
    {
     "data": {
      "text/plain": [
       "<AxesSubplot:xlabel='region', ylabel='Density'>"
      ]
     },
     "execution_count": 42,
     "metadata": {},
     "output_type": "execute_result"
    },
    {
     "data": {
      "image/png": "[encoded data removed]",
      "text/plain": [
       "<Figure size 432x288 with 1 Axes>"
      ]
     },
     "metadata": {
      "needs_background": "light"
     },
     "output_type": "display_data"
    }
   ],
   "source": [
    "sns.distplot(df['region'])"
   ]
  },
  {
   "cell_type": "markdown",
   "id": "f4fc5d6b",
   "metadata": {},
   "source": [
    "Skewness is present in region variable"
   ]
  },
  {
   "cell_type": "code",
   "execution_count": 43,
   "id": "4dda25e3",
   "metadata": {},
   "outputs": [
    {
     "data": {
      "text/plain": [
       "<AxesSubplot:xlabel='Day', ylabel='Density'>"
      ]
     },
     "execution_count": 43,
     "metadata": {},
     "output_type": "execute_result"
    },
    {
     "data": {
      "image/png": "[encoded data removed]",
      "text/plain": [
       "<Figure size 432x288 with 1 Axes>"
      ]
     },
     "metadata": {
      "needs_background": "light"
     },
     "output_type": "display_data"
    }
   ],
   "source": [
    "sns.distplot(df['Day'])"
   ]
  },
  {
   "cell_type": "markdown",
   "id": "6ed700bf",
   "metadata": {},
   "source": [
    "skewness is present in Day columns"
   ]
  },
  {
   "cell_type": "code",
   "execution_count": 44,
   "id": "c6028d82",
   "metadata": {},
   "outputs": [
    {
     "data": {
      "text/plain": [
       "<AxesSubplot:xlabel='Month', ylabel='Density'>"
      ]
     },
     "execution_count": 44,
     "metadata": {},
     "output_type": "execute_result"
    },
    {
     "data": {
      "image/png": "[encoded data removed]",
      "text/plain": [
       "<Figure size 432x288 with 1 Axes>"
      ]
     },
     "metadata": {
      "needs_background": "light"
     },
     "output_type": "display_data"
    }
   ],
   "source": [
    "sns.distplot(df['Month'])"
   ]
  },
  {
   "cell_type": "markdown",
   "id": "970fcdf9",
   "metadata": {},
   "source": [
    "skewness is present "
   ]
  },
  {
   "cell_type": "code",
   "execution_count": 45,
   "id": "8f09067f",
   "metadata": {},
   "outputs": [
    {
     "data": {
      "text/plain": [
       "<AxesSubplot:xlabel='Year', ylabel='Density'>"
      ]
     },
     "execution_count": 45,
     "metadata": {},
     "output_type": "execute_result"
    },
    {
     "data": {
      "image/png": "[encoded data removed]",
      "text/plain": [
       "<Figure size 432x288 with 1 Axes>"
      ]
     },
     "metadata": {
      "needs_background": "light"
     },
     "output_type": "display_data"
    }
   ],
   "source": [
    "sns.distplot(df['Year'])"
   ]
  },
  {
   "cell_type": "markdown",
   "id": "fc03fa93",
   "metadata": {},
   "source": [
    "right side type skewness is pressent in year"
   ]
  },
  {
   "cell_type": "markdown",
   "id": "2d62f3ca",
   "metadata": {},
   "source": [
    "# SCATTER PLOT-Target variable-->AveragePrice"
   ]
  },
  {
   "cell_type": "code",
   "execution_count": 46,
   "id": "686ebe37",
   "metadata": {},
   "outputs": [
    {
     "data": {
      "text/plain": [
       "<AxesSubplot:xlabel='AveragePrice', ylabel='region'>"
      ]
     },
     "execution_count": 46,
     "metadata": {},
     "output_type": "execute_result"
    },
    {
     "data": {
      "image/png": "[encoded data removed]",
      "text/plain": [
       "<Figure size 432x288 with 1 Axes>"
      ]
     },
     "metadata": {
      "needs_background": "light"
     },
     "output_type": "display_data"
    }
   ],
   "source": [
    "sns.scatterplot(data=df,x='AveragePrice',y='region')"
   ]
  },
  {
   "cell_type": "markdown",
   "id": "6a074b71",
   "metadata": {},
   "source": [
    "As region changes it affect avagado price."
   ]
  },
  {
   "cell_type": "code",
   "execution_count": 47,
   "id": "7c9e3e2c",
   "metadata": {},
   "outputs": [
    {
     "data": {
      "text/plain": [
       "<AxesSubplot:xlabel='4046', ylabel='region'>"
      ]
     },
     "execution_count": 47,
     "metadata": {},
     "output_type": "execute_result"
    },
    {
     "data": {
      "image/png": "[encoded data removed]",
      "text/plain": [
       "<Figure size 432x288 with 1 Axes>"
      ]
     },
     "metadata": {
      "needs_background": "light"
     },
     "output_type": "display_data"
    }
   ],
   "source": [
    "sns.scatterplot(data=df,x='4046',y='region')"
   ]
  },
  {
   "cell_type": "markdown",
   "id": "76f005ce",
   "metadata": {},
   "source": [
    "As region changes it affect Total number of avocados with PLU 4046 sold units"
   ]
  },
  {
   "cell_type": "code",
   "execution_count": 48,
   "id": "056e743b",
   "metadata": {},
   "outputs": [
    {
     "data": {
      "text/plain": [
       "<AxesSubplot:xlabel='4225', ylabel='region'>"
      ]
     },
     "execution_count": 48,
     "metadata": {},
     "output_type": "execute_result"
    },
    {
     "data": {
      "image/png": "[encoded data removed]",
      "text/plain": [
       "<Figure size 432x288 with 1 Axes>"
      ]
     },
     "metadata": {
      "needs_background": "light"
     },
     "output_type": "display_data"
    }
   ],
   "source": [
    "sns.scatterplot(data=df,x='4225',y='region')"
   ]
  },
  {
   "cell_type": "markdown",
   "id": "8b151011",
   "metadata": {},
   "source": [
    "region change Avocado sold unit plu 4225 changes"
   ]
  },
  {
   "cell_type": "code",
   "execution_count": 49,
   "id": "d3d5c739",
   "metadata": {},
   "outputs": [
    {
     "data": {
      "text/plain": [
       "<AxesSubplot:xlabel='4770', ylabel='region'>"
      ]
     },
     "execution_count": 49,
     "metadata": {},
     "output_type": "execute_result"
    },
    {
     "data": {
      "image/png": "[encoded data removed]",
      "text/plain": [
       "<Figure size 432x288 with 1 Axes>"
      ]
     },
     "metadata": {
      "needs_background": "light"
     },
     "output_type": "display_data"
    }
   ],
   "source": [
    "sns.scatterplot(data=df,x='4770',y='region')"
   ]
  },
  {
   "cell_type": "markdown",
   "id": "b5656b7d",
   "metadata": {},
   "source": [
    "Region change Avocado sold unit plu 4770 changes"
   ]
  },
  {
   "cell_type": "code",
   "execution_count": 50,
   "id": "3599dbb5",
   "metadata": {},
   "outputs": [
    {
     "data": {
      "text/plain": [
       "<AxesSubplot:xlabel='Small Bags', ylabel='region'>"
      ]
     },
     "execution_count": 50,
     "metadata": {},
     "output_type": "execute_result"
    },
    {
     "data": {
      "image/png": "[encoded data removed]",
      "text/plain": [
       "<Figure size 432x288 with 1 Axes>"
      ]
     },
     "metadata": {
      "needs_background": "light"
     },
     "output_type": "display_data"
    }
   ],
   "source": [
    "sns.scatterplot(data=df,x='Small Bags',y='region')"
   ]
  },
  {
   "cell_type": "markdown",
   "id": "68182825",
   "metadata": {},
   "source": [
    "in region if avocado sell less wwhere small bags are useing"
   ]
  },
  {
   "cell_type": "code",
   "execution_count": 51,
   "id": "02fdbce4",
   "metadata": {},
   "outputs": [
    {
     "data": {
      "text/plain": [
       "<AxesSubplot:xlabel='Large Bags', ylabel='region'>"
      ]
     },
     "execution_count": 51,
     "metadata": {},
     "output_type": "execute_result"
    },
    {
     "data": {
      "image/png": "[encoded data removed]",
      "text/plain": [
       "<Figure size 432x288 with 1 Axes>"
      ]
     },
     "metadata": {
      "needs_background": "light"
     },
     "output_type": "display_data"
    }
   ],
   "source": [
    "sns.scatterplot(data=df,x='Large Bags',y='region')"
   ]
  },
  {
   "cell_type": "markdown",
   "id": "749c37b2",
   "metadata": {},
   "source": [
    "near region 50 high selling then large bags are using"
   ]
  },
  {
   "cell_type": "code",
   "execution_count": 52,
   "id": "f4bc703a",
   "metadata": {},
   "outputs": [
    {
     "data": {
      "text/plain": [
       "<AxesSubplot:xlabel='type', ylabel='region'>"
      ]
     },
     "execution_count": 52,
     "metadata": {},
     "output_type": "execute_result"
    },
    {
     "data": {
      "image/png": "[encoded data removed]",
      "text/plain": [
       "<Figure size 432x288 with 1 Axes>"
      ]
     },
     "metadata": {
      "needs_background": "light"
     },
     "output_type": "display_data"
    }
   ],
   "source": [
    "sns.scatterplot(data=df,x='type',y='region')"
   ]
  },
  {
   "cell_type": "markdown",
   "id": "96a74ecb",
   "metadata": {},
   "source": [
    "in region both type conventional and organic type avocado sell"
   ]
  },
  {
   "cell_type": "markdown",
   "id": "acb8036e",
   "metadata": {},
   "source": [
    "# Check Correlation Between Dataset Variable"
   ]
  },
  {
   "cell_type": "code",
   "execution_count": 53,
   "id": "a593fb6a",
   "metadata": {},
   "outputs": [
    {
     "data": {
      "text/html": [
       "<div>\n",
       "<style scoped>\n",
       "    .dataframe tbody tr th:only-of-type {\n",
       "        vertical-align: middle;\n",
       "    }\n",
       "\n",
       "    .dataframe tbody tr th {\n",
       "        vertical-align: top;\n",
       "    }\n",
       "\n",
       "    .dataframe thead th {\n",
       "        text-align: right;\n",
       "    }\n",
       "</style>\n",
       "<table border=\"1\" class=\"dataframe\">\n",
       "  <thead>\n",
       "    <tr style=\"text-align: right;\">\n",
       "      <th></th>\n",
       "      <th>AveragePrice</th>\n",
       "      <th>4046</th>\n",
       "      <th>4225</th>\n",
       "      <th>4770</th>\n",
       "      <th>Small Bags</th>\n",
       "      <th>Large Bags</th>\n",
       "      <th>XLarge Bags</th>\n",
       "      <th>type</th>\n",
       "      <th>region</th>\n",
       "      <th>Day</th>\n",
       "      <th>Month</th>\n",
       "      <th>Year</th>\n",
       "    </tr>\n",
       "  </thead>\n",
       "  <tbody>\n",
       "    <tr>\n",
       "      <th>AveragePrice</th>\n",
       "      <td>1.000000</td>\n",
       "      <td>-0.208317</td>\n",
       "      <td>-0.172928</td>\n",
       "      <td>-0.179446</td>\n",
       "      <td>-0.174730</td>\n",
       "      <td>-0.172940</td>\n",
       "      <td>-0.117592</td>\n",
       "      <td>0.615845</td>\n",
       "      <td>-0.011716</td>\n",
       "      <td>0.027386</td>\n",
       "      <td>0.162409</td>\n",
       "      <td>0.093197</td>\n",
       "    </tr>\n",
       "    <tr>\n",
       "      <th>4046</th>\n",
       "      <td>-0.208317</td>\n",
       "      <td>1.000000</td>\n",
       "      <td>0.926110</td>\n",
       "      <td>0.833389</td>\n",
       "      <td>0.925280</td>\n",
       "      <td>0.838645</td>\n",
       "      <td>0.699377</td>\n",
       "      <td>-0.225819</td>\n",
       "      <td>0.192073</td>\n",
       "      <td>-0.010159</td>\n",
       "      <td>-0.025803</td>\n",
       "      <td>0.003353</td>\n",
       "    </tr>\n",
       "    <tr>\n",
       "      <th>4225</th>\n",
       "      <td>-0.172928</td>\n",
       "      <td>0.926110</td>\n",
       "      <td>1.000000</td>\n",
       "      <td>0.887855</td>\n",
       "      <td>0.916031</td>\n",
       "      <td>0.810015</td>\n",
       "      <td>0.688809</td>\n",
       "      <td>-0.232289</td>\n",
       "      <td>0.145726</td>\n",
       "      <td>-0.012393</td>\n",
       "      <td>-0.022108</td>\n",
       "      <td>-0.009559</td>\n",
       "    </tr>\n",
       "    <tr>\n",
       "      <th>4770</th>\n",
       "      <td>-0.179446</td>\n",
       "      <td>0.833389</td>\n",
       "      <td>0.887855</td>\n",
       "      <td>1.000000</td>\n",
       "      <td>0.802733</td>\n",
       "      <td>0.698471</td>\n",
       "      <td>0.679861</td>\n",
       "      <td>-0.210027</td>\n",
       "      <td>0.095252</td>\n",
       "      <td>-0.009009</td>\n",
       "      <td>-0.033424</td>\n",
       "      <td>-0.036531</td>\n",
       "    </tr>\n",
       "    <tr>\n",
       "      <th>Small Bags</th>\n",
       "      <td>-0.174730</td>\n",
       "      <td>0.925280</td>\n",
       "      <td>0.916031</td>\n",
       "      <td>0.802733</td>\n",
       "      <td>1.000000</td>\n",
       "      <td>0.902589</td>\n",
       "      <td>0.806845</td>\n",
       "      <td>-0.220535</td>\n",
       "      <td>0.164702</td>\n",
       "      <td>-0.003870</td>\n",
       "      <td>-0.023126</td>\n",
       "      <td>0.063915</td>\n",
       "    </tr>\n",
       "    <tr>\n",
       "      <th>Large Bags</th>\n",
       "      <td>-0.172940</td>\n",
       "      <td>0.838645</td>\n",
       "      <td>0.810015</td>\n",
       "      <td>0.698471</td>\n",
       "      <td>0.902589</td>\n",
       "      <td>1.000000</td>\n",
       "      <td>0.710858</td>\n",
       "      <td>-0.193177</td>\n",
       "      <td>0.198768</td>\n",
       "      <td>-0.008352</td>\n",
       "      <td>-0.020187</td>\n",
       "      <td>0.087891</td>\n",
       "    </tr>\n",
       "    <tr>\n",
       "      <th>XLarge Bags</th>\n",
       "      <td>-0.117592</td>\n",
       "      <td>0.699377</td>\n",
       "      <td>0.688809</td>\n",
       "      <td>0.679861</td>\n",
       "      <td>0.806845</td>\n",
       "      <td>0.710858</td>\n",
       "      <td>1.000000</td>\n",
       "      <td>-0.175483</td>\n",
       "      <td>0.082281</td>\n",
       "      <td>0.000319</td>\n",
       "      <td>-0.012969</td>\n",
       "      <td>0.081033</td>\n",
       "    </tr>\n",
       "    <tr>\n",
       "      <th>type</th>\n",
       "      <td>0.615845</td>\n",
       "      <td>-0.225819</td>\n",
       "      <td>-0.232289</td>\n",
       "      <td>-0.210027</td>\n",
       "      <td>-0.220535</td>\n",
       "      <td>-0.193177</td>\n",
       "      <td>-0.175483</td>\n",
       "      <td>1.000000</td>\n",
       "      <td>-0.000280</td>\n",
       "      <td>-0.000013</td>\n",
       "      <td>-0.000085</td>\n",
       "      <td>-0.000032</td>\n",
       "    </tr>\n",
       "    <tr>\n",
       "      <th>region</th>\n",
       "      <td>-0.011716</td>\n",
       "      <td>0.192073</td>\n",
       "      <td>0.145726</td>\n",
       "      <td>0.095252</td>\n",
       "      <td>0.164702</td>\n",
       "      <td>0.198768</td>\n",
       "      <td>0.082281</td>\n",
       "      <td>-0.000280</td>\n",
       "      <td>1.000000</td>\n",
       "      <td>-0.000021</td>\n",
       "      <td>-0.000144</td>\n",
       "      <td>-0.000055</td>\n",
       "    </tr>\n",
       "    <tr>\n",
       "      <th>Day</th>\n",
       "      <td>0.027386</td>\n",
       "      <td>-0.010159</td>\n",
       "      <td>-0.012393</td>\n",
       "      <td>-0.009009</td>\n",
       "      <td>-0.003870</td>\n",
       "      <td>-0.008352</td>\n",
       "      <td>0.000319</td>\n",
       "      <td>-0.000013</td>\n",
       "      <td>-0.000021</td>\n",
       "      <td>1.000000</td>\n",
       "      <td>0.010621</td>\n",
       "      <td>0.004475</td>\n",
       "    </tr>\n",
       "    <tr>\n",
       "      <th>Month</th>\n",
       "      <td>0.162409</td>\n",
       "      <td>-0.025803</td>\n",
       "      <td>-0.022108</td>\n",
       "      <td>-0.033424</td>\n",
       "      <td>-0.023126</td>\n",
       "      <td>-0.020187</td>\n",
       "      <td>-0.012969</td>\n",
       "      <td>-0.000085</td>\n",
       "      <td>-0.000144</td>\n",
       "      <td>0.010621</td>\n",
       "      <td>1.000000</td>\n",
       "      <td>-0.177050</td>\n",
       "    </tr>\n",
       "    <tr>\n",
       "      <th>Year</th>\n",
       "      <td>0.093197</td>\n",
       "      <td>0.003353</td>\n",
       "      <td>-0.009559</td>\n",
       "      <td>-0.036531</td>\n",
       "      <td>0.063915</td>\n",
       "      <td>0.087891</td>\n",
       "      <td>0.081033</td>\n",
       "      <td>-0.000032</td>\n",
       "      <td>-0.000055</td>\n",
       "      <td>0.004475</td>\n",
       "      <td>-0.177050</td>\n",
       "      <td>1.000000</td>\n",
       "    </tr>\n",
       "  </tbody>\n",
       "</table>\n",
       "</div>"
      ],
      "text/plain": [
       "              AveragePrice      4046      4225      4770  Small Bags  \\\n",
       "AveragePrice      1.000000 -0.208317 -0.172928 -0.179446   -0.174730   \n",
       "4046             -0.208317  1.000000  0.926110  0.833389    0.925280   \n",
       "4225             -0.172928  0.926110  1.000000  0.887855    0.916031   \n",
       "4770             -0.179446  0.833389  0.887855  1.000000    0.802733   \n",
       "Small Bags       -0.174730  0.925280  0.916031  0.802733    1.000000   \n",
       "Large Bags       -0.172940  0.838645  0.810015  0.698471    0.902589   \n",
       "XLarge Bags      -0.117592  0.699377  0.688809  0.679861    0.806845   \n",
       "type              0.615845 -0.225819 -0.232289 -0.210027   -0.220535   \n",
       "region           -0.011716  0.192073  0.145726  0.095252    0.164702   \n",
       "Day               0.027386 -0.010159 -0.012393 -0.009009   -0.003870   \n",
       "Month             0.162409 -0.025803 -0.022108 -0.033424   -0.023126   \n",
       "Year              0.093197  0.003353 -0.009559 -0.036531    0.063915   \n",
       "\n",
       "              Large Bags  XLarge Bags      type    region       Day     Month  \\\n",
       "AveragePrice   -0.172940    -0.117592  0.615845 -0.011716  0.027386  0.162409   \n",
       "4046            0.838645     0.699377 -0.225819  0.192073 -0.010159 -0.025803   \n",
       "4225            0.810015     0.688809 -0.232289  0.145726 -0.012393 -0.022108   \n",
       "4770            0.698471     0.679861 -0.210027  0.095252 -0.009009 -0.033424   \n",
       "Small Bags      0.902589     0.806845 -0.220535  0.164702 -0.003870 -0.023126   \n",
       "Large Bags      1.000000     0.710858 -0.193177  0.198768 -0.008352 -0.020187   \n",
       "XLarge Bags     0.710858     1.000000 -0.175483  0.082281  0.000319 -0.012969   \n",
       "type           -0.193177    -0.175483  1.000000 -0.000280 -0.000013 -0.000085   \n",
       "region          0.198768     0.082281 -0.000280  1.000000 -0.000021 -0.000144   \n",
       "Day            -0.008352     0.000319 -0.000013 -0.000021  1.000000  0.010621   \n",
       "Month          -0.020187    -0.012969 -0.000085 -0.000144  0.010621  1.000000   \n",
       "Year            0.087891     0.081033 -0.000032 -0.000055  0.004475 -0.177050   \n",
       "\n",
       "                  Year  \n",
       "AveragePrice  0.093197  \n",
       "4046          0.003353  \n",
       "4225         -0.009559  \n",
       "4770         -0.036531  \n",
       "Small Bags    0.063915  \n",
       "Large Bags    0.087891  \n",
       "XLarge Bags   0.081033  \n",
       "type         -0.000032  \n",
       "region       -0.000055  \n",
       "Day           0.004475  \n",
       "Month        -0.177050  \n",
       "Year          1.000000  "
      ]
     },
     "execution_count": 53,
     "metadata": {},
     "output_type": "execute_result"
    }
   ],
   "source": [
    "df.corr()   #check corelation between dataset variable"
   ]
  },
  {
   "cell_type": "code",
   "execution_count": 54,
   "id": "b7ab8fba",
   "metadata": {},
   "outputs": [
    {
     "data": {
      "text/plain": [
       "<AxesSubplot:>"
      ]
     },
     "execution_count": 54,
     "metadata": {},
     "output_type": "execute_result"
    },
    {
     "data": {
      "image/png": "[encoded data removed]",
      "text/plain": [
       "<Figure size 1080x360 with 2 Axes>"
      ]
     },
     "metadata": {
      "needs_background": "light"
     },
     "output_type": "display_data"
    }
   ],
   "source": [
    "plt.figure(figsize=(15,5))  #better understand correlation plot diagrame\n",
    "sns.heatmap(df.corr(),annot=True,linewidth=2,linecolor='r')"
   ]
  },
  {
   "cell_type": "markdown",
   "id": "1c4062db",
   "metadata": {},
   "source": [
    "Observation-->\n",
    "1. 4046 correlated with target Average Price is -21%.It is good bond.\n",
    "2. 4225 correlated with target Average Price is -17%.It is good bond.\n",
    "3. 4770 correlated with target Average Price is -18%.It is good bond.\n",
    "4.Small Bags correlated with target Average Price is -17%.It is good bond.\n",
    "5.Large Bags correlated with target Average Price is -17%.It is good bond.\n",
    "6.XLarge Bags correlated with target Average Price is -12%.It is good bond.\n",
    "7.Type correlated with target Average Price is 62%.It is very strong bond.\n",
    "8.Region correlated with target Average Price is -1.2%.It is poor bond.\n",
    "9.Day correlated with target Average Price is 2.7.It is poor bond.\n",
    "10.Month correlated with target Average Price is 16%.It is good bond.\n",
    "11.Year correlated with target Average Price is 9.3%.It is good bond."
   ]
  },
  {
   "cell_type": "markdown",
   "id": "c4e46322",
   "metadata": {},
   "source": [
    "Region is very less correlated with average price, so we drop it"
   ]
  },
  {
   "cell_type": "code",
   "execution_count": 56,
   "id": "202c46d5",
   "metadata": {},
   "outputs": [],
   "source": [
    "df=df.drop('region',axis=1)"
   ]
  },
  {
   "cell_type": "markdown",
   "id": "cf25282e",
   "metadata": {},
   "source": [
    "# Check Outliers"
   ]
  },
  {
   "cell_type": "code",
   "execution_count": 57,
   "id": "e2f82325",
   "metadata": {},
   "outputs": [],
   "source": [
    "from scipy.stats import zscore    #import zscore libary for check outliers"
   ]
  },
  {
   "cell_type": "code",
   "execution_count": 58,
   "id": "6dfdf582",
   "metadata": {},
   "outputs": [
    {
     "data": {
      "text/plain": [
       "False"
      ]
     },
     "execution_count": 58,
     "metadata": {},
     "output_type": "execute_result"
    }
   ],
   "source": [
    "(np.abs(zscore(df))<3).all().all()   #check outliers are prsent or not in dataset"
   ]
  },
  {
   "cell_type": "markdown",
   "id": "201f8ad2",
   "metadata": {},
   "source": [
    "outliers are present in dataset"
   ]
  },
  {
   "cell_type": "code",
   "execution_count": 59,
   "id": "8a6c37a1",
   "metadata": {},
   "outputs": [
    {
     "data": {
      "text/plain": [
       "AveragePrice    False\n",
       "4046            False\n",
       "4225            False\n",
       "4770            False\n",
       "Small Bags      False\n",
       "Large Bags      False\n",
       "XLarge Bags     False\n",
       "type             True\n",
       "Day              True\n",
       "Month            True\n",
       "Year             True\n",
       "dtype: bool"
      ]
     },
     "execution_count": 59,
     "metadata": {},
     "output_type": "execute_result"
    }
   ],
   "source": [
    "(np.abs(zscore(df))<3).all()  #check outliers in dataset particular columns"
   ]
  },
  {
   "cell_type": "markdown",
   "id": "ff47eecd",
   "metadata": {},
   "source": [
    "Outliers are present in AveragePrice,Total Volume,4046,4225,4770,Total Bags,Small Bags,Large Bags,XLarge Bags"
   ]
  },
  {
   "cell_type": "code",
   "execution_count": 60,
   "id": "9efe8133",
   "metadata": {},
   "outputs": [],
   "source": [
    "df1=df.drop(['4046','4225','4770','Small Bags','Large Bags','XLarge Bags'],axis=1)"
   ]
  },
  {
   "cell_type": "markdown",
   "id": "2c54d6d9",
   "metadata": {},
   "source": [
    "sepearte categorial type data and whoes outliers are not present"
   ]
  },
  {
   "cell_type": "code",
   "execution_count": 59,
   "id": "2f3d4ab5",
   "metadata": {},
   "outputs": [
    {
     "data": {
      "text/plain": [
       "pandas.core.frame.DataFrame"
      ]
     },
     "execution_count": 59,
     "metadata": {},
     "output_type": "execute_result"
    }
   ],
   "source": [
    "type(df1)  #type check df1"
   ]
  },
  {
   "cell_type": "code",
   "execution_count": 61,
   "id": "5fdc5d66",
   "metadata": {},
   "outputs": [
    {
     "data": {
      "text/html": [
       "<div>\n",
       "<style scoped>\n",
       "    .dataframe tbody tr th:only-of-type {\n",
       "        vertical-align: middle;\n",
       "    }\n",
       "\n",
       "    .dataframe tbody tr th {\n",
       "        vertical-align: top;\n",
       "    }\n",
       "\n",
       "    .dataframe thead th {\n",
       "        text-align: right;\n",
       "    }\n",
       "</style>\n",
       "<table border=\"1\" class=\"dataframe\">\n",
       "  <thead>\n",
       "    <tr style=\"text-align: right;\">\n",
       "      <th></th>\n",
       "      <th>4046</th>\n",
       "      <th>4225</th>\n",
       "      <th>4770</th>\n",
       "      <th>Small Bags</th>\n",
       "      <th>Large Bags</th>\n",
       "      <th>XLarge Bags</th>\n",
       "    </tr>\n",
       "  </thead>\n",
       "  <tbody>\n",
       "    <tr>\n",
       "      <th>0</th>\n",
       "      <td>1036.74</td>\n",
       "      <td>54454.85</td>\n",
       "      <td>48.16</td>\n",
       "      <td>8603.62</td>\n",
       "      <td>93.25</td>\n",
       "      <td>0.0</td>\n",
       "    </tr>\n",
       "    <tr>\n",
       "      <th>1</th>\n",
       "      <td>674.28</td>\n",
       "      <td>44638.81</td>\n",
       "      <td>58.33</td>\n",
       "      <td>9408.07</td>\n",
       "      <td>97.49</td>\n",
       "      <td>0.0</td>\n",
       "    </tr>\n",
       "    <tr>\n",
       "      <th>2</th>\n",
       "      <td>794.70</td>\n",
       "      <td>109149.67</td>\n",
       "      <td>130.50</td>\n",
       "      <td>8042.21</td>\n",
       "      <td>103.14</td>\n",
       "      <td>0.0</td>\n",
       "    </tr>\n",
       "    <tr>\n",
       "      <th>3</th>\n",
       "      <td>1132.00</td>\n",
       "      <td>71976.41</td>\n",
       "      <td>72.58</td>\n",
       "      <td>5677.40</td>\n",
       "      <td>133.76</td>\n",
       "      <td>0.0</td>\n",
       "    </tr>\n",
       "    <tr>\n",
       "      <th>4</th>\n",
       "      <td>941.48</td>\n",
       "      <td>43838.39</td>\n",
       "      <td>75.78</td>\n",
       "      <td>5986.26</td>\n",
       "      <td>197.69</td>\n",
       "      <td>0.0</td>\n",
       "    </tr>\n",
       "    <tr>\n",
       "      <th>...</th>\n",
       "      <td>...</td>\n",
       "      <td>...</td>\n",
       "      <td>...</td>\n",
       "      <td>...</td>\n",
       "      <td>...</td>\n",
       "      <td>...</td>\n",
       "    </tr>\n",
       "    <tr>\n",
       "      <th>18244</th>\n",
       "      <td>2046.96</td>\n",
       "      <td>1529.20</td>\n",
       "      <td>0.00</td>\n",
       "      <td>13066.82</td>\n",
       "      <td>431.85</td>\n",
       "      <td>0.0</td>\n",
       "    </tr>\n",
       "    <tr>\n",
       "      <th>18245</th>\n",
       "      <td>1191.70</td>\n",
       "      <td>3431.50</td>\n",
       "      <td>0.00</td>\n",
       "      <td>8940.04</td>\n",
       "      <td>324.80</td>\n",
       "      <td>0.0</td>\n",
       "    </tr>\n",
       "    <tr>\n",
       "      <th>18246</th>\n",
       "      <td>1191.92</td>\n",
       "      <td>2452.79</td>\n",
       "      <td>727.94</td>\n",
       "      <td>9351.80</td>\n",
       "      <td>42.31</td>\n",
       "      <td>0.0</td>\n",
       "    </tr>\n",
       "    <tr>\n",
       "      <th>18247</th>\n",
       "      <td>1527.63</td>\n",
       "      <td>2981.04</td>\n",
       "      <td>727.01</td>\n",
       "      <td>10919.54</td>\n",
       "      <td>50.00</td>\n",
       "      <td>0.0</td>\n",
       "    </tr>\n",
       "    <tr>\n",
       "      <th>18248</th>\n",
       "      <td>2894.77</td>\n",
       "      <td>2356.13</td>\n",
       "      <td>224.53</td>\n",
       "      <td>11988.14</td>\n",
       "      <td>26.01</td>\n",
       "      <td>0.0</td>\n",
       "    </tr>\n",
       "  </tbody>\n",
       "</table>\n",
       "<p>18249 rows × 6 columns</p>\n",
       "</div>"
      ],
      "text/plain": [
       "          4046       4225    4770  Small Bags  Large Bags  XLarge Bags\n",
       "0      1036.74   54454.85   48.16     8603.62       93.25          0.0\n",
       "1       674.28   44638.81   58.33     9408.07       97.49          0.0\n",
       "2       794.70  109149.67  130.50     8042.21      103.14          0.0\n",
       "3      1132.00   71976.41   72.58     5677.40      133.76          0.0\n",
       "4       941.48   43838.39   75.78     5986.26      197.69          0.0\n",
       "...        ...        ...     ...         ...         ...          ...\n",
       "18244  2046.96    1529.20    0.00    13066.82      431.85          0.0\n",
       "18245  1191.70    3431.50    0.00     8940.04      324.80          0.0\n",
       "18246  1191.92    2452.79  727.94     9351.80       42.31          0.0\n",
       "18247  1527.63    2981.04  727.01    10919.54       50.00          0.0\n",
       "18248  2894.77    2356.13  224.53    11988.14       26.01          0.0\n",
       "\n",
       "[18249 rows x 6 columns]"
      ]
     },
     "execution_count": 61,
     "metadata": {},
     "output_type": "execute_result"
    }
   ],
   "source": [
    "df2=df.drop(['AveragePrice','type','Day','Month','Year'],axis=1)\n",
    "df2"
   ]
  },
  {
   "cell_type": "code",
   "execution_count": 62,
   "id": "6fdc8234",
   "metadata": {
    "scrolled": true
   },
   "outputs": [
    {
     "data": {
      "text/plain": [
       "pandas.core.frame.DataFrame"
      ]
     },
     "execution_count": 62,
     "metadata": {},
     "output_type": "execute_result"
    }
   ],
   "source": [
    "type(df2)   #type check df2"
   ]
  },
  {
   "cell_type": "code",
   "execution_count": 63,
   "id": "af7e82f0",
   "metadata": {},
   "outputs": [
    {
     "data": {
      "text/plain": [
       "4046           False\n",
       "4225           False\n",
       "4770           False\n",
       "Small Bags     False\n",
       "Large Bags     False\n",
       "XLarge Bags    False\n",
       "dtype: bool"
      ]
     },
     "execution_count": 63,
     "metadata": {},
     "output_type": "execute_result"
    }
   ],
   "source": [
    "z=(np.abs(zscore(df2))<3).all()  #outliers present in some columns\n",
    "z"
   ]
  },
  {
   "cell_type": "markdown",
   "id": "d3076c9f",
   "metadata": {},
   "source": [
    "# Apply IQR METHOD"
   ]
  },
  {
   "cell_type": "code",
   "execution_count": 64,
   "id": "4ce184ef",
   "metadata": {},
   "outputs": [
    {
     "data": {
      "text/plain": [
       "4046            854.07\n",
       "4225           3008.78\n",
       "4770              0.00\n",
       "Small Bags     2849.42\n",
       "Large Bags      127.47\n",
       "XLarge Bags       0.00\n",
       "Name: 0.25, dtype: float64"
      ]
     },
     "execution_count": 64,
     "metadata": {},
     "output_type": "execute_result"
    }
   ],
   "source": [
    "q1=df2.quantile(0.25)   #apply iqr method on 0.25 %data\n",
    "q1"
   ]
  },
  {
   "cell_type": "code",
   "execution_count": 65,
   "id": "a9f5e29c",
   "metadata": {},
   "outputs": [
    {
     "data": {
      "text/plain": [
       "4046           111020.20\n",
       "4225           150206.86\n",
       "4770             6243.42\n",
       "Small Bags      83337.67\n",
       "Large Bags      22029.25\n",
       "XLarge Bags       132.50\n",
       "Name: 0.75, dtype: float64"
      ]
     },
     "execution_count": 65,
     "metadata": {},
     "output_type": "execute_result"
    }
   ],
   "source": [
    "q2=df2.quantile(0.75)   #apply iqr method on 0.75% data\n",
    "q2"
   ]
  },
  {
   "cell_type": "code",
   "execution_count": 66,
   "id": "1dabab3f",
   "metadata": {},
   "outputs": [],
   "source": [
    "iqr=q2-q1  #get 50%data values"
   ]
  },
  {
   "cell_type": "code",
   "execution_count": 67,
   "id": "44d19c15",
   "metadata": {},
   "outputs": [],
   "source": [
    "upper=q2+(iqr*1.5)\n",
    "lower=q1-(iqr*1.5)"
   ]
  },
  {
   "cell_type": "code",
   "execution_count": 68,
   "id": "25ec4591",
   "metadata": {},
   "outputs": [
    {
     "data": {
      "text/html": [
       "<div>\n",
       "<style scoped>\n",
       "    .dataframe tbody tr th:only-of-type {\n",
       "        vertical-align: middle;\n",
       "    }\n",
       "\n",
       "    .dataframe tbody tr th {\n",
       "        vertical-align: top;\n",
       "    }\n",
       "\n",
       "    .dataframe thead th {\n",
       "        text-align: right;\n",
       "    }\n",
       "</style>\n",
       "<table border=\"1\" class=\"dataframe\">\n",
       "  <thead>\n",
       "    <tr style=\"text-align: right;\">\n",
       "      <th></th>\n",
       "      <th>4046</th>\n",
       "      <th>4225</th>\n",
       "      <th>4770</th>\n",
       "      <th>Small Bags</th>\n",
       "      <th>Large Bags</th>\n",
       "      <th>XLarge Bags</th>\n",
       "    </tr>\n",
       "  </thead>\n",
       "  <tbody>\n",
       "    <tr>\n",
       "      <th>0</th>\n",
       "      <td>1036.74</td>\n",
       "      <td>54454.85</td>\n",
       "      <td>48.16</td>\n",
       "      <td>8603.62</td>\n",
       "      <td>93.25</td>\n",
       "      <td>0.0</td>\n",
       "    </tr>\n",
       "    <tr>\n",
       "      <th>1</th>\n",
       "      <td>674.28</td>\n",
       "      <td>44638.81</td>\n",
       "      <td>58.33</td>\n",
       "      <td>9408.07</td>\n",
       "      <td>97.49</td>\n",
       "      <td>0.0</td>\n",
       "    </tr>\n",
       "    <tr>\n",
       "      <th>2</th>\n",
       "      <td>794.70</td>\n",
       "      <td>109149.67</td>\n",
       "      <td>130.50</td>\n",
       "      <td>8042.21</td>\n",
       "      <td>103.14</td>\n",
       "      <td>0.0</td>\n",
       "    </tr>\n",
       "    <tr>\n",
       "      <th>3</th>\n",
       "      <td>1132.00</td>\n",
       "      <td>71976.41</td>\n",
       "      <td>72.58</td>\n",
       "      <td>5677.40</td>\n",
       "      <td>133.76</td>\n",
       "      <td>0.0</td>\n",
       "    </tr>\n",
       "    <tr>\n",
       "      <th>4</th>\n",
       "      <td>941.48</td>\n",
       "      <td>43838.39</td>\n",
       "      <td>75.78</td>\n",
       "      <td>5986.26</td>\n",
       "      <td>197.69</td>\n",
       "      <td>0.0</td>\n",
       "    </tr>\n",
       "    <tr>\n",
       "      <th>...</th>\n",
       "      <td>...</td>\n",
       "      <td>...</td>\n",
       "      <td>...</td>\n",
       "      <td>...</td>\n",
       "      <td>...</td>\n",
       "      <td>...</td>\n",
       "    </tr>\n",
       "    <tr>\n",
       "      <th>18244</th>\n",
       "      <td>2046.96</td>\n",
       "      <td>1529.20</td>\n",
       "      <td>0.00</td>\n",
       "      <td>13066.82</td>\n",
       "      <td>431.85</td>\n",
       "      <td>0.0</td>\n",
       "    </tr>\n",
       "    <tr>\n",
       "      <th>18245</th>\n",
       "      <td>1191.70</td>\n",
       "      <td>3431.50</td>\n",
       "      <td>0.00</td>\n",
       "      <td>8940.04</td>\n",
       "      <td>324.80</td>\n",
       "      <td>0.0</td>\n",
       "    </tr>\n",
       "    <tr>\n",
       "      <th>18246</th>\n",
       "      <td>1191.92</td>\n",
       "      <td>2452.79</td>\n",
       "      <td>727.94</td>\n",
       "      <td>9351.80</td>\n",
       "      <td>42.31</td>\n",
       "      <td>0.0</td>\n",
       "    </tr>\n",
       "    <tr>\n",
       "      <th>18247</th>\n",
       "      <td>1527.63</td>\n",
       "      <td>2981.04</td>\n",
       "      <td>727.01</td>\n",
       "      <td>10919.54</td>\n",
       "      <td>50.00</td>\n",
       "      <td>0.0</td>\n",
       "    </tr>\n",
       "    <tr>\n",
       "      <th>18248</th>\n",
       "      <td>2894.77</td>\n",
       "      <td>2356.13</td>\n",
       "      <td>224.53</td>\n",
       "      <td>11988.14</td>\n",
       "      <td>26.01</td>\n",
       "      <td>0.0</td>\n",
       "    </tr>\n",
       "  </tbody>\n",
       "</table>\n",
       "<p>18249 rows × 6 columns</p>\n",
       "</div>"
      ],
      "text/plain": [
       "          4046       4225    4770  Small Bags  Large Bags  XLarge Bags\n",
       "0      1036.74   54454.85   48.16     8603.62       93.25          0.0\n",
       "1       674.28   44638.81   58.33     9408.07       97.49          0.0\n",
       "2       794.70  109149.67  130.50     8042.21      103.14          0.0\n",
       "3      1132.00   71976.41   72.58     5677.40      133.76          0.0\n",
       "4       941.48   43838.39   75.78     5986.26      197.69          0.0\n",
       "...        ...        ...     ...         ...         ...          ...\n",
       "18244  2046.96    1529.20    0.00    13066.82      431.85          0.0\n",
       "18245  1191.70    3431.50    0.00     8940.04      324.80          0.0\n",
       "18246  1191.92    2452.79  727.94     9351.80       42.31          0.0\n",
       "18247  1527.63    2981.04  727.01    10919.54       50.00          0.0\n",
       "18248  2894.77    2356.13  224.53    11988.14       26.01          0.0\n",
       "\n",
       "[18249 rows x 6 columns]"
      ]
     },
     "execution_count": 68,
     "metadata": {},
     "output_type": "execute_result"
    }
   ],
   "source": [
    "df2=df2[(df2>lower) & (df2<upper)]\n",
    "df2"
   ]
  },
  {
   "cell_type": "code",
   "execution_count": 69,
   "id": "35662546",
   "metadata": {},
   "outputs": [
    {
     "data": {
      "text/plain": [
       "4046           2518\n",
       "4225           2519\n",
       "4770           2918\n",
       "Small Bags     2407\n",
       "Large Bags     2707\n",
       "XLarge Bags    4014\n",
       "dtype: int64"
      ]
     },
     "execution_count": 69,
     "metadata": {},
     "output_type": "execute_result"
    }
   ],
   "source": [
    "df2.isnull().sum()  #check null values after outliers removal by iqr method"
   ]
  },
  {
   "cell_type": "code",
   "execution_count": 70,
   "id": "5cd6decd",
   "metadata": {},
   "outputs": [],
   "source": [
    "from sklearn.impute import SimpleImputer   #import null values remove liabary"
   ]
  },
  {
   "cell_type": "code",
   "execution_count": 71,
   "id": "edaa1508",
   "metadata": {},
   "outputs": [],
   "source": [
    "imp=SimpleImputer(strategy='median')  #data int form so use mean/median"
   ]
  },
  {
   "cell_type": "code",
   "execution_count": 72,
   "id": "375c3432",
   "metadata": {
    "scrolled": true
   },
   "outputs": [],
   "source": [
    "for i in df2.columns:\n",
    "    df2[i]=imp.fit_transform(df2[i].values.reshape(-1,1))\n",
    "    "
   ]
  },
  {
   "cell_type": "code",
   "execution_count": 73,
   "id": "979cc641",
   "metadata": {},
   "outputs": [
    {
     "data": {
      "text/plain": [
       "4046           0\n",
       "4225           0\n",
       "4770           0\n",
       "Small Bags     0\n",
       "Large Bags     0\n",
       "XLarge Bags    0\n",
       "dtype: int64"
      ]
     },
     "execution_count": 73,
     "metadata": {},
     "output_type": "execute_result"
    }
   ],
   "source": [
    "df2.isnull().sum()  #check after remove null values"
   ]
  },
  {
   "cell_type": "markdown",
   "id": "39534cf7",
   "metadata": {},
   "source": [
    "# Check Skewness in Both df1 and df2 frame"
   ]
  },
  {
   "cell_type": "code",
   "execution_count": 74,
   "id": "f730a036",
   "metadata": {},
   "outputs": [
    {
     "data": {
      "text/plain": [
       "AveragePrice    0.580303\n",
       "type            0.000329\n",
       "Day             0.014310\n",
       "Month           0.106617\n",
       "Year            0.215339\n",
       "dtype: float64"
      ]
     },
     "execution_count": 74,
     "metadata": {},
     "output_type": "execute_result"
    }
   ],
   "source": [
    "df1.skew()  #check skewness in df1 frame"
   ]
  },
  {
   "cell_type": "raw",
   "id": "51171d76",
   "metadata": {},
   "source": [
    "In df1 dataframe incliude Target value and object type value so we not touch it"
   ]
  },
  {
   "cell_type": "code",
   "execution_count": 75,
   "id": "edf46523",
   "metadata": {},
   "outputs": [
    {
     "data": {
      "text/plain": [
       "4046           2.115606\n",
       "4225           2.169585\n",
       "4770           2.689417\n",
       "Small Bags     1.718893\n",
       "Large Bags     2.347949\n",
       "XLarge Bags    5.125288\n",
       "dtype: float64"
      ]
     },
     "execution_count": 75,
     "metadata": {},
     "output_type": "execute_result"
    }
   ],
   "source": [
    "df2.skew()  #check skewness in df2 frame"
   ]
  },
  {
   "cell_type": "raw",
   "id": "b8696902",
   "metadata": {},
   "source": [
    "take threshold value +/-0.2,skewness is present in df2 frame\n",
    "1.4046\n",
    "2.4225\n",
    "3.4770\n",
    "4.Small Bags\n",
    "5.Large Bags\n",
    "6.XLarge Bags \n",
    "7.Year"
   ]
  },
  {
   "cell_type": "code",
   "execution_count": 76,
   "id": "5e7b50ed",
   "metadata": {},
   "outputs": [],
   "source": [
    "from sklearn.preprocessing import power_transform"
   ]
  },
  {
   "cell_type": "code",
   "execution_count": 77,
   "id": "c4077a8c",
   "metadata": {},
   "outputs": [],
   "source": [
    "df3=power_transform(df2)"
   ]
  },
  {
   "cell_type": "code",
   "execution_count": 78,
   "id": "9c5d0dff",
   "metadata": {},
   "outputs": [
    {
     "data": {
      "text/plain": [
       "numpy.ndarray"
      ]
     },
     "execution_count": 78,
     "metadata": {},
     "output_type": "execute_result"
    }
   ],
   "source": [
    "type(df3)"
   ]
  },
  {
   "cell_type": "code",
   "execution_count": 79,
   "id": "9274543b",
   "metadata": {},
   "outputs": [
    {
     "data": {
      "text/html": [
       "<div>\n",
       "<style scoped>\n",
       "    .dataframe tbody tr th:only-of-type {\n",
       "        vertical-align: middle;\n",
       "    }\n",
       "\n",
       "    .dataframe tbody tr th {\n",
       "        vertical-align: top;\n",
       "    }\n",
       "\n",
       "    .dataframe thead th {\n",
       "        text-align: right;\n",
       "    }\n",
       "</style>\n",
       "<table border=\"1\" class=\"dataframe\">\n",
       "  <thead>\n",
       "    <tr style=\"text-align: right;\">\n",
       "      <th></th>\n",
       "      <th>4046</th>\n",
       "      <th>4225</th>\n",
       "      <th>4770</th>\n",
       "      <th>Small Bags</th>\n",
       "      <th>Large Bags</th>\n",
       "      <th>XLarge Bags</th>\n",
       "    </tr>\n",
       "  </thead>\n",
       "  <tbody>\n",
       "    <tr>\n",
       "      <th>0</th>\n",
       "      <td>-0.591970</td>\n",
       "      <td>0.688560</td>\n",
       "      <td>0.022006</td>\n",
       "      <td>-0.298929</td>\n",
       "      <td>-0.785469</td>\n",
       "      <td>-0.368851</td>\n",
       "    </tr>\n",
       "    <tr>\n",
       "      <th>1</th>\n",
       "      <td>-0.735335</td>\n",
       "      <td>0.572058</td>\n",
       "      <td>0.080950</td>\n",
       "      <td>-0.251724</td>\n",
       "      <td>-0.773948</td>\n",
       "      <td>-0.368851</td>\n",
       "    </tr>\n",
       "    <tr>\n",
       "      <th>2</th>\n",
       "      <td>-0.681259</td>\n",
       "      <td>1.124971</td>\n",
       "      <td>0.327406</td>\n",
       "      <td>-0.333972</td>\n",
       "      <td>-0.759239</td>\n",
       "      <td>-0.368851</td>\n",
       "    </tr>\n",
       "    <tr>\n",
       "      <th>3</th>\n",
       "      <td>-0.561953</td>\n",
       "      <td>0.858121</td>\n",
       "      <td>0.148089</td>\n",
       "      <td>-0.506960</td>\n",
       "      <td>-0.689745</td>\n",
       "      <td>-0.368851</td>\n",
       "    </tr>\n",
       "    <tr>\n",
       "      <th>4</th>\n",
       "      <td>-0.624598</td>\n",
       "      <td>0.561627</td>\n",
       "      <td>0.161325</td>\n",
       "      <td>-0.481468</td>\n",
       "      <td>-0.580174</td>\n",
       "      <td>-0.368851</td>\n",
       "    </tr>\n",
       "    <tr>\n",
       "      <th>...</th>\n",
       "      <td>...</td>\n",
       "      <td>...</td>\n",
       "      <td>...</td>\n",
       "      <td>...</td>\n",
       "      <td>...</td>\n",
       "      <td>...</td>\n",
       "    </tr>\n",
       "    <tr>\n",
       "      <th>18244</th>\n",
       "      <td>-0.353093</td>\n",
       "      <td>-0.951431</td>\n",
       "      <td>-1.263171</td>\n",
       "      <td>-0.070253</td>\n",
       "      <td>-0.341454</td>\n",
       "      <td>-0.368851</td>\n",
       "    </tr>\n",
       "    <tr>\n",
       "      <th>18245</th>\n",
       "      <td>-0.544289</td>\n",
       "      <td>-0.654284</td>\n",
       "      <td>-1.263171</td>\n",
       "      <td>-0.278783</td>\n",
       "      <td>-0.431614</td>\n",
       "      <td>-0.368851</td>\n",
       "    </tr>\n",
       "    <tr>\n",
       "      <th>18246</th>\n",
       "      <td>-0.544225</td>\n",
       "      <td>-0.782186</td>\n",
       "      <td>0.841449</td>\n",
       "      <td>-0.254920</td>\n",
       "      <td>-0.977680</td>\n",
       "      <td>-0.368851</td>\n",
       "    </tr>\n",
       "    <tr>\n",
       "      <th>18247</th>\n",
       "      <td>-0.457723</td>\n",
       "      <td>-0.708686</td>\n",
       "      <td>0.841074</td>\n",
       "      <td>-0.171004</td>\n",
       "      <td>-0.939012</td>\n",
       "      <td>-0.368851</td>\n",
       "    </tr>\n",
       "    <tr>\n",
       "      <th>18248</th>\n",
       "      <td>-0.225423</td>\n",
       "      <td>-0.797067</td>\n",
       "      <td>0.491695</td>\n",
       "      <td>-0.119091</td>\n",
       "      <td>-1.084502</td>\n",
       "      <td>-0.368851</td>\n",
       "    </tr>\n",
       "  </tbody>\n",
       "</table>\n",
       "<p>18249 rows × 6 columns</p>\n",
       "</div>"
      ],
      "text/plain": [
       "           4046      4225      4770  Small Bags  Large Bags  XLarge Bags\n",
       "0     -0.591970  0.688560  0.022006   -0.298929   -0.785469    -0.368851\n",
       "1     -0.735335  0.572058  0.080950   -0.251724   -0.773948    -0.368851\n",
       "2     -0.681259  1.124971  0.327406   -0.333972   -0.759239    -0.368851\n",
       "3     -0.561953  0.858121  0.148089   -0.506960   -0.689745    -0.368851\n",
       "4     -0.624598  0.561627  0.161325   -0.481468   -0.580174    -0.368851\n",
       "...         ...       ...       ...         ...         ...          ...\n",
       "18244 -0.353093 -0.951431 -1.263171   -0.070253   -0.341454    -0.368851\n",
       "18245 -0.544289 -0.654284 -1.263171   -0.278783   -0.431614    -0.368851\n",
       "18246 -0.544225 -0.782186  0.841449   -0.254920   -0.977680    -0.368851\n",
       "18247 -0.457723 -0.708686  0.841074   -0.171004   -0.939012    -0.368851\n",
       "18248 -0.225423 -0.797067  0.491695   -0.119091   -1.084502    -0.368851\n",
       "\n",
       "[18249 rows x 6 columns]"
      ]
     },
     "execution_count": 79,
     "metadata": {},
     "output_type": "execute_result"
    }
   ],
   "source": [
    "df4=pd.DataFrame(data=df3,columns=df2.columns)\n",
    "df4"
   ]
  },
  {
   "cell_type": "code",
   "execution_count": 80,
   "id": "194bc6fa",
   "metadata": {},
   "outputs": [
    {
     "data": {
      "text/plain": [
       "4046          -0.049546\n",
       "4225          -0.074888\n",
       "4770           0.033847\n",
       "Small Bags    -0.129272\n",
       "Large Bags    -0.153447\n",
       "XLarge Bags    2.344622\n",
       "dtype: float64"
      ]
     },
     "execution_count": 80,
     "metadata": {},
     "output_type": "execute_result"
    }
   ],
   "source": [
    "df4.skew()"
   ]
  },
  {
   "cell_type": "markdown",
   "id": "eafe2f91",
   "metadata": {},
   "source": [
    "Skewness not remove of XLarge Bags then we do 2nd times"
   ]
  },
  {
   "cell_type": "code",
   "execution_count": 81,
   "id": "489b829b",
   "metadata": {},
   "outputs": [],
   "source": [
    "df5=power_transform(df4)"
   ]
  },
  {
   "cell_type": "code",
   "execution_count": 82,
   "id": "347910f6",
   "metadata": {},
   "outputs": [],
   "source": [
    "df2=pd.DataFrame(data=df5,columns=df2.columns)"
   ]
  },
  {
   "cell_type": "code",
   "execution_count": 83,
   "id": "260a0dc6",
   "metadata": {},
   "outputs": [
    {
     "data": {
      "text/plain": [
       "4046          -0.048685\n",
       "4225          -0.008524\n",
       "4770           0.036427\n",
       "Small Bags    -0.009815\n",
       "Large Bags     0.014380\n",
       "XLarge Bags    2.341232\n",
       "dtype: float64"
      ]
     },
     "execution_count": 83,
     "metadata": {},
     "output_type": "execute_result"
    }
   ],
   "source": [
    "df2.skew()"
   ]
  },
  {
   "cell_type": "code",
   "execution_count": 84,
   "id": "b73a3f5e",
   "metadata": {},
   "outputs": [
    {
     "data": {
      "text/plain": [
       "<AxesSubplot:xlabel='XLarge Bags', ylabel='Density'>"
      ]
     },
     "execution_count": 84,
     "metadata": {},
     "output_type": "execute_result"
    },
    {
     "data": {
      "image/png": "[encoded data removed]",
      "text/plain": [
       "<Figure size 432x288 with 1 Axes>"
      ]
     },
     "metadata": {
      "needs_background": "light"
     },
     "output_type": "display_data"
    }
   ],
   "source": [
    "sns.kdeplot(df2['XLarge Bags'])"
   ]
  },
  {
   "cell_type": "markdown",
   "id": "60323c29",
   "metadata": {},
   "source": [
    "After do 2nd time it is not come in range,so we try another method on it"
   ]
  },
  {
   "cell_type": "code",
   "execution_count": 85,
   "id": "a368a8e3",
   "metadata": {},
   "outputs": [],
   "source": [
    " df2['XLarge Bags']=np.log( df2['XLarge Bags'])  #apply log transform method "
   ]
  },
  {
   "cell_type": "code",
   "execution_count": 86,
   "id": "2b82103e",
   "metadata": {},
   "outputs": [
    {
     "data": {
      "text/plain": [
       "<AxesSubplot:xlabel='XLarge Bags', ylabel='Density'>"
      ]
     },
     "execution_count": 86,
     "metadata": {},
     "output_type": "execute_result"
    },
    {
     "data": {
      "image/png": "[encoded data removed]",
      "text/plain": [
       "<Figure size 432x288 with 1 Axes>"
      ]
     },
     "metadata": {
      "needs_background": "light"
     },
     "output_type": "display_data"
    }
   ],
   "source": [
    "sns.kdeplot( df2['XLarge Bags'])"
   ]
  },
  {
   "cell_type": "code",
   "execution_count": 87,
   "id": "c512a5ed",
   "metadata": {},
   "outputs": [
    {
     "data": {
      "text/plain": [
       "-5.677446448072223"
      ]
     },
     "execution_count": 87,
     "metadata": {},
     "output_type": "execute_result"
    }
   ],
   "source": [
    " df2['XLarge Bags'].skew()"
   ]
  },
  {
   "cell_type": "markdown",
   "id": "3fb049ee",
   "metadata": {},
   "source": [
    "after apply log transform method same condition so we remove it"
   ]
  },
  {
   "cell_type": "code",
   "execution_count": 88,
   "id": "6d460966",
   "metadata": {},
   "outputs": [],
   "source": [
    "df2=df2.drop( ['XLarge Bags'],axis=1)"
   ]
  },
  {
   "cell_type": "code",
   "execution_count": 89,
   "id": "9132774d",
   "metadata": {},
   "outputs": [
    {
     "data": {
      "text/html": [
       "<div>\n",
       "<style scoped>\n",
       "    .dataframe tbody tr th:only-of-type {\n",
       "        vertical-align: middle;\n",
       "    }\n",
       "\n",
       "    .dataframe tbody tr th {\n",
       "        vertical-align: top;\n",
       "    }\n",
       "\n",
       "    .dataframe thead th {\n",
       "        text-align: right;\n",
       "    }\n",
       "</style>\n",
       "<table border=\"1\" class=\"dataframe\">\n",
       "  <thead>\n",
       "    <tr style=\"text-align: right;\">\n",
       "      <th></th>\n",
       "      <th>AveragePrice</th>\n",
       "      <th>type</th>\n",
       "      <th>Day</th>\n",
       "      <th>Month</th>\n",
       "      <th>Year</th>\n",
       "      <th>4046</th>\n",
       "      <th>4225</th>\n",
       "      <th>4770</th>\n",
       "      <th>Small Bags</th>\n",
       "      <th>Large Bags</th>\n",
       "    </tr>\n",
       "  </thead>\n",
       "  <tbody>\n",
       "    <tr>\n",
       "      <th>0</th>\n",
       "      <td>1.33</td>\n",
       "      <td>0</td>\n",
       "      <td>27</td>\n",
       "      <td>12</td>\n",
       "      <td>2015</td>\n",
       "      <td>-0.592105</td>\n",
       "      <td>0.681234</td>\n",
       "      <td>0.020754</td>\n",
       "      <td>-0.331969</td>\n",
       "      <td>-0.803508</td>\n",
       "    </tr>\n",
       "    <tr>\n",
       "      <th>1</th>\n",
       "      <td>1.35</td>\n",
       "      <td>0</td>\n",
       "      <td>20</td>\n",
       "      <td>12</td>\n",
       "      <td>2015</td>\n",
       "      <td>-0.735425</td>\n",
       "      <td>0.561912</td>\n",
       "      <td>0.079707</td>\n",
       "      <td>-0.285844</td>\n",
       "      <td>-0.792850</td>\n",
       "    </tr>\n",
       "    <tr>\n",
       "      <th>2</th>\n",
       "      <td>0.93</td>\n",
       "      <td>0</td>\n",
       "      <td>13</td>\n",
       "      <td>12</td>\n",
       "      <td>2015</td>\n",
       "      <td>-0.681367</td>\n",
       "      <td>1.131551</td>\n",
       "      <td>0.326313</td>\n",
       "      <td>-0.366099</td>\n",
       "      <td>-0.779230</td>\n",
       "    </tr>\n",
       "    <tr>\n",
       "      <th>3</th>\n",
       "      <td>1.08</td>\n",
       "      <td>0</td>\n",
       "      <td>6</td>\n",
       "      <td>12</td>\n",
       "      <td>2015</td>\n",
       "      <td>-0.562097</td>\n",
       "      <td>0.855604</td>\n",
       "      <td>0.146870</td>\n",
       "      <td>-0.533293</td>\n",
       "      <td>-0.714662</td>\n",
       "    </tr>\n",
       "    <tr>\n",
       "      <th>4</th>\n",
       "      <td>1.28</td>\n",
       "      <td>0</td>\n",
       "      <td>29</td>\n",
       "      <td>11</td>\n",
       "      <td>2015</td>\n",
       "      <td>-0.624723</td>\n",
       "      <td>0.551248</td>\n",
       "      <td>0.160111</td>\n",
       "      <td>-0.508784</td>\n",
       "      <td>-0.612095</td>\n",
       "    </tr>\n",
       "    <tr>\n",
       "      <th>...</th>\n",
       "      <td>...</td>\n",
       "      <td>...</td>\n",
       "      <td>...</td>\n",
       "      <td>...</td>\n",
       "      <td>...</td>\n",
       "      <td>...</td>\n",
       "      <td>...</td>\n",
       "      <td>...</td>\n",
       "      <td>...</td>\n",
       "      <td>...</td>\n",
       "    </tr>\n",
       "    <tr>\n",
       "      <th>18244</th>\n",
       "      <td>1.63</td>\n",
       "      <td>1</td>\n",
       "      <td>4</td>\n",
       "      <td>2</td>\n",
       "      <td>2018</td>\n",
       "      <td>-0.353285</td>\n",
       "      <td>-0.952172</td>\n",
       "      <td>-1.262398</td>\n",
       "      <td>-0.106804</td>\n",
       "      <td>-0.385055</td>\n",
       "    </tr>\n",
       "    <tr>\n",
       "      <th>18245</th>\n",
       "      <td>1.71</td>\n",
       "      <td>1</td>\n",
       "      <td>28</td>\n",
       "      <td>1</td>\n",
       "      <td>2018</td>\n",
       "      <td>-0.544437</td>\n",
       "      <td>-0.663188</td>\n",
       "      <td>-1.262398</td>\n",
       "      <td>-0.312306</td>\n",
       "      <td>-0.471419</td>\n",
       "    </tr>\n",
       "    <tr>\n",
       "      <th>18246</th>\n",
       "      <td>1.87</td>\n",
       "      <td>1</td>\n",
       "      <td>21</td>\n",
       "      <td>1</td>\n",
       "      <td>2018</td>\n",
       "      <td>-0.544374</td>\n",
       "      <td>-0.787859</td>\n",
       "      <td>0.841146</td>\n",
       "      <td>-0.288973</td>\n",
       "      <td>-0.979943</td>\n",
       "    </tr>\n",
       "    <tr>\n",
       "      <th>18247</th>\n",
       "      <td>1.93</td>\n",
       "      <td>1</td>\n",
       "      <td>14</td>\n",
       "      <td>1</td>\n",
       "      <td>2018</td>\n",
       "      <td>-0.457893</td>\n",
       "      <td>-0.716271</td>\n",
       "      <td>0.840770</td>\n",
       "      <td>-0.206557</td>\n",
       "      <td>-0.944649</td>\n",
       "    </tr>\n",
       "    <tr>\n",
       "      <th>18248</th>\n",
       "      <td>1.62</td>\n",
       "      <td>1</td>\n",
       "      <td>7</td>\n",
       "      <td>1</td>\n",
       "      <td>2018</td>\n",
       "      <td>-0.225636</td>\n",
       "      <td>-0.802335</td>\n",
       "      <td>0.490791</td>\n",
       "      <td>-0.155272</td>\n",
       "      <td>-1.076951</td>\n",
       "    </tr>\n",
       "  </tbody>\n",
       "</table>\n",
       "<p>18249 rows × 10 columns</p>\n",
       "</div>"
      ],
      "text/plain": [
       "       AveragePrice  type  Day  Month  Year      4046      4225      4770  \\\n",
       "0              1.33     0   27     12  2015 -0.592105  0.681234  0.020754   \n",
       "1              1.35     0   20     12  2015 -0.735425  0.561912  0.079707   \n",
       "2              0.93     0   13     12  2015 -0.681367  1.131551  0.326313   \n",
       "3              1.08     0    6     12  2015 -0.562097  0.855604  0.146870   \n",
       "4              1.28     0   29     11  2015 -0.624723  0.551248  0.160111   \n",
       "...             ...   ...  ...    ...   ...       ...       ...       ...   \n",
       "18244          1.63     1    4      2  2018 -0.353285 -0.952172 -1.262398   \n",
       "18245          1.71     1   28      1  2018 -0.544437 -0.663188 -1.262398   \n",
       "18246          1.87     1   21      1  2018 -0.544374 -0.787859  0.841146   \n",
       "18247          1.93     1   14      1  2018 -0.457893 -0.716271  0.840770   \n",
       "18248          1.62     1    7      1  2018 -0.225636 -0.802335  0.490791   \n",
       "\n",
       "       Small Bags  Large Bags  \n",
       "0       -0.331969   -0.803508  \n",
       "1       -0.285844   -0.792850  \n",
       "2       -0.366099   -0.779230  \n",
       "3       -0.533293   -0.714662  \n",
       "4       -0.508784   -0.612095  \n",
       "...           ...         ...  \n",
       "18244   -0.106804   -0.385055  \n",
       "18245   -0.312306   -0.471419  \n",
       "18246   -0.288973   -0.979943  \n",
       "18247   -0.206557   -0.944649  \n",
       "18248   -0.155272   -1.076951  \n",
       "\n",
       "[18249 rows x 10 columns]"
      ]
     },
     "execution_count": 89,
     "metadata": {},
     "output_type": "execute_result"
    }
   ],
   "source": [
    "ds=pd.concat([df1,df2],axis=1)\n",
    "ds"
   ]
  },
  {
   "cell_type": "markdown",
   "id": "25c50bd7",
   "metadata": {},
   "source": [
    "# TARGET-->AVERAGE PRICE"
   ]
  },
  {
   "cell_type": "code",
   "execution_count": 90,
   "id": "4f21fd55",
   "metadata": {},
   "outputs": [],
   "source": [
    "x=ds.drop('AveragePrice',axis=1)  #drop target variable for do independent data"
   ]
  },
  {
   "cell_type": "code",
   "execution_count": 91,
   "id": "c63f3862",
   "metadata": {},
   "outputs": [],
   "source": [
    "y=ds.AveragePrice  #separte target vriable into "
   ]
  },
  {
   "cell_type": "markdown",
   "id": "66920407",
   "metadata": {},
   "source": [
    "# Apply Standard Scaler"
   ]
  },
  {
   "cell_type": "code",
   "execution_count": 92,
   "id": "0f697916",
   "metadata": {},
   "outputs": [],
   "source": [
    "from sklearn.preprocessing import StandardScaler"
   ]
  },
  {
   "cell_type": "code",
   "execution_count": 93,
   "id": "05294359",
   "metadata": {},
   "outputs": [],
   "source": [
    "st=StandardScaler()"
   ]
  },
  {
   "cell_type": "code",
   "execution_count": 94,
   "id": "8640a4c4",
   "metadata": {},
   "outputs": [
    {
     "data": {
      "text/plain": [
       "array([[-0.99983562,  1.29185687,  1.64763162, ...,  0.02075428,\n",
       "        -0.33196938, -0.80350817],\n",
       "       [-0.99983562,  0.49423066,  1.64763162, ...,  0.07970676,\n",
       "        -0.28584448, -0.79285015],\n",
       "       [-0.99983562, -0.30339555,  1.64763162, ...,  0.32631253,\n",
       "        -0.36609911, -0.77923005],\n",
       "       ...,\n",
       "       [ 1.00016441,  0.60817726, -1.46495942, ...,  0.84114589,\n",
       "        -0.28897338, -0.97994299],\n",
       "       [ 1.00016441, -0.18944895, -1.46495942, ...,  0.84077003,\n",
       "        -0.20655697, -0.94464873],\n",
       "       [ 1.00016441, -0.98707516, -1.46495942, ...,  0.49079086,\n",
       "        -0.15527189, -1.07695105]])"
      ]
     },
     "execution_count": 94,
     "metadata": {},
     "output_type": "execute_result"
    }
   ],
   "source": [
    "x=st.fit_transform(x)\n",
    "x"
   ]
  },
  {
   "cell_type": "markdown",
   "id": "72ca5152",
   "metadata": {},
   "source": [
    "# Apply train test split method with diffrent models"
   ]
  },
  {
   "cell_type": "code",
   "execution_count": 95,
   "id": "984365cc",
   "metadata": {},
   "outputs": [],
   "source": [
    "LI=LinearRegression()\n",
    "DT=DecisionTreeRegressor()\n",
    "SV=SVR()\n",
    "KN=KNeighborsRegressor()\n",
    "LA=Lasso()\n",
    "RI=Ridge()\n",
    "AD=AdaBoostRegressor()\n",
    "GB=GradientBoostingRegressor()\n",
    "RF=RandomForestRegressor()"
   ]
  },
  {
   "cell_type": "markdown",
   "id": "99bb4994",
   "metadata": {},
   "source": [
    "# Model=LINEAR REGRESSOR"
   ]
  },
  {
   "cell_type": "code",
   "execution_count": 96,
   "id": "52a7f106",
   "metadata": {
    "scrolled": false
   },
   "outputs": [
    {
     "name": "stdout",
     "output_type": "stream",
     "text": [
      "(At random_state 0,the accuracy is 46.84650246554156)\n",
      "Max accuracy 46.84650246554156 Max_Random_state 0\n",
      "\n",
      "\n",
      "(At random_state 1,the accuracy is 46.278664954824876)\n",
      "(At random_state 2,the accuracy is 44.937983713797244)\n",
      "(At random_state 3,the accuracy is 46.210191314771485)\n",
      "(At random_state 4,the accuracy is 45.273299120028675)\n",
      "(At random_state 5,the accuracy is 45.80838075163967)\n",
      "(At random_state 6,the accuracy is 46.44088297019637)\n",
      "(At random_state 7,the accuracy is 46.29111203398989)\n",
      "(At random_state 8,the accuracy is 45.397901045921664)\n",
      "(At random_state 9,the accuracy is 44.58514254428814)\n",
      "(At random_state 10,the accuracy is 45.95524340915629)\n",
      "(At random_state 11,the accuracy is 46.653417237578445)\n",
      "(At random_state 12,the accuracy is 46.76467366436731)\n",
      "(At random_state 13,the accuracy is 44.670931809021695)\n",
      "(At random_state 14,the accuracy is 46.3743444963296)\n",
      "(At random_state 15,the accuracy is 44.44109420569936)\n",
      "(At random_state 16,the accuracy is 45.6209591835919)\n",
      "(At random_state 17,the accuracy is 45.95072289744056)\n",
      "(At random_state 18,the accuracy is 46.2250282932206)\n",
      "(At random_state 19,the accuracy is 43.57922756510034)\n",
      "(At random_state 20,the accuracy is 47.344407197805225)\n",
      "Max accuracy 47.344407197805225 Max_Random_state 20\n",
      "\n",
      "\n",
      "(At random_state 21,the accuracy is 45.186750746178774)\n",
      "(At random_state 22,the accuracy is 45.840947699864095)\n",
      "(At random_state 23,the accuracy is 46.15768700479261)\n",
      "(At random_state 24,the accuracy is 44.425451359792646)\n",
      "(At random_state 25,the accuracy is 45.592596289910745)\n",
      "(At random_state 26,the accuracy is 46.47921131389234)\n",
      "(At random_state 27,the accuracy is 47.45164793188259)\n",
      "Max accuracy 47.45164793188259 Max_Random_state 27\n",
      "\n",
      "\n",
      "(At random_state 28,the accuracy is 47.33865360642556)\n",
      "(At random_state 29,the accuracy is 46.146029453984525)\n",
      "(At random_state 30,the accuracy is 45.494250683706504)\n",
      "(At random_state 31,the accuracy is 46.642290090422655)\n",
      "(At random_state 32,the accuracy is 43.114476827656645)\n",
      "(At random_state 33,the accuracy is 46.38358359046142)\n",
      "(At random_state 34,the accuracy is 45.50347767921929)\n",
      "(At random_state 35,the accuracy is 45.304646258870754)\n",
      "(At random_state 36,the accuracy is 44.59636193457045)\n",
      "(At random_state 37,the accuracy is 46.478622677120605)\n",
      "(At random_state 38,the accuracy is 46.40010647551255)\n",
      "(At random_state 39,the accuracy is 45.967890866979744)\n"
     ]
    }
   ],
   "source": [
    "max_acc=0\n",
    "max_rand=0\n",
    "\n",
    "for i in range(0,40):\n",
    "    x_train,x_test,y_train,y_test=train_test_split(x,y,test_size=0.20,random_state=i)\n",
    "    LI.fit(x_train,y_train)\n",
    "    pred=LI.predict(x_test)\n",
    "    test_acc=r2_score(y_test,pred)*100\n",
    "    print(f\"(At random_state {i},the accuracy is {test_acc})\")\n",
    "          \n",
    "    if test_acc>max_acc:\n",
    "          max_acc=test_acc\n",
    "          max_rand=i\n",
    "          print('Max accuracy',max_acc,'Max_Random_state',i)\n",
    "          print('\\n')   "
   ]
  },
  {
   "cell_type": "markdown",
   "id": "cc2ec175",
   "metadata": {},
   "source": [
    "At random state 27 model give accuracy 47.45%"
   ]
  },
  {
   "cell_type": "code",
   "execution_count": 97,
   "id": "3128afe2",
   "metadata": {},
   "outputs": [
    {
     "name": "stdout",
     "output_type": "stream",
     "text": [
      "Mean_Absolute_Error= 0.2270416176138164\n",
      "Mean_Squared_Error= 0.08520423577339022\n",
      "Root_Mean_Absolute_Error= 0.29189764605661045\n",
      "R2_Score= 47.45164793188259\n",
      "Model_With_Dataset=45.6969770321112\n"
     ]
    }
   ],
   "source": [
    "x_train,x_test,y_train,y_test=train_test_split(x,y,test_size=0.20,random_state=27)\n",
    "LI.fit(x_train,y_train)\n",
    "pred=LI.predict(x_test)\n",
    "print(f\"Mean_Absolute_Error= {mean_absolute_error(y_test,pred)}\")\n",
    "print(f\"Mean_Squared_Error= {mean_squared_error(y_test,pred)}\")\n",
    "print(f\"Root_Mean_Absolute_Error= {np.sqrt(mean_squared_error(y_test,pred))}\")\n",
    "print(f\"R2_Score= {r2_score(y_test,pred)*100}\")\n",
    "print(f\"Model_With_Dataset={LI.score(x_train,y_train)*100}\")"
   ]
  },
  {
   "cell_type": "markdown",
   "id": "f5e4fc42",
   "metadata": {},
   "source": [
    "In the linear regression, model accuracy has come to 47.50 is very low and the error percentage is very less.\n",
    "we try another method for getting a better result"
   ]
  },
  {
   "cell_type": "markdown",
   "id": "02798125",
   "metadata": {},
   "source": [
    " # Model= RIDGE "
   ]
  },
  {
   "cell_type": "code",
   "execution_count": 98,
   "id": "64dfe1e0",
   "metadata": {
    "scrolled": false
   },
   "outputs": [
    {
     "name": "stdout",
     "output_type": "stream",
     "text": [
      "(At random_state 0,the accuracy is 46.8462677614487)\n",
      "Max accuracy 46.8462677614487 Max_Random_state 0\n",
      "\n",
      "\n",
      "(At random_state 1,the accuracy is 46.278721644109176)\n",
      "(At random_state 2,the accuracy is 44.93805468224493)\n",
      "(At random_state 3,the accuracy is 46.210170883505874)\n",
      "(At random_state 4,the accuracy is 45.27320778160677)\n",
      "(At random_state 5,the accuracy is 45.808369798952796)\n",
      "(At random_state 6,the accuracy is 46.44106539452737)\n",
      "(At random_state 7,the accuracy is 46.2910423488036)\n",
      "(At random_state 8,the accuracy is 45.39831266383051)\n",
      "(At random_state 9,the accuracy is 44.58516407703726)\n",
      "(At random_state 10,the accuracy is 45.95515876911682)\n",
      "(At random_state 11,the accuracy is 46.65346278798819)\n",
      "(At random_state 12,the accuracy is 46.76465766294806)\n",
      "(At random_state 13,the accuracy is 44.67097869825667)\n",
      "(At random_state 14,the accuracy is 46.37393037028617)\n",
      "(At random_state 15,the accuracy is 44.44131700760974)\n",
      "(At random_state 16,the accuracy is 45.62117014148426)\n",
      "(At random_state 17,the accuracy is 45.950600633935565)\n",
      "(At random_state 18,the accuracy is 46.22502706072233)\n",
      "(At random_state 19,the accuracy is 43.57968224441757)\n",
      "(At random_state 20,the accuracy is 47.34415824017567)\n",
      "Max accuracy 47.34415824017567 Max_Random_state 20\n",
      "\n",
      "\n",
      "(At random_state 21,the accuracy is 45.18682868474516)\n",
      "(At random_state 22,the accuracy is 45.840659734361154)\n",
      "(At random_state 23,the accuracy is 46.157436476433)\n",
      "(At random_state 24,the accuracy is 44.4254562722404)\n",
      "(At random_state 25,the accuracy is 45.592573950796755)\n",
      "(At random_state 26,the accuracy is 46.47905730635639)\n",
      "(At random_state 27,the accuracy is 47.45162042985772)\n",
      "Max accuracy 47.45162042985772 Max_Random_state 27\n",
      "\n",
      "\n",
      "(At random_state 28,the accuracy is 47.338476864274384)\n",
      "(At random_state 29,the accuracy is 46.14608711784126)\n",
      "(At random_state 30,the accuracy is 45.494277894790656)\n",
      "(At random_state 31,the accuracy is 46.6419291723831)\n",
      "(At random_state 32,the accuracy is 43.11477874065728)\n",
      "(At random_state 33,the accuracy is 46.38352245049173)\n",
      "(At random_state 34,the accuracy is 45.5035152763523)\n",
      "(At random_state 35,the accuracy is 45.30451690198698)\n",
      "(At random_state 36,the accuracy is 44.596583272480395)\n",
      "(At random_state 37,the accuracy is 46.478379805639605)\n",
      "(At random_state 38,the accuracy is 46.40020625565573)\n",
      "(At random_state 39,the accuracy is 45.96769531641901)\n"
     ]
    }
   ],
   "source": [
    "max_acc=0\n",
    "max_rand=0\n",
    "\n",
    "for i in range(0,40):\n",
    "    x_train,x_test,y_train,y_test=train_test_split(x,y,test_size=0.20,random_state=i)\n",
    "    RI.fit(x_train,y_train)\n",
    "    pred=RI.predict(x_test)\n",
    "    test_acc=r2_score(y_test,pred)*100\n",
    "    print(f\"(At random_state {i},the accuracy is {test_acc})\")\n",
    "          \n",
    "    if test_acc>max_acc:\n",
    "          max_acc=test_acc\n",
    "          max_rand=i\n",
    "          print('Max accuracy',max_acc,'Max_Random_state',i)\n",
    "          print('\\n')   "
   ]
  },
  {
   "cell_type": "markdown",
   "id": "0244a323",
   "metadata": {},
   "source": [
    "At random state 27 model give accuracy is 47.45%"
   ]
  },
  {
   "cell_type": "code",
   "execution_count": 99,
   "id": "e0c5563d",
   "metadata": {},
   "outputs": [
    {
     "name": "stdout",
     "output_type": "stream",
     "text": [
      "Mean_Absolute_Error= 0.22704124739940665\n",
      "Mean_Squared_Error= 0.08520428036639684\n",
      "Root_Mean_Absolute_Error= 0.2918977224412634\n",
      "R2_Score= 47.45162042985772\n",
      "Model_With_Dataset=45.696976531785225\n"
     ]
    }
   ],
   "source": [
    "x_train,x_test,y_train,y_test=train_test_split(x,y,test_size=0.20,random_state=27)\n",
    "RI.fit(x_train,y_train)\n",
    "pred=RI.predict(x_test)\n",
    "print(f\"Mean_Absolute_Error= {mean_absolute_error(y_test,pred)}\")\n",
    "print(f\"Mean_Squared_Error= {mean_squared_error(y_test,pred)}\")\n",
    "print(f\"Root_Mean_Absolute_Error= {np.sqrt(mean_squared_error(y_test,pred))}\")\n",
    "print(f\"R2_Score= {r2_score(y_test,pred)*100}\")\n",
    "print(f\"Model_With_Dataset={RI.score(x_train,y_train)*100}\")"
   ]
  },
  {
   "cell_type": "markdown",
   "id": "56641d32",
   "metadata": {},
   "source": [
    "It is a little bit better than linear regression"
   ]
  },
  {
   "cell_type": "markdown",
   "id": "e401ffe9",
   "metadata": {},
   "source": [
    "# Model=Decision Tree Regressor"
   ]
  },
  {
   "cell_type": "code",
   "execution_count": 100,
   "id": "7db3f801",
   "metadata": {
    "scrolled": false
   },
   "outputs": [
    {
     "name": "stdout",
     "output_type": "stream",
     "text": [
      "(At random_state 0,the accuracy is 69.83724768076848)\n",
      "Max accuracy 69.83724768076848 Max_Random_state 0\n",
      "\n",
      "\n",
      "(At random_state 1,the accuracy is 68.87419060738993)\n",
      "(At random_state 2,the accuracy is 67.9860584990377)\n",
      "(At random_state 3,the accuracy is 70.07745741910813)\n",
      "Max accuracy 70.07745741910813 Max_Random_state 3\n",
      "\n",
      "\n",
      "(At random_state 4,the accuracy is 66.98967629183407)\n",
      "(At random_state 5,the accuracy is 70.45021943557599)\n",
      "Max accuracy 70.45021943557599 Max_Random_state 5\n",
      "\n",
      "\n",
      "(At random_state 6,the accuracy is 70.38904767895633)\n",
      "(At random_state 7,the accuracy is 68.64481260804227)\n",
      "(At random_state 8,the accuracy is 70.88892624078305)\n",
      "Max accuracy 70.88892624078305 Max_Random_state 8\n",
      "\n",
      "\n",
      "(At random_state 9,the accuracy is 69.42374531979404)\n",
      "(At random_state 10,the accuracy is 68.78112605380247)\n",
      "(At random_state 11,the accuracy is 69.5527355745724)\n",
      "(At random_state 12,the accuracy is 69.05176832992139)\n",
      "(At random_state 13,the accuracy is 68.3429294655176)\n",
      "(At random_state 14,the accuracy is 70.9963191349686)\n",
      "Max accuracy 70.9963191349686 Max_Random_state 14\n",
      "\n",
      "\n",
      "(At random_state 15,the accuracy is 71.91615362924479)\n",
      "Max accuracy 71.91615362924479 Max_Random_state 15\n",
      "\n",
      "\n",
      "(At random_state 16,the accuracy is 67.78522297702594)\n",
      "(At random_state 17,the accuracy is 70.13348992760385)\n",
      "(At random_state 18,the accuracy is 69.47343390710822)\n",
      "(At random_state 19,the accuracy is 67.34766781145223)\n",
      "(At random_state 20,the accuracy is 68.89238799490983)\n",
      "(At random_state 21,the accuracy is 71.13165770003856)\n",
      "(At random_state 22,the accuracy is 68.56388073662445)\n",
      "(At random_state 23,the accuracy is 70.52420262786968)\n",
      "(At random_state 24,the accuracy is 71.76455062475378)\n",
      "(At random_state 25,the accuracy is 69.26849781302484)\n",
      "(At random_state 26,the accuracy is 72.26333310343853)\n",
      "Max accuracy 72.26333310343853 Max_Random_state 26\n",
      "\n",
      "\n",
      "(At random_state 27,the accuracy is 69.26192413532175)\n",
      "(At random_state 28,the accuracy is 69.3207904480339)\n",
      "(At random_state 29,the accuracy is 69.5113383177706)\n",
      "(At random_state 30,the accuracy is 69.55526376391586)\n",
      "(At random_state 31,the accuracy is 69.71954646543124)\n",
      "(At random_state 32,the accuracy is 67.86483206717364)\n",
      "(At random_state 33,the accuracy is 70.24561471174454)\n",
      "(At random_state 34,the accuracy is 70.80118979338471)\n",
      "(At random_state 35,the accuracy is 69.88737256778698)\n",
      "(At random_state 36,the accuracy is 70.59659848135031)\n",
      "(At random_state 37,the accuracy is 70.48610838695855)\n",
      "(At random_state 38,the accuracy is 69.31412962341538)\n",
      "(At random_state 39,the accuracy is 68.19195136513892)\n"
     ]
    }
   ],
   "source": [
    "max_acc=0\n",
    "max_rand=0\n",
    "\n",
    "for i in range(0,40):\n",
    "    x_train,x_test,y_train,y_test=train_test_split(x,y,test_size=0.20,random_state=i)\n",
    "    DT.fit(x_train,y_train)\n",
    "    pred=DT.predict(x_test)\n",
    "    test_acc=r2_score(y_test,pred)*100\n",
    "    print(f\"(At random_state {i},the accuracy is {test_acc})\")\n",
    "          \n",
    "    if test_acc>max_acc:\n",
    "          max_acc=test_acc\n",
    "          max_rand=i\n",
    "          print('Max accuracy',max_acc,'Max_Random_state',i)\n",
    "          print('\\n')   "
   ]
  },
  {
   "cell_type": "markdown",
   "id": "5dd0cfe4",
   "metadata": {},
   "source": [
    "At random state 26 model give accuracy 72.26%"
   ]
  },
  {
   "cell_type": "code",
   "execution_count": 101,
   "id": "3cb6669b",
   "metadata": {},
   "outputs": [
    {
     "name": "stdout",
     "output_type": "stream",
     "text": [
      "Mean_Absolute_Error= 0.1425067188519243\n",
      "Mean_Squared_Error= 0.04640102291359923\n",
      "Root_Mean_Absolute_Error= 0.2154089666508784\n",
      "R2_Score= 71.92224207746366\n",
      "Model_With_Dataset=99.47599041392935\n"
     ]
    }
   ],
   "source": [
    "x_train,x_test,y_train,y_test=train_test_split(x,y,test_size=0.20,random_state=26)\n",
    "DT.fit(x_train,y_train)\n",
    "pred=DT.predict(x_test)\n",
    "print(f\"Mean_Absolute_Error= {mean_absolute_error(y_test,pred)}\")\n",
    "print(f\"Mean_Squared_Error= {mean_squared_error(y_test,pred)}\")\n",
    "print(f\"Root_Mean_Absolute_Error= {np.sqrt(mean_squared_error(y_test,pred))}\")\n",
    "print(f\"R2_Score= {r2_score(y_test,pred)*100}\")\n",
    "print(f\"Model_With_Dataset={DT.score(x_train,y_train)*100}\")"
   ]
  },
  {
   "cell_type": "markdown",
   "id": "a21d1d93",
   "metadata": {},
   "source": [
    "In the decision tree regression, model accuracy has come to 76.52%  is good  and the error percentage is \n",
    "very less compare to prevoius models.\n",
    "we try another method for getting a better result"
   ]
  },
  {
   "cell_type": "markdown",
   "id": "3b3ad53f",
   "metadata": {},
   "source": [
    "# Model=SVR"
   ]
  },
  {
   "cell_type": "code",
   "execution_count": 102,
   "id": "df5fa4d8",
   "metadata": {
    "scrolled": false
   },
   "outputs": [
    {
     "name": "stdout",
     "output_type": "stream",
     "text": [
      "(At random_state 0,the accuracy is 75.11303046436228)\n",
      "Max accuracy 75.11303046436228 Max_Random_state 0\n",
      "\n",
      "\n",
      "(At random_state 1,the accuracy is 74.28537008269194)\n",
      "(At random_state 2,the accuracy is 74.97154086010067)\n",
      "(At random_state 3,the accuracy is 75.09383182386283)\n",
      "(At random_state 4,the accuracy is 73.09346723706426)\n",
      "(At random_state 5,the accuracy is 74.97610377398959)\n",
      "(At random_state 6,the accuracy is 74.15512029756626)\n",
      "(At random_state 7,the accuracy is 75.28975092316257)\n",
      "Max accuracy 75.28975092316257 Max_Random_state 7\n",
      "\n",
      "\n",
      "(At random_state 8,the accuracy is 74.37423433637689)\n",
      "(At random_state 9,the accuracy is 73.50093453528619)\n",
      "(At random_state 10,the accuracy is 73.53013597528724)\n",
      "(At random_state 11,the accuracy is 75.3574891565432)\n",
      "Max accuracy 75.3574891565432 Max_Random_state 11\n",
      "\n",
      "\n",
      "(At random_state 12,the accuracy is 74.79366389401712)\n",
      "(At random_state 13,the accuracy is 73.87732919614969)\n",
      "(At random_state 14,the accuracy is 74.433044869106)\n",
      "(At random_state 15,the accuracy is 73.95626700152751)\n",
      "(At random_state 16,the accuracy is 73.33484399018484)\n",
      "(At random_state 17,the accuracy is 74.59004390151836)\n",
      "(At random_state 18,the accuracy is 74.80439936184445)\n",
      "(At random_state 19,the accuracy is 72.9622643328819)\n",
      "(At random_state 20,the accuracy is 74.77345919959382)\n",
      "(At random_state 21,the accuracy is 74.79645545401108)\n",
      "(At random_state 22,the accuracy is 74.09870308819474)\n",
      "(At random_state 23,the accuracy is 74.45138750054967)\n",
      "(At random_state 24,the accuracy is 74.82961978100998)\n",
      "(At random_state 25,the accuracy is 74.28350948646099)\n",
      "(At random_state 26,the accuracy is 74.32438751175611)\n",
      "(At random_state 27,the accuracy is 74.62901906954018)\n",
      "(At random_state 28,the accuracy is 75.42162999692012)\n",
      "Max accuracy 75.42162999692012 Max_Random_state 28\n",
      "\n",
      "\n",
      "(At random_state 29,the accuracy is 76.08156124622228)\n",
      "Max accuracy 76.08156124622228 Max_Random_state 29\n",
      "\n",
      "\n",
      "(At random_state 30,the accuracy is 74.45950894006756)\n",
      "(At random_state 31,the accuracy is 74.5902757276219)\n",
      "(At random_state 32,the accuracy is 72.71930647521772)\n",
      "(At random_state 33,the accuracy is 74.5470191273746)\n",
      "(At random_state 34,the accuracy is 74.17009552238191)\n",
      "(At random_state 35,the accuracy is 74.0004595378803)\n",
      "(At random_state 36,the accuracy is 73.78985491005187)\n",
      "(At random_state 37,the accuracy is 74.70231694823602)\n",
      "(At random_state 38,the accuracy is 74.89178848218752)\n",
      "(At random_state 39,the accuracy is 73.69264815698877)\n"
     ]
    }
   ],
   "source": [
    "max_acc=0\n",
    "max_rand=0\n",
    "\n",
    "for i in range(0,40):\n",
    "    x_train,x_test,y_train,y_test=train_test_split(x,y,test_size=0.20,random_state=i)\n",
    "    SV.fit(x_train,y_train)\n",
    "    pred=SV.predict(x_test)\n",
    "    test_acc=r2_score(y_test,pred)*100\n",
    "    print(f\"(At random_state {i},the accuracy is {test_acc})\")\n",
    "          \n",
    "    if test_acc>max_acc:\n",
    "          max_acc=test_acc\n",
    "          max_rand=i\n",
    "          print('Max accuracy',max_acc,'Max_Random_state',i)\n",
    "          print('\\n')   "
   ]
  },
  {
   "cell_type": "raw",
   "id": "cea40541",
   "metadata": {},
   "source": [
    "At random state 29 model give accuracy 76.08"
   ]
  },
  {
   "cell_type": "code",
   "execution_count": 103,
   "id": "21d1850b",
   "metadata": {},
   "outputs": [
    {
     "name": "stdout",
     "output_type": "stream",
     "text": [
      "Mean_Absolute_Error= 0.1458194452006456\n",
      "Mean_Squared_Error= 0.0381569161042283\n",
      "Root_Mean_Absolute_Error= 0.19533795356824105\n",
      "R2_Score= 76.08156124622228\n",
      "Model_With_Dataset=76.12919586789594\n"
     ]
    }
   ],
   "source": [
    "x_train,x_test,y_train,y_test=train_test_split(x,y,test_size=0.20,random_state=29)\n",
    "SV.fit(x_train,y_train)\n",
    "pred=SV.predict(x_test)\n",
    "print(f\"Mean_Absolute_Error= {mean_absolute_error(y_test,pred)}\")\n",
    "print(f\"Mean_Squared_Error= {mean_squared_error(y_test,pred)}\")\n",
    "print(f\"Root_Mean_Absolute_Error= {np.sqrt(mean_squared_error(y_test,pred))}\")\n",
    "print(f\"R2_Score= {r2_score(y_test,pred)*100}\")\n",
    "print(f\"Model_With_Dataset={SV.score(x_train,y_train)*100}\")"
   ]
  },
  {
   "cell_type": "markdown",
   "id": "19c407c5",
   "metadata": {},
   "source": [
    "In the support vector regression, model accuracy has come to 76.08%  is good  and the error percentage is \n",
    "very less compare to prevoius models.\n",
    "we try another method for getting a better result"
   ]
  },
  {
   "cell_type": "markdown",
   "id": "c8fa03b6",
   "metadata": {},
   "source": [
    "# Model=KNEIGHBORS REGRESSOR"
   ]
  },
  {
   "cell_type": "code",
   "execution_count": 104,
   "id": "8db8fc6d",
   "metadata": {
    "scrolled": false
   },
   "outputs": [
    {
     "name": "stdout",
     "output_type": "stream",
     "text": [
      "(At random_state 0,the accuracy is 76.7524916546407)\n",
      "Max accuracy 76.7524916546407 Max_Random_state 0\n",
      "\n",
      "\n",
      "(At random_state 1,the accuracy is 77.85415960664115)\n",
      "Max accuracy 77.85415960664115 Max_Random_state 1\n",
      "\n",
      "\n",
      "(At random_state 2,the accuracy is 77.37178823342012)\n",
      "(At random_state 3,the accuracy is 76.80323770048763)\n",
      "(At random_state 4,the accuracy is 76.17152782431796)\n",
      "(At random_state 5,the accuracy is 78.61305682802163)\n",
      "Max accuracy 78.61305682802163 Max_Random_state 5\n",
      "\n",
      "\n",
      "(At random_state 6,the accuracy is 78.13731241428911)\n",
      "(At random_state 7,the accuracy is 77.64710533669046)\n",
      "(At random_state 8,the accuracy is 76.1222200220676)\n",
      "(At random_state 9,the accuracy is 76.68958400517182)\n",
      "(At random_state 10,the accuracy is 77.62586651226601)\n",
      "(At random_state 11,the accuracy is 77.34856774106305)\n",
      "(At random_state 12,the accuracy is 76.93217054731313)\n",
      "(At random_state 13,the accuracy is 77.29973614443875)\n",
      "(At random_state 14,the accuracy is 77.55627192198233)\n",
      "(At random_state 15,the accuracy is 77.77615070399143)\n",
      "(At random_state 16,the accuracy is 76.41005294525569)\n",
      "(At random_state 17,the accuracy is 77.13295559251438)\n",
      "(At random_state 18,the accuracy is 77.56583308575156)\n",
      "(At random_state 19,the accuracy is 76.39932514370416)\n",
      "(At random_state 20,the accuracy is 77.73758629909466)\n",
      "(At random_state 21,the accuracy is 77.7042828570515)\n",
      "(At random_state 22,the accuracy is 76.46490400525119)\n",
      "(At random_state 23,the accuracy is 77.55910270827451)\n",
      "(At random_state 24,the accuracy is 77.25806345350088)\n",
      "(At random_state 25,the accuracy is 77.74096105797898)\n",
      "(At random_state 26,the accuracy is 78.10539532496973)\n",
      "(At random_state 27,the accuracy is 77.51921447776374)\n",
      "(At random_state 28,the accuracy is 78.4826043801091)\n",
      "(At random_state 29,the accuracy is 77.33692837379017)\n",
      "(At random_state 30,the accuracy is 77.05488184293223)\n",
      "(At random_state 31,the accuracy is 76.5123880977839)\n",
      "(At random_state 32,the accuracy is 76.1114674492705)\n",
      "(At random_state 33,the accuracy is 78.14192191802441)\n",
      "(At random_state 34,the accuracy is 77.75525333699416)\n",
      "(At random_state 35,the accuracy is 77.14334315657189)\n",
      "(At random_state 36,the accuracy is 77.02150095098344)\n",
      "(At random_state 37,the accuracy is 77.57489229658825)\n",
      "(At random_state 38,the accuracy is 76.80626517276896)\n",
      "(At random_state 39,the accuracy is 77.03556123053315)\n"
     ]
    }
   ],
   "source": [
    "max_acc=0\n",
    "max_rand=0\n",
    "\n",
    "for i in range(0,40):\n",
    "    x_train,x_test,y_train,y_test=train_test_split(x,y,test_size=0.20,random_state=i)\n",
    "    KN.fit(x_train,y_train)\n",
    "    pred=KN.predict(x_test)\n",
    "    test_acc=r2_score(y_test,pred)*100\n",
    "    print(f\"(At random_state {i},the accuracy is {test_acc})\")\n",
    "          \n",
    "    if test_acc>max_acc:\n",
    "          max_acc=test_acc\n",
    "          max_rand=i\n",
    "          print('Max accuracy',max_acc,'Max_Random_state',i)\n",
    "          print('\\n')   "
   ]
  },
  {
   "cell_type": "markdown",
   "id": "3e82b215",
   "metadata": {},
   "source": [
    "At random state 5 model give accuracy 78.61%"
   ]
  },
  {
   "cell_type": "code",
   "execution_count": 105,
   "id": "af5e95e8",
   "metadata": {},
   "outputs": [
    {
     "name": "stdout",
     "output_type": "stream",
     "text": [
      "Mean_Absolute_Error= 0.13681424657534247\n",
      "Mean_Squared_Error= 0.0344086202739726\n",
      "Root_Mean_Absolute_Error= 0.18549560715545962\n",
      "R2_Score= 78.61305682802163\n",
      "Model_With_Dataset=85.0804211672508\n"
     ]
    }
   ],
   "source": [
    "x_train,x_test,y_train,y_test=train_test_split(x,y,test_size=0.20,random_state=5)\n",
    "KN.fit(x_train,y_train)\n",
    "pred=KN.predict(x_test)\n",
    "print(f\"Mean_Absolute_Error= {mean_absolute_error(y_test,pred)}\")\n",
    "print(f\"Mean_Squared_Error= {mean_squared_error(y_test,pred)}\")\n",
    "print(f\"Root_Mean_Absolute_Error= {np.sqrt(mean_squared_error(y_test,pred))}\")\n",
    "print(f\"R2_Score= {r2_score(y_test,pred)*100}\")\n",
    "print(f\"Model_With_Dataset={KN.score(x_train,y_train)*100}\")"
   ]
  },
  {
   "cell_type": "markdown",
   "id": "592b8461",
   "metadata": {},
   "source": [
    "In thekneighbors regression, model accuracy has come to 78.61%  is good  and the error percentage is \n",
    "very less compare to prevoius models.\n",
    "we try another method for getting a better result"
   ]
  },
  {
   "cell_type": "markdown",
   "id": "ecd263a3",
   "metadata": {},
   "source": [
    "# Model-ADA BOOST REGRESSOR"
   ]
  },
  {
   "cell_type": "code",
   "execution_count": 106,
   "id": "256aa678",
   "metadata": {
    "scrolled": false
   },
   "outputs": [
    {
     "name": "stdout",
     "output_type": "stream",
     "text": [
      "(At random_state 0,the accuracy is 55.48630256545613)\n",
      "Max accuracy 55.48630256545613 Max_Random_state 0\n",
      "\n",
      "\n",
      "(At random_state 1,the accuracy is 55.28803561864686)\n",
      "(At random_state 2,the accuracy is 54.9238619065989)\n",
      "(At random_state 3,the accuracy is 53.69605748393327)\n",
      "(At random_state 4,the accuracy is 52.9037251536716)\n",
      "(At random_state 5,the accuracy is 54.753730159751136)\n",
      "(At random_state 6,the accuracy is 56.63917580378814)\n",
      "Max accuracy 56.63917580378814 Max_Random_state 6\n",
      "\n",
      "\n",
      "(At random_state 7,the accuracy is 55.50381812398676)\n",
      "(At random_state 8,the accuracy is 52.87794185305725)\n",
      "(At random_state 9,the accuracy is 54.7052963824352)\n",
      "(At random_state 10,the accuracy is 54.36949744755493)\n",
      "(At random_state 11,the accuracy is 54.60829392658477)\n",
      "(At random_state 12,the accuracy is 55.62041405495768)\n",
      "(At random_state 13,the accuracy is 52.92501413372474)\n",
      "(At random_state 14,the accuracy is 54.4206300405714)\n",
      "(At random_state 15,the accuracy is 52.69209158887212)\n",
      "(At random_state 16,the accuracy is 53.10053290474488)\n",
      "(At random_state 17,the accuracy is 54.053022122795205)\n",
      "(At random_state 18,the accuracy is 53.44457617626335)\n",
      "(At random_state 19,the accuracy is 50.16425298517989)\n",
      "(At random_state 20,the accuracy is 56.486870749567316)\n",
      "(At random_state 21,the accuracy is 54.929782420238624)\n",
      "(At random_state 22,the accuracy is 52.92929441523639)\n",
      "(At random_state 23,the accuracy is 53.702673952776436)\n",
      "(At random_state 24,the accuracy is 53.96410739501813)\n",
      "(At random_state 25,the accuracy is 54.66115435406987)\n",
      "(At random_state 26,the accuracy is 53.82947553942632)\n",
      "(At random_state 27,the accuracy is 56.01199532857184)\n",
      "(At random_state 28,the accuracy is 56.40772866016345)\n",
      "(At random_state 29,the accuracy is 53.540267621825734)\n",
      "(At random_state 30,the accuracy is 53.70459113890404)\n",
      "(At random_state 31,the accuracy is 51.99839788344784)\n",
      "(At random_state 32,the accuracy is 50.72923593350702)\n",
      "(At random_state 33,the accuracy is 54.166864193783645)\n",
      "(At random_state 34,the accuracy is 53.53143728958128)\n",
      "(At random_state 35,the accuracy is 54.08314161645214)\n",
      "(At random_state 36,the accuracy is 54.87048154204432)\n",
      "(At random_state 37,the accuracy is 57.36962406524775)\n",
      "Max accuracy 57.36962406524775 Max_Random_state 37\n",
      "\n",
      "\n",
      "(At random_state 38,the accuracy is 55.18512853301689)\n",
      "(At random_state 39,the accuracy is 55.747179432398575)\n"
     ]
    }
   ],
   "source": [
    "max_acc=0\n",
    "max_rand=0\n",
    "\n",
    "for i in range(0,40):\n",
    "    x_train,x_test,y_train,y_test=train_test_split(x,y,test_size=0.20,random_state=i)\n",
    "    AD.fit(x_train,y_train)\n",
    "    pred=AD.predict(x_test)\n",
    "    test_acc=r2_score(y_test,pred)*100\n",
    "    print(f\"(At random_state {i},the accuracy is {test_acc})\")\n",
    "          \n",
    "    if test_acc>max_acc:\n",
    "          max_acc=test_acc\n",
    "          max_rand=i\n",
    "          print('Max accuracy',max_acc,'Max_Random_state',i)\n",
    "          print('\\n')   "
   ]
  },
  {
   "cell_type": "markdown",
   "id": "14208cb8",
   "metadata": {},
   "source": [
    "At random state 37 model give accuracy 57.36%"
   ]
  },
  {
   "cell_type": "code",
   "execution_count": 107,
   "id": "75f1ca7a",
   "metadata": {},
   "outputs": [
    {
     "name": "stdout",
     "output_type": "stream",
     "text": [
      "Mean_Absolute_Error= 0.21219733139293143\n",
      "Mean_Squared_Error= 0.0707039903374138\n",
      "Root_Mean_Absolute_Error= 0.26590221950448967\n",
      "R2_Score= 57.803943315927576\n",
      "Model_With_Dataset=55.70045161779669\n"
     ]
    }
   ],
   "source": [
    "x_train,x_test,y_train,y_test=train_test_split(x,y,test_size=0.20,random_state=37)\n",
    "AD.fit(x_train,y_train)\n",
    "pred=AD.predict(x_test)\n",
    "print(f\"Mean_Absolute_Error= {mean_absolute_error(y_test,pred)}\")\n",
    "print(f\"Mean_Squared_Error= {mean_squared_error(y_test,pred)}\")\n",
    "print(f\"Root_Mean_Absolute_Error= {np.sqrt(mean_squared_error(y_test,pred))}\")\n",
    "print(f\"R2_Score= {r2_score(y_test,pred)*100}\")\n",
    "print(f\"Model_With_Dataset={AD.score(x_train,y_train)*100}\")"
   ]
  },
  {
   "cell_type": "markdown",
   "id": "7e228bdc",
   "metadata": {},
   "source": [
    "In the ada boost regression, model accuracy has come to 57.80%  is less  and the error percentage is \n",
    "high compare to prevoius models.\n",
    "So,we try another method for getting a better result"
   ]
  },
  {
   "cell_type": "markdown",
   "id": "034f3d59",
   "metadata": {},
   "source": [
    "# Model=GRADIENT BOOSTING REGRESSOR"
   ]
  },
  {
   "cell_type": "code",
   "execution_count": 108,
   "id": "e62426b3",
   "metadata": {
    "scrolled": false
   },
   "outputs": [
    {
     "name": "stdout",
     "output_type": "stream",
     "text": [
      "(At random_state 0,the accuracy is 70.30538195771896)\n",
      "Max accuracy 70.30538195771896 Max_Random_state 0\n",
      "\n",
      "\n",
      "(At random_state 1,the accuracy is 70.01044274307847)\n",
      "(At random_state 2,the accuracy is 70.3250287006795)\n",
      "Max accuracy 70.3250287006795 Max_Random_state 2\n",
      "\n",
      "\n",
      "(At random_state 3,the accuracy is 70.40585541050652)\n",
      "Max accuracy 70.40585541050652 Max_Random_state 3\n",
      "\n",
      "\n",
      "(At random_state 4,the accuracy is 69.07495198213202)\n",
      "(At random_state 5,the accuracy is 70.33920370987931)\n",
      "(At random_state 6,the accuracy is 70.48717375137797)\n",
      "Max accuracy 70.48717375137797 Max_Random_state 6\n",
      "\n",
      "\n",
      "(At random_state 7,the accuracy is 70.55459060898892)\n",
      "Max accuracy 70.55459060898892 Max_Random_state 7\n",
      "\n",
      "\n",
      "(At random_state 8,the accuracy is 70.80334690251415)\n",
      "Max accuracy 70.80334690251415 Max_Random_state 8\n",
      "\n",
      "\n",
      "(At random_state 9,the accuracy is 69.33997331795965)\n",
      "(At random_state 10,the accuracy is 70.1486857276905)\n",
      "(At random_state 11,the accuracy is 70.08845413455114)\n",
      "(At random_state 12,the accuracy is 70.14321994844896)\n",
      "(At random_state 13,the accuracy is 69.711223307081)\n",
      "(At random_state 14,the accuracy is 70.47598554464021)\n",
      "(At random_state 15,the accuracy is 69.35863150427647)\n",
      "(At random_state 16,the accuracy is 68.9038474000148)\n",
      "(At random_state 17,the accuracy is 70.66436770264599)\n",
      "(At random_state 18,the accuracy is 70.36383999632586)\n",
      "(At random_state 19,the accuracy is 68.33289065786575)\n",
      "(At random_state 20,the accuracy is 71.26258467907755)\n",
      "Max accuracy 71.26258467907755 Max_Random_state 20\n",
      "\n",
      "\n",
      "(At random_state 21,the accuracy is 70.33327460171218)\n",
      "(At random_state 22,the accuracy is 70.10993133707376)\n",
      "(At random_state 23,the accuracy is 71.06049518216498)\n",
      "(At random_state 24,the accuracy is 70.34816487076843)\n",
      "(At random_state 25,the accuracy is 69.34395191677166)\n",
      "(At random_state 26,the accuracy is 70.34194714815318)\n",
      "(At random_state 27,the accuracy is 71.31845957394798)\n",
      "Max accuracy 71.31845957394798 Max_Random_state 27\n",
      "\n",
      "\n",
      "(At random_state 28,the accuracy is 70.71205336664188)\n",
      "(At random_state 29,the accuracy is 71.33347068234163)\n",
      "Max accuracy 71.33347068234163 Max_Random_state 29\n",
      "\n",
      "\n",
      "(At random_state 30,the accuracy is 70.38635656290005)\n",
      "(At random_state 31,the accuracy is 70.09451299489038)\n",
      "(At random_state 32,the accuracy is 68.27627759592671)\n",
      "(At random_state 33,the accuracy is 69.89449591547694)\n",
      "(At random_state 34,the accuracy is 69.46910456965236)\n",
      "(At random_state 35,the accuracy is 69.35331168398446)\n",
      "(At random_state 36,the accuracy is 70.03617735505293)\n",
      "(At random_state 37,the accuracy is 70.42692027015227)\n",
      "(At random_state 38,the accuracy is 70.45761129203044)\n",
      "(At random_state 39,the accuracy is 69.9906619464269)\n"
     ]
    }
   ],
   "source": [
    "max_acc=0\n",
    "max_rand=0\n",
    "\n",
    "for i in range(0,40):\n",
    "    x_train,x_test,y_train,y_test=train_test_split(x,y,test_size=0.20,random_state=i)\n",
    "    GB.fit(x_train,y_train)\n",
    "    pred=GB.predict(x_test)\n",
    "    test_acc=r2_score(y_test,pred)*100\n",
    "    print(f\"(At random_state {i},the accuracy is {test_acc})\")\n",
    "          \n",
    "    if test_acc>max_acc:\n",
    "          max_acc=test_acc\n",
    "          max_rand=i\n",
    "          print('Max accuracy',max_acc,'Max_Random_state',i)\n",
    "          print('\\n')   "
   ]
  },
  {
   "cell_type": "markdown",
   "id": "c3c1b757",
   "metadata": {},
   "source": [
    "At random state 29 model give accuracy 71.33%"
   ]
  },
  {
   "cell_type": "code",
   "execution_count": 109,
   "id": "405b6a66",
   "metadata": {},
   "outputs": [
    {
     "name": "stdout",
     "output_type": "stream",
     "text": [
      "Mean_Absolute_Error= 0.16471625287038671\n",
      "Mean_Squared_Error= 0.04573151138472741\n",
      "Root_Mean_Absolute_Error= 0.2138492725840502\n",
      "R2_Score= 71.33347068234164\n",
      "Model_With_Dataset=70.76280315317584\n"
     ]
    }
   ],
   "source": [
    "x_train,x_test,y_train,y_test=train_test_split(x,y,test_size=0.20,random_state=29)\n",
    "GB.fit(x_train,y_train)\n",
    "pred=GB.predict(x_test)\n",
    "print(f\"Mean_Absolute_Error= {mean_absolute_error(y_test,pred)}\")\n",
    "print(f\"Mean_Squared_Error= {mean_squared_error(y_test,pred)}\")\n",
    "print(f\"Root_Mean_Absolute_Error= {np.sqrt(mean_squared_error(y_test,pred))}\")\n",
    "print(f\"R2_Score= {r2_score(y_test,pred)*100}\")\n",
    "print(f\"Model_With_Dataset={GB.score(x_train,y_train)*100}\")"
   ]
  },
  {
   "cell_type": "markdown",
   "id": "b440ae7a",
   "metadata": {},
   "source": [
    "In the gradient boosting regressor, model accuracy has come to 71.33%  is good  and the error percentage is \n",
    "very less compare to prevoius models.\n",
    "we try another method for getting a better result"
   ]
  },
  {
   "cell_type": "markdown",
   "id": "34782a6f",
   "metadata": {},
   "source": [
    "# Model=RANDOM FOREST REGRESSOR"
   ]
  },
  {
   "cell_type": "code",
   "execution_count": 110,
   "id": "d5cf2644",
   "metadata": {
    "scrolled": false
   },
   "outputs": [
    {
     "name": "stdout",
     "output_type": "stream",
     "text": [
      "(At random_state 0,the accuracy is 84.8348257625902)\n",
      "Max accuracy 84.8348257625902 Max_Random_state 0\n",
      "\n",
      "\n",
      "(At random_state 1,the accuracy is 85.88478311068661)\n",
      "Max accuracy 85.88478311068661 Max_Random_state 1\n",
      "\n",
      "\n",
      "(At random_state 2,the accuracy is 84.67101464983656)\n",
      "(At random_state 3,the accuracy is 85.53907792044988)\n",
      "(At random_state 4,the accuracy is 84.51367882932507)\n",
      "(At random_state 5,the accuracy is 85.35588054316507)\n",
      "(At random_state 6,the accuracy is 86.20868333522894)\n",
      "Max accuracy 86.20868333522894 Max_Random_state 6\n",
      "\n",
      "\n",
      "(At random_state 7,the accuracy is 85.28138940338236)\n",
      "(At random_state 8,the accuracy is 85.42735519173586)\n",
      "(At random_state 9,the accuracy is 84.60330784601152)\n",
      "(At random_state 10,the accuracy is 84.7746974164716)\n",
      "(At random_state 11,the accuracy is 85.43828659454749)\n",
      "(At random_state 12,the accuracy is 85.09397806454996)\n",
      "(At random_state 13,the accuracy is 85.2126681797851)\n",
      "(At random_state 14,the accuracy is 85.87781789543082)\n",
      "(At random_state 15,the accuracy is 85.78587171122578)\n",
      "(At random_state 16,the accuracy is 84.75181526120964)\n",
      "(At random_state 17,the accuracy is 85.20610833950671)\n",
      "(At random_state 18,the accuracy is 85.53148980006237)\n",
      "(At random_state 19,the accuracy is 84.17321186305044)\n",
      "(At random_state 20,the accuracy is 85.77950589604788)\n",
      "(At random_state 21,the accuracy is 86.06166423571531)\n",
      "(At random_state 22,the accuracy is 85.47998109369695)\n",
      "(At random_state 23,the accuracy is 86.11339749770815)\n",
      "(At random_state 24,the accuracy is 85.88629683897449)\n",
      "(At random_state 25,the accuracy is 84.7041197477916)\n",
      "(At random_state 26,the accuracy is 86.16833498550987)\n",
      "(At random_state 27,the accuracy is 84.76989496672147)\n",
      "(At random_state 28,the accuracy is 85.73596763417423)\n",
      "(At random_state 29,the accuracy is 85.43330067126035)\n",
      "(At random_state 30,the accuracy is 85.40522393818188)\n",
      "(At random_state 31,the accuracy is 86.03481320981442)\n",
      "(At random_state 32,the accuracy is 83.56516235191853)\n",
      "(At random_state 33,the accuracy is 85.24713921121979)\n",
      "(At random_state 34,the accuracy is 85.16908340569078)\n",
      "(At random_state 35,the accuracy is 84.8899684774334)\n",
      "(At random_state 36,the accuracy is 85.26200445910402)\n",
      "(At random_state 37,the accuracy is 85.24001765748403)\n",
      "(At random_state 38,the accuracy is 84.99713439554041)\n",
      "(At random_state 39,the accuracy is 84.23279122955843)\n"
     ]
    }
   ],
   "source": [
    "max_acc=0\n",
    "max_rand=0\n",
    "\n",
    "for i in range(0,40):\n",
    "    x_train,x_test,y_train,y_test=train_test_split(x,y,test_size=0.20,random_state=i)\n",
    "    RF.fit(x_train,y_train)\n",
    "    pred=RF.predict(x_test)\n",
    "    test_acc=r2_score(y_test,pred)*100\n",
    "    print(f\"(At random_state {i},the accuracy is {test_acc})\")\n",
    "          \n",
    "    if test_acc>max_acc:\n",
    "          max_acc=test_acc\n",
    "          max_rand=i\n",
    "          print('Max accuracy',max_acc,'Max_Random_state',i)\n",
    "          print('\\n')   "
   ]
  },
  {
   "cell_type": "markdown",
   "id": "eb243146",
   "metadata": {},
   "source": [
    "At random state 6 model give accuracy give 86.205%"
   ]
  },
  {
   "cell_type": "code",
   "execution_count": 111,
   "id": "1d45b02f",
   "metadata": {},
   "outputs": [
    {
     "name": "stdout",
     "output_type": "stream",
     "text": [
      "Mean_Absolute_Error= 0.10774596448961773\n",
      "Mean_Squared_Error= 0.022246039319445153\n",
      "Root_Mean_Absolute_Error= 0.14915106207950768\n",
      "R2_Score= 86.21637582430249\n",
      "Model_With_Dataset=97.52271348986253\n"
     ]
    }
   ],
   "source": [
    "x_train,x_test,y_train,y_test=train_test_split(x,y,test_size=0.20,random_state=6)\n",
    "RF.fit(x_train,y_train)\n",
    "pred=RF.predict(x_test)\n",
    "print(f\"Mean_Absolute_Error= {mean_absolute_error(y_test,pred)}\")\n",
    "print(f\"Mean_Squared_Error= {mean_squared_error(y_test,pred)}\")\n",
    "print(f\"Root_Mean_Absolute_Error= {np.sqrt(mean_squared_error(y_test,pred))}\")\n",
    "print(f\"R2_Score= {r2_score(y_test,pred)*100}\")\n",
    "print(f\"Model_With_Dataset={RF.score(x_train,y_train)*100}\")"
   ]
  },
  {
   "cell_type": "markdown",
   "id": "37456aa6",
   "metadata": {},
   "source": [
    "In the random forest regressor, model accuracy has come to 86.21  is good  and the error percentage is \n",
    "very less compare to prevoius models."
   ]
  },
  {
   "cell_type": "markdown",
   "id": "5e058c13",
   "metadata": {},
   "source": [
    "#### we try another method for getting a better result"
   ]
  },
  {
   "cell_type": "markdown",
   "id": "f84113b7",
   "metadata": {},
   "source": [
    "# Check models with another model selection method for better result"
   ]
  },
  {
   "cell_type": "markdown",
   "id": "cd329476",
   "metadata": {},
   "source": [
    "# CV_METHOD-LINEAR METHOD"
   ]
  },
  {
   "cell_type": "code",
   "execution_count": 112,
   "id": "5dcb9857",
   "metadata": {},
   "outputs": [
    {
     "name": "stdout",
     "output_type": "stream",
     "text": [
      "At cross fold  model 2 the mean_score is:0.4599566105160479 and the test accuracy is 0.4646561263181981\n",
      "\n",
      "\n",
      "At cross fold  model 3 the mean_score is:0.45922163116092535 and the test accuracy is 0.4646561263181981\n",
      "\n",
      "\n",
      "At cross fold  model 4 the mean_score is:0.4592982608065175 and the test accuracy is 0.4646561263181981\n",
      "\n",
      "\n",
      "At cross fold  model 5 the mean_score is:0.4597222743024464 and the test accuracy is 0.4646561263181981\n",
      "\n",
      "\n",
      "At cross fold  model 6 the mean_score is:0.4593902088737804 and the test accuracy is 0.4646561263181981\n",
      "\n",
      "\n",
      "At cross fold  model 7 the mean_score is:0.4594216925438393 and the test accuracy is 0.4646561263181981\n",
      "\n",
      "\n",
      "At cross fold  model 8 the mean_score is:0.45955881053549885 and the test accuracy is 0.4646561263181981\n",
      "\n",
      "\n",
      "At cross fold  model 9 the mean_score is:0.4597593870682585 and the test accuracy is 0.4646561263181981\n",
      "\n",
      "\n"
     ]
    }
   ],
   "source": [
    "test=LI.predict(x_test)\n",
    "pred=r2_score(y_test,test)\n",
    "for i in range(2,10):\n",
    "    cv1 = KFold(n_splits=i, shuffle=True)\n",
    "    cv_score=cross_val_score(LI,x,y,cv=cv1)\n",
    "    mean_score=cv_score.mean()\n",
    "    print(f'At cross fold  model {i} the mean_score is:{mean_score} and the test accuracy is {pred}')\n",
    "    print('\\n')   "
   ]
  },
  {
   "cell_type": "markdown",
   "id": "e5d33f06",
   "metadata": {},
   "source": [
    "At cv=2 model give mean score is 45.99%"
   ]
  },
  {
   "cell_type": "markdown",
   "id": "7348dd00",
   "metadata": {},
   "source": [
    "# CV_SCORE=RIDGE METHOD"
   ]
  },
  {
   "cell_type": "code",
   "execution_count": 113,
   "id": "d337980e",
   "metadata": {},
   "outputs": [
    {
     "name": "stdout",
     "output_type": "stream",
     "text": [
      "At cross fold  model 2 the mean_score is:0.45948285639559217 and the test accuracy is 0.4646574698007121\n",
      "\n",
      "\n",
      "At cross fold  model 3 the mean_score is:0.4587821657194568 and the test accuracy is 0.4646574698007121\n",
      "\n",
      "\n",
      "At cross fold  model 4 the mean_score is:0.4599368810288159 and the test accuracy is 0.4646574698007121\n",
      "\n",
      "\n",
      "At cross fold  model 5 the mean_score is:0.45954904504742133 and the test accuracy is 0.4646574698007121\n",
      "\n",
      "\n",
      "At cross fold  model 6 the mean_score is:0.45971163441401536 and the test accuracy is 0.4646574698007121\n",
      "\n",
      "\n",
      "At cross fold  model 7 the mean_score is:0.4596922862946159 and the test accuracy is 0.4646574698007121\n",
      "\n",
      "\n",
      "At cross fold  model 8 the mean_score is:0.4593089763827283 and the test accuracy is 0.4646574698007121\n",
      "\n",
      "\n",
      "At cross fold  model 9 the mean_score is:0.45965620167657956 and the test accuracy is 0.4646574698007121\n",
      "\n",
      "\n"
     ]
    }
   ],
   "source": [
    "test=RI.predict(x_test)\n",
    "pred=r2_score(y_test,test)\n",
    "for i in range(2,10):\n",
    "    cv1 = KFold(n_splits=i, shuffle=True)\n",
    "    cv_score=cross_val_score(RI,x,y,cv=cv1)\n",
    "    mean_score=cv_score.mean()\n",
    "    print(f'At cross fold  model {i} the mean_score is:{mean_score} and the test accuracy is {pred}')\n",
    "    print('\\n')   "
   ]
  },
  {
   "cell_type": "markdown",
   "id": "329f6471",
   "metadata": {},
   "source": [
    "At cv=4 model give mean score is 45.99%"
   ]
  },
  {
   "cell_type": "markdown",
   "id": "d6bc400d",
   "metadata": {},
   "source": [
    "# KFOLD_METHOD-->DECISION TREE REGRESSSOR"
   ]
  },
  {
   "cell_type": "code",
   "execution_count": 114,
   "id": "a797eabf",
   "metadata": {},
   "outputs": [
    {
     "name": "stdout",
     "output_type": "stream",
     "text": [
      "At cross fold  model 2 the mean_score is:0.6611495055926486 and the test accuracy is 0.9428059382581111\n",
      "\n",
      "\n",
      "At cross fold  model 3 the mean_score is:0.6778113568776817 and the test accuracy is 0.9428059382581111\n",
      "\n",
      "\n",
      "At cross fold  model 4 the mean_score is:0.6883739094236624 and the test accuracy is 0.9428059382581111\n",
      "\n",
      "\n",
      "At cross fold  model 5 the mean_score is:0.6956284228210258 and the test accuracy is 0.9428059382581111\n",
      "\n",
      "\n",
      "At cross fold  model 6 the mean_score is:0.6964260773720773 and the test accuracy is 0.9428059382581111\n",
      "\n",
      "\n",
      "At cross fold  model 7 the mean_score is:0.7059641098716589 and the test accuracy is 0.9428059382581111\n",
      "\n",
      "\n",
      "At cross fold  model 8 the mean_score is:0.6988431425278867 and the test accuracy is 0.9428059382581111\n",
      "\n",
      "\n",
      "At cross fold  model 9 the mean_score is:0.70310054456808 and the test accuracy is 0.9428059382581111\n",
      "\n",
      "\n"
     ]
    }
   ],
   "source": [
    "test=DT.predict(x_test)\n",
    "pred=r2_score(y_test,test)\n",
    "for i in range(2,10):\n",
    "    cv1 = KFold(n_splits=i, shuffle=True)\n",
    "    cv_score=cross_val_score(DT,x,y,cv=cv1)\n",
    "    mean_score=cv_score.mean()\n",
    "    print(f'At cross fold  model {i} the mean_score is:{mean_score} and the test accuracy is {pred}')\n",
    "    print('\\n')   "
   ]
  },
  {
   "cell_type": "markdown",
   "id": "152bc003",
   "metadata": {},
   "source": [
    "At cv=7 model give mean score is 70.69%"
   ]
  },
  {
   "cell_type": "markdown",
   "id": "1ba56d4b",
   "metadata": {},
   "source": [
    "# KFOLD_METHOD-->SVR"
   ]
  },
  {
   "cell_type": "code",
   "execution_count": 115,
   "id": "61cffac8",
   "metadata": {},
   "outputs": [
    {
     "name": "stdout",
     "output_type": "stream",
     "text": [
      "At cross fold  model 2 the mean_score is:0.7281568970530188 and the test accuracy is 0.7579443336090185\n",
      "\n",
      "\n",
      "At cross fold  model 3 the mean_score is:0.7378652126948868 and the test accuracy is 0.7579443336090185\n",
      "\n",
      "\n",
      "At cross fold  model 4 the mean_score is:0.7400359539345853 and the test accuracy is 0.7579443336090185\n",
      "\n",
      "\n",
      "At cross fold  model 5 the mean_score is:0.7424162518783721 and the test accuracy is 0.7579443336090185\n",
      "\n",
      "\n",
      "At cross fold  model 6 the mean_score is:0.7439270267717641 and the test accuracy is 0.7579443336090185\n",
      "\n",
      "\n",
      "At cross fold  model 7 the mean_score is:0.7447354978098216 and the test accuracy is 0.7579443336090185\n",
      "\n",
      "\n",
      "At cross fold  model 8 the mean_score is:0.7447955223366522 and the test accuracy is 0.7579443336090185\n",
      "\n",
      "\n",
      "At cross fold  model 9 the mean_score is:0.7454437847775108 and the test accuracy is 0.7579443336090185\n",
      "\n",
      "\n"
     ]
    }
   ],
   "source": [
    "test=SV.predict(x_test)\n",
    "pred=r2_score(y_test,test)\n",
    "for i in range(2,10):\n",
    "    cv1 = KFold(n_splits=i, shuffle=True)\n",
    "    cv_score=cross_val_score(SV,x,y,cv=cv1)\n",
    "    mean_score=cv_score.mean()\n",
    "    print(f'At cross fold  model {i} the mean_score is:{mean_score} and the test accuracy is {pred}')\n",
    "    print('\\n')   "
   ]
  },
  {
   "cell_type": "markdown",
   "id": "24588f12",
   "metadata": {},
   "source": [
    "At cv=9 model give mean score is 74.54%"
   ]
  },
  {
   "cell_type": "markdown",
   "id": "3b4acef7",
   "metadata": {},
   "source": [
    "# KFOLD_METHOD-->KNEIGHBORS REGRESSOR"
   ]
  },
  {
   "cell_type": "code",
   "execution_count": 116,
   "id": "a2927bbb",
   "metadata": {},
   "outputs": [
    {
     "name": "stdout",
     "output_type": "stream",
     "text": [
      "At cross fold  model 2 the mean_score is:0.7399462657012366 and the test accuracy is 0.8443033012990409\n",
      "\n",
      "\n",
      "At cross fold  model 3 the mean_score is:0.7662414741559646 and the test accuracy is 0.8443033012990409\n",
      "\n",
      "\n",
      "At cross fold  model 4 the mean_score is:0.7683821854100175 and the test accuracy is 0.8443033012990409\n",
      "\n",
      "\n",
      "At cross fold  model 5 the mean_score is:0.7749722340349303 and the test accuracy is 0.8443033012990409\n",
      "\n",
      "\n",
      "At cross fold  model 6 the mean_score is:0.7765863647754542 and the test accuracy is 0.8443033012990409\n",
      "\n",
      "\n",
      "At cross fold  model 7 the mean_score is:0.7768158760888253 and the test accuracy is 0.8443033012990409\n",
      "\n",
      "\n",
      "At cross fold  model 8 the mean_score is:0.7789850186379891 and the test accuracy is 0.8443033012990409\n",
      "\n",
      "\n",
      "At cross fold  model 9 the mean_score is:0.7787124383605175 and the test accuracy is 0.8443033012990409\n",
      "\n",
      "\n"
     ]
    }
   ],
   "source": [
    "test=KN.predict(x_test)\n",
    "pred=r2_score(y_test,test)\n",
    "for i in range(2,10):\n",
    "    cv1 = KFold(n_splits=i, shuffle=True)\n",
    "    cv_score=cross_val_score(KN,x,y,cv=cv1)\n",
    "    mean_score=cv_score.mean()\n",
    "    print(f'At cross fold  model {i} the mean_score is:{mean_score} and the test accuracy is {pred}')\n",
    "    print('\\n')   "
   ]
  },
  {
   "cell_type": "markdown",
   "id": "130b474a",
   "metadata": {},
   "source": [
    "At cv=8 model give mean score is 77.89"
   ]
  },
  {
   "cell_type": "markdown",
   "id": "389c9c6b",
   "metadata": {},
   "source": [
    "# KFOLD_METHOD-->ADA BOOST REGRESSOSR"
   ]
  },
  {
   "cell_type": "code",
   "execution_count": 117,
   "id": "d70ce1c8",
   "metadata": {},
   "outputs": [
    {
     "name": "stdout",
     "output_type": "stream",
     "text": [
      "At cross fold  model 2 the mean_score is:0.5385541347747037 and the test accuracy is 0.5710940047276075\n",
      "\n",
      "\n",
      "At cross fold  model 3 the mean_score is:0.5366724916926059 and the test accuracy is 0.5710940047276075\n",
      "\n",
      "\n",
      "At cross fold  model 4 the mean_score is:0.5403409262001033 and the test accuracy is 0.5710940047276075\n",
      "\n",
      "\n",
      "At cross fold  model 5 the mean_score is:0.5421978113856061 and the test accuracy is 0.5710940047276075\n",
      "\n",
      "\n",
      "At cross fold  model 6 the mean_score is:0.543915624812927 and the test accuracy is 0.5710940047276075\n",
      "\n",
      "\n",
      "At cross fold  model 7 the mean_score is:0.5416878611893512 and the test accuracy is 0.5710940047276075\n",
      "\n",
      "\n",
      "At cross fold  model 8 the mean_score is:0.5485535057021136 and the test accuracy is 0.5710940047276075\n",
      "\n",
      "\n",
      "At cross fold  model 9 the mean_score is:0.5456812240223408 and the test accuracy is 0.5710940047276075\n",
      "\n",
      "\n"
     ]
    }
   ],
   "source": [
    "test=AD.predict(x_test)\n",
    "pred=r2_score(y_test,test)\n",
    "for i in range(2,10):\n",
    "    cv1 = KFold(n_splits=i, shuffle=True)\n",
    "    cv_score=cross_val_score(AD,x,y,cv=cv1)\n",
    "    mean_score=cv_score.mean()\n",
    "    print(f'At cross fold  model {i} the mean_score is:{mean_score} and the test accuracy is {pred}')\n",
    "    print('\\n')   "
   ]
  },
  {
   "cell_type": "markdown",
   "id": "44d06e31",
   "metadata": {},
   "source": [
    "At cv=8 model give mean score is 54.85%"
   ]
  },
  {
   "cell_type": "markdown",
   "id": "d237e95c",
   "metadata": {},
   "source": [
    "# KFOLD_METHOD-->GRADIENT BOOSTING REGRESSOR"
   ]
  },
  {
   "cell_type": "code",
   "execution_count": 118,
   "id": "27a1e021",
   "metadata": {},
   "outputs": [
    {
     "name": "stdout",
     "output_type": "stream",
     "text": [
      "At cross fold  model 2 the mean_score is:0.6980462958639289 and the test accuracy is 0.71307536966005\n",
      "\n",
      "\n",
      "At cross fold  model 3 the mean_score is:0.6992087840893445 and the test accuracy is 0.71307536966005\n",
      "\n",
      "\n",
      "At cross fold  model 4 the mean_score is:0.7005863161464834 and the test accuracy is 0.71307536966005\n",
      "\n",
      "\n",
      "At cross fold  model 5 the mean_score is:0.6992850886485715 and the test accuracy is 0.71307536966005\n",
      "\n",
      "\n",
      "At cross fold  model 6 the mean_score is:0.7005744049358253 and the test accuracy is 0.71307536966005\n",
      "\n",
      "\n",
      "At cross fold  model 7 the mean_score is:0.7019057425074918 and the test accuracy is 0.71307536966005\n",
      "\n",
      "\n",
      "At cross fold  model 8 the mean_score is:0.7002112186257821 and the test accuracy is 0.71307536966005\n",
      "\n",
      "\n",
      "At cross fold  model 9 the mean_score is:0.7007768791696852 and the test accuracy is 0.71307536966005\n",
      "\n",
      "\n"
     ]
    }
   ],
   "source": [
    "test=GB.predict(x_test)\n",
    "pred=r2_score(y_test,test)\n",
    "for i in range(2,10):\n",
    "    cv1 = KFold(n_splits=i, shuffle=True)\n",
    "    cv_score=cross_val_score(GB,x,y,cv=cv1)\n",
    "    mean_score=cv_score.mean()\n",
    "    print(f'At cross fold  model {i} the mean_score is:{mean_score} and the test accuracy is {pred}')\n",
    "    print('\\n')   "
   ]
  },
  {
   "cell_type": "markdown",
   "id": "1be01541",
   "metadata": {},
   "source": [
    "At cv=7 model give mean score is 73.54%"
   ]
  },
  {
   "cell_type": "markdown",
   "id": "3dc8e1aa",
   "metadata": {},
   "source": [
    "# KFOLD_METHOD-->RANDOM FOREST REGRESSOR"
   ]
  },
  {
   "cell_type": "code",
   "execution_count": 118,
   "id": "008d483d",
   "metadata": {},
   "outputs": [
    {
     "name": "stdout",
     "output_type": "stream",
     "text": [
      "At cross fold  model 2 the mean_score is:0.8546932954509947 and the test accuracy is 0.8888032889557675\n",
      "\n",
      "\n",
      "At cross fold  model 3 the mean_score is:0.8705568610779283 and the test accuracy is 0.8888032889557675\n",
      "\n",
      "\n",
      "At cross fold  model 4 the mean_score is:0.8774746357715393 and the test accuracy is 0.8888032889557675\n",
      "\n",
      "\n",
      "At cross fold  model 5 the mean_score is:0.8823342024974663 and the test accuracy is 0.8888032889557675\n",
      "\n",
      "\n",
      "At cross fold  model 6 the mean_score is:0.8856705535731559 and the test accuracy is 0.8888032889557675\n",
      "\n",
      "\n",
      "At cross fold  model 7 the mean_score is:0.8832615657055408 and the test accuracy is 0.8888032889557675\n",
      "\n",
      "\n",
      "At cross fold  model 8 the mean_score is:0.8865267205241472 and the test accuracy is 0.8888032889557675\n",
      "\n",
      "\n",
      "At cross fold  model 9 the mean_score is:0.8865738429633034 and the test accuracy is 0.8888032889557675\n",
      "\n",
      "\n"
     ]
    }
   ],
   "source": [
    "test=RF.predict(x_test)\n",
    "pred=r2_score(y_test,test)\n",
    "for i in range(2,10):\n",
    "    cv1 = KFold(n_splits=i, shuffle=True)\n",
    "    cv_score=cross_val_score(RF,x,y,cv=cv1)\n",
    "    mean_score=cv_score.mean()\n",
    "    print(f'At cross fold  model {i} the mean_score is:{mean_score} and the test accuracy is {pred}')\n",
    "    print('\\n')   "
   ]
  },
  {
   "cell_type": "markdown",
   "id": "d00b2681",
   "metadata": {},
   "source": [
    "At CV=8 Model give mean score is 88.65%"
   ]
  },
  {
   "cell_type": "code",
   "execution_count": null,
   "id": "f7460250",
   "metadata": {},
   "outputs": [],
   "source": []
  },
  {
   "cell_type": "code",
   "execution_count": 119,
   "id": "5616c914",
   "metadata": {},
   "outputs": [],
   "source": [
    "dict1={'criterion':['squared_error','absolute_error','poisson'],'max_features':['sqrt','log2','None'],'n_estimators':[100,200,300,400,500],\n",
    "          'max_depth':[3,4,5,6,7]}"
   ]
  },
  {
   "cell_type": "code",
   "execution_count": 120,
   "id": "73c83902",
   "metadata": {},
   "outputs": [],
   "source": [
    "Gs=GridSearchCV(RF,dict1,cv=8)"
   ]
  },
  {
   "cell_type": "code",
   "execution_count": null,
   "id": "249d4452",
   "metadata": {},
   "outputs": [],
   "source": [
    "Gs.fit(x,y)"
   ]
  },
  {
   "cell_type": "code",
   "execution_count": null,
   "id": "80bfbf0c",
   "metadata": {},
   "outputs": [],
   "source": [
    "Gs.best_params_"
   ]
  },
  {
   "cell_type": "code",
   "execution_count": null,
   "id": "400a20c4",
   "metadata": {},
   "outputs": [],
   "source": [
    "Gs.best_score_"
   ]
  },
  {
   "cell_type": "code",
   "execution_count": null,
   "id": "cb874706",
   "metadata": {},
   "outputs": [],
   "source": [
    "Gs.best_estimator_"
   ]
  },
  {
   "cell_type": "code",
   "execution_count": null,
   "id": "0199372e",
   "metadata": {},
   "outputs": [],
   "source": []
  },
  {
   "cell_type": "code",
   "execution_count": null,
   "id": "427c5c37",
   "metadata": {},
   "outputs": [],
   "source": [
    "Rf=RandomForestClassifier(criterion='gini',max_features='log2',n_estimators=300,max_depth=7)\n",
    "Rf.fit(x_train,y_train)\n",
    "pred_test=Rf.predict(x_test)\n",
    "print(f\"Confusion Matrix : {confusion_matrix(y_test,pred_test)}\")\n",
    "print(f\"Classification Report : {classification_report(y_test,pred_test)}\")\n",
    "print(f\"Accuracy Score of Model  : {(accuracy_score(y_test,pred_test)*100)}\")\n",
    "print(f\"Dataset Score : {(Rf.score(x_train,y_train))*100}\")"
   ]
  },
  {
   "cell_type": "code",
   "execution_count": null,
   "id": "43866d93",
   "metadata": {},
   "outputs": [],
   "source": []
  }
 ],
 "metadata": {
  "kernelspec": {
   "display_name": "Python 3 (ipykernel)",
   "language": "python",
   "name": "python3"
  },
  "language_info": {
   "codemirror_mode": {
    "name": "ipython",
    "version": 3
   },
   "file_extension": ".py",
   "mimetype": "text/x-python",
   "name": "python",
   "nbconvert_exporter": "python",
   "pygments_lexer": "ipython3",
   "version": "3.9.7"
  }
 },
 "nbformat": 4,
 "nbformat_minor": 5
}
