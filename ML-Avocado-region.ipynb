{
 "cells": [
  {
   "cell_type": "code",
   "execution_count": 1,
   "id": "6b10955c",
   "metadata": {},
   "outputs": [],
   "source": [
    "# import basic laibaries\n",
    "import numpy as np\n",
    "import pandas as pd\n",
    "import matplotlib.pyplot as plt\n",
    "import seaborn as sns\n",
    "# Import warnings\n",
    "import warnings\n",
    "warnings.filterwarnings('ignore')"
   ]
  },
  {
   "cell_type": "code",
   "execution_count": 2,
   "id": "8b683ecb",
   "metadata": {},
   "outputs": [],
   "source": [
    "# classifier models\n",
    "from sklearn.linear_model import LogisticRegression\n",
    "from sklearn.linear_model import Lasso\n",
    "from sklearn.linear_model import Ridge\n",
    "# classifier models\n",
    "from sklearn.tree import DecisionTreeClassifier\n",
    "from sklearn.svm import SVC\n",
    "from sklearn.neighbors import KNeighborsClassifier\n",
    "from sklearn.naive_bayes import GaussianNB\n",
    "from sklearn.naive_bayes import MultinomialNB\n",
    "# ensemble models\n",
    "from sklearn.ensemble import AdaBoostClassifier\n",
    "from sklearn.ensemble import GradientBoostingClassifier\n",
    "from sklearn.ensemble import RandomForestClassifier"
   ]
  },
  {
   "cell_type": "code",
   "execution_count": 3,
   "id": "b57ec8a8",
   "metadata": {},
   "outputs": [],
   "source": [
    "# model selection methods\n",
    "from sklearn.model_selection import train_test_split\n",
    "from sklearn.model_selection import KFold\n",
    "from sklearn.model_selection import GridSearchCV\n",
    "from sklearn.model_selection import cross_val_score"
   ]
  },
  {
   "cell_type": "code",
   "execution_count": 4,
   "id": "0a6d0f33",
   "metadata": {},
   "outputs": [],
   "source": [
    "# import classification metrics\n",
    "from sklearn.metrics import classification_report,confusion_matrix,accuracy_score"
   ]
  },
  {
   "cell_type": "code",
   "execution_count": 5,
   "id": "59ab5f73",
   "metadata": {},
   "outputs": [
    {
     "data": {
      "text/html": [
       "<div>\n",
       "<style scoped>\n",
       "    .dataframe tbody tr th:only-of-type {\n",
       "        vertical-align: middle;\n",
       "    }\n",
       "\n",
       "    .dataframe tbody tr th {\n",
       "        vertical-align: top;\n",
       "    }\n",
       "\n",
       "    .dataframe thead th {\n",
       "        text-align: right;\n",
       "    }\n",
       "</style>\n",
       "<table border=\"1\" class=\"dataframe\">\n",
       "  <thead>\n",
       "    <tr style=\"text-align: right;\">\n",
       "      <th></th>\n",
       "      <th>Unnamed: 0</th>\n",
       "      <th>Date</th>\n",
       "      <th>AveragePrice</th>\n",
       "      <th>Total Volume</th>\n",
       "      <th>4046</th>\n",
       "      <th>4225</th>\n",
       "      <th>4770</th>\n",
       "      <th>Total Bags</th>\n",
       "      <th>Small Bags</th>\n",
       "      <th>Large Bags</th>\n",
       "      <th>XLarge Bags</th>\n",
       "      <th>type</th>\n",
       "      <th>year</th>\n",
       "      <th>region</th>\n",
       "    </tr>\n",
       "  </thead>\n",
       "  <tbody>\n",
       "    <tr>\n",
       "      <th>0</th>\n",
       "      <td>0</td>\n",
       "      <td>2015-12-27</td>\n",
       "      <td>1.33</td>\n",
       "      <td>64236.62</td>\n",
       "      <td>1036.74</td>\n",
       "      <td>54454.85</td>\n",
       "      <td>48.16</td>\n",
       "      <td>8696.87</td>\n",
       "      <td>8603.62</td>\n",
       "      <td>93.25</td>\n",
       "      <td>0.0</td>\n",
       "      <td>conventional</td>\n",
       "      <td>2015</td>\n",
       "      <td>Albany</td>\n",
       "    </tr>\n",
       "    <tr>\n",
       "      <th>1</th>\n",
       "      <td>1</td>\n",
       "      <td>2015-12-20</td>\n",
       "      <td>1.35</td>\n",
       "      <td>54876.98</td>\n",
       "      <td>674.28</td>\n",
       "      <td>44638.81</td>\n",
       "      <td>58.33</td>\n",
       "      <td>9505.56</td>\n",
       "      <td>9408.07</td>\n",
       "      <td>97.49</td>\n",
       "      <td>0.0</td>\n",
       "      <td>conventional</td>\n",
       "      <td>2015</td>\n",
       "      <td>Albany</td>\n",
       "    </tr>\n",
       "    <tr>\n",
       "      <th>2</th>\n",
       "      <td>2</td>\n",
       "      <td>2015-12-13</td>\n",
       "      <td>0.93</td>\n",
       "      <td>118220.22</td>\n",
       "      <td>794.70</td>\n",
       "      <td>109149.67</td>\n",
       "      <td>130.50</td>\n",
       "      <td>8145.35</td>\n",
       "      <td>8042.21</td>\n",
       "      <td>103.14</td>\n",
       "      <td>0.0</td>\n",
       "      <td>conventional</td>\n",
       "      <td>2015</td>\n",
       "      <td>Albany</td>\n",
       "    </tr>\n",
       "    <tr>\n",
       "      <th>3</th>\n",
       "      <td>3</td>\n",
       "      <td>2015-12-06</td>\n",
       "      <td>1.08</td>\n",
       "      <td>78992.15</td>\n",
       "      <td>1132.00</td>\n",
       "      <td>71976.41</td>\n",
       "      <td>72.58</td>\n",
       "      <td>5811.16</td>\n",
       "      <td>5677.40</td>\n",
       "      <td>133.76</td>\n",
       "      <td>0.0</td>\n",
       "      <td>conventional</td>\n",
       "      <td>2015</td>\n",
       "      <td>Albany</td>\n",
       "    </tr>\n",
       "    <tr>\n",
       "      <th>4</th>\n",
       "      <td>4</td>\n",
       "      <td>2015-11-29</td>\n",
       "      <td>1.28</td>\n",
       "      <td>51039.60</td>\n",
       "      <td>941.48</td>\n",
       "      <td>43838.39</td>\n",
       "      <td>75.78</td>\n",
       "      <td>6183.95</td>\n",
       "      <td>5986.26</td>\n",
       "      <td>197.69</td>\n",
       "      <td>0.0</td>\n",
       "      <td>conventional</td>\n",
       "      <td>2015</td>\n",
       "      <td>Albany</td>\n",
       "    </tr>\n",
       "    <tr>\n",
       "      <th>...</th>\n",
       "      <td>...</td>\n",
       "      <td>...</td>\n",
       "      <td>...</td>\n",
       "      <td>...</td>\n",
       "      <td>...</td>\n",
       "      <td>...</td>\n",
       "      <td>...</td>\n",
       "      <td>...</td>\n",
       "      <td>...</td>\n",
       "      <td>...</td>\n",
       "      <td>...</td>\n",
       "      <td>...</td>\n",
       "      <td>...</td>\n",
       "      <td>...</td>\n",
       "    </tr>\n",
       "    <tr>\n",
       "      <th>18244</th>\n",
       "      <td>7</td>\n",
       "      <td>2018-02-04</td>\n",
       "      <td>1.63</td>\n",
       "      <td>17074.83</td>\n",
       "      <td>2046.96</td>\n",
       "      <td>1529.20</td>\n",
       "      <td>0.00</td>\n",
       "      <td>13498.67</td>\n",
       "      <td>13066.82</td>\n",
       "      <td>431.85</td>\n",
       "      <td>0.0</td>\n",
       "      <td>organic</td>\n",
       "      <td>2018</td>\n",
       "      <td>WestTexNewMexico</td>\n",
       "    </tr>\n",
       "    <tr>\n",
       "      <th>18245</th>\n",
       "      <td>8</td>\n",
       "      <td>2018-01-28</td>\n",
       "      <td>1.71</td>\n",
       "      <td>13888.04</td>\n",
       "      <td>1191.70</td>\n",
       "      <td>3431.50</td>\n",
       "      <td>0.00</td>\n",
       "      <td>9264.84</td>\n",
       "      <td>8940.04</td>\n",
       "      <td>324.80</td>\n",
       "      <td>0.0</td>\n",
       "      <td>organic</td>\n",
       "      <td>2018</td>\n",
       "      <td>WestTexNewMexico</td>\n",
       "    </tr>\n",
       "    <tr>\n",
       "      <th>18246</th>\n",
       "      <td>9</td>\n",
       "      <td>2018-01-21</td>\n",
       "      <td>1.87</td>\n",
       "      <td>13766.76</td>\n",
       "      <td>1191.92</td>\n",
       "      <td>2452.79</td>\n",
       "      <td>727.94</td>\n",
       "      <td>9394.11</td>\n",
       "      <td>9351.80</td>\n",
       "      <td>42.31</td>\n",
       "      <td>0.0</td>\n",
       "      <td>organic</td>\n",
       "      <td>2018</td>\n",
       "      <td>WestTexNewMexico</td>\n",
       "    </tr>\n",
       "    <tr>\n",
       "      <th>18247</th>\n",
       "      <td>10</td>\n",
       "      <td>2018-01-14</td>\n",
       "      <td>1.93</td>\n",
       "      <td>16205.22</td>\n",
       "      <td>1527.63</td>\n",
       "      <td>2981.04</td>\n",
       "      <td>727.01</td>\n",
       "      <td>10969.54</td>\n",
       "      <td>10919.54</td>\n",
       "      <td>50.00</td>\n",
       "      <td>0.0</td>\n",
       "      <td>organic</td>\n",
       "      <td>2018</td>\n",
       "      <td>WestTexNewMexico</td>\n",
       "    </tr>\n",
       "    <tr>\n",
       "      <th>18248</th>\n",
       "      <td>11</td>\n",
       "      <td>2018-01-07</td>\n",
       "      <td>1.62</td>\n",
       "      <td>17489.58</td>\n",
       "      <td>2894.77</td>\n",
       "      <td>2356.13</td>\n",
       "      <td>224.53</td>\n",
       "      <td>12014.15</td>\n",
       "      <td>11988.14</td>\n",
       "      <td>26.01</td>\n",
       "      <td>0.0</td>\n",
       "      <td>organic</td>\n",
       "      <td>2018</td>\n",
       "      <td>WestTexNewMexico</td>\n",
       "    </tr>\n",
       "  </tbody>\n",
       "</table>\n",
       "<p>18249 rows × 14 columns</p>\n",
       "</div>"
      ],
      "text/plain": [
       "       Unnamed: 0        Date  AveragePrice  Total Volume     4046       4225  \\\n",
       "0               0  2015-12-27          1.33      64236.62  1036.74   54454.85   \n",
       "1               1  2015-12-20          1.35      54876.98   674.28   44638.81   \n",
       "2               2  2015-12-13          0.93     118220.22   794.70  109149.67   \n",
       "3               3  2015-12-06          1.08      78992.15  1132.00   71976.41   \n",
       "4               4  2015-11-29          1.28      51039.60   941.48   43838.39   \n",
       "...           ...         ...           ...           ...      ...        ...   \n",
       "18244           7  2018-02-04          1.63      17074.83  2046.96    1529.20   \n",
       "18245           8  2018-01-28          1.71      13888.04  1191.70    3431.50   \n",
       "18246           9  2018-01-21          1.87      13766.76  1191.92    2452.79   \n",
       "18247          10  2018-01-14          1.93      16205.22  1527.63    2981.04   \n",
       "18248          11  2018-01-07          1.62      17489.58  2894.77    2356.13   \n",
       "\n",
       "         4770  Total Bags  Small Bags  Large Bags  XLarge Bags          type  \\\n",
       "0       48.16     8696.87     8603.62       93.25          0.0  conventional   \n",
       "1       58.33     9505.56     9408.07       97.49          0.0  conventional   \n",
       "2      130.50     8145.35     8042.21      103.14          0.0  conventional   \n",
       "3       72.58     5811.16     5677.40      133.76          0.0  conventional   \n",
       "4       75.78     6183.95     5986.26      197.69          0.0  conventional   \n",
       "...       ...         ...         ...         ...          ...           ...   \n",
       "18244    0.00    13498.67    13066.82      431.85          0.0       organic   \n",
       "18245    0.00     9264.84     8940.04      324.80          0.0       organic   \n",
       "18246  727.94     9394.11     9351.80       42.31          0.0       organic   \n",
       "18247  727.01    10969.54    10919.54       50.00          0.0       organic   \n",
       "18248  224.53    12014.15    11988.14       26.01          0.0       organic   \n",
       "\n",
       "       year            region  \n",
       "0      2015            Albany  \n",
       "1      2015            Albany  \n",
       "2      2015            Albany  \n",
       "3      2015            Albany  \n",
       "4      2015            Albany  \n",
       "...     ...               ...  \n",
       "18244  2018  WestTexNewMexico  \n",
       "18245  2018  WestTexNewMexico  \n",
       "18246  2018  WestTexNewMexico  \n",
       "18247  2018  WestTexNewMexico  \n",
       "18248  2018  WestTexNewMexico  \n",
       "\n",
       "[18249 rows x 14 columns]"
      ]
     },
     "execution_count": 5,
     "metadata": {},
     "output_type": "execute_result"
    }
   ],
   "source": [
    "# loded dataset\n",
    "ds=pd.read_csv('avocado.csv')\n",
    "ds"
   ]
  },
  {
   "cell_type": "code",
   "execution_count": 6,
   "id": "d9b5ed4c",
   "metadata": {},
   "outputs": [
    {
     "data": {
      "text/plain": [
       "dtype('O')"
      ]
     },
     "execution_count": 6,
     "metadata": {},
     "output_type": "execute_result"
    }
   ],
   "source": [
    "ds['Date'].dtype   #check date type"
   ]
  },
  {
   "cell_type": "markdown",
   "id": "8335fc7f",
   "metadata": {},
   "source": [
    "Date type is obj so first of all it convert into date time foramt.By this we easily pivot it day,month and year columns"
   ]
  },
  {
   "cell_type": "code",
   "execution_count": 7,
   "id": "bb39939c",
   "metadata": {},
   "outputs": [
    {
     "data": {
      "text/html": [
       "<div>\n",
       "<style scoped>\n",
       "    .dataframe tbody tr th:only-of-type {\n",
       "        vertical-align: middle;\n",
       "    }\n",
       "\n",
       "    .dataframe tbody tr th {\n",
       "        vertical-align: top;\n",
       "    }\n",
       "\n",
       "    .dataframe thead th {\n",
       "        text-align: right;\n",
       "    }\n",
       "</style>\n",
       "<table border=\"1\" class=\"dataframe\">\n",
       "  <thead>\n",
       "    <tr style=\"text-align: right;\">\n",
       "      <th></th>\n",
       "      <th>Unnamed: 0</th>\n",
       "      <th>Date</th>\n",
       "      <th>AveragePrice</th>\n",
       "      <th>Total Volume</th>\n",
       "      <th>4046</th>\n",
       "      <th>4225</th>\n",
       "      <th>4770</th>\n",
       "      <th>Total Bags</th>\n",
       "      <th>Small Bags</th>\n",
       "      <th>Large Bags</th>\n",
       "      <th>XLarge Bags</th>\n",
       "      <th>type</th>\n",
       "      <th>year</th>\n",
       "      <th>region</th>\n",
       "    </tr>\n",
       "  </thead>\n",
       "  <tbody>\n",
       "    <tr>\n",
       "      <th>0</th>\n",
       "      <td>0</td>\n",
       "      <td>2015-12-27</td>\n",
       "      <td>1.33</td>\n",
       "      <td>64236.62</td>\n",
       "      <td>1036.74</td>\n",
       "      <td>54454.85</td>\n",
       "      <td>48.16</td>\n",
       "      <td>8696.87</td>\n",
       "      <td>8603.62</td>\n",
       "      <td>93.25</td>\n",
       "      <td>0.0</td>\n",
       "      <td>conventional</td>\n",
       "      <td>2015</td>\n",
       "      <td>Albany</td>\n",
       "    </tr>\n",
       "    <tr>\n",
       "      <th>1</th>\n",
       "      <td>1</td>\n",
       "      <td>2015-12-20</td>\n",
       "      <td>1.35</td>\n",
       "      <td>54876.98</td>\n",
       "      <td>674.28</td>\n",
       "      <td>44638.81</td>\n",
       "      <td>58.33</td>\n",
       "      <td>9505.56</td>\n",
       "      <td>9408.07</td>\n",
       "      <td>97.49</td>\n",
       "      <td>0.0</td>\n",
       "      <td>conventional</td>\n",
       "      <td>2015</td>\n",
       "      <td>Albany</td>\n",
       "    </tr>\n",
       "    <tr>\n",
       "      <th>2</th>\n",
       "      <td>2</td>\n",
       "      <td>2015-12-13</td>\n",
       "      <td>0.93</td>\n",
       "      <td>118220.22</td>\n",
       "      <td>794.70</td>\n",
       "      <td>109149.67</td>\n",
       "      <td>130.50</td>\n",
       "      <td>8145.35</td>\n",
       "      <td>8042.21</td>\n",
       "      <td>103.14</td>\n",
       "      <td>0.0</td>\n",
       "      <td>conventional</td>\n",
       "      <td>2015</td>\n",
       "      <td>Albany</td>\n",
       "    </tr>\n",
       "    <tr>\n",
       "      <th>3</th>\n",
       "      <td>3</td>\n",
       "      <td>2015-12-06</td>\n",
       "      <td>1.08</td>\n",
       "      <td>78992.15</td>\n",
       "      <td>1132.00</td>\n",
       "      <td>71976.41</td>\n",
       "      <td>72.58</td>\n",
       "      <td>5811.16</td>\n",
       "      <td>5677.40</td>\n",
       "      <td>133.76</td>\n",
       "      <td>0.0</td>\n",
       "      <td>conventional</td>\n",
       "      <td>2015</td>\n",
       "      <td>Albany</td>\n",
       "    </tr>\n",
       "    <tr>\n",
       "      <th>4</th>\n",
       "      <td>4</td>\n",
       "      <td>2015-11-29</td>\n",
       "      <td>1.28</td>\n",
       "      <td>51039.60</td>\n",
       "      <td>941.48</td>\n",
       "      <td>43838.39</td>\n",
       "      <td>75.78</td>\n",
       "      <td>6183.95</td>\n",
       "      <td>5986.26</td>\n",
       "      <td>197.69</td>\n",
       "      <td>0.0</td>\n",
       "      <td>conventional</td>\n",
       "      <td>2015</td>\n",
       "      <td>Albany</td>\n",
       "    </tr>\n",
       "    <tr>\n",
       "      <th>...</th>\n",
       "      <td>...</td>\n",
       "      <td>...</td>\n",
       "      <td>...</td>\n",
       "      <td>...</td>\n",
       "      <td>...</td>\n",
       "      <td>...</td>\n",
       "      <td>...</td>\n",
       "      <td>...</td>\n",
       "      <td>...</td>\n",
       "      <td>...</td>\n",
       "      <td>...</td>\n",
       "      <td>...</td>\n",
       "      <td>...</td>\n",
       "      <td>...</td>\n",
       "    </tr>\n",
       "    <tr>\n",
       "      <th>18244</th>\n",
       "      <td>7</td>\n",
       "      <td>2018-02-04</td>\n",
       "      <td>1.63</td>\n",
       "      <td>17074.83</td>\n",
       "      <td>2046.96</td>\n",
       "      <td>1529.20</td>\n",
       "      <td>0.00</td>\n",
       "      <td>13498.67</td>\n",
       "      <td>13066.82</td>\n",
       "      <td>431.85</td>\n",
       "      <td>0.0</td>\n",
       "      <td>organic</td>\n",
       "      <td>2018</td>\n",
       "      <td>WestTexNewMexico</td>\n",
       "    </tr>\n",
       "    <tr>\n",
       "      <th>18245</th>\n",
       "      <td>8</td>\n",
       "      <td>2018-01-28</td>\n",
       "      <td>1.71</td>\n",
       "      <td>13888.04</td>\n",
       "      <td>1191.70</td>\n",
       "      <td>3431.50</td>\n",
       "      <td>0.00</td>\n",
       "      <td>9264.84</td>\n",
       "      <td>8940.04</td>\n",
       "      <td>324.80</td>\n",
       "      <td>0.0</td>\n",
       "      <td>organic</td>\n",
       "      <td>2018</td>\n",
       "      <td>WestTexNewMexico</td>\n",
       "    </tr>\n",
       "    <tr>\n",
       "      <th>18246</th>\n",
       "      <td>9</td>\n",
       "      <td>2018-01-21</td>\n",
       "      <td>1.87</td>\n",
       "      <td>13766.76</td>\n",
       "      <td>1191.92</td>\n",
       "      <td>2452.79</td>\n",
       "      <td>727.94</td>\n",
       "      <td>9394.11</td>\n",
       "      <td>9351.80</td>\n",
       "      <td>42.31</td>\n",
       "      <td>0.0</td>\n",
       "      <td>organic</td>\n",
       "      <td>2018</td>\n",
       "      <td>WestTexNewMexico</td>\n",
       "    </tr>\n",
       "    <tr>\n",
       "      <th>18247</th>\n",
       "      <td>10</td>\n",
       "      <td>2018-01-14</td>\n",
       "      <td>1.93</td>\n",
       "      <td>16205.22</td>\n",
       "      <td>1527.63</td>\n",
       "      <td>2981.04</td>\n",
       "      <td>727.01</td>\n",
       "      <td>10969.54</td>\n",
       "      <td>10919.54</td>\n",
       "      <td>50.00</td>\n",
       "      <td>0.0</td>\n",
       "      <td>organic</td>\n",
       "      <td>2018</td>\n",
       "      <td>WestTexNewMexico</td>\n",
       "    </tr>\n",
       "    <tr>\n",
       "      <th>18248</th>\n",
       "      <td>11</td>\n",
       "      <td>2018-01-07</td>\n",
       "      <td>1.62</td>\n",
       "      <td>17489.58</td>\n",
       "      <td>2894.77</td>\n",
       "      <td>2356.13</td>\n",
       "      <td>224.53</td>\n",
       "      <td>12014.15</td>\n",
       "      <td>11988.14</td>\n",
       "      <td>26.01</td>\n",
       "      <td>0.0</td>\n",
       "      <td>organic</td>\n",
       "      <td>2018</td>\n",
       "      <td>WestTexNewMexico</td>\n",
       "    </tr>\n",
       "  </tbody>\n",
       "</table>\n",
       "<p>18249 rows × 14 columns</p>\n",
       "</div>"
      ],
      "text/plain": [
       "       Unnamed: 0       Date  AveragePrice  Total Volume     4046       4225  \\\n",
       "0               0 2015-12-27          1.33      64236.62  1036.74   54454.85   \n",
       "1               1 2015-12-20          1.35      54876.98   674.28   44638.81   \n",
       "2               2 2015-12-13          0.93     118220.22   794.70  109149.67   \n",
       "3               3 2015-12-06          1.08      78992.15  1132.00   71976.41   \n",
       "4               4 2015-11-29          1.28      51039.60   941.48   43838.39   \n",
       "...           ...        ...           ...           ...      ...        ...   \n",
       "18244           7 2018-02-04          1.63      17074.83  2046.96    1529.20   \n",
       "18245           8 2018-01-28          1.71      13888.04  1191.70    3431.50   \n",
       "18246           9 2018-01-21          1.87      13766.76  1191.92    2452.79   \n",
       "18247          10 2018-01-14          1.93      16205.22  1527.63    2981.04   \n",
       "18248          11 2018-01-07          1.62      17489.58  2894.77    2356.13   \n",
       "\n",
       "         4770  Total Bags  Small Bags  Large Bags  XLarge Bags          type  \\\n",
       "0       48.16     8696.87     8603.62       93.25          0.0  conventional   \n",
       "1       58.33     9505.56     9408.07       97.49          0.0  conventional   \n",
       "2      130.50     8145.35     8042.21      103.14          0.0  conventional   \n",
       "3       72.58     5811.16     5677.40      133.76          0.0  conventional   \n",
       "4       75.78     6183.95     5986.26      197.69          0.0  conventional   \n",
       "...       ...         ...         ...         ...          ...           ...   \n",
       "18244    0.00    13498.67    13066.82      431.85          0.0       organic   \n",
       "18245    0.00     9264.84     8940.04      324.80          0.0       organic   \n",
       "18246  727.94     9394.11     9351.80       42.31          0.0       organic   \n",
       "18247  727.01    10969.54    10919.54       50.00          0.0       organic   \n",
       "18248  224.53    12014.15    11988.14       26.01          0.0       organic   \n",
       "\n",
       "       year            region  \n",
       "0      2015            Albany  \n",
       "1      2015            Albany  \n",
       "2      2015            Albany  \n",
       "3      2015            Albany  \n",
       "4      2015            Albany  \n",
       "...     ...               ...  \n",
       "18244  2018  WestTexNewMexico  \n",
       "18245  2018  WestTexNewMexico  \n",
       "18246  2018  WestTexNewMexico  \n",
       "18247  2018  WestTexNewMexico  \n",
       "18248  2018  WestTexNewMexico  \n",
       "\n",
       "[18249 rows x 14 columns]"
      ]
     },
     "execution_count": 7,
     "metadata": {},
     "output_type": "execute_result"
    }
   ],
   "source": [
    "ds=pd.read_csv('avocado.csv',parse_dates=['Date'])   #parse_dates=it convert obj type to date time type\n",
    "ds"
   ]
  },
  {
   "cell_type": "code",
   "execution_count": 8,
   "id": "49d30f3f",
   "metadata": {},
   "outputs": [
    {
     "data": {
      "text/plain": [
       "pandas._libs.tslibs.timestamps.Timestamp"
      ]
     },
     "execution_count": 8,
     "metadata": {},
     "output_type": "execute_result"
    }
   ],
   "source": [
    "type(ds['Date'][0])   #check after convert type "
   ]
  },
  {
   "cell_type": "markdown",
   "id": "24f056e5",
   "metadata": {},
   "source": [
    "# Split date variable in day,month,year"
   ]
  },
  {
   "cell_type": "code",
   "execution_count": 9,
   "id": "915c9ac1",
   "metadata": {},
   "outputs": [],
   "source": [
    "# datetime laibary\n",
    "import datetime\n",
    "dt=datetime.datetime.now()"
   ]
  },
  {
   "cell_type": "code",
   "execution_count": 10,
   "id": "4b54fca5",
   "metadata": {},
   "outputs": [
    {
     "data": {
      "text/html": [
       "<div>\n",
       "<style scoped>\n",
       "    .dataframe tbody tr th:only-of-type {\n",
       "        vertical-align: middle;\n",
       "    }\n",
       "\n",
       "    .dataframe tbody tr th {\n",
       "        vertical-align: top;\n",
       "    }\n",
       "\n",
       "    .dataframe thead th {\n",
       "        text-align: right;\n",
       "    }\n",
       "</style>\n",
       "<table border=\"1\" class=\"dataframe\">\n",
       "  <thead>\n",
       "    <tr style=\"text-align: right;\">\n",
       "      <th></th>\n",
       "      <th>Unnamed: 0</th>\n",
       "      <th>Date</th>\n",
       "      <th>AveragePrice</th>\n",
       "      <th>Total Volume</th>\n",
       "      <th>4046</th>\n",
       "      <th>4225</th>\n",
       "      <th>4770</th>\n",
       "      <th>Total Bags</th>\n",
       "      <th>Small Bags</th>\n",
       "      <th>Large Bags</th>\n",
       "      <th>XLarge Bags</th>\n",
       "      <th>type</th>\n",
       "      <th>year</th>\n",
       "      <th>region</th>\n",
       "      <th>Day</th>\n",
       "      <th>Month</th>\n",
       "      <th>Year</th>\n",
       "    </tr>\n",
       "  </thead>\n",
       "  <tbody>\n",
       "    <tr>\n",
       "      <th>0</th>\n",
       "      <td>0</td>\n",
       "      <td>2015-12-27</td>\n",
       "      <td>1.33</td>\n",
       "      <td>64236.62</td>\n",
       "      <td>1036.74</td>\n",
       "      <td>54454.85</td>\n",
       "      <td>48.16</td>\n",
       "      <td>8696.87</td>\n",
       "      <td>8603.62</td>\n",
       "      <td>93.25</td>\n",
       "      <td>0.0</td>\n",
       "      <td>conventional</td>\n",
       "      <td>2015</td>\n",
       "      <td>Albany</td>\n",
       "      <td>27</td>\n",
       "      <td>12</td>\n",
       "      <td>2015</td>\n",
       "    </tr>\n",
       "    <tr>\n",
       "      <th>1</th>\n",
       "      <td>1</td>\n",
       "      <td>2015-12-20</td>\n",
       "      <td>1.35</td>\n",
       "      <td>54876.98</td>\n",
       "      <td>674.28</td>\n",
       "      <td>44638.81</td>\n",
       "      <td>58.33</td>\n",
       "      <td>9505.56</td>\n",
       "      <td>9408.07</td>\n",
       "      <td>97.49</td>\n",
       "      <td>0.0</td>\n",
       "      <td>conventional</td>\n",
       "      <td>2015</td>\n",
       "      <td>Albany</td>\n",
       "      <td>20</td>\n",
       "      <td>12</td>\n",
       "      <td>2015</td>\n",
       "    </tr>\n",
       "    <tr>\n",
       "      <th>2</th>\n",
       "      <td>2</td>\n",
       "      <td>2015-12-13</td>\n",
       "      <td>0.93</td>\n",
       "      <td>118220.22</td>\n",
       "      <td>794.70</td>\n",
       "      <td>109149.67</td>\n",
       "      <td>130.50</td>\n",
       "      <td>8145.35</td>\n",
       "      <td>8042.21</td>\n",
       "      <td>103.14</td>\n",
       "      <td>0.0</td>\n",
       "      <td>conventional</td>\n",
       "      <td>2015</td>\n",
       "      <td>Albany</td>\n",
       "      <td>13</td>\n",
       "      <td>12</td>\n",
       "      <td>2015</td>\n",
       "    </tr>\n",
       "    <tr>\n",
       "      <th>3</th>\n",
       "      <td>3</td>\n",
       "      <td>2015-12-06</td>\n",
       "      <td>1.08</td>\n",
       "      <td>78992.15</td>\n",
       "      <td>1132.00</td>\n",
       "      <td>71976.41</td>\n",
       "      <td>72.58</td>\n",
       "      <td>5811.16</td>\n",
       "      <td>5677.40</td>\n",
       "      <td>133.76</td>\n",
       "      <td>0.0</td>\n",
       "      <td>conventional</td>\n",
       "      <td>2015</td>\n",
       "      <td>Albany</td>\n",
       "      <td>6</td>\n",
       "      <td>12</td>\n",
       "      <td>2015</td>\n",
       "    </tr>\n",
       "    <tr>\n",
       "      <th>4</th>\n",
       "      <td>4</td>\n",
       "      <td>2015-11-29</td>\n",
       "      <td>1.28</td>\n",
       "      <td>51039.60</td>\n",
       "      <td>941.48</td>\n",
       "      <td>43838.39</td>\n",
       "      <td>75.78</td>\n",
       "      <td>6183.95</td>\n",
       "      <td>5986.26</td>\n",
       "      <td>197.69</td>\n",
       "      <td>0.0</td>\n",
       "      <td>conventional</td>\n",
       "      <td>2015</td>\n",
       "      <td>Albany</td>\n",
       "      <td>29</td>\n",
       "      <td>11</td>\n",
       "      <td>2015</td>\n",
       "    </tr>\n",
       "    <tr>\n",
       "      <th>...</th>\n",
       "      <td>...</td>\n",
       "      <td>...</td>\n",
       "      <td>...</td>\n",
       "      <td>...</td>\n",
       "      <td>...</td>\n",
       "      <td>...</td>\n",
       "      <td>...</td>\n",
       "      <td>...</td>\n",
       "      <td>...</td>\n",
       "      <td>...</td>\n",
       "      <td>...</td>\n",
       "      <td>...</td>\n",
       "      <td>...</td>\n",
       "      <td>...</td>\n",
       "      <td>...</td>\n",
       "      <td>...</td>\n",
       "      <td>...</td>\n",
       "    </tr>\n",
       "    <tr>\n",
       "      <th>18244</th>\n",
       "      <td>7</td>\n",
       "      <td>2018-02-04</td>\n",
       "      <td>1.63</td>\n",
       "      <td>17074.83</td>\n",
       "      <td>2046.96</td>\n",
       "      <td>1529.20</td>\n",
       "      <td>0.00</td>\n",
       "      <td>13498.67</td>\n",
       "      <td>13066.82</td>\n",
       "      <td>431.85</td>\n",
       "      <td>0.0</td>\n",
       "      <td>organic</td>\n",
       "      <td>2018</td>\n",
       "      <td>WestTexNewMexico</td>\n",
       "      <td>4</td>\n",
       "      <td>2</td>\n",
       "      <td>2018</td>\n",
       "    </tr>\n",
       "    <tr>\n",
       "      <th>18245</th>\n",
       "      <td>8</td>\n",
       "      <td>2018-01-28</td>\n",
       "      <td>1.71</td>\n",
       "      <td>13888.04</td>\n",
       "      <td>1191.70</td>\n",
       "      <td>3431.50</td>\n",
       "      <td>0.00</td>\n",
       "      <td>9264.84</td>\n",
       "      <td>8940.04</td>\n",
       "      <td>324.80</td>\n",
       "      <td>0.0</td>\n",
       "      <td>organic</td>\n",
       "      <td>2018</td>\n",
       "      <td>WestTexNewMexico</td>\n",
       "      <td>28</td>\n",
       "      <td>1</td>\n",
       "      <td>2018</td>\n",
       "    </tr>\n",
       "    <tr>\n",
       "      <th>18246</th>\n",
       "      <td>9</td>\n",
       "      <td>2018-01-21</td>\n",
       "      <td>1.87</td>\n",
       "      <td>13766.76</td>\n",
       "      <td>1191.92</td>\n",
       "      <td>2452.79</td>\n",
       "      <td>727.94</td>\n",
       "      <td>9394.11</td>\n",
       "      <td>9351.80</td>\n",
       "      <td>42.31</td>\n",
       "      <td>0.0</td>\n",
       "      <td>organic</td>\n",
       "      <td>2018</td>\n",
       "      <td>WestTexNewMexico</td>\n",
       "      <td>21</td>\n",
       "      <td>1</td>\n",
       "      <td>2018</td>\n",
       "    </tr>\n",
       "    <tr>\n",
       "      <th>18247</th>\n",
       "      <td>10</td>\n",
       "      <td>2018-01-14</td>\n",
       "      <td>1.93</td>\n",
       "      <td>16205.22</td>\n",
       "      <td>1527.63</td>\n",
       "      <td>2981.04</td>\n",
       "      <td>727.01</td>\n",
       "      <td>10969.54</td>\n",
       "      <td>10919.54</td>\n",
       "      <td>50.00</td>\n",
       "      <td>0.0</td>\n",
       "      <td>organic</td>\n",
       "      <td>2018</td>\n",
       "      <td>WestTexNewMexico</td>\n",
       "      <td>14</td>\n",
       "      <td>1</td>\n",
       "      <td>2018</td>\n",
       "    </tr>\n",
       "    <tr>\n",
       "      <th>18248</th>\n",
       "      <td>11</td>\n",
       "      <td>2018-01-07</td>\n",
       "      <td>1.62</td>\n",
       "      <td>17489.58</td>\n",
       "      <td>2894.77</td>\n",
       "      <td>2356.13</td>\n",
       "      <td>224.53</td>\n",
       "      <td>12014.15</td>\n",
       "      <td>11988.14</td>\n",
       "      <td>26.01</td>\n",
       "      <td>0.0</td>\n",
       "      <td>organic</td>\n",
       "      <td>2018</td>\n",
       "      <td>WestTexNewMexico</td>\n",
       "      <td>7</td>\n",
       "      <td>1</td>\n",
       "      <td>2018</td>\n",
       "    </tr>\n",
       "  </tbody>\n",
       "</table>\n",
       "<p>18249 rows × 17 columns</p>\n",
       "</div>"
      ],
      "text/plain": [
       "       Unnamed: 0       Date  AveragePrice  Total Volume     4046       4225  \\\n",
       "0               0 2015-12-27          1.33      64236.62  1036.74   54454.85   \n",
       "1               1 2015-12-20          1.35      54876.98   674.28   44638.81   \n",
       "2               2 2015-12-13          0.93     118220.22   794.70  109149.67   \n",
       "3               3 2015-12-06          1.08      78992.15  1132.00   71976.41   \n",
       "4               4 2015-11-29          1.28      51039.60   941.48   43838.39   \n",
       "...           ...        ...           ...           ...      ...        ...   \n",
       "18244           7 2018-02-04          1.63      17074.83  2046.96    1529.20   \n",
       "18245           8 2018-01-28          1.71      13888.04  1191.70    3431.50   \n",
       "18246           9 2018-01-21          1.87      13766.76  1191.92    2452.79   \n",
       "18247          10 2018-01-14          1.93      16205.22  1527.63    2981.04   \n",
       "18248          11 2018-01-07          1.62      17489.58  2894.77    2356.13   \n",
       "\n",
       "         4770  Total Bags  Small Bags  Large Bags  XLarge Bags          type  \\\n",
       "0       48.16     8696.87     8603.62       93.25          0.0  conventional   \n",
       "1       58.33     9505.56     9408.07       97.49          0.0  conventional   \n",
       "2      130.50     8145.35     8042.21      103.14          0.0  conventional   \n",
       "3       72.58     5811.16     5677.40      133.76          0.0  conventional   \n",
       "4       75.78     6183.95     5986.26      197.69          0.0  conventional   \n",
       "...       ...         ...         ...         ...          ...           ...   \n",
       "18244    0.00    13498.67    13066.82      431.85          0.0       organic   \n",
       "18245    0.00     9264.84     8940.04      324.80          0.0       organic   \n",
       "18246  727.94     9394.11     9351.80       42.31          0.0       organic   \n",
       "18247  727.01    10969.54    10919.54       50.00          0.0       organic   \n",
       "18248  224.53    12014.15    11988.14       26.01          0.0       organic   \n",
       "\n",
       "       year            region Day Month  Year  \n",
       "0      2015            Albany  27    12  2015  \n",
       "1      2015            Albany  20    12  2015  \n",
       "2      2015            Albany  13    12  2015  \n",
       "3      2015            Albany   6    12  2015  \n",
       "4      2015            Albany  29    11  2015  \n",
       "...     ...               ...  ..   ...   ...  \n",
       "18244  2018  WestTexNewMexico   4     2  2018  \n",
       "18245  2018  WestTexNewMexico  28     1  2018  \n",
       "18246  2018  WestTexNewMexico  21     1  2018  \n",
       "18247  2018  WestTexNewMexico  14     1  2018  \n",
       "18248  2018  WestTexNewMexico   7     1  2018  \n",
       "\n",
       "[18249 rows x 17 columns]"
      ]
     },
     "execution_count": 10,
     "metadata": {},
     "output_type": "execute_result"
    }
   ],
   "source": [
    "ds['Day']=ds['Date'].dt.day.astype(str)   #convert into day columnns\n",
    "ds['Month']=ds['Date'].dt.month.astype(str) #convert into month columnns\n",
    "ds['Year']=ds['Date'].dt.year.astype(str)  #convert into year columnns\n",
    "ds"
   ]
  },
  {
   "cell_type": "code",
   "execution_count": 11,
   "id": "117ac735",
   "metadata": {},
   "outputs": [
    {
     "data": {
      "text/html": [
       "<div>\n",
       "<style scoped>\n",
       "    .dataframe tbody tr th:only-of-type {\n",
       "        vertical-align: middle;\n",
       "    }\n",
       "\n",
       "    .dataframe tbody tr th {\n",
       "        vertical-align: top;\n",
       "    }\n",
       "\n",
       "    .dataframe thead th {\n",
       "        text-align: right;\n",
       "    }\n",
       "</style>\n",
       "<table border=\"1\" class=\"dataframe\">\n",
       "  <thead>\n",
       "    <tr style=\"text-align: right;\">\n",
       "      <th></th>\n",
       "      <th>Unnamed: 0</th>\n",
       "      <th>Date</th>\n",
       "      <th>AveragePrice</th>\n",
       "      <th>Total Volume</th>\n",
       "      <th>4046</th>\n",
       "      <th>4225</th>\n",
       "      <th>4770</th>\n",
       "      <th>Total Bags</th>\n",
       "      <th>Small Bags</th>\n",
       "      <th>Large Bags</th>\n",
       "      <th>XLarge Bags</th>\n",
       "      <th>type</th>\n",
       "      <th>year</th>\n",
       "      <th>region</th>\n",
       "      <th>Day</th>\n",
       "      <th>Month</th>\n",
       "      <th>Year</th>\n",
       "    </tr>\n",
       "  </thead>\n",
       "  <tbody>\n",
       "    <tr>\n",
       "      <th>0</th>\n",
       "      <td>0</td>\n",
       "      <td>2015-12-27</td>\n",
       "      <td>1.33</td>\n",
       "      <td>64236.62</td>\n",
       "      <td>1036.74</td>\n",
       "      <td>54454.85</td>\n",
       "      <td>48.16</td>\n",
       "      <td>8696.87</td>\n",
       "      <td>8603.62</td>\n",
       "      <td>93.25</td>\n",
       "      <td>0.0</td>\n",
       "      <td>conventional</td>\n",
       "      <td>2015</td>\n",
       "      <td>Albany</td>\n",
       "      <td>27</td>\n",
       "      <td>12</td>\n",
       "      <td>2015</td>\n",
       "    </tr>\n",
       "    <tr>\n",
       "      <th>1</th>\n",
       "      <td>1</td>\n",
       "      <td>2015-12-20</td>\n",
       "      <td>1.35</td>\n",
       "      <td>54876.98</td>\n",
       "      <td>674.28</td>\n",
       "      <td>44638.81</td>\n",
       "      <td>58.33</td>\n",
       "      <td>9505.56</td>\n",
       "      <td>9408.07</td>\n",
       "      <td>97.49</td>\n",
       "      <td>0.0</td>\n",
       "      <td>conventional</td>\n",
       "      <td>2015</td>\n",
       "      <td>Albany</td>\n",
       "      <td>20</td>\n",
       "      <td>12</td>\n",
       "      <td>2015</td>\n",
       "    </tr>\n",
       "    <tr>\n",
       "      <th>2</th>\n",
       "      <td>2</td>\n",
       "      <td>2015-12-13</td>\n",
       "      <td>0.93</td>\n",
       "      <td>118220.22</td>\n",
       "      <td>794.70</td>\n",
       "      <td>109149.67</td>\n",
       "      <td>130.50</td>\n",
       "      <td>8145.35</td>\n",
       "      <td>8042.21</td>\n",
       "      <td>103.14</td>\n",
       "      <td>0.0</td>\n",
       "      <td>conventional</td>\n",
       "      <td>2015</td>\n",
       "      <td>Albany</td>\n",
       "      <td>13</td>\n",
       "      <td>12</td>\n",
       "      <td>2015</td>\n",
       "    </tr>\n",
       "    <tr>\n",
       "      <th>3</th>\n",
       "      <td>3</td>\n",
       "      <td>2015-12-06</td>\n",
       "      <td>1.08</td>\n",
       "      <td>78992.15</td>\n",
       "      <td>1132.00</td>\n",
       "      <td>71976.41</td>\n",
       "      <td>72.58</td>\n",
       "      <td>5811.16</td>\n",
       "      <td>5677.40</td>\n",
       "      <td>133.76</td>\n",
       "      <td>0.0</td>\n",
       "      <td>conventional</td>\n",
       "      <td>2015</td>\n",
       "      <td>Albany</td>\n",
       "      <td>6</td>\n",
       "      <td>12</td>\n",
       "      <td>2015</td>\n",
       "    </tr>\n",
       "    <tr>\n",
       "      <th>4</th>\n",
       "      <td>4</td>\n",
       "      <td>2015-11-29</td>\n",
       "      <td>1.28</td>\n",
       "      <td>51039.60</td>\n",
       "      <td>941.48</td>\n",
       "      <td>43838.39</td>\n",
       "      <td>75.78</td>\n",
       "      <td>6183.95</td>\n",
       "      <td>5986.26</td>\n",
       "      <td>197.69</td>\n",
       "      <td>0.0</td>\n",
       "      <td>conventional</td>\n",
       "      <td>2015</td>\n",
       "      <td>Albany</td>\n",
       "      <td>29</td>\n",
       "      <td>11</td>\n",
       "      <td>2015</td>\n",
       "    </tr>\n",
       "    <tr>\n",
       "      <th>...</th>\n",
       "      <td>...</td>\n",
       "      <td>...</td>\n",
       "      <td>...</td>\n",
       "      <td>...</td>\n",
       "      <td>...</td>\n",
       "      <td>...</td>\n",
       "      <td>...</td>\n",
       "      <td>...</td>\n",
       "      <td>...</td>\n",
       "      <td>...</td>\n",
       "      <td>...</td>\n",
       "      <td>...</td>\n",
       "      <td>...</td>\n",
       "      <td>...</td>\n",
       "      <td>...</td>\n",
       "      <td>...</td>\n",
       "      <td>...</td>\n",
       "    </tr>\n",
       "    <tr>\n",
       "      <th>18244</th>\n",
       "      <td>7</td>\n",
       "      <td>2018-02-04</td>\n",
       "      <td>1.63</td>\n",
       "      <td>17074.83</td>\n",
       "      <td>2046.96</td>\n",
       "      <td>1529.20</td>\n",
       "      <td>0.00</td>\n",
       "      <td>13498.67</td>\n",
       "      <td>13066.82</td>\n",
       "      <td>431.85</td>\n",
       "      <td>0.0</td>\n",
       "      <td>organic</td>\n",
       "      <td>2018</td>\n",
       "      <td>WestTexNewMexico</td>\n",
       "      <td>4</td>\n",
       "      <td>2</td>\n",
       "      <td>2018</td>\n",
       "    </tr>\n",
       "    <tr>\n",
       "      <th>18245</th>\n",
       "      <td>8</td>\n",
       "      <td>2018-01-28</td>\n",
       "      <td>1.71</td>\n",
       "      <td>13888.04</td>\n",
       "      <td>1191.70</td>\n",
       "      <td>3431.50</td>\n",
       "      <td>0.00</td>\n",
       "      <td>9264.84</td>\n",
       "      <td>8940.04</td>\n",
       "      <td>324.80</td>\n",
       "      <td>0.0</td>\n",
       "      <td>organic</td>\n",
       "      <td>2018</td>\n",
       "      <td>WestTexNewMexico</td>\n",
       "      <td>28</td>\n",
       "      <td>1</td>\n",
       "      <td>2018</td>\n",
       "    </tr>\n",
       "    <tr>\n",
       "      <th>18246</th>\n",
       "      <td>9</td>\n",
       "      <td>2018-01-21</td>\n",
       "      <td>1.87</td>\n",
       "      <td>13766.76</td>\n",
       "      <td>1191.92</td>\n",
       "      <td>2452.79</td>\n",
       "      <td>727.94</td>\n",
       "      <td>9394.11</td>\n",
       "      <td>9351.80</td>\n",
       "      <td>42.31</td>\n",
       "      <td>0.0</td>\n",
       "      <td>organic</td>\n",
       "      <td>2018</td>\n",
       "      <td>WestTexNewMexico</td>\n",
       "      <td>21</td>\n",
       "      <td>1</td>\n",
       "      <td>2018</td>\n",
       "    </tr>\n",
       "    <tr>\n",
       "      <th>18247</th>\n",
       "      <td>10</td>\n",
       "      <td>2018-01-14</td>\n",
       "      <td>1.93</td>\n",
       "      <td>16205.22</td>\n",
       "      <td>1527.63</td>\n",
       "      <td>2981.04</td>\n",
       "      <td>727.01</td>\n",
       "      <td>10969.54</td>\n",
       "      <td>10919.54</td>\n",
       "      <td>50.00</td>\n",
       "      <td>0.0</td>\n",
       "      <td>organic</td>\n",
       "      <td>2018</td>\n",
       "      <td>WestTexNewMexico</td>\n",
       "      <td>14</td>\n",
       "      <td>1</td>\n",
       "      <td>2018</td>\n",
       "    </tr>\n",
       "    <tr>\n",
       "      <th>18248</th>\n",
       "      <td>11</td>\n",
       "      <td>2018-01-07</td>\n",
       "      <td>1.62</td>\n",
       "      <td>17489.58</td>\n",
       "      <td>2894.77</td>\n",
       "      <td>2356.13</td>\n",
       "      <td>224.53</td>\n",
       "      <td>12014.15</td>\n",
       "      <td>11988.14</td>\n",
       "      <td>26.01</td>\n",
       "      <td>0.0</td>\n",
       "      <td>organic</td>\n",
       "      <td>2018</td>\n",
       "      <td>WestTexNewMexico</td>\n",
       "      <td>7</td>\n",
       "      <td>1</td>\n",
       "      <td>2018</td>\n",
       "    </tr>\n",
       "  </tbody>\n",
       "</table>\n",
       "<p>18249 rows × 17 columns</p>\n",
       "</div>"
      ],
      "text/plain": [
       "       Unnamed: 0       Date  AveragePrice  Total Volume     4046       4225  \\\n",
       "0               0 2015-12-27          1.33      64236.62  1036.74   54454.85   \n",
       "1               1 2015-12-20          1.35      54876.98   674.28   44638.81   \n",
       "2               2 2015-12-13          0.93     118220.22   794.70  109149.67   \n",
       "3               3 2015-12-06          1.08      78992.15  1132.00   71976.41   \n",
       "4               4 2015-11-29          1.28      51039.60   941.48   43838.39   \n",
       "...           ...        ...           ...           ...      ...        ...   \n",
       "18244           7 2018-02-04          1.63      17074.83  2046.96    1529.20   \n",
       "18245           8 2018-01-28          1.71      13888.04  1191.70    3431.50   \n",
       "18246           9 2018-01-21          1.87      13766.76  1191.92    2452.79   \n",
       "18247          10 2018-01-14          1.93      16205.22  1527.63    2981.04   \n",
       "18248          11 2018-01-07          1.62      17489.58  2894.77    2356.13   \n",
       "\n",
       "         4770  Total Bags  Small Bags  Large Bags  XLarge Bags          type  \\\n",
       "0       48.16     8696.87     8603.62       93.25          0.0  conventional   \n",
       "1       58.33     9505.56     9408.07       97.49          0.0  conventional   \n",
       "2      130.50     8145.35     8042.21      103.14          0.0  conventional   \n",
       "3       72.58     5811.16     5677.40      133.76          0.0  conventional   \n",
       "4       75.78     6183.95     5986.26      197.69          0.0  conventional   \n",
       "...       ...         ...         ...         ...          ...           ...   \n",
       "18244    0.00    13498.67    13066.82      431.85          0.0       organic   \n",
       "18245    0.00     9264.84     8940.04      324.80          0.0       organic   \n",
       "18246  727.94     9394.11     9351.80       42.31          0.0       organic   \n",
       "18247  727.01    10969.54    10919.54       50.00          0.0       organic   \n",
       "18248  224.53    12014.15    11988.14       26.01          0.0       organic   \n",
       "\n",
       "       year            region Day Month  Year  \n",
       "0      2015            Albany  27    12  2015  \n",
       "1      2015            Albany  20    12  2015  \n",
       "2      2015            Albany  13    12  2015  \n",
       "3      2015            Albany   6    12  2015  \n",
       "4      2015            Albany  29    11  2015  \n",
       "...     ...               ...  ..   ...   ...  \n",
       "18244  2018  WestTexNewMexico   4     2  2018  \n",
       "18245  2018  WestTexNewMexico  28     1  2018  \n",
       "18246  2018  WestTexNewMexico  21     1  2018  \n",
       "18247  2018  WestTexNewMexico  14     1  2018  \n",
       "18248  2018  WestTexNewMexico   7     1  2018  \n",
       "\n",
       "[18249 rows x 17 columns]"
      ]
     },
     "execution_count": 11,
     "metadata": {},
     "output_type": "execute_result"
    }
   ],
   "source": [
    "#frame it into daatframe\n",
    "df=pd.DataFrame(data=ds)\n",
    "df"
   ]
  },
  {
   "cell_type": "markdown",
   "id": "45c7e9fb",
   "metadata": {},
   "source": [
    "Total Volume->4046 + 4225 + 4770 + Total Bags + Small Bags + Large Bags + XLarge Bags"
   ]
  },
  {
   "cell_type": "markdown",
   "id": "d459d577",
   "metadata": {},
   "source": [
    "Total Bags=Small Bags + Large Bags + XLarge Bags"
   ]
  },
  {
   "cell_type": "markdown",
   "id": "dbdcc4d8",
   "metadata": {},
   "source": [
    "Date-->we separate date into day,month,year formate so we remove Date and year columns"
   ]
  },
  {
   "cell_type": "markdown",
   "id": "cde1cc95",
   "metadata": {},
   "source": [
    "Unnames-->no significant"
   ]
  },
  {
   "cell_type": "markdown",
   "id": "f27c7b60",
   "metadata": {},
   "source": [
    "# Clean unuseful data variable"
   ]
  },
  {
   "cell_type": "code",
   "execution_count": 12,
   "id": "a4face14",
   "metadata": {},
   "outputs": [],
   "source": [
    "df.drop(['Unnamed: 0','Date','year','Total Bags','Total Volume'],axis=1,inplace=True)  #drop date bcoz ew split it"
   ]
  },
  {
   "cell_type": "code",
   "execution_count": 13,
   "id": "93718901",
   "metadata": {},
   "outputs": [
    {
     "data": {
      "text/html": [
       "<div>\n",
       "<style scoped>\n",
       "    .dataframe tbody tr th:only-of-type {\n",
       "        vertical-align: middle;\n",
       "    }\n",
       "\n",
       "    .dataframe tbody tr th {\n",
       "        vertical-align: top;\n",
       "    }\n",
       "\n",
       "    .dataframe thead th {\n",
       "        text-align: right;\n",
       "    }\n",
       "</style>\n",
       "<table border=\"1\" class=\"dataframe\">\n",
       "  <thead>\n",
       "    <tr style=\"text-align: right;\">\n",
       "      <th></th>\n",
       "      <th>AveragePrice</th>\n",
       "      <th>4046</th>\n",
       "      <th>4225</th>\n",
       "      <th>4770</th>\n",
       "      <th>Small Bags</th>\n",
       "      <th>Large Bags</th>\n",
       "      <th>XLarge Bags</th>\n",
       "      <th>type</th>\n",
       "      <th>region</th>\n",
       "      <th>Day</th>\n",
       "      <th>Month</th>\n",
       "      <th>Year</th>\n",
       "    </tr>\n",
       "  </thead>\n",
       "  <tbody>\n",
       "    <tr>\n",
       "      <th>0</th>\n",
       "      <td>1.33</td>\n",
       "      <td>1036.74</td>\n",
       "      <td>54454.85</td>\n",
       "      <td>48.16</td>\n",
       "      <td>8603.62</td>\n",
       "      <td>93.25</td>\n",
       "      <td>0.0</td>\n",
       "      <td>conventional</td>\n",
       "      <td>Albany</td>\n",
       "      <td>27</td>\n",
       "      <td>12</td>\n",
       "      <td>2015</td>\n",
       "    </tr>\n",
       "    <tr>\n",
       "      <th>1</th>\n",
       "      <td>1.35</td>\n",
       "      <td>674.28</td>\n",
       "      <td>44638.81</td>\n",
       "      <td>58.33</td>\n",
       "      <td>9408.07</td>\n",
       "      <td>97.49</td>\n",
       "      <td>0.0</td>\n",
       "      <td>conventional</td>\n",
       "      <td>Albany</td>\n",
       "      <td>20</td>\n",
       "      <td>12</td>\n",
       "      <td>2015</td>\n",
       "    </tr>\n",
       "    <tr>\n",
       "      <th>2</th>\n",
       "      <td>0.93</td>\n",
       "      <td>794.70</td>\n",
       "      <td>109149.67</td>\n",
       "      <td>130.50</td>\n",
       "      <td>8042.21</td>\n",
       "      <td>103.14</td>\n",
       "      <td>0.0</td>\n",
       "      <td>conventional</td>\n",
       "      <td>Albany</td>\n",
       "      <td>13</td>\n",
       "      <td>12</td>\n",
       "      <td>2015</td>\n",
       "    </tr>\n",
       "    <tr>\n",
       "      <th>3</th>\n",
       "      <td>1.08</td>\n",
       "      <td>1132.00</td>\n",
       "      <td>71976.41</td>\n",
       "      <td>72.58</td>\n",
       "      <td>5677.40</td>\n",
       "      <td>133.76</td>\n",
       "      <td>0.0</td>\n",
       "      <td>conventional</td>\n",
       "      <td>Albany</td>\n",
       "      <td>6</td>\n",
       "      <td>12</td>\n",
       "      <td>2015</td>\n",
       "    </tr>\n",
       "    <tr>\n",
       "      <th>4</th>\n",
       "      <td>1.28</td>\n",
       "      <td>941.48</td>\n",
       "      <td>43838.39</td>\n",
       "      <td>75.78</td>\n",
       "      <td>5986.26</td>\n",
       "      <td>197.69</td>\n",
       "      <td>0.0</td>\n",
       "      <td>conventional</td>\n",
       "      <td>Albany</td>\n",
       "      <td>29</td>\n",
       "      <td>11</td>\n",
       "      <td>2015</td>\n",
       "    </tr>\n",
       "    <tr>\n",
       "      <th>...</th>\n",
       "      <td>...</td>\n",
       "      <td>...</td>\n",
       "      <td>...</td>\n",
       "      <td>...</td>\n",
       "      <td>...</td>\n",
       "      <td>...</td>\n",
       "      <td>...</td>\n",
       "      <td>...</td>\n",
       "      <td>...</td>\n",
       "      <td>...</td>\n",
       "      <td>...</td>\n",
       "      <td>...</td>\n",
       "    </tr>\n",
       "    <tr>\n",
       "      <th>18244</th>\n",
       "      <td>1.63</td>\n",
       "      <td>2046.96</td>\n",
       "      <td>1529.20</td>\n",
       "      <td>0.00</td>\n",
       "      <td>13066.82</td>\n",
       "      <td>431.85</td>\n",
       "      <td>0.0</td>\n",
       "      <td>organic</td>\n",
       "      <td>WestTexNewMexico</td>\n",
       "      <td>4</td>\n",
       "      <td>2</td>\n",
       "      <td>2018</td>\n",
       "    </tr>\n",
       "    <tr>\n",
       "      <th>18245</th>\n",
       "      <td>1.71</td>\n",
       "      <td>1191.70</td>\n",
       "      <td>3431.50</td>\n",
       "      <td>0.00</td>\n",
       "      <td>8940.04</td>\n",
       "      <td>324.80</td>\n",
       "      <td>0.0</td>\n",
       "      <td>organic</td>\n",
       "      <td>WestTexNewMexico</td>\n",
       "      <td>28</td>\n",
       "      <td>1</td>\n",
       "      <td>2018</td>\n",
       "    </tr>\n",
       "    <tr>\n",
       "      <th>18246</th>\n",
       "      <td>1.87</td>\n",
       "      <td>1191.92</td>\n",
       "      <td>2452.79</td>\n",
       "      <td>727.94</td>\n",
       "      <td>9351.80</td>\n",
       "      <td>42.31</td>\n",
       "      <td>0.0</td>\n",
       "      <td>organic</td>\n",
       "      <td>WestTexNewMexico</td>\n",
       "      <td>21</td>\n",
       "      <td>1</td>\n",
       "      <td>2018</td>\n",
       "    </tr>\n",
       "    <tr>\n",
       "      <th>18247</th>\n",
       "      <td>1.93</td>\n",
       "      <td>1527.63</td>\n",
       "      <td>2981.04</td>\n",
       "      <td>727.01</td>\n",
       "      <td>10919.54</td>\n",
       "      <td>50.00</td>\n",
       "      <td>0.0</td>\n",
       "      <td>organic</td>\n",
       "      <td>WestTexNewMexico</td>\n",
       "      <td>14</td>\n",
       "      <td>1</td>\n",
       "      <td>2018</td>\n",
       "    </tr>\n",
       "    <tr>\n",
       "      <th>18248</th>\n",
       "      <td>1.62</td>\n",
       "      <td>2894.77</td>\n",
       "      <td>2356.13</td>\n",
       "      <td>224.53</td>\n",
       "      <td>11988.14</td>\n",
       "      <td>26.01</td>\n",
       "      <td>0.0</td>\n",
       "      <td>organic</td>\n",
       "      <td>WestTexNewMexico</td>\n",
       "      <td>7</td>\n",
       "      <td>1</td>\n",
       "      <td>2018</td>\n",
       "    </tr>\n",
       "  </tbody>\n",
       "</table>\n",
       "<p>18249 rows × 12 columns</p>\n",
       "</div>"
      ],
      "text/plain": [
       "       AveragePrice     4046       4225    4770  Small Bags  Large Bags  \\\n",
       "0              1.33  1036.74   54454.85   48.16     8603.62       93.25   \n",
       "1              1.35   674.28   44638.81   58.33     9408.07       97.49   \n",
       "2              0.93   794.70  109149.67  130.50     8042.21      103.14   \n",
       "3              1.08  1132.00   71976.41   72.58     5677.40      133.76   \n",
       "4              1.28   941.48   43838.39   75.78     5986.26      197.69   \n",
       "...             ...      ...        ...     ...         ...         ...   \n",
       "18244          1.63  2046.96    1529.20    0.00    13066.82      431.85   \n",
       "18245          1.71  1191.70    3431.50    0.00     8940.04      324.80   \n",
       "18246          1.87  1191.92    2452.79  727.94     9351.80       42.31   \n",
       "18247          1.93  1527.63    2981.04  727.01    10919.54       50.00   \n",
       "18248          1.62  2894.77    2356.13  224.53    11988.14       26.01   \n",
       "\n",
       "       XLarge Bags          type            region Day Month  Year  \n",
       "0              0.0  conventional            Albany  27    12  2015  \n",
       "1              0.0  conventional            Albany  20    12  2015  \n",
       "2              0.0  conventional            Albany  13    12  2015  \n",
       "3              0.0  conventional            Albany   6    12  2015  \n",
       "4              0.0  conventional            Albany  29    11  2015  \n",
       "...            ...           ...               ...  ..   ...   ...  \n",
       "18244          0.0       organic  WestTexNewMexico   4     2  2018  \n",
       "18245          0.0       organic  WestTexNewMexico  28     1  2018  \n",
       "18246          0.0       organic  WestTexNewMexico  21     1  2018  \n",
       "18247          0.0       organic  WestTexNewMexico  14     1  2018  \n",
       "18248          0.0       organic  WestTexNewMexico   7     1  2018  \n",
       "\n",
       "[18249 rows x 12 columns]"
      ]
     },
     "execution_count": 13,
     "metadata": {},
     "output_type": "execute_result"
    }
   ],
   "source": [
    "df"
   ]
  },
  {
   "cell_type": "code",
   "execution_count": 14,
   "id": "8ed8d0bc",
   "metadata": {},
   "outputs": [
    {
     "data": {
      "text/plain": [
       "(18249, 12)"
      ]
     },
     "execution_count": 14,
     "metadata": {},
     "output_type": "execute_result"
    }
   ],
   "source": [
    "df.shape  # check shape of dataset"
   ]
  },
  {
   "cell_type": "markdown",
   "id": "07812a03",
   "metadata": {},
   "source": [
    "In dataset 18249 rows and 12 columns"
   ]
  },
  {
   "cell_type": "code",
   "execution_count": 15,
   "id": "06fa735a",
   "metadata": {},
   "outputs": [
    {
     "name": "stdout",
     "output_type": "stream",
     "text": [
      "<class 'pandas.core.frame.DataFrame'>\n",
      "RangeIndex: 18249 entries, 0 to 18248\n",
      "Data columns (total 12 columns):\n",
      " #   Column        Non-Null Count  Dtype  \n",
      "---  ------        --------------  -----  \n",
      " 0   AveragePrice  18249 non-null  float64\n",
      " 1   4046          18249 non-null  float64\n",
      " 2   4225          18249 non-null  float64\n",
      " 3   4770          18249 non-null  float64\n",
      " 4   Small Bags    18249 non-null  float64\n",
      " 5   Large Bags    18249 non-null  float64\n",
      " 6   XLarge Bags   18249 non-null  float64\n",
      " 7   type          18249 non-null  object \n",
      " 8   region        18249 non-null  object \n",
      " 9   Day           18249 non-null  object \n",
      " 10  Month         18249 non-null  object \n",
      " 11  Year          18249 non-null  object \n",
      "dtypes: float64(7), object(5)\n",
      "memory usage: 1.7+ MB\n"
     ]
    }
   ],
   "source": [
    "df.info()  # get information about dataset"
   ]
  },
  {
   "cell_type": "markdown",
   "id": "70c09954",
   "metadata": {},
   "source": [
    "In dataset 18249 rows and 12 columns. In 12 columns, 5 columns are object type and 7 columns are floating type.Null values not present in dats set"
   ]
  },
  {
   "cell_type": "code",
   "execution_count": 16,
   "id": "ef65a314",
   "metadata": {},
   "outputs": [
    {
     "data": {
      "text/plain": [
       "0"
      ]
     },
     "execution_count": 16,
     "metadata": {},
     "output_type": "execute_result"
    }
   ],
   "source": [
    "df.isnull().sum().sum()   #check total null values present in datset"
   ]
  },
  {
   "cell_type": "markdown",
   "id": "455e7a21",
   "metadata": {},
   "source": [
    "Zero null values present in dataset"
   ]
  },
  {
   "cell_type": "code",
   "execution_count": 17,
   "id": "727ad4ec",
   "metadata": {},
   "outputs": [
    {
     "data": {
      "text/plain": [
       "AveragePrice    0\n",
       "4046            0\n",
       "4225            0\n",
       "4770            0\n",
       "Small Bags      0\n",
       "Large Bags      0\n",
       "XLarge Bags     0\n",
       "type            0\n",
       "region          0\n",
       "Day             0\n",
       "Month           0\n",
       "Year            0\n",
       "dtype: int64"
      ]
     },
     "execution_count": 17,
     "metadata": {},
     "output_type": "execute_result"
    }
   ],
   "source": [
    "df.isnull().sum()  #check null values in all columns"
   ]
  },
  {
   "cell_type": "markdown",
   "id": "b8633209",
   "metadata": {},
   "source": [
    "Null values are not present in columns"
   ]
  },
  {
   "cell_type": "code",
   "execution_count": 18,
   "id": "dc5f3b8c",
   "metadata": {},
   "outputs": [
    {
     "data": {
      "text/plain": [
       "<AxesSubplot:>"
      ]
     },
     "execution_count": 18,
     "metadata": {},
     "output_type": "execute_result"
    },
    {
     "data": {
      "image/png": "[encoded data removed]",
      "text/plain": [
       "<Figure size 432x288 with 2 Axes>"
      ]
     },
     "metadata": {
      "needs_background": "light"
     },
     "output_type": "display_data"
    }
   ],
   "source": [
    "sns.heatmap(df.isnull())   #check null values by visual"
   ]
  },
  {
   "cell_type": "markdown",
   "id": "71ff20b8",
   "metadata": {},
   "source": [
    "No null values present in dataset"
   ]
  },
  {
   "cell_type": "code",
   "execution_count": 19,
   "id": "0f1bab43",
   "metadata": {},
   "outputs": [
    {
     "data": {
      "text/plain": [
       "pandas.core.frame.DataFrame"
      ]
     },
     "execution_count": 19,
     "metadata": {},
     "output_type": "execute_result"
    }
   ],
   "source": [
    "type(df)   #check dataset type"
   ]
  },
  {
   "cell_type": "markdown",
   "id": "87a8e548",
   "metadata": {},
   "source": [
    "# Unique values in categorical data"
   ]
  },
  {
   "cell_type": "code",
   "execution_count": 20,
   "id": "8c23b1b2",
   "metadata": {},
   "outputs": [
    {
     "data": {
      "text/plain": [
       "array(['conventional', 'organic'], dtype=object)"
      ]
     },
     "execution_count": 20,
     "metadata": {},
     "output_type": "execute_result"
    }
   ],
   "source": [
    "df['type'].unique()  #check unique values in type variable"
   ]
  },
  {
   "cell_type": "markdown",
   "id": "ecde1a4f",
   "metadata": {},
   "source": [
    "Only 2 type values conventional and organic "
   ]
  },
  {
   "cell_type": "code",
   "execution_count": 21,
   "id": "0fa5afdf",
   "metadata": {},
   "outputs": [
    {
     "data": {
      "text/plain": [
       "<AxesSubplot:xlabel='type', ylabel='count'>"
      ]
     },
     "execution_count": 21,
     "metadata": {},
     "output_type": "execute_result"
    },
    {
     "data": {
      "image/png": "[encoded data removed]",
      "text/plain": [
       "<Figure size 432x288 with 1 Axes>"
      ]
     },
     "metadata": {
      "needs_background": "light"
     },
     "output_type": "display_data"
    }
   ],
   "source": [
    "sns.countplot(df.type)"
   ]
  },
  {
   "cell_type": "code",
   "execution_count": 22,
   "id": "a9bf70b0",
   "metadata": {},
   "outputs": [
    {
     "data": {
      "text/plain": [
       "array(['Albany', 'Atlanta', 'BaltimoreWashington', 'Boise', 'Boston',\n",
       "       'BuffaloRochester', 'California', 'Charlotte', 'Chicago',\n",
       "       'CincinnatiDayton', 'Columbus', 'DallasFtWorth', 'Denver',\n",
       "       'Detroit', 'GrandRapids', 'GreatLakes', 'HarrisburgScranton',\n",
       "       'HartfordSpringfield', 'Houston', 'Indianapolis', 'Jacksonville',\n",
       "       'LasVegas', 'LosAngeles', 'Louisville', 'MiamiFtLauderdale',\n",
       "       'Midsouth', 'Nashville', 'NewOrleansMobile', 'NewYork',\n",
       "       'Northeast', 'NorthernNewEngland', 'Orlando', 'Philadelphia',\n",
       "       'PhoenixTucson', 'Pittsburgh', 'Plains', 'Portland',\n",
       "       'RaleighGreensboro', 'RichmondNorfolk', 'Roanoke', 'Sacramento',\n",
       "       'SanDiego', 'SanFrancisco', 'Seattle', 'SouthCarolina',\n",
       "       'SouthCentral', 'Southeast', 'Spokane', 'StLouis', 'Syracuse',\n",
       "       'Tampa', 'TotalUS', 'West', 'WestTexNewMexico'], dtype=object)"
      ]
     },
     "execution_count": 22,
     "metadata": {},
     "output_type": "execute_result"
    }
   ],
   "source": [
    "df['region'].unique()  #check unique values in region variable"
   ]
  },
  {
   "cell_type": "code",
   "execution_count": 23,
   "id": "33053039",
   "metadata": {},
   "outputs": [
    {
     "data": {
      "text/plain": [
       "<seaborn.axisgrid.FacetGrid at 0x1e64c5261f0>"
      ]
     },
     "execution_count": 23,
     "metadata": {},
     "output_type": "execute_result"
    },
    {
     "data": {
      "image/png": "[encoded data removed]",
      "text/plain": [
       "<Figure size 360x360 with 1 Axes>"
      ]
     },
     "metadata": {
      "needs_background": "light"
     },
     "output_type": "display_data"
    }
   ],
   "source": [
    "sns.catplot(x='type',y='AveragePrice',kind='bar',data=df)"
   ]
  },
  {
   "cell_type": "markdown",
   "id": "8f14661e",
   "metadata": {},
   "source": [
    "The price of organic avogado is more compare to conventional type avogado."
   ]
  },
  {
   "cell_type": "markdown",
   "id": "209a8bf0",
   "metadata": {},
   "source": [
    "# Apply encoder method"
   ]
  },
  {
   "cell_type": "code",
   "execution_count": 24,
   "id": "193dfe15",
   "metadata": {},
   "outputs": [],
   "source": [
    "from sklearn.preprocessing import LabelEncoder"
   ]
  },
  {
   "cell_type": "code",
   "execution_count": 25,
   "id": "a97170aa",
   "metadata": {},
   "outputs": [],
   "source": [
    "le=LabelEncoder()"
   ]
  },
  {
   "cell_type": "code",
   "execution_count": 26,
   "id": "30aadc9e",
   "metadata": {},
   "outputs": [],
   "source": [
    "list1=['type','region','Day','Month','Year']\n",
    "for i in list1:\n",
    "    df[i]=le.fit_transform(df[i].astype(str))"
   ]
  },
  {
   "cell_type": "code",
   "execution_count": 27,
   "id": "d8e880fd",
   "metadata": {},
   "outputs": [
    {
     "data": {
      "text/html": [
       "<div>\n",
       "<style scoped>\n",
       "    .dataframe tbody tr th:only-of-type {\n",
       "        vertical-align: middle;\n",
       "    }\n",
       "\n",
       "    .dataframe tbody tr th {\n",
       "        vertical-align: top;\n",
       "    }\n",
       "\n",
       "    .dataframe thead th {\n",
       "        text-align: right;\n",
       "    }\n",
       "</style>\n",
       "<table border=\"1\" class=\"dataframe\">\n",
       "  <thead>\n",
       "    <tr style=\"text-align: right;\">\n",
       "      <th></th>\n",
       "      <th>AveragePrice</th>\n",
       "      <th>4046</th>\n",
       "      <th>4225</th>\n",
       "      <th>4770</th>\n",
       "      <th>Small Bags</th>\n",
       "      <th>Large Bags</th>\n",
       "      <th>XLarge Bags</th>\n",
       "      <th>type</th>\n",
       "      <th>region</th>\n",
       "      <th>Day</th>\n",
       "      <th>Month</th>\n",
       "      <th>Year</th>\n",
       "    </tr>\n",
       "  </thead>\n",
       "  <tbody>\n",
       "    <tr>\n",
       "      <th>0</th>\n",
       "      <td>1.33</td>\n",
       "      <td>1036.74</td>\n",
       "      <td>54454.85</td>\n",
       "      <td>48.16</td>\n",
       "      <td>8603.62</td>\n",
       "      <td>93.25</td>\n",
       "      <td>0.0</td>\n",
       "      <td>0</td>\n",
       "      <td>0</td>\n",
       "      <td>19</td>\n",
       "      <td>3</td>\n",
       "      <td>0</td>\n",
       "    </tr>\n",
       "    <tr>\n",
       "      <th>1</th>\n",
       "      <td>1.35</td>\n",
       "      <td>674.28</td>\n",
       "      <td>44638.81</td>\n",
       "      <td>58.33</td>\n",
       "      <td>9408.07</td>\n",
       "      <td>97.49</td>\n",
       "      <td>0.0</td>\n",
       "      <td>0</td>\n",
       "      <td>0</td>\n",
       "      <td>12</td>\n",
       "      <td>3</td>\n",
       "      <td>0</td>\n",
       "    </tr>\n",
       "    <tr>\n",
       "      <th>2</th>\n",
       "      <td>0.93</td>\n",
       "      <td>794.70</td>\n",
       "      <td>109149.67</td>\n",
       "      <td>130.50</td>\n",
       "      <td>8042.21</td>\n",
       "      <td>103.14</td>\n",
       "      <td>0.0</td>\n",
       "      <td>0</td>\n",
       "      <td>0</td>\n",
       "      <td>4</td>\n",
       "      <td>3</td>\n",
       "      <td>0</td>\n",
       "    </tr>\n",
       "    <tr>\n",
       "      <th>3</th>\n",
       "      <td>1.08</td>\n",
       "      <td>1132.00</td>\n",
       "      <td>71976.41</td>\n",
       "      <td>72.58</td>\n",
       "      <td>5677.40</td>\n",
       "      <td>133.76</td>\n",
       "      <td>0.0</td>\n",
       "      <td>0</td>\n",
       "      <td>0</td>\n",
       "      <td>27</td>\n",
       "      <td>3</td>\n",
       "      <td>0</td>\n",
       "    </tr>\n",
       "    <tr>\n",
       "      <th>4</th>\n",
       "      <td>1.28</td>\n",
       "      <td>941.48</td>\n",
       "      <td>43838.39</td>\n",
       "      <td>75.78</td>\n",
       "      <td>5986.26</td>\n",
       "      <td>197.69</td>\n",
       "      <td>0.0</td>\n",
       "      <td>0</td>\n",
       "      <td>0</td>\n",
       "      <td>21</td>\n",
       "      <td>2</td>\n",
       "      <td>0</td>\n",
       "    </tr>\n",
       "    <tr>\n",
       "      <th>...</th>\n",
       "      <td>...</td>\n",
       "      <td>...</td>\n",
       "      <td>...</td>\n",
       "      <td>...</td>\n",
       "      <td>...</td>\n",
       "      <td>...</td>\n",
       "      <td>...</td>\n",
       "      <td>...</td>\n",
       "      <td>...</td>\n",
       "      <td>...</td>\n",
       "      <td>...</td>\n",
       "      <td>...</td>\n",
       "    </tr>\n",
       "    <tr>\n",
       "      <th>18244</th>\n",
       "      <td>1.63</td>\n",
       "      <td>2046.96</td>\n",
       "      <td>1529.20</td>\n",
       "      <td>0.00</td>\n",
       "      <td>13066.82</td>\n",
       "      <td>431.85</td>\n",
       "      <td>0.0</td>\n",
       "      <td>1</td>\n",
       "      <td>53</td>\n",
       "      <td>25</td>\n",
       "      <td>4</td>\n",
       "      <td>3</td>\n",
       "    </tr>\n",
       "    <tr>\n",
       "      <th>18245</th>\n",
       "      <td>1.71</td>\n",
       "      <td>1191.70</td>\n",
       "      <td>3431.50</td>\n",
       "      <td>0.00</td>\n",
       "      <td>8940.04</td>\n",
       "      <td>324.80</td>\n",
       "      <td>0.0</td>\n",
       "      <td>1</td>\n",
       "      <td>53</td>\n",
       "      <td>20</td>\n",
       "      <td>0</td>\n",
       "      <td>3</td>\n",
       "    </tr>\n",
       "    <tr>\n",
       "      <th>18246</th>\n",
       "      <td>1.87</td>\n",
       "      <td>1191.92</td>\n",
       "      <td>2452.79</td>\n",
       "      <td>727.94</td>\n",
       "      <td>9351.80</td>\n",
       "      <td>42.31</td>\n",
       "      <td>0.0</td>\n",
       "      <td>1</td>\n",
       "      <td>53</td>\n",
       "      <td>13</td>\n",
       "      <td>0</td>\n",
       "      <td>3</td>\n",
       "    </tr>\n",
       "    <tr>\n",
       "      <th>18247</th>\n",
       "      <td>1.93</td>\n",
       "      <td>1527.63</td>\n",
       "      <td>2981.04</td>\n",
       "      <td>727.01</td>\n",
       "      <td>10919.54</td>\n",
       "      <td>50.00</td>\n",
       "      <td>0.0</td>\n",
       "      <td>1</td>\n",
       "      <td>53</td>\n",
       "      <td>5</td>\n",
       "      <td>0</td>\n",
       "      <td>3</td>\n",
       "    </tr>\n",
       "    <tr>\n",
       "      <th>18248</th>\n",
       "      <td>1.62</td>\n",
       "      <td>2894.77</td>\n",
       "      <td>2356.13</td>\n",
       "      <td>224.53</td>\n",
       "      <td>11988.14</td>\n",
       "      <td>26.01</td>\n",
       "      <td>0.0</td>\n",
       "      <td>1</td>\n",
       "      <td>53</td>\n",
       "      <td>28</td>\n",
       "      <td>0</td>\n",
       "      <td>3</td>\n",
       "    </tr>\n",
       "  </tbody>\n",
       "</table>\n",
       "<p>18249 rows × 12 columns</p>\n",
       "</div>"
      ],
      "text/plain": [
       "       AveragePrice     4046       4225    4770  Small Bags  Large Bags  \\\n",
       "0              1.33  1036.74   54454.85   48.16     8603.62       93.25   \n",
       "1              1.35   674.28   44638.81   58.33     9408.07       97.49   \n",
       "2              0.93   794.70  109149.67  130.50     8042.21      103.14   \n",
       "3              1.08  1132.00   71976.41   72.58     5677.40      133.76   \n",
       "4              1.28   941.48   43838.39   75.78     5986.26      197.69   \n",
       "...             ...      ...        ...     ...         ...         ...   \n",
       "18244          1.63  2046.96    1529.20    0.00    13066.82      431.85   \n",
       "18245          1.71  1191.70    3431.50    0.00     8940.04      324.80   \n",
       "18246          1.87  1191.92    2452.79  727.94     9351.80       42.31   \n",
       "18247          1.93  1527.63    2981.04  727.01    10919.54       50.00   \n",
       "18248          1.62  2894.77    2356.13  224.53    11988.14       26.01   \n",
       "\n",
       "       XLarge Bags  type  region  Day  Month  Year  \n",
       "0              0.0     0       0   19      3     0  \n",
       "1              0.0     0       0   12      3     0  \n",
       "2              0.0     0       0    4      3     0  \n",
       "3              0.0     0       0   27      3     0  \n",
       "4              0.0     0       0   21      2     0  \n",
       "...            ...   ...     ...  ...    ...   ...  \n",
       "18244          0.0     1      53   25      4     3  \n",
       "18245          0.0     1      53   20      0     3  \n",
       "18246          0.0     1      53   13      0     3  \n",
       "18247          0.0     1      53    5      0     3  \n",
       "18248          0.0     1      53   28      0     3  \n",
       "\n",
       "[18249 rows x 12 columns]"
      ]
     },
     "execution_count": 27,
     "metadata": {},
     "output_type": "execute_result"
    }
   ],
   "source": [
    "df"
   ]
  },
  {
   "cell_type": "code",
   "execution_count": 28,
   "id": "b7c1b42b",
   "metadata": {},
   "outputs": [
    {
     "name": "stdout",
     "output_type": "stream",
     "text": [
      "<class 'pandas.core.frame.DataFrame'>\n",
      "RangeIndex: 18249 entries, 0 to 18248\n",
      "Data columns (total 12 columns):\n",
      " #   Column        Non-Null Count  Dtype  \n",
      "---  ------        --------------  -----  \n",
      " 0   AveragePrice  18249 non-null  float64\n",
      " 1   4046          18249 non-null  float64\n",
      " 2   4225          18249 non-null  float64\n",
      " 3   4770          18249 non-null  float64\n",
      " 4   Small Bags    18249 non-null  float64\n",
      " 5   Large Bags    18249 non-null  float64\n",
      " 6   XLarge Bags   18249 non-null  float64\n",
      " 7   type          18249 non-null  int32  \n",
      " 8   region        18249 non-null  int32  \n",
      " 9   Day           18249 non-null  int32  \n",
      " 10  Month         18249 non-null  int32  \n",
      " 11  Year          18249 non-null  int32  \n",
      "dtypes: float64(7), int32(5)\n",
      "memory usage: 1.3 MB\n"
     ]
    }
   ],
   "source": [
    "df.info()  #check information after apply encodeding method"
   ]
  },
  {
   "cell_type": "markdown",
   "id": "2791b835",
   "metadata": {},
   "source": [
    "no object and null values peresent"
   ]
  },
  {
   "cell_type": "markdown",
   "id": "31859284",
   "metadata": {},
   "source": [
    "# Statistic of Dataset"
   ]
  },
  {
   "cell_type": "code",
   "execution_count": 29,
   "id": "fb3d37ca",
   "metadata": {},
   "outputs": [
    {
     "data": {
      "text/html": [
       "<div>\n",
       "<style scoped>\n",
       "    .dataframe tbody tr th:only-of-type {\n",
       "        vertical-align: middle;\n",
       "    }\n",
       "\n",
       "    .dataframe tbody tr th {\n",
       "        vertical-align: top;\n",
       "    }\n",
       "\n",
       "    .dataframe thead th {\n",
       "        text-align: right;\n",
       "    }\n",
       "</style>\n",
       "<table border=\"1\" class=\"dataframe\">\n",
       "  <thead>\n",
       "    <tr style=\"text-align: right;\">\n",
       "      <th></th>\n",
       "      <th>AveragePrice</th>\n",
       "      <th>4046</th>\n",
       "      <th>4225</th>\n",
       "      <th>4770</th>\n",
       "      <th>Small Bags</th>\n",
       "      <th>Large Bags</th>\n",
       "      <th>XLarge Bags</th>\n",
       "      <th>type</th>\n",
       "      <th>region</th>\n",
       "      <th>Day</th>\n",
       "      <th>Month</th>\n",
       "      <th>Year</th>\n",
       "    </tr>\n",
       "  </thead>\n",
       "  <tbody>\n",
       "    <tr>\n",
       "      <th>count</th>\n",
       "      <td>18249.000000</td>\n",
       "      <td>1.824900e+04</td>\n",
       "      <td>1.824900e+04</td>\n",
       "      <td>1.824900e+04</td>\n",
       "      <td>1.824900e+04</td>\n",
       "      <td>1.824900e+04</td>\n",
       "      <td>18249.000000</td>\n",
       "      <td>18249.000000</td>\n",
       "      <td>18249.000000</td>\n",
       "      <td>18249.000000</td>\n",
       "      <td>18249.000000</td>\n",
       "      <td>18249.000000</td>\n",
       "    </tr>\n",
       "    <tr>\n",
       "      <th>mean</th>\n",
       "      <td>1.405978</td>\n",
       "      <td>2.930084e+05</td>\n",
       "      <td>2.951546e+05</td>\n",
       "      <td>2.283974e+04</td>\n",
       "      <td>1.821947e+05</td>\n",
       "      <td>5.433809e+04</td>\n",
       "      <td>3106.426507</td>\n",
       "      <td>0.499918</td>\n",
       "      <td>26.495644</td>\n",
       "      <td>14.638556</td>\n",
       "      <td>5.254261</td>\n",
       "      <td>1.147899</td>\n",
       "    </tr>\n",
       "    <tr>\n",
       "      <th>std</th>\n",
       "      <td>0.402677</td>\n",
       "      <td>1.264989e+06</td>\n",
       "      <td>1.204120e+06</td>\n",
       "      <td>1.074641e+05</td>\n",
       "      <td>7.461785e+05</td>\n",
       "      <td>2.439660e+05</td>\n",
       "      <td>17692.894652</td>\n",
       "      <td>0.500014</td>\n",
       "      <td>15.583788</td>\n",
       "      <td>8.985265</td>\n",
       "      <td>3.445529</td>\n",
       "      <td>0.939938</td>\n",
       "    </tr>\n",
       "    <tr>\n",
       "      <th>min</th>\n",
       "      <td>0.440000</td>\n",
       "      <td>0.000000e+00</td>\n",
       "      <td>0.000000e+00</td>\n",
       "      <td>0.000000e+00</td>\n",
       "      <td>0.000000e+00</td>\n",
       "      <td>0.000000e+00</td>\n",
       "      <td>0.000000</td>\n",
       "      <td>0.000000</td>\n",
       "      <td>0.000000</td>\n",
       "      <td>0.000000</td>\n",
       "      <td>0.000000</td>\n",
       "      <td>0.000000</td>\n",
       "    </tr>\n",
       "    <tr>\n",
       "      <th>25%</th>\n",
       "      <td>1.100000</td>\n",
       "      <td>8.540700e+02</td>\n",
       "      <td>3.008780e+03</td>\n",
       "      <td>0.000000e+00</td>\n",
       "      <td>2.849420e+03</td>\n",
       "      <td>1.274700e+02</td>\n",
       "      <td>0.000000</td>\n",
       "      <td>0.000000</td>\n",
       "      <td>13.000000</td>\n",
       "      <td>7.000000</td>\n",
       "      <td>2.000000</td>\n",
       "      <td>0.000000</td>\n",
       "    </tr>\n",
       "    <tr>\n",
       "      <th>50%</th>\n",
       "      <td>1.370000</td>\n",
       "      <td>8.645300e+03</td>\n",
       "      <td>2.906102e+04</td>\n",
       "      <td>1.849900e+02</td>\n",
       "      <td>2.636282e+04</td>\n",
       "      <td>2.647710e+03</td>\n",
       "      <td>0.000000</td>\n",
       "      <td>0.000000</td>\n",
       "      <td>26.000000</td>\n",
       "      <td>15.000000</td>\n",
       "      <td>5.000000</td>\n",
       "      <td>1.000000</td>\n",
       "    </tr>\n",
       "    <tr>\n",
       "      <th>75%</th>\n",
       "      <td>1.660000</td>\n",
       "      <td>1.110202e+05</td>\n",
       "      <td>1.502069e+05</td>\n",
       "      <td>6.243420e+03</td>\n",
       "      <td>8.333767e+04</td>\n",
       "      <td>2.202925e+04</td>\n",
       "      <td>132.500000</td>\n",
       "      <td>1.000000</td>\n",
       "      <td>40.000000</td>\n",
       "      <td>22.000000</td>\n",
       "      <td>8.000000</td>\n",
       "      <td>2.000000</td>\n",
       "    </tr>\n",
       "    <tr>\n",
       "      <th>max</th>\n",
       "      <td>3.250000</td>\n",
       "      <td>2.274362e+07</td>\n",
       "      <td>2.047057e+07</td>\n",
       "      <td>2.546439e+06</td>\n",
       "      <td>1.338459e+07</td>\n",
       "      <td>5.719097e+06</td>\n",
       "      <td>551693.650000</td>\n",
       "      <td>1.000000</td>\n",
       "      <td>53.000000</td>\n",
       "      <td>30.000000</td>\n",
       "      <td>11.000000</td>\n",
       "      <td>3.000000</td>\n",
       "    </tr>\n",
       "  </tbody>\n",
       "</table>\n",
       "</div>"
      ],
      "text/plain": [
       "       AveragePrice          4046          4225          4770    Small Bags  \\\n",
       "count  18249.000000  1.824900e+04  1.824900e+04  1.824900e+04  1.824900e+04   \n",
       "mean       1.405978  2.930084e+05  2.951546e+05  2.283974e+04  1.821947e+05   \n",
       "std        0.402677  1.264989e+06  1.204120e+06  1.074641e+05  7.461785e+05   \n",
       "min        0.440000  0.000000e+00  0.000000e+00  0.000000e+00  0.000000e+00   \n",
       "25%        1.100000  8.540700e+02  3.008780e+03  0.000000e+00  2.849420e+03   \n",
       "50%        1.370000  8.645300e+03  2.906102e+04  1.849900e+02  2.636282e+04   \n",
       "75%        1.660000  1.110202e+05  1.502069e+05  6.243420e+03  8.333767e+04   \n",
       "max        3.250000  2.274362e+07  2.047057e+07  2.546439e+06  1.338459e+07   \n",
       "\n",
       "         Large Bags    XLarge Bags          type        region           Day  \\\n",
       "count  1.824900e+04   18249.000000  18249.000000  18249.000000  18249.000000   \n",
       "mean   5.433809e+04    3106.426507      0.499918     26.495644     14.638556   \n",
       "std    2.439660e+05   17692.894652      0.500014     15.583788      8.985265   \n",
       "min    0.000000e+00       0.000000      0.000000      0.000000      0.000000   \n",
       "25%    1.274700e+02       0.000000      0.000000     13.000000      7.000000   \n",
       "50%    2.647710e+03       0.000000      0.000000     26.000000     15.000000   \n",
       "75%    2.202925e+04     132.500000      1.000000     40.000000     22.000000   \n",
       "max    5.719097e+06  551693.650000      1.000000     53.000000     30.000000   \n",
       "\n",
       "              Month          Year  \n",
       "count  18249.000000  18249.000000  \n",
       "mean       5.254261      1.147899  \n",
       "std        3.445529      0.939938  \n",
       "min        0.000000      0.000000  \n",
       "25%        2.000000      0.000000  \n",
       "50%        5.000000      1.000000  \n",
       "75%        8.000000      2.000000  \n",
       "max       11.000000      3.000000  "
      ]
     },
     "execution_count": 29,
     "metadata": {},
     "output_type": "execute_result"
    }
   ],
   "source": [
    "df.describe()  #check statistic of avocada"
   ]
  },
  {
   "cell_type": "code",
   "execution_count": 30,
   "id": "ce953e33",
   "metadata": {},
   "outputs": [
    {
     "data": {
      "image/png": "[encoded data removed]",
      "text/plain": [
       "<Figure size 1440x360 with 2 Axes>"
      ]
     },
     "metadata": {
      "needs_background": "light"
     },
     "output_type": "display_data"
    }
   ],
   "source": [
    "plt.figure(figsize=(20,5))\n",
    "sns.heatmap(df.describe(),annot=True,linewidth=1,linecolor='y')\n",
    "plt.title('Statistic of Avocado dataset')\n",
    "plt.savefig('Statistic of Avocado dataset')\n",
    "plt.show()"
   ]
  },
  {
   "cell_type": "markdown",
   "id": "2fa0c447",
   "metadata": {},
   "source": [
    "# Check Outliers --->Boxplot"
   ]
  },
  {
   "cell_type": "code",
   "execution_count": 31,
   "id": "eb7c54f3",
   "metadata": {},
   "outputs": [],
   "source": [
    "col=df.columns\n",
    "ncol=6\n",
    "nrow=15"
   ]
  },
  {
   "cell_type": "code",
   "execution_count": 32,
   "id": "9f19a10d",
   "metadata": {},
   "outputs": [
    {
     "data": {
      "image/png": "[encoded data removed]",
      "text/plain": [
       "<Figure size 432x3456 with 12 Axes>"
      ]
     },
     "metadata": {
      "needs_background": "light"
     },
     "output_type": "display_data"
    }
   ],
   "source": [
    "plt.figure(figsize=(ncol,8*ncol))\n",
    "for i in range(len(col)):\n",
    "    plt.subplot(nrow,ncol,i+1)\n",
    "    plt.title(i)\n",
    "    sns.boxplot(data=df[col[i]],color='r',orient='v')\n",
    "    plt.savefig('Outliers of dataset Avocado')\n",
    "    plt.tight_layout()"
   ]
  },
  {
   "cell_type": "markdown",
   "id": "31197a36",
   "metadata": {},
   "source": [
    "Outliers are present in Average_price,4046,4225,4770,Small_bags,Large_bags,Xlarge_bags."
   ]
  },
  {
   "cell_type": "code",
   "execution_count": 33,
   "id": "03c7bf25",
   "metadata": {
    "scrolled": false
   },
   "outputs": [
    {
     "data": {
      "image/png": "[encoded data removed]",
      "text/plain": [
       "<Figure size 216x360 with 1 Axes>"
      ]
     },
     "metadata": {
      "needs_background": "light"
     },
     "output_type": "display_data"
    },
    {
     "data": {
      "image/png": "[encoded data removed]",
      "text/plain": [
       "<Figure size 216x360 with 1 Axes>"
      ]
     },
     "metadata": {
      "needs_background": "light"
     },
     "output_type": "display_data"
    },
    {
     "data": {
      "image/png": "[encoded data removed]",
      "text/plain": [
       "<Figure size 216x360 with 1 Axes>"
      ]
     },
     "metadata": {
      "needs_background": "light"
     },
     "output_type": "display_data"
    },
    {
     "data": {
      "image/png": "[encoded data removed]",
      "text/plain": [
       "<Figure size 216x360 with 1 Axes>"
      ]
     },
     "metadata": {
      "needs_background": "light"
     },
     "output_type": "display_data"
    },
    {
     "data": {
      "image/png": "[encoded data removed]",
      "text/plain": [
       "<Figure size 216x360 with 1 Axes>"
      ]
     },
     "metadata": {
      "needs_background": "light"
     },
     "output_type": "display_data"
    },
    {
     "data": {
      "image/png": "[encoded data removed]",
      "text/plain": [
       "<Figure size 216x360 with 1 Axes>"
      ]
     },
     "metadata": {
      "needs_background": "light"
     },
     "output_type": "display_data"
    },
    {
     "data": {
      "image/png": "[encoded data removed]",
      "text/plain": [
       "<Figure size 216x360 with 1 Axes>"
      ]
     },
     "metadata": {
      "needs_background": "light"
     },
     "output_type": "display_data"
    },
    {
     "data": {
      "image/png": "[encoded data removed]",
      "text/plain": [
       "<Figure size 216x360 with 1 Axes>"
      ]
     },
     "metadata": {
      "needs_background": "light"
     },
     "output_type": "display_data"
    },
    {
     "data": {
      "image/png": "[encoded data removed]",
      "text/plain": [
       "<Figure size 216x360 with 1 Axes>"
      ]
     },
     "metadata": {
      "needs_background": "light"
     },
     "output_type": "display_data"
    },
    {
     "data": {
      "image/png": "[encoded data removed]",
      "text/plain": [
       "<Figure size 216x360 with 1 Axes>"
      ]
     },
     "metadata": {
      "needs_background": "light"
     },
     "output_type": "display_data"
    },
    {
     "data": {
      "image/png": "[encoded data removed]",
      "text/plain": [
       "<Figure size 216x360 with 1 Axes>"
      ]
     },
     "metadata": {
      "needs_background": "light"
     },
     "output_type": "display_data"
    },
    {
     "data": {
      "image/png": "[encoded data removed]",
      "text/plain": [
       "<Figure size 216x360 with 1 Axes>"
      ]
     },
     "metadata": {
      "needs_background": "light"
     },
     "output_type": "display_data"
    }
   ],
   "source": [
    "for i in df.columns:\n",
    "    plt.figure(figsize=(3,5))\n",
    "    plt.title(i)\n",
    "    sns.boxplot(data=df[i])\n",
    "    plt.show()"
   ]
  },
  {
   "cell_type": "markdown",
   "id": "6860b637",
   "metadata": {},
   "source": [
    "Outliers are present in Average_price,Total_volume,4046,4225,4770,Total_bags,Small_bags,Large_bags,Xlarge_bags."
   ]
  },
  {
   "cell_type": "markdown",
   "id": "8e3d66f0",
   "metadata": {},
   "source": [
    "# Check Correlation Between Dataset Variable"
   ]
  },
  {
   "cell_type": "code",
   "execution_count": 34,
   "id": "910f2f92",
   "metadata": {},
   "outputs": [
    {
     "data": {
      "text/html": [
       "<div>\n",
       "<style scoped>\n",
       "    .dataframe tbody tr th:only-of-type {\n",
       "        vertical-align: middle;\n",
       "    }\n",
       "\n",
       "    .dataframe tbody tr th {\n",
       "        vertical-align: top;\n",
       "    }\n",
       "\n",
       "    .dataframe thead th {\n",
       "        text-align: right;\n",
       "    }\n",
       "</style>\n",
       "<table border=\"1\" class=\"dataframe\">\n",
       "  <thead>\n",
       "    <tr style=\"text-align: right;\">\n",
       "      <th></th>\n",
       "      <th>AveragePrice</th>\n",
       "      <th>4046</th>\n",
       "      <th>4225</th>\n",
       "      <th>4770</th>\n",
       "      <th>Small Bags</th>\n",
       "      <th>Large Bags</th>\n",
       "      <th>XLarge Bags</th>\n",
       "      <th>type</th>\n",
       "      <th>region</th>\n",
       "      <th>Day</th>\n",
       "      <th>Month</th>\n",
       "      <th>Year</th>\n",
       "    </tr>\n",
       "  </thead>\n",
       "  <tbody>\n",
       "    <tr>\n",
       "      <th>AveragePrice</th>\n",
       "      <td>1.000000</td>\n",
       "      <td>-0.208317</td>\n",
       "      <td>-0.172928</td>\n",
       "      <td>-0.179446</td>\n",
       "      <td>-0.174730</td>\n",
       "      <td>-0.172940</td>\n",
       "      <td>-0.117592</td>\n",
       "      <td>0.615845</td>\n",
       "      <td>-0.011716</td>\n",
       "      <td>0.005108</td>\n",
       "      <td>0.089738</td>\n",
       "      <td>0.093197</td>\n",
       "    </tr>\n",
       "    <tr>\n",
       "      <th>4046</th>\n",
       "      <td>-0.208317</td>\n",
       "      <td>1.000000</td>\n",
       "      <td>0.926110</td>\n",
       "      <td>0.833389</td>\n",
       "      <td>0.925280</td>\n",
       "      <td>0.838645</td>\n",
       "      <td>0.699377</td>\n",
       "      <td>-0.225819</td>\n",
       "      <td>0.192073</td>\n",
       "      <td>0.004189</td>\n",
       "      <td>0.009885</td>\n",
       "      <td>0.003353</td>\n",
       "    </tr>\n",
       "    <tr>\n",
       "      <th>4225</th>\n",
       "      <td>-0.172928</td>\n",
       "      <td>0.926110</td>\n",
       "      <td>1.000000</td>\n",
       "      <td>0.887855</td>\n",
       "      <td>0.916031</td>\n",
       "      <td>0.810015</td>\n",
       "      <td>0.688809</td>\n",
       "      <td>-0.232289</td>\n",
       "      <td>0.145726</td>\n",
       "      <td>0.004262</td>\n",
       "      <td>0.000741</td>\n",
       "      <td>-0.009559</td>\n",
       "    </tr>\n",
       "    <tr>\n",
       "      <th>4770</th>\n",
       "      <td>-0.179446</td>\n",
       "      <td>0.833389</td>\n",
       "      <td>0.887855</td>\n",
       "      <td>1.000000</td>\n",
       "      <td>0.802733</td>\n",
       "      <td>0.698471</td>\n",
       "      <td>0.679861</td>\n",
       "      <td>-0.210027</td>\n",
       "      <td>0.095252</td>\n",
       "      <td>0.003424</td>\n",
       "      <td>0.007966</td>\n",
       "      <td>-0.036531</td>\n",
       "    </tr>\n",
       "    <tr>\n",
       "      <th>Small Bags</th>\n",
       "      <td>-0.174730</td>\n",
       "      <td>0.925280</td>\n",
       "      <td>0.916031</td>\n",
       "      <td>0.802733</td>\n",
       "      <td>1.000000</td>\n",
       "      <td>0.902589</td>\n",
       "      <td>0.806845</td>\n",
       "      <td>-0.220535</td>\n",
       "      <td>0.164702</td>\n",
       "      <td>0.003565</td>\n",
       "      <td>0.002640</td>\n",
       "      <td>0.063915</td>\n",
       "    </tr>\n",
       "    <tr>\n",
       "      <th>Large Bags</th>\n",
       "      <td>-0.172940</td>\n",
       "      <td>0.838645</td>\n",
       "      <td>0.810015</td>\n",
       "      <td>0.698471</td>\n",
       "      <td>0.902589</td>\n",
       "      <td>1.000000</td>\n",
       "      <td>0.710858</td>\n",
       "      <td>-0.193177</td>\n",
       "      <td>0.198768</td>\n",
       "      <td>0.001485</td>\n",
       "      <td>-0.015027</td>\n",
       "      <td>0.087891</td>\n",
       "    </tr>\n",
       "    <tr>\n",
       "      <th>XLarge Bags</th>\n",
       "      <td>-0.117592</td>\n",
       "      <td>0.699377</td>\n",
       "      <td>0.688809</td>\n",
       "      <td>0.679861</td>\n",
       "      <td>0.806845</td>\n",
       "      <td>0.710858</td>\n",
       "      <td>1.000000</td>\n",
       "      <td>-0.175483</td>\n",
       "      <td>0.082281</td>\n",
       "      <td>0.007030</td>\n",
       "      <td>0.044398</td>\n",
       "      <td>0.081033</td>\n",
       "    </tr>\n",
       "    <tr>\n",
       "      <th>type</th>\n",
       "      <td>0.615845</td>\n",
       "      <td>-0.225819</td>\n",
       "      <td>-0.232289</td>\n",
       "      <td>-0.210027</td>\n",
       "      <td>-0.220535</td>\n",
       "      <td>-0.193177</td>\n",
       "      <td>-0.175483</td>\n",
       "      <td>1.000000</td>\n",
       "      <td>-0.000280</td>\n",
       "      <td>-0.000055</td>\n",
       "      <td>-0.000051</td>\n",
       "      <td>-0.000032</td>\n",
       "    </tr>\n",
       "    <tr>\n",
       "      <th>region</th>\n",
       "      <td>-0.011716</td>\n",
       "      <td>0.192073</td>\n",
       "      <td>0.145726</td>\n",
       "      <td>0.095252</td>\n",
       "      <td>0.164702</td>\n",
       "      <td>0.198768</td>\n",
       "      <td>0.082281</td>\n",
       "      <td>-0.000280</td>\n",
       "      <td>1.000000</td>\n",
       "      <td>-0.000094</td>\n",
       "      <td>-0.000088</td>\n",
       "      <td>-0.000055</td>\n",
       "    </tr>\n",
       "    <tr>\n",
       "      <th>Day</th>\n",
       "      <td>0.005108</td>\n",
       "      <td>0.004189</td>\n",
       "      <td>0.004262</td>\n",
       "      <td>0.003424</td>\n",
       "      <td>0.003565</td>\n",
       "      <td>0.001485</td>\n",
       "      <td>0.007030</td>\n",
       "      <td>-0.000055</td>\n",
       "      <td>-0.000094</td>\n",
       "      <td>1.000000</td>\n",
       "      <td>0.019282</td>\n",
       "      <td>0.002930</td>\n",
       "    </tr>\n",
       "    <tr>\n",
       "      <th>Month</th>\n",
       "      <td>0.089738</td>\n",
       "      <td>0.009885</td>\n",
       "      <td>0.000741</td>\n",
       "      <td>0.007966</td>\n",
       "      <td>0.002640</td>\n",
       "      <td>-0.015027</td>\n",
       "      <td>0.044398</td>\n",
       "      <td>-0.000051</td>\n",
       "      <td>-0.000088</td>\n",
       "      <td>0.019282</td>\n",
       "      <td>1.000000</td>\n",
       "      <td>-0.117741</td>\n",
       "    </tr>\n",
       "    <tr>\n",
       "      <th>Year</th>\n",
       "      <td>0.093197</td>\n",
       "      <td>0.003353</td>\n",
       "      <td>-0.009559</td>\n",
       "      <td>-0.036531</td>\n",
       "      <td>0.063915</td>\n",
       "      <td>0.087891</td>\n",
       "      <td>0.081033</td>\n",
       "      <td>-0.000032</td>\n",
       "      <td>-0.000055</td>\n",
       "      <td>0.002930</td>\n",
       "      <td>-0.117741</td>\n",
       "      <td>1.000000</td>\n",
       "    </tr>\n",
       "  </tbody>\n",
       "</table>\n",
       "</div>"
      ],
      "text/plain": [
       "              AveragePrice      4046      4225      4770  Small Bags  \\\n",
       "AveragePrice      1.000000 -0.208317 -0.172928 -0.179446   -0.174730   \n",
       "4046             -0.208317  1.000000  0.926110  0.833389    0.925280   \n",
       "4225             -0.172928  0.926110  1.000000  0.887855    0.916031   \n",
       "4770             -0.179446  0.833389  0.887855  1.000000    0.802733   \n",
       "Small Bags       -0.174730  0.925280  0.916031  0.802733    1.000000   \n",
       "Large Bags       -0.172940  0.838645  0.810015  0.698471    0.902589   \n",
       "XLarge Bags      -0.117592  0.699377  0.688809  0.679861    0.806845   \n",
       "type              0.615845 -0.225819 -0.232289 -0.210027   -0.220535   \n",
       "region           -0.011716  0.192073  0.145726  0.095252    0.164702   \n",
       "Day               0.005108  0.004189  0.004262  0.003424    0.003565   \n",
       "Month             0.089738  0.009885  0.000741  0.007966    0.002640   \n",
       "Year              0.093197  0.003353 -0.009559 -0.036531    0.063915   \n",
       "\n",
       "              Large Bags  XLarge Bags      type    region       Day     Month  \\\n",
       "AveragePrice   -0.172940    -0.117592  0.615845 -0.011716  0.005108  0.089738   \n",
       "4046            0.838645     0.699377 -0.225819  0.192073  0.004189  0.009885   \n",
       "4225            0.810015     0.688809 -0.232289  0.145726  0.004262  0.000741   \n",
       "4770            0.698471     0.679861 -0.210027  0.095252  0.003424  0.007966   \n",
       "Small Bags      0.902589     0.806845 -0.220535  0.164702  0.003565  0.002640   \n",
       "Large Bags      1.000000     0.710858 -0.193177  0.198768  0.001485 -0.015027   \n",
       "XLarge Bags     0.710858     1.000000 -0.175483  0.082281  0.007030  0.044398   \n",
       "type           -0.193177    -0.175483  1.000000 -0.000280 -0.000055 -0.000051   \n",
       "region          0.198768     0.082281 -0.000280  1.000000 -0.000094 -0.000088   \n",
       "Day             0.001485     0.007030 -0.000055 -0.000094  1.000000  0.019282   \n",
       "Month          -0.015027     0.044398 -0.000051 -0.000088  0.019282  1.000000   \n",
       "Year            0.087891     0.081033 -0.000032 -0.000055  0.002930 -0.117741   \n",
       "\n",
       "                  Year  \n",
       "AveragePrice  0.093197  \n",
       "4046          0.003353  \n",
       "4225         -0.009559  \n",
       "4770         -0.036531  \n",
       "Small Bags    0.063915  \n",
       "Large Bags    0.087891  \n",
       "XLarge Bags   0.081033  \n",
       "type         -0.000032  \n",
       "region       -0.000055  \n",
       "Day           0.002930  \n",
       "Month        -0.117741  \n",
       "Year          1.000000  "
      ]
     },
     "execution_count": 34,
     "metadata": {},
     "output_type": "execute_result"
    }
   ],
   "source": [
    "df.corr()   #check corelation between dataset variable"
   ]
  },
  {
   "cell_type": "code",
   "execution_count": 35,
   "id": "585c4236",
   "metadata": {},
   "outputs": [
    {
     "data": {
      "text/plain": [
       "<AxesSubplot:>"
      ]
     },
     "execution_count": 35,
     "metadata": {},
     "output_type": "execute_result"
    },
    {
     "data": {
      "image/png": "[encoded data removed]",
      "text/plain": [
       "<Figure size 1080x360 with 2 Axes>"
      ]
     },
     "metadata": {
      "needs_background": "light"
     },
     "output_type": "display_data"
    }
   ],
   "source": [
    "plt.figure(figsize=(15,5))  #better understand correlation plot diagrame\n",
    "sns.heatmap(df.corr(),annot=True,linewidth=2,linecolor='r')"
   ]
  },
  {
   "cell_type": "markdown",
   "id": "97c82353",
   "metadata": {},
   "source": [
    "Observation-->\n",
    "1. Average Price correlated with target Average Price is -1.2%.It is good bond.\n",
    "2. 4046 correlated with target Average Price is 19%.It is good bond.\n",
    "3. 4225 correlated with target Average Price is 15%.It is good bond.\n",
    "4. 4770 correlated with target Average Price is  9.5%.It is good bond.\n",
    "5.Small Bags correlated with target Average Price is 16%.It is good bond.\n",
    "6.Large Bags correlated with target Average Price is 20%.It is good bond.\n",
    "7.XLarge Bags correlated with target Average Price is 8.2%.It is good bond.\n",
    "8.Type correlated with target Average Price is -0.028%.It is very poor bond.\n",
    "9.Day correlated with target Average Price is 0.0013.It is poor bond.\n",
    "10.Month correlated with target Average Price is 0.00%.It is very poor bond.\n",
    "11.Year correlated with target Average Price is 0.000%.It is very poor bond."
   ]
  },
  {
   "cell_type": "markdown",
   "id": "a1fd3438",
   "metadata": {},
   "source": [
    "Day,Month,year is very less correlated with target region , so we remove it"
   ]
  },
  {
   "cell_type": "code",
   "execution_count": 39,
   "id": "48ca6a4b",
   "metadata": {},
   "outputs": [],
   "source": [
    "df=df.drop(['Day','Month','Year'],axis=1)"
   ]
  },
  {
   "cell_type": "markdown",
   "id": "92dde149",
   "metadata": {},
   "source": [
    "# Check Outliers"
   ]
  },
  {
   "cell_type": "code",
   "execution_count": 40,
   "id": "8ddf3914",
   "metadata": {},
   "outputs": [],
   "source": [
    "from scipy.stats import zscore    #import zscore libary for check outliers"
   ]
  },
  {
   "cell_type": "code",
   "execution_count": 41,
   "id": "6953a267",
   "metadata": {},
   "outputs": [
    {
     "data": {
      "text/plain": [
       "False"
      ]
     },
     "execution_count": 41,
     "metadata": {},
     "output_type": "execute_result"
    }
   ],
   "source": [
    "(np.abs(zscore(df))<3).all().all()   #check outliers are prsent or not in dataset"
   ]
  },
  {
   "cell_type": "markdown",
   "id": "742ce5a9",
   "metadata": {},
   "source": [
    "outliers are present in dataset"
   ]
  },
  {
   "cell_type": "code",
   "execution_count": 42,
   "id": "7b038e18",
   "metadata": {},
   "outputs": [
    {
     "data": {
      "text/plain": [
       "AveragePrice    False\n",
       "4046            False\n",
       "4225            False\n",
       "4770            False\n",
       "Small Bags      False\n",
       "Large Bags      False\n",
       "XLarge Bags     False\n",
       "type             True\n",
       "region           True\n",
       "dtype: bool"
      ]
     },
     "execution_count": 42,
     "metadata": {},
     "output_type": "execute_result"
    }
   ],
   "source": [
    "(np.abs(zscore(df))<3).all()  #check outliers in dataset particular columns"
   ]
  },
  {
   "cell_type": "markdown",
   "id": "5702a471",
   "metadata": {},
   "source": [
    "Outliers are present in AveragePrice,Total Volume,4046,4225,4770,Total Bags,Small Bags,Large Bags,XLarge Bags"
   ]
  },
  {
   "cell_type": "code",
   "execution_count": 43,
   "id": "a7e1f759",
   "metadata": {},
   "outputs": [],
   "source": [
    "df1=df.drop(['AveragePrice','4046','4225','4770','Small Bags','Large Bags','XLarge Bags'],axis=1)"
   ]
  },
  {
   "cell_type": "markdown",
   "id": "8d5b75fa",
   "metadata": {},
   "source": [
    "sepearte categorial type data and whoes outliers are not present"
   ]
  },
  {
   "cell_type": "code",
   "execution_count": 45,
   "id": "c467ab85",
   "metadata": {},
   "outputs": [
    {
     "data": {
      "text/plain": [
       "pandas.core.frame.DataFrame"
      ]
     },
     "execution_count": 45,
     "metadata": {},
     "output_type": "execute_result"
    }
   ],
   "source": [
    "type(df1)  #type check df1"
   ]
  },
  {
   "cell_type": "code",
   "execution_count": 46,
   "id": "1eaca601",
   "metadata": {},
   "outputs": [
    {
     "data": {
      "text/html": [
       "<div>\n",
       "<style scoped>\n",
       "    .dataframe tbody tr th:only-of-type {\n",
       "        vertical-align: middle;\n",
       "    }\n",
       "\n",
       "    .dataframe tbody tr th {\n",
       "        vertical-align: top;\n",
       "    }\n",
       "\n",
       "    .dataframe thead th {\n",
       "        text-align: right;\n",
       "    }\n",
       "</style>\n",
       "<table border=\"1\" class=\"dataframe\">\n",
       "  <thead>\n",
       "    <tr style=\"text-align: right;\">\n",
       "      <th></th>\n",
       "      <th>AveragePrice</th>\n",
       "      <th>4046</th>\n",
       "      <th>4225</th>\n",
       "      <th>4770</th>\n",
       "      <th>Small Bags</th>\n",
       "      <th>Large Bags</th>\n",
       "      <th>XLarge Bags</th>\n",
       "    </tr>\n",
       "  </thead>\n",
       "  <tbody>\n",
       "    <tr>\n",
       "      <th>0</th>\n",
       "      <td>1.33</td>\n",
       "      <td>1036.74</td>\n",
       "      <td>54454.85</td>\n",
       "      <td>48.16</td>\n",
       "      <td>8603.62</td>\n",
       "      <td>93.25</td>\n",
       "      <td>0.0</td>\n",
       "    </tr>\n",
       "    <tr>\n",
       "      <th>1</th>\n",
       "      <td>1.35</td>\n",
       "      <td>674.28</td>\n",
       "      <td>44638.81</td>\n",
       "      <td>58.33</td>\n",
       "      <td>9408.07</td>\n",
       "      <td>97.49</td>\n",
       "      <td>0.0</td>\n",
       "    </tr>\n",
       "    <tr>\n",
       "      <th>2</th>\n",
       "      <td>0.93</td>\n",
       "      <td>794.70</td>\n",
       "      <td>109149.67</td>\n",
       "      <td>130.50</td>\n",
       "      <td>8042.21</td>\n",
       "      <td>103.14</td>\n",
       "      <td>0.0</td>\n",
       "    </tr>\n",
       "    <tr>\n",
       "      <th>3</th>\n",
       "      <td>1.08</td>\n",
       "      <td>1132.00</td>\n",
       "      <td>71976.41</td>\n",
       "      <td>72.58</td>\n",
       "      <td>5677.40</td>\n",
       "      <td>133.76</td>\n",
       "      <td>0.0</td>\n",
       "    </tr>\n",
       "    <tr>\n",
       "      <th>4</th>\n",
       "      <td>1.28</td>\n",
       "      <td>941.48</td>\n",
       "      <td>43838.39</td>\n",
       "      <td>75.78</td>\n",
       "      <td>5986.26</td>\n",
       "      <td>197.69</td>\n",
       "      <td>0.0</td>\n",
       "    </tr>\n",
       "    <tr>\n",
       "      <th>...</th>\n",
       "      <td>...</td>\n",
       "      <td>...</td>\n",
       "      <td>...</td>\n",
       "      <td>...</td>\n",
       "      <td>...</td>\n",
       "      <td>...</td>\n",
       "      <td>...</td>\n",
       "    </tr>\n",
       "    <tr>\n",
       "      <th>18244</th>\n",
       "      <td>1.63</td>\n",
       "      <td>2046.96</td>\n",
       "      <td>1529.20</td>\n",
       "      <td>0.00</td>\n",
       "      <td>13066.82</td>\n",
       "      <td>431.85</td>\n",
       "      <td>0.0</td>\n",
       "    </tr>\n",
       "    <tr>\n",
       "      <th>18245</th>\n",
       "      <td>1.71</td>\n",
       "      <td>1191.70</td>\n",
       "      <td>3431.50</td>\n",
       "      <td>0.00</td>\n",
       "      <td>8940.04</td>\n",
       "      <td>324.80</td>\n",
       "      <td>0.0</td>\n",
       "    </tr>\n",
       "    <tr>\n",
       "      <th>18246</th>\n",
       "      <td>1.87</td>\n",
       "      <td>1191.92</td>\n",
       "      <td>2452.79</td>\n",
       "      <td>727.94</td>\n",
       "      <td>9351.80</td>\n",
       "      <td>42.31</td>\n",
       "      <td>0.0</td>\n",
       "    </tr>\n",
       "    <tr>\n",
       "      <th>18247</th>\n",
       "      <td>1.93</td>\n",
       "      <td>1527.63</td>\n",
       "      <td>2981.04</td>\n",
       "      <td>727.01</td>\n",
       "      <td>10919.54</td>\n",
       "      <td>50.00</td>\n",
       "      <td>0.0</td>\n",
       "    </tr>\n",
       "    <tr>\n",
       "      <th>18248</th>\n",
       "      <td>1.62</td>\n",
       "      <td>2894.77</td>\n",
       "      <td>2356.13</td>\n",
       "      <td>224.53</td>\n",
       "      <td>11988.14</td>\n",
       "      <td>26.01</td>\n",
       "      <td>0.0</td>\n",
       "    </tr>\n",
       "  </tbody>\n",
       "</table>\n",
       "<p>18249 rows × 7 columns</p>\n",
       "</div>"
      ],
      "text/plain": [
       "       AveragePrice     4046       4225    4770  Small Bags  Large Bags  \\\n",
       "0              1.33  1036.74   54454.85   48.16     8603.62       93.25   \n",
       "1              1.35   674.28   44638.81   58.33     9408.07       97.49   \n",
       "2              0.93   794.70  109149.67  130.50     8042.21      103.14   \n",
       "3              1.08  1132.00   71976.41   72.58     5677.40      133.76   \n",
       "4              1.28   941.48   43838.39   75.78     5986.26      197.69   \n",
       "...             ...      ...        ...     ...         ...         ...   \n",
       "18244          1.63  2046.96    1529.20    0.00    13066.82      431.85   \n",
       "18245          1.71  1191.70    3431.50    0.00     8940.04      324.80   \n",
       "18246          1.87  1191.92    2452.79  727.94     9351.80       42.31   \n",
       "18247          1.93  1527.63    2981.04  727.01    10919.54       50.00   \n",
       "18248          1.62  2894.77    2356.13  224.53    11988.14       26.01   \n",
       "\n",
       "       XLarge Bags  \n",
       "0              0.0  \n",
       "1              0.0  \n",
       "2              0.0  \n",
       "3              0.0  \n",
       "4              0.0  \n",
       "...            ...  \n",
       "18244          0.0  \n",
       "18245          0.0  \n",
       "18246          0.0  \n",
       "18247          0.0  \n",
       "18248          0.0  \n",
       "\n",
       "[18249 rows x 7 columns]"
      ]
     },
     "execution_count": 46,
     "metadata": {},
     "output_type": "execute_result"
    }
   ],
   "source": [
    "df2=df.drop(['type','region'],axis=1)\n",
    "df2"
   ]
  },
  {
   "cell_type": "code",
   "execution_count": 47,
   "id": "66c1cd4f",
   "metadata": {},
   "outputs": [
    {
     "data": {
      "text/plain": [
       "AveragePrice    False\n",
       "4046            False\n",
       "4225            False\n",
       "4770            False\n",
       "Small Bags      False\n",
       "Large Bags      False\n",
       "XLarge Bags     False\n",
       "dtype: bool"
      ]
     },
     "execution_count": 47,
     "metadata": {},
     "output_type": "execute_result"
    }
   ],
   "source": [
    "z=(np.abs(zscore(df2))<3).all()  #outliers present in some columns\n",
    "z"
   ]
  },
  {
   "cell_type": "markdown",
   "id": "74c8126f",
   "metadata": {},
   "source": [
    "# Apply IQR Method"
   ]
  },
  {
   "cell_type": "code",
   "execution_count": 48,
   "id": "fb233dc2",
   "metadata": {},
   "outputs": [
    {
     "data": {
      "text/plain": [
       "AveragePrice       1.10\n",
       "4046             854.07\n",
       "4225            3008.78\n",
       "4770               0.00\n",
       "Small Bags      2849.42\n",
       "Large Bags       127.47\n",
       "XLarge Bags        0.00\n",
       "Name: 0.25, dtype: float64"
      ]
     },
     "execution_count": 48,
     "metadata": {},
     "output_type": "execute_result"
    }
   ],
   "source": [
    "q1=df2.quantile(0.25)   #apply iqr method on 0.25 %data\n",
    "q1"
   ]
  },
  {
   "cell_type": "code",
   "execution_count": 49,
   "id": "8a4a096c",
   "metadata": {},
   "outputs": [
    {
     "data": {
      "text/plain": [
       "AveragePrice         1.66\n",
       "4046            111020.20\n",
       "4225            150206.86\n",
       "4770              6243.42\n",
       "Small Bags       83337.67\n",
       "Large Bags       22029.25\n",
       "XLarge Bags        132.50\n",
       "Name: 0.75, dtype: float64"
      ]
     },
     "execution_count": 49,
     "metadata": {},
     "output_type": "execute_result"
    }
   ],
   "source": [
    "q2=df2.quantile(0.75)   #apply iqr method on 0.75% data\n",
    "q2"
   ]
  },
  {
   "cell_type": "code",
   "execution_count": 50,
   "id": "928b9d19",
   "metadata": {},
   "outputs": [],
   "source": [
    "iqr=q2-q1  #get 50%data values"
   ]
  },
  {
   "cell_type": "code",
   "execution_count": 51,
   "id": "f8cca960",
   "metadata": {},
   "outputs": [],
   "source": [
    "upper=q2+(iqr*1.5)\n",
    "lower=q1-(iqr*1.5)"
   ]
  },
  {
   "cell_type": "code",
   "execution_count": 52,
   "id": "ad19f524",
   "metadata": {},
   "outputs": [
    {
     "data": {
      "text/html": [
       "<div>\n",
       "<style scoped>\n",
       "    .dataframe tbody tr th:only-of-type {\n",
       "        vertical-align: middle;\n",
       "    }\n",
       "\n",
       "    .dataframe tbody tr th {\n",
       "        vertical-align: top;\n",
       "    }\n",
       "\n",
       "    .dataframe thead th {\n",
       "        text-align: right;\n",
       "    }\n",
       "</style>\n",
       "<table border=\"1\" class=\"dataframe\">\n",
       "  <thead>\n",
       "    <tr style=\"text-align: right;\">\n",
       "      <th></th>\n",
       "      <th>AveragePrice</th>\n",
       "      <th>4046</th>\n",
       "      <th>4225</th>\n",
       "      <th>4770</th>\n",
       "      <th>Small Bags</th>\n",
       "      <th>Large Bags</th>\n",
       "      <th>XLarge Bags</th>\n",
       "    </tr>\n",
       "  </thead>\n",
       "  <tbody>\n",
       "    <tr>\n",
       "      <th>0</th>\n",
       "      <td>1.33</td>\n",
       "      <td>1036.74</td>\n",
       "      <td>54454.85</td>\n",
       "      <td>48.16</td>\n",
       "      <td>8603.62</td>\n",
       "      <td>93.25</td>\n",
       "      <td>0.0</td>\n",
       "    </tr>\n",
       "    <tr>\n",
       "      <th>1</th>\n",
       "      <td>1.35</td>\n",
       "      <td>674.28</td>\n",
       "      <td>44638.81</td>\n",
       "      <td>58.33</td>\n",
       "      <td>9408.07</td>\n",
       "      <td>97.49</td>\n",
       "      <td>0.0</td>\n",
       "    </tr>\n",
       "    <tr>\n",
       "      <th>2</th>\n",
       "      <td>0.93</td>\n",
       "      <td>794.70</td>\n",
       "      <td>109149.67</td>\n",
       "      <td>130.50</td>\n",
       "      <td>8042.21</td>\n",
       "      <td>103.14</td>\n",
       "      <td>0.0</td>\n",
       "    </tr>\n",
       "    <tr>\n",
       "      <th>3</th>\n",
       "      <td>1.08</td>\n",
       "      <td>1132.00</td>\n",
       "      <td>71976.41</td>\n",
       "      <td>72.58</td>\n",
       "      <td>5677.40</td>\n",
       "      <td>133.76</td>\n",
       "      <td>0.0</td>\n",
       "    </tr>\n",
       "    <tr>\n",
       "      <th>4</th>\n",
       "      <td>1.28</td>\n",
       "      <td>941.48</td>\n",
       "      <td>43838.39</td>\n",
       "      <td>75.78</td>\n",
       "      <td>5986.26</td>\n",
       "      <td>197.69</td>\n",
       "      <td>0.0</td>\n",
       "    </tr>\n",
       "    <tr>\n",
       "      <th>...</th>\n",
       "      <td>...</td>\n",
       "      <td>...</td>\n",
       "      <td>...</td>\n",
       "      <td>...</td>\n",
       "      <td>...</td>\n",
       "      <td>...</td>\n",
       "      <td>...</td>\n",
       "    </tr>\n",
       "    <tr>\n",
       "      <th>18244</th>\n",
       "      <td>1.63</td>\n",
       "      <td>2046.96</td>\n",
       "      <td>1529.20</td>\n",
       "      <td>0.00</td>\n",
       "      <td>13066.82</td>\n",
       "      <td>431.85</td>\n",
       "      <td>0.0</td>\n",
       "    </tr>\n",
       "    <tr>\n",
       "      <th>18245</th>\n",
       "      <td>1.71</td>\n",
       "      <td>1191.70</td>\n",
       "      <td>3431.50</td>\n",
       "      <td>0.00</td>\n",
       "      <td>8940.04</td>\n",
       "      <td>324.80</td>\n",
       "      <td>0.0</td>\n",
       "    </tr>\n",
       "    <tr>\n",
       "      <th>18246</th>\n",
       "      <td>1.87</td>\n",
       "      <td>1191.92</td>\n",
       "      <td>2452.79</td>\n",
       "      <td>727.94</td>\n",
       "      <td>9351.80</td>\n",
       "      <td>42.31</td>\n",
       "      <td>0.0</td>\n",
       "    </tr>\n",
       "    <tr>\n",
       "      <th>18247</th>\n",
       "      <td>1.93</td>\n",
       "      <td>1527.63</td>\n",
       "      <td>2981.04</td>\n",
       "      <td>727.01</td>\n",
       "      <td>10919.54</td>\n",
       "      <td>50.00</td>\n",
       "      <td>0.0</td>\n",
       "    </tr>\n",
       "    <tr>\n",
       "      <th>18248</th>\n",
       "      <td>1.62</td>\n",
       "      <td>2894.77</td>\n",
       "      <td>2356.13</td>\n",
       "      <td>224.53</td>\n",
       "      <td>11988.14</td>\n",
       "      <td>26.01</td>\n",
       "      <td>0.0</td>\n",
       "    </tr>\n",
       "  </tbody>\n",
       "</table>\n",
       "<p>18249 rows × 7 columns</p>\n",
       "</div>"
      ],
      "text/plain": [
       "       AveragePrice     4046       4225    4770  Small Bags  Large Bags  \\\n",
       "0              1.33  1036.74   54454.85   48.16     8603.62       93.25   \n",
       "1              1.35   674.28   44638.81   58.33     9408.07       97.49   \n",
       "2              0.93   794.70  109149.67  130.50     8042.21      103.14   \n",
       "3              1.08  1132.00   71976.41   72.58     5677.40      133.76   \n",
       "4              1.28   941.48   43838.39   75.78     5986.26      197.69   \n",
       "...             ...      ...        ...     ...         ...         ...   \n",
       "18244          1.63  2046.96    1529.20    0.00    13066.82      431.85   \n",
       "18245          1.71  1191.70    3431.50    0.00     8940.04      324.80   \n",
       "18246          1.87  1191.92    2452.79  727.94     9351.80       42.31   \n",
       "18247          1.93  1527.63    2981.04  727.01    10919.54       50.00   \n",
       "18248          1.62  2894.77    2356.13  224.53    11988.14       26.01   \n",
       "\n",
       "       XLarge Bags  \n",
       "0              0.0  \n",
       "1              0.0  \n",
       "2              0.0  \n",
       "3              0.0  \n",
       "4              0.0  \n",
       "...            ...  \n",
       "18244          0.0  \n",
       "18245          0.0  \n",
       "18246          0.0  \n",
       "18247          0.0  \n",
       "18248          0.0  \n",
       "\n",
       "[18249 rows x 7 columns]"
      ]
     },
     "execution_count": 52,
     "metadata": {},
     "output_type": "execute_result"
    }
   ],
   "source": [
    "df2=df2[(df2>lower) & (df2<upper)]\n",
    "df2"
   ]
  },
  {
   "cell_type": "code",
   "execution_count": 53,
   "id": "95761e1c",
   "metadata": {},
   "outputs": [
    {
     "data": {
      "text/plain": [
       "AveragePrice     209\n",
       "4046            2518\n",
       "4225            2519\n",
       "4770            2918\n",
       "Small Bags      2407\n",
       "Large Bags      2707\n",
       "XLarge Bags     4014\n",
       "dtype: int64"
      ]
     },
     "execution_count": 53,
     "metadata": {},
     "output_type": "execute_result"
    }
   ],
   "source": [
    "df2.isnull().sum()  #check null values after outliers removal by iqr method"
   ]
  },
  {
   "cell_type": "code",
   "execution_count": 54,
   "id": "170575ee",
   "metadata": {},
   "outputs": [],
   "source": [
    "from sklearn.impute import SimpleImputer   #import null values remove liabary"
   ]
  },
  {
   "cell_type": "code",
   "execution_count": 55,
   "id": "dee2a7ec",
   "metadata": {},
   "outputs": [],
   "source": [
    "imp=SimpleImputer(strategy='median')  #data int form so use mean/median"
   ]
  },
  {
   "cell_type": "code",
   "execution_count": 56,
   "id": "fee4f40c",
   "metadata": {},
   "outputs": [],
   "source": [
    "for i in df2.columns:\n",
    "    df2[i]=imp.fit_transform(df2[i].values.reshape(-1,1))\n",
    "    "
   ]
  },
  {
   "cell_type": "code",
   "execution_count": 57,
   "id": "3b2bbd65",
   "metadata": {},
   "outputs": [
    {
     "data": {
      "text/plain": [
       "AveragePrice    0\n",
       "4046            0\n",
       "4225            0\n",
       "4770            0\n",
       "Small Bags      0\n",
       "Large Bags      0\n",
       "XLarge Bags     0\n",
       "dtype: int64"
      ]
     },
     "execution_count": 57,
     "metadata": {},
     "output_type": "execute_result"
    }
   ],
   "source": [
    "df2.isnull().sum()  #check after remove null values"
   ]
  },
  {
   "cell_type": "markdown",
   "id": "63104ff6",
   "metadata": {},
   "source": [
    "Now no null values are not present in dataset after apply iqr method"
   ]
  },
  {
   "cell_type": "markdown",
   "id": "6d5e5fc7",
   "metadata": {},
   "source": [
    "# Check Skewness in Both df1 and df2 frame"
   ]
  },
  {
   "cell_type": "code",
   "execution_count": 58,
   "id": "c3a8eb53",
   "metadata": {},
   "outputs": [
    {
     "data": {
      "text/plain": [
       "type      0.000329\n",
       "region    0.000030\n",
       "dtype: float64"
      ]
     },
     "execution_count": 58,
     "metadata": {},
     "output_type": "execute_result"
    }
   ],
   "source": [
    "df1.skew()  #check skewness in df1 frame"
   ]
  },
  {
   "cell_type": "markdown",
   "id": "e2abbe12",
   "metadata": {},
   "source": [
    "It is all in object form so we do not apply power method on it."
   ]
  },
  {
   "cell_type": "code",
   "execution_count": 59,
   "id": "c4d49b4f",
   "metadata": {},
   "outputs": [
    {
     "data": {
      "text/plain": [
       "AveragePrice    0.344117\n",
       "4046            2.115606\n",
       "4225            2.169585\n",
       "4770            2.689417\n",
       "Small Bags      1.718893\n",
       "Large Bags      2.347949\n",
       "XLarge Bags     5.125288\n",
       "dtype: float64"
      ]
     },
     "execution_count": 59,
     "metadata": {},
     "output_type": "execute_result"
    }
   ],
   "source": [
    "df2.skew()  #check skewness in df2 frame"
   ]
  },
  {
   "cell_type": "markdown",
   "id": "2c594937",
   "metadata": {},
   "source": [
    "If we take threshold values +/-0.5 then skewness are present.\n",
    "1.4046            2.115606\n",
    "2.4225            2.169585\n",
    "3.4770            2.689417\n",
    "4.Small Bags      1.718893\n",
    "5.Large Bags      2.347949\n",
    "6.XLarge Bags     5.125288"
   ]
  },
  {
   "cell_type": "markdown",
   "id": "6f3fa3e0",
   "metadata": {},
   "source": [
    "# Apply power method on df2(int) dataset for removing skewness"
   ]
  },
  {
   "cell_type": "code",
   "execution_count": 60,
   "id": "83115176",
   "metadata": {},
   "outputs": [],
   "source": [
    "from sklearn.preprocessing import power_transform"
   ]
  },
  {
   "cell_type": "code",
   "execution_count": 61,
   "id": "0b1b82a6",
   "metadata": {},
   "outputs": [],
   "source": [
    "df3=power_transform(df2)"
   ]
  },
  {
   "cell_type": "code",
   "execution_count": 62,
   "id": "eff088d2",
   "metadata": {},
   "outputs": [
    {
     "data": {
      "text/plain": [
       "numpy.ndarray"
      ]
     },
     "execution_count": 62,
     "metadata": {},
     "output_type": "execute_result"
    }
   ],
   "source": [
    "type(df3)"
   ]
  },
  {
   "cell_type": "code",
   "execution_count": 63,
   "id": "8b45a106",
   "metadata": {},
   "outputs": [
    {
     "data": {
      "text/html": [
       "<div>\n",
       "<style scoped>\n",
       "    .dataframe tbody tr th:only-of-type {\n",
       "        vertical-align: middle;\n",
       "    }\n",
       "\n",
       "    .dataframe tbody tr th {\n",
       "        vertical-align: top;\n",
       "    }\n",
       "\n",
       "    .dataframe thead th {\n",
       "        text-align: right;\n",
       "    }\n",
       "</style>\n",
       "<table border=\"1\" class=\"dataframe\">\n",
       "  <thead>\n",
       "    <tr style=\"text-align: right;\">\n",
       "      <th></th>\n",
       "      <th>AveragePrice</th>\n",
       "      <th>4046</th>\n",
       "      <th>4225</th>\n",
       "      <th>4770</th>\n",
       "      <th>Small Bags</th>\n",
       "      <th>Large Bags</th>\n",
       "      <th>XLarge Bags</th>\n",
       "    </tr>\n",
       "  </thead>\n",
       "  <tbody>\n",
       "    <tr>\n",
       "      <th>0</th>\n",
       "      <td>-0.085525</td>\n",
       "      <td>-0.591970</td>\n",
       "      <td>0.688560</td>\n",
       "      <td>0.022006</td>\n",
       "      <td>-0.298929</td>\n",
       "      <td>-0.785469</td>\n",
       "      <td>-0.368851</td>\n",
       "    </tr>\n",
       "    <tr>\n",
       "      <th>1</th>\n",
       "      <td>-0.031285</td>\n",
       "      <td>-0.735335</td>\n",
       "      <td>0.572058</td>\n",
       "      <td>0.080950</td>\n",
       "      <td>-0.251724</td>\n",
       "      <td>-0.773948</td>\n",
       "      <td>-0.368851</td>\n",
       "    </tr>\n",
       "    <tr>\n",
       "      <th>2</th>\n",
       "      <td>-1.278989</td>\n",
       "      <td>-0.681259</td>\n",
       "      <td>1.124971</td>\n",
       "      <td>0.327406</td>\n",
       "      <td>-0.333972</td>\n",
       "      <td>-0.759239</td>\n",
       "      <td>-0.368851</td>\n",
       "    </tr>\n",
       "    <tr>\n",
       "      <th>3</th>\n",
       "      <td>-0.805130</td>\n",
       "      <td>-0.561953</td>\n",
       "      <td>0.858121</td>\n",
       "      <td>0.148089</td>\n",
       "      <td>-0.506960</td>\n",
       "      <td>-0.689745</td>\n",
       "      <td>-0.368851</td>\n",
       "    </tr>\n",
       "    <tr>\n",
       "      <th>4</th>\n",
       "      <td>-0.223157</td>\n",
       "      <td>-0.624598</td>\n",
       "      <td>0.561627</td>\n",
       "      <td>0.161325</td>\n",
       "      <td>-0.481468</td>\n",
       "      <td>-0.580174</td>\n",
       "      <td>-0.368851</td>\n",
       "    </tr>\n",
       "    <tr>\n",
       "      <th>...</th>\n",
       "      <td>...</td>\n",
       "      <td>...</td>\n",
       "      <td>...</td>\n",
       "      <td>...</td>\n",
       "      <td>...</td>\n",
       "      <td>...</td>\n",
       "      <td>...</td>\n",
       "    </tr>\n",
       "    <tr>\n",
       "      <th>18244</th>\n",
       "      <td>0.683745</td>\n",
       "      <td>-0.353093</td>\n",
       "      <td>-0.951431</td>\n",
       "      <td>-1.263171</td>\n",
       "      <td>-0.070253</td>\n",
       "      <td>-0.341454</td>\n",
       "      <td>-0.368851</td>\n",
       "    </tr>\n",
       "    <tr>\n",
       "      <th>18245</th>\n",
       "      <td>0.874288</td>\n",
       "      <td>-0.544289</td>\n",
       "      <td>-0.654284</td>\n",
       "      <td>-1.263171</td>\n",
       "      <td>-0.278783</td>\n",
       "      <td>-0.431614</td>\n",
       "      <td>-0.368851</td>\n",
       "    </tr>\n",
       "    <tr>\n",
       "      <th>18246</th>\n",
       "      <td>1.239300</td>\n",
       "      <td>-0.544225</td>\n",
       "      <td>-0.782186</td>\n",
       "      <td>0.841449</td>\n",
       "      <td>-0.254920</td>\n",
       "      <td>-0.977680</td>\n",
       "      <td>-0.368851</td>\n",
       "    </tr>\n",
       "    <tr>\n",
       "      <th>18247</th>\n",
       "      <td>1.371035</td>\n",
       "      <td>-0.457723</td>\n",
       "      <td>-0.708686</td>\n",
       "      <td>0.841074</td>\n",
       "      <td>-0.171004</td>\n",
       "      <td>-0.939012</td>\n",
       "      <td>-0.368851</td>\n",
       "    </tr>\n",
       "    <tr>\n",
       "      <th>18248</th>\n",
       "      <td>0.659527</td>\n",
       "      <td>-0.225423</td>\n",
       "      <td>-0.797067</td>\n",
       "      <td>0.491695</td>\n",
       "      <td>-0.119091</td>\n",
       "      <td>-1.084502</td>\n",
       "      <td>-0.368851</td>\n",
       "    </tr>\n",
       "  </tbody>\n",
       "</table>\n",
       "<p>18249 rows × 7 columns</p>\n",
       "</div>"
      ],
      "text/plain": [
       "       AveragePrice      4046      4225      4770  Small Bags  Large Bags  \\\n",
       "0         -0.085525 -0.591970  0.688560  0.022006   -0.298929   -0.785469   \n",
       "1         -0.031285 -0.735335  0.572058  0.080950   -0.251724   -0.773948   \n",
       "2         -1.278989 -0.681259  1.124971  0.327406   -0.333972   -0.759239   \n",
       "3         -0.805130 -0.561953  0.858121  0.148089   -0.506960   -0.689745   \n",
       "4         -0.223157 -0.624598  0.561627  0.161325   -0.481468   -0.580174   \n",
       "...             ...       ...       ...       ...         ...         ...   \n",
       "18244      0.683745 -0.353093 -0.951431 -1.263171   -0.070253   -0.341454   \n",
       "18245      0.874288 -0.544289 -0.654284 -1.263171   -0.278783   -0.431614   \n",
       "18246      1.239300 -0.544225 -0.782186  0.841449   -0.254920   -0.977680   \n",
       "18247      1.371035 -0.457723 -0.708686  0.841074   -0.171004   -0.939012   \n",
       "18248      0.659527 -0.225423 -0.797067  0.491695   -0.119091   -1.084502   \n",
       "\n",
       "       XLarge Bags  \n",
       "0        -0.368851  \n",
       "1        -0.368851  \n",
       "2        -0.368851  \n",
       "3        -0.368851  \n",
       "4        -0.368851  \n",
       "...            ...  \n",
       "18244    -0.368851  \n",
       "18245    -0.368851  \n",
       "18246    -0.368851  \n",
       "18247    -0.368851  \n",
       "18248    -0.368851  \n",
       "\n",
       "[18249 rows x 7 columns]"
      ]
     },
     "execution_count": 63,
     "metadata": {},
     "output_type": "execute_result"
    }
   ],
   "source": [
    "df4=pd.DataFrame(data=df3,columns=df2.columns)\n",
    "df4"
   ]
  },
  {
   "cell_type": "code",
   "execution_count": 64,
   "id": "dd812e38",
   "metadata": {},
   "outputs": [
    {
     "data": {
      "text/plain": [
       "AveragePrice   -0.000410\n",
       "4046           -0.049546\n",
       "4225           -0.074888\n",
       "4770            0.033847\n",
       "Small Bags     -0.129272\n",
       "Large Bags     -0.153447\n",
       "XLarge Bags     2.344622\n",
       "dtype: float64"
      ]
     },
     "execution_count": 64,
     "metadata": {},
     "output_type": "execute_result"
    }
   ],
   "source": [
    "df4.skew()"
   ]
  },
  {
   "cell_type": "markdown",
   "id": "98f56d6f",
   "metadata": {},
   "source": [
    "Skewness not remove of XLarge Bags then we do 2nd times"
   ]
  },
  {
   "cell_type": "code",
   "execution_count": 65,
   "id": "daa2573e",
   "metadata": {},
   "outputs": [],
   "source": [
    "df5=power_transform(df4)"
   ]
  },
  {
   "cell_type": "code",
   "execution_count": 66,
   "id": "bf4cfc6d",
   "metadata": {},
   "outputs": [],
   "source": [
    "df2=pd.DataFrame(data=df5,columns=df2.columns)"
   ]
  },
  {
   "cell_type": "code",
   "execution_count": 67,
   "id": "ca58dcbc",
   "metadata": {},
   "outputs": [
    {
     "data": {
      "text/plain": [
       "AveragePrice   -0.003322\n",
       "4046           -0.048685\n",
       "4225           -0.008524\n",
       "4770            0.036427\n",
       "Small Bags     -0.009815\n",
       "Large Bags      0.014380\n",
       "XLarge Bags     2.341232\n",
       "dtype: float64"
      ]
     },
     "execution_count": 67,
     "metadata": {},
     "output_type": "execute_result"
    }
   ],
   "source": [
    "df2.skew()"
   ]
  },
  {
   "cell_type": "markdown",
   "id": "be0bda31",
   "metadata": {},
   "source": [
    "Now this turn not remove skewness ,so we drop it"
   ]
  },
  {
   "cell_type": "code",
   "execution_count": 68,
   "id": "3c51bb47",
   "metadata": {},
   "outputs": [
    {
     "data": {
      "text/plain": [
       "<AxesSubplot:xlabel='XLarge Bags', ylabel='Density'>"
      ]
     },
     "execution_count": 68,
     "metadata": {},
     "output_type": "execute_result"
    },
    {
     "data": {
      "image/png": "[encoded data removed]",
      "text/plain": [
       "<Figure size 432x288 with 1 Axes>"
      ]
     },
     "metadata": {
      "needs_background": "light"
     },
     "output_type": "display_data"
    }
   ],
   "source": [
    "sns.kdeplot(df2['XLarge Bags'])"
   ]
  },
  {
   "cell_type": "code",
   "execution_count": 69,
   "id": "961cb6e1",
   "metadata": {},
   "outputs": [],
   "source": [
    " df2['XLarge Bags']=np.log( df2['XLarge Bags'])  #apply log transform method "
   ]
  },
  {
   "cell_type": "code",
   "execution_count": 70,
   "id": "f6901985",
   "metadata": {},
   "outputs": [
    {
     "data": {
      "text/plain": [
       "<AxesSubplot:xlabel='XLarge Bags', ylabel='Density'>"
      ]
     },
     "execution_count": 70,
     "metadata": {},
     "output_type": "execute_result"
    },
    {
     "data": {
      "image/png": "[encoded data removed]",
      "text/plain": [
       "<Figure size 432x288 with 1 Axes>"
      ]
     },
     "metadata": {
      "needs_background": "light"
     },
     "output_type": "display_data"
    }
   ],
   "source": [
    "sns.kdeplot( df2['XLarge Bags'])"
   ]
  },
  {
   "cell_type": "code",
   "execution_count": 71,
   "id": "f3bb4b98",
   "metadata": {},
   "outputs": [
    {
     "data": {
      "text/plain": [
       "-5.677446448072223"
      ]
     },
     "execution_count": 71,
     "metadata": {},
     "output_type": "execute_result"
    }
   ],
   "source": [
    " df2['XLarge Bags'].skew()"
   ]
  },
  {
   "cell_type": "markdown",
   "id": "04745401",
   "metadata": {},
   "source": [
    "after apply log transform method same condition so we remove it"
   ]
  },
  {
   "cell_type": "code",
   "execution_count": 72,
   "id": "710a8cc1",
   "metadata": {},
   "outputs": [],
   "source": [
    "df2=df2.drop( ['XLarge Bags'],axis=1)"
   ]
  },
  {
   "cell_type": "code",
   "execution_count": 73,
   "id": "2e70d0e2",
   "metadata": {},
   "outputs": [
    {
     "data": {
      "text/html": [
       "<div>\n",
       "<style scoped>\n",
       "    .dataframe tbody tr th:only-of-type {\n",
       "        vertical-align: middle;\n",
       "    }\n",
       "\n",
       "    .dataframe tbody tr th {\n",
       "        vertical-align: top;\n",
       "    }\n",
       "\n",
       "    .dataframe thead th {\n",
       "        text-align: right;\n",
       "    }\n",
       "</style>\n",
       "<table border=\"1\" class=\"dataframe\">\n",
       "  <thead>\n",
       "    <tr style=\"text-align: right;\">\n",
       "      <th></th>\n",
       "      <th>type</th>\n",
       "      <th>region</th>\n",
       "      <th>AveragePrice</th>\n",
       "      <th>4046</th>\n",
       "      <th>4225</th>\n",
       "      <th>4770</th>\n",
       "      <th>Small Bags</th>\n",
       "      <th>Large Bags</th>\n",
       "    </tr>\n",
       "  </thead>\n",
       "  <tbody>\n",
       "    <tr>\n",
       "      <th>0</th>\n",
       "      <td>0</td>\n",
       "      <td>0</td>\n",
       "      <td>-0.084805</td>\n",
       "      <td>-0.592105</td>\n",
       "      <td>0.681234</td>\n",
       "      <td>0.020754</td>\n",
       "      <td>-0.331969</td>\n",
       "      <td>-0.803508</td>\n",
       "    </tr>\n",
       "    <tr>\n",
       "      <th>1</th>\n",
       "      <td>0</td>\n",
       "      <td>0</td>\n",
       "      <td>-0.030559</td>\n",
       "      <td>-0.735425</td>\n",
       "      <td>0.561912</td>\n",
       "      <td>0.079707</td>\n",
       "      <td>-0.285844</td>\n",
       "      <td>-0.792850</td>\n",
       "    </tr>\n",
       "    <tr>\n",
       "      <th>2</th>\n",
       "      <td>0</td>\n",
       "      <td>0</td>\n",
       "      <td>-1.279481</td>\n",
       "      <td>-0.681367</td>\n",
       "      <td>1.131551</td>\n",
       "      <td>0.326313</td>\n",
       "      <td>-0.366099</td>\n",
       "      <td>-0.779230</td>\n",
       "    </tr>\n",
       "    <tr>\n",
       "      <th>3</th>\n",
       "      <td>0</td>\n",
       "      <td>0</td>\n",
       "      <td>-0.804935</td>\n",
       "      <td>-0.562097</td>\n",
       "      <td>0.855604</td>\n",
       "      <td>0.146870</td>\n",
       "      <td>-0.533293</td>\n",
       "      <td>-0.714662</td>\n",
       "    </tr>\n",
       "    <tr>\n",
       "      <th>4</th>\n",
       "      <td>0</td>\n",
       "      <td>0</td>\n",
       "      <td>-0.222477</td>\n",
       "      <td>-0.624723</td>\n",
       "      <td>0.551248</td>\n",
       "      <td>0.160111</td>\n",
       "      <td>-0.508784</td>\n",
       "      <td>-0.612095</td>\n",
       "    </tr>\n",
       "    <tr>\n",
       "      <th>...</th>\n",
       "      <td>...</td>\n",
       "      <td>...</td>\n",
       "      <td>...</td>\n",
       "      <td>...</td>\n",
       "      <td>...</td>\n",
       "      <td>...</td>\n",
       "      <td>...</td>\n",
       "      <td>...</td>\n",
       "    </tr>\n",
       "    <tr>\n",
       "      <th>18244</th>\n",
       "      <td>1</td>\n",
       "      <td>53</td>\n",
       "      <td>0.684078</td>\n",
       "      <td>-0.353285</td>\n",
       "      <td>-0.952172</td>\n",
       "      <td>-1.262398</td>\n",
       "      <td>-0.106804</td>\n",
       "      <td>-0.385055</td>\n",
       "    </tr>\n",
       "    <tr>\n",
       "      <th>18245</th>\n",
       "      <td>1</td>\n",
       "      <td>53</td>\n",
       "      <td>0.874398</td>\n",
       "      <td>-0.544437</td>\n",
       "      <td>-0.663188</td>\n",
       "      <td>-1.262398</td>\n",
       "      <td>-0.312306</td>\n",
       "      <td>-0.471419</td>\n",
       "    </tr>\n",
       "    <tr>\n",
       "      <th>18246</th>\n",
       "      <td>1</td>\n",
       "      <td>53</td>\n",
       "      <td>1.238877</td>\n",
       "      <td>-0.544374</td>\n",
       "      <td>-0.787859</td>\n",
       "      <td>0.841146</td>\n",
       "      <td>-0.288973</td>\n",
       "      <td>-0.979943</td>\n",
       "    </tr>\n",
       "    <tr>\n",
       "      <th>18247</th>\n",
       "      <td>1</td>\n",
       "      <td>53</td>\n",
       "      <td>1.370388</td>\n",
       "      <td>-0.457893</td>\n",
       "      <td>-0.716271</td>\n",
       "      <td>0.840770</td>\n",
       "      <td>-0.206557</td>\n",
       "      <td>-0.944649</td>\n",
       "    </tr>\n",
       "    <tr>\n",
       "      <th>18248</th>\n",
       "      <td>1</td>\n",
       "      <td>53</td>\n",
       "      <td>0.659885</td>\n",
       "      <td>-0.225636</td>\n",
       "      <td>-0.802335</td>\n",
       "      <td>0.490791</td>\n",
       "      <td>-0.155272</td>\n",
       "      <td>-1.076951</td>\n",
       "    </tr>\n",
       "  </tbody>\n",
       "</table>\n",
       "<p>18249 rows × 8 columns</p>\n",
       "</div>"
      ],
      "text/plain": [
       "       type  region  AveragePrice      4046      4225      4770  Small Bags  \\\n",
       "0         0       0     -0.084805 -0.592105  0.681234  0.020754   -0.331969   \n",
       "1         0       0     -0.030559 -0.735425  0.561912  0.079707   -0.285844   \n",
       "2         0       0     -1.279481 -0.681367  1.131551  0.326313   -0.366099   \n",
       "3         0       0     -0.804935 -0.562097  0.855604  0.146870   -0.533293   \n",
       "4         0       0     -0.222477 -0.624723  0.551248  0.160111   -0.508784   \n",
       "...     ...     ...           ...       ...       ...       ...         ...   \n",
       "18244     1      53      0.684078 -0.353285 -0.952172 -1.262398   -0.106804   \n",
       "18245     1      53      0.874398 -0.544437 -0.663188 -1.262398   -0.312306   \n",
       "18246     1      53      1.238877 -0.544374 -0.787859  0.841146   -0.288973   \n",
       "18247     1      53      1.370388 -0.457893 -0.716271  0.840770   -0.206557   \n",
       "18248     1      53      0.659885 -0.225636 -0.802335  0.490791   -0.155272   \n",
       "\n",
       "       Large Bags  \n",
       "0       -0.803508  \n",
       "1       -0.792850  \n",
       "2       -0.779230  \n",
       "3       -0.714662  \n",
       "4       -0.612095  \n",
       "...           ...  \n",
       "18244   -0.385055  \n",
       "18245   -0.471419  \n",
       "18246   -0.979943  \n",
       "18247   -0.944649  \n",
       "18248   -1.076951  \n",
       "\n",
       "[18249 rows x 8 columns]"
      ]
     },
     "execution_count": 73,
     "metadata": {},
     "output_type": "execute_result"
    }
   ],
   "source": [
    "ds=pd.concat([df1,df2],axis=1)\n",
    "ds"
   ]
  },
  {
   "cell_type": "markdown",
   "id": "b963e349",
   "metadata": {},
   "source": [
    "# TARGET-->Region"
   ]
  },
  {
   "cell_type": "code",
   "execution_count": 74,
   "id": "317f8e65",
   "metadata": {},
   "outputs": [],
   "source": [
    "x=ds.drop('region',axis=1)  #drop target variable for do independent data"
   ]
  },
  {
   "cell_type": "code",
   "execution_count": 75,
   "id": "a48e6ddf",
   "metadata": {},
   "outputs": [],
   "source": [
    "y=ds.region  #separte target vriable into "
   ]
  },
  {
   "cell_type": "markdown",
   "id": "d1c64eba",
   "metadata": {},
   "source": [
    "# Apply standalar scaler method"
   ]
  },
  {
   "cell_type": "code",
   "execution_count": 76,
   "id": "7f6647cd",
   "metadata": {},
   "outputs": [],
   "source": [
    "from sklearn.preprocessing import StandardScaler"
   ]
  },
  {
   "cell_type": "code",
   "execution_count": 77,
   "id": "61e73c2e",
   "metadata": {},
   "outputs": [],
   "source": [
    "st=StandardScaler()"
   ]
  },
  {
   "cell_type": "code",
   "execution_count": 78,
   "id": "bcc66d0e",
   "metadata": {},
   "outputs": [
    {
     "data": {
      "text/plain": [
       "array([[-0.99983562, -0.08480522, -0.59210488, ...,  0.02075428,\n",
       "        -0.33196938, -0.80350817],\n",
       "       [-0.99983562, -0.03055886, -0.73542463, ...,  0.07970676,\n",
       "        -0.28584448, -0.79285015],\n",
       "       [-0.99983562, -1.27948097, -0.68136688, ...,  0.32631253,\n",
       "        -0.36609911, -0.77923005],\n",
       "       ...,\n",
       "       [ 1.00016441,  1.23887658, -0.54437351, ...,  0.84114589,\n",
       "        -0.28897338, -0.97994299],\n",
       "       [ 1.00016441,  1.37038807, -0.45789283, ...,  0.84077003,\n",
       "        -0.20655697, -0.94464873],\n",
       "       [ 1.00016441,  0.65988549, -0.2256358 , ...,  0.49079086,\n",
       "        -0.15527189, -1.07695105]])"
      ]
     },
     "execution_count": 78,
     "metadata": {},
     "output_type": "execute_result"
    }
   ],
   "source": [
    "x=st.fit_transform(x)\n",
    "x"
   ]
  },
  {
   "cell_type": "markdown",
   "id": "add3e5dc",
   "metadata": {},
   "source": [
    "# Apply train test split method for finding best method"
   ]
  },
  {
   "cell_type": "code",
   "execution_count": 79,
   "id": "aa437c32",
   "metadata": {},
   "outputs": [],
   "source": [
    "LO=LogisticRegression()\n",
    "GA=GaussianNB()\n",
    "MA=MultinomialNB()\n",
    "DTC=DecisionTreeClassifier()\n",
    "SV=SVC()\n",
    "KN=KNeighborsClassifier()\n",
    "AD=AdaBoostClassifier()\n",
    "GR=GradientBoostingClassifier()\n",
    "RF=RandomForestClassifier()"
   ]
  },
  {
   "cell_type": "markdown",
   "id": "5fb11477",
   "metadata": {},
   "source": [
    "# Model--->Logistic Regressor"
   ]
  },
  {
   "cell_type": "code",
   "execution_count": 80,
   "id": "d97d0cde",
   "metadata": {},
   "outputs": [
    {
     "name": "stdout",
     "output_type": "stream",
     "text": [
      "At random state 0 the accuracy_score is 0.22356164383561644\n",
      "At max_rand 0 Max_Accuracy 0.22356164383561644\n",
      "\n",
      "\n",
      "At random state 1 the accuracy_score is 0.2326027397260274\n",
      "At max_rand 1 Max_Accuracy 0.2326027397260274\n",
      "\n",
      "\n",
      "At random state 2 the accuracy_score is 0.2293150684931507\n",
      "At random state 3 the accuracy_score is 0.21698630136986302\n",
      "At random state 4 the accuracy_score is 0.2147945205479452\n",
      "At random state 5 the accuracy_score is 0.21616438356164383\n",
      "At random state 6 the accuracy_score is 0.22904109589041097\n",
      "At random state 7 the accuracy_score is 0.21095890410958903\n",
      "At random state 8 the accuracy_score is 0.2156164383561644\n",
      "At random state 9 the accuracy_score is 0.22\n",
      "At random state 10 the accuracy_score is 0.22684931506849315\n",
      "At random state 11 the accuracy_score is 0.21945205479452054\n",
      "At random state 12 the accuracy_score is 0.2252054794520548\n",
      "At random state 13 the accuracy_score is 0.22986301369863013\n",
      "At random state 14 the accuracy_score is 0.22383561643835617\n",
      "At random state 15 the accuracy_score is 0.22794520547945205\n",
      "At random state 16 the accuracy_score is 0.23013698630136986\n",
      "At random state 17 the accuracy_score is 0.2158904109589041\n",
      "At random state 18 the accuracy_score is 0.2191780821917808\n",
      "At random state 19 the accuracy_score is 0.22904109589041097\n",
      "At random state 20 the accuracy_score is 0.21835616438356165\n",
      "At random state 21 the accuracy_score is 0.20767123287671233\n",
      "At random state 22 the accuracy_score is 0.23342465753424657\n",
      "At max_rand 22 Max_Accuracy 0.23342465753424657\n",
      "\n",
      "\n",
      "At random state 23 the accuracy_score is 0.22054794520547946\n",
      "At random state 24 the accuracy_score is 0.21123287671232877\n",
      "At random state 25 the accuracy_score is 0.23616438356164385\n",
      "At max_rand 25 Max_Accuracy 0.23616438356164385\n",
      "\n",
      "\n",
      "At random state 26 the accuracy_score is 0.22356164383561644\n",
      "At random state 27 the accuracy_score is 0.22904109589041097\n",
      "At random state 28 the accuracy_score is 0.22465753424657534\n",
      "At random state 29 the accuracy_score is 0.2263013698630137\n",
      "At random state 30 the accuracy_score is 0.23178082191780822\n",
      "At random state 31 the accuracy_score is 0.21863013698630138\n",
      "At random state 32 the accuracy_score is 0.2210958904109589\n",
      "At random state 33 the accuracy_score is 0.21095890410958903\n",
      "At random state 34 the accuracy_score is 0.2191780821917808\n",
      "At random state 35 the accuracy_score is 0.22904109589041097\n",
      "At random state 36 the accuracy_score is 0.22301369863013698\n",
      "At random state 37 the accuracy_score is 0.22821917808219178\n",
      "At random state 38 the accuracy_score is 0.22301369863013698\n",
      "At random state 39 the accuracy_score is 0.23095890410958905\n"
     ]
    }
   ],
   "source": [
    "max_acc=0\n",
    "max_rand=0\n",
    "\n",
    "for i in range(0,40):\n",
    "    x_train,x_test,y_train,y_test=train_test_split(x,y,test_size=0.20,random_state=i)\n",
    "    LO.fit(x_train,y_train)\n",
    "    pred=LO.predict(x_test)\n",
    "    test=accuracy_score(y_test,pred)\n",
    "    print(f\"At random state {i} the accuracy_score is {test}\")\n",
    "    \n",
    "    if test>max_acc:\n",
    "        max_acc=test\n",
    "        max_rand=i\n",
    "        print(f'At max_rand {i} Max_Accuracy {max_acc}')\n",
    "        print('\\n')"
   ]
  },
  {
   "cell_type": "markdown",
   "id": "6abd21d4",
   "metadata": {},
   "source": [
    "At random state 25 model give accuarcy score is 23.61%"
   ]
  },
  {
   "cell_type": "code",
   "execution_count": 81,
   "id": "c179b2bf",
   "metadata": {},
   "outputs": [
    {
     "name": "stdout",
     "output_type": "stream",
     "text": [
      "Confusion Matrix : [[48  0  0 ...  0  0  0]\n",
      " [ 0  2  5 ...  0  0  3]\n",
      " [ 0  0 16 ...  0  0  3]\n",
      " ...\n",
      " [ 7  0  0 ...  9  0  0]\n",
      " [ 1  0  0 ...  2  2  2]\n",
      " [ 0  0  1 ...  1  0 17]]\n",
      "Classification Report :               precision    recall  f1-score   support\n",
      "\n",
      "           0       0.38      0.63      0.47        76\n",
      "           1       0.15      0.03      0.05        69\n",
      "           2       0.18      0.21      0.19        77\n",
      "           3       0.20      0.24      0.22        72\n",
      "           4       0.48      0.56      0.52        71\n",
      "           5       0.34      0.32      0.33        59\n",
      "           6       0.08      0.04      0.06        69\n",
      "           7       0.22      0.29      0.25        62\n",
      "           8       0.09      0.13      0.11        77\n",
      "           9       0.24      0.50      0.32        62\n",
      "          10       0.00      0.00      0.00        60\n",
      "          11       0.00      0.00      0.00        57\n",
      "          12       0.08      0.13      0.10        60\n",
      "          13       0.13      0.09      0.11        80\n",
      "          14       0.20      0.09      0.13        74\n",
      "          15       0.19      0.22      0.20        69\n",
      "          16       0.43      0.12      0.18        77\n",
      "          17       0.57      0.71      0.63        68\n",
      "          18       0.12      0.14      0.13        72\n",
      "          19       0.13      0.13      0.13        71\n",
      "          20       0.40      0.57      0.47        65\n",
      "          21       0.08      0.02      0.03        61\n",
      "          22       0.20      0.09      0.13        64\n",
      "          23       0.53      0.82      0.65        79\n",
      "          24       0.05      0.04      0.05        75\n",
      "          25       0.07      0.03      0.04        63\n",
      "          26       0.05      0.06      0.05        53\n",
      "          27       0.20      0.42      0.27        66\n",
      "          28       0.24      0.36      0.29        55\n",
      "          29       0.13      0.22      0.17        55\n",
      "          30       0.25      0.31      0.28        61\n",
      "          31       0.20      0.26      0.23        73\n",
      "          32       0.42      0.51      0.46        65\n",
      "          33       0.16      0.14      0.15        59\n",
      "          34       0.18      0.05      0.08        79\n",
      "          35       0.25      0.36      0.29        73\n",
      "          36       0.31      0.36      0.33        74\n",
      "          37       0.19      0.06      0.10        62\n",
      "          38       0.31      0.42      0.36        65\n",
      "          39       0.20      0.07      0.10        71\n",
      "          40       0.35      0.67      0.46        64\n",
      "          41       0.06      0.05      0.05        77\n",
      "          42       0.19      0.21      0.20        70\n",
      "          43       0.25      0.22      0.23        69\n",
      "          44       0.08      0.04      0.05        75\n",
      "          45       0.22      0.26      0.24        69\n",
      "          46       0.00      0.00      0.00        55\n",
      "          47       0.12      0.30      0.17        64\n",
      "          48       0.00      0.00      0.00        72\n",
      "          49       0.47      0.70      0.56        73\n",
      "          50       0.00      0.00      0.00        69\n",
      "          51       0.20      0.15      0.17        59\n",
      "          52       0.12      0.03      0.05        70\n",
      "          53       0.29      0.27      0.28        64\n",
      "\n",
      "    accuracy                           0.24      3650\n",
      "   macro avg       0.20      0.23      0.21      3650\n",
      "weighted avg       0.21      0.24      0.21      3650\n",
      "\n",
      "Accuracy Score  : 23.616438356164384\n",
      "Dataset Score : 23.0289745873005\n"
     ]
    }
   ],
   "source": [
    "x_train,x_test,y_train,y_test=train_test_split(x,y,test_size=0.20,random_state=25)\n",
    "LO.fit(x_train,y_train)\n",
    "pred_test=LO.predict(x_test)\n",
    "print(f\"Confusion Matrix : {confusion_matrix(y_test,pred_test)}\")\n",
    "print(f\"Classification Report : {classification_report(y_test,pred_test)}\")\n",
    "print(f\"Accuracy Score  : {(accuracy_score(y_test,pred_test)*100)}\")\n",
    "print(f\"Dataset Score : {(LO.score(x_train,y_train))*100}\")"
   ]
  },
  {
   "cell_type": "markdown",
   "id": "104d6e23",
   "metadata": {},
   "source": [
    "Accuracy score is 23.61%.\n",
    "Try another method for better accuracy score and less error"
   ]
  },
  {
   "cell_type": "markdown",
   "id": "1fa8f493",
   "metadata": {},
   "source": [
    "# Model--->GaussianNB"
   ]
  },
  {
   "cell_type": "code",
   "execution_count": 82,
   "id": "b6f18d0a",
   "metadata": {},
   "outputs": [
    {
     "name": "stdout",
     "output_type": "stream",
     "text": [
      "At random state 0 the accuracy_score is 0.1441095890410959\n",
      "At max_rand 0 Max_Accuracy 0.1441095890410959\n",
      "\n",
      "\n",
      "At random state 1 the accuracy_score is 0.15726027397260273\n",
      "At max_rand 1 Max_Accuracy 0.15726027397260273\n",
      "\n",
      "\n",
      "At random state 2 the accuracy_score is 0.14904109589041095\n",
      "At random state 3 the accuracy_score is 0.13972602739726028\n",
      "At random state 4 the accuracy_score is 0.15232876712328766\n",
      "At random state 5 the accuracy_score is 0.14602739726027397\n",
      "At random state 6 the accuracy_score is 0.1526027397260274\n",
      "At random state 7 the accuracy_score is 0.1558904109589041\n",
      "At random state 8 the accuracy_score is 0.14794520547945206\n",
      "At random state 9 the accuracy_score is 0.14575342465753424\n",
      "At random state 10 the accuracy_score is 0.14986301369863014\n",
      "At random state 11 the accuracy_score is 0.14054794520547945\n",
      "At random state 12 the accuracy_score is 0.1463013698630137\n",
      "At random state 13 the accuracy_score is 0.14493150684931508\n",
      "At random state 14 the accuracy_score is 0.14767123287671233\n",
      "At random state 15 the accuracy_score is 0.14520547945205478\n",
      "At random state 16 the accuracy_score is 0.13479452054794522\n",
      "At random state 17 the accuracy_score is 0.15534246575342467\n",
      "At random state 18 the accuracy_score is 0.14356164383561643\n",
      "At random state 19 the accuracy_score is 0.14794520547945206\n",
      "At random state 20 the accuracy_score is 0.13671232876712328\n",
      "At random state 21 the accuracy_score is 0.13808219178082193\n",
      "At random state 22 the accuracy_score is 0.15178082191780823\n",
      "At random state 23 the accuracy_score is 0.13917808219178082\n",
      "At random state 24 the accuracy_score is 0.13945205479452055\n",
      "At random state 25 the accuracy_score is 0.14191780821917807\n",
      "At random state 26 the accuracy_score is 0.15726027397260273\n",
      "At random state 27 the accuracy_score is 0.15232876712328766\n",
      "At random state 28 the accuracy_score is 0.14931506849315068\n",
      "At random state 29 the accuracy_score is 0.14356164383561643\n",
      "At random state 30 the accuracy_score is 0.14931506849315068\n",
      "At random state 31 the accuracy_score is 0.14657534246575343\n",
      "At random state 32 the accuracy_score is 0.13917808219178082\n",
      "At random state 33 the accuracy_score is 0.14438356164383562\n",
      "At random state 34 the accuracy_score is 0.14383561643835616\n",
      "At random state 35 the accuracy_score is 0.14493150684931508\n",
      "At random state 36 the accuracy_score is 0.136986301369863\n",
      "At random state 37 the accuracy_score is 0.1441095890410959\n",
      "At random state 38 the accuracy_score is 0.13287671232876713\n",
      "At random state 39 the accuracy_score is 0.14027397260273972\n"
     ]
    }
   ],
   "source": [
    "max_acc=0\n",
    "max_rand=0\n",
    "\n",
    "for i in range(0,40):\n",
    "    x_train,x_test,y_train,y_test=train_test_split(x,y,test_size=0.20,random_state=i)\n",
    "    GA.fit(x_train,y_train)\n",
    "    pred=GA.predict(x_test)\n",
    "    test=accuracy_score(y_test,pred)\n",
    "    print(f\"At random state {i} the accuracy_score is {test}\")\n",
    "    \n",
    "    if test>max_acc:\n",
    "        max_acc=test\n",
    "        max_rand=i\n",
    "        print(f'At max_rand {i} Max_Accuracy {max_acc}')\n",
    "        print('\\n')"
   ]
  },
  {
   "cell_type": "markdown",
   "id": "5468ddfa",
   "metadata": {},
   "source": [
    "At random state 1 model give accuracy score is 15.72%"
   ]
  },
  {
   "cell_type": "code",
   "execution_count": 83,
   "id": "f5876f12",
   "metadata": {},
   "outputs": [
    {
     "name": "stdout",
     "output_type": "stream",
     "text": [
      "Confusion Matrix : [[18  0  0 ...  0  9  0]\n",
      " [ 4  0  0 ...  5  0  4]\n",
      " [ 3  0 10 ...  0  8  0]\n",
      " ...\n",
      " [ 0  0  0 ... 20  5  0]\n",
      " [ 0  0  0 ...  1 34  0]\n",
      " [17  0  0 ...  1  0 13]]\n",
      "Classification Report :               precision    recall  f1-score   support\n",
      "\n",
      "           0       0.04      0.30      0.06        60\n",
      "           1       0.00      0.00      0.00        75\n",
      "           2       0.45      0.13      0.20        76\n",
      "           3       0.12      0.18      0.15        67\n",
      "           4       1.00      0.01      0.03        71\n",
      "           5       0.00      0.00      0.00        72\n",
      "           6       0.46      0.23      0.31        69\n",
      "           7       0.08      0.01      0.02        68\n",
      "           8       0.21      0.07      0.11        68\n",
      "           9       0.13      0.06      0.08        66\n",
      "          10       0.00      0.00      0.00        66\n",
      "          11       0.25      0.44      0.32        59\n",
      "          12       0.05      0.16      0.08        64\n",
      "          13       0.00      0.00      0.00        65\n",
      "          14       0.00      0.00      0.00        66\n",
      "          15       0.26      0.78      0.38        64\n",
      "          16       0.08      0.01      0.02        77\n",
      "          17       0.10      0.04      0.06        71\n",
      "          18       0.59      0.15      0.24        85\n",
      "          19       0.00      0.00      0.00        67\n",
      "          20       0.11      0.01      0.03        68\n",
      "          21       0.00      0.00      0.00        64\n",
      "          22       0.55      0.20      0.30        59\n",
      "          23       0.04      0.07      0.05        58\n",
      "          24       0.00      0.00      0.00        78\n",
      "          25       0.26      0.35      0.30        71\n",
      "          26       0.28      0.06      0.10        79\n",
      "          27       0.00      0.00      0.00        55\n",
      "          28       0.43      0.56      0.49        62\n",
      "          29       0.19      0.41      0.26        82\n",
      "          30       0.00      0.00      0.00        70\n",
      "          31       0.00      0.00      0.00        62\n",
      "          32       0.28      0.18      0.22        61\n",
      "          33       0.44      0.32      0.37        62\n",
      "          34       0.00      0.00      0.00        60\n",
      "          35       0.23      0.67      0.34        61\n",
      "          36       0.50      0.04      0.07        55\n",
      "          37       0.40      0.11      0.17        73\n",
      "          38       0.15      0.07      0.09        59\n",
      "          39       0.00      0.00      0.00        67\n",
      "          40       0.49      0.34      0.40        82\n",
      "          41       0.00      0.00      0.00        70\n",
      "          42       0.42      0.18      0.25        71\n",
      "          43       0.09      0.06      0.07        69\n",
      "          44       0.28      0.27      0.28        62\n",
      "          45       0.47      0.34      0.40        67\n",
      "          46       0.10      0.09      0.09        69\n",
      "          47       0.09      0.08      0.08        65\n",
      "          48       0.02      0.02      0.02        64\n",
      "          49       0.10      0.50      0.16        76\n",
      "          50       0.00      0.00      0.00        67\n",
      "          51       0.07      0.29      0.12        69\n",
      "          52       0.11      0.56      0.18        61\n",
      "          53       0.27      0.17      0.21        76\n",
      "\n",
      "    accuracy                           0.16      3650\n",
      "   macro avg       0.19      0.16      0.13      3650\n",
      "weighted avg       0.19      0.16      0.13      3650\n",
      "\n",
      "Accuracy Score  : 15.726027397260273\n",
      "Dataset Score : 15.49421193232413\n"
     ]
    }
   ],
   "source": [
    "x_train,x_test,y_train,y_test=train_test_split(x,y,test_size=0.20,random_state=1)\n",
    "GA.fit(x_train,y_train)\n",
    "pred_test=GA.predict(x_test)\n",
    "print(f\"Confusion Matrix : {confusion_matrix(y_test,pred_test)}\")\n",
    "print(f\"Classification Report : {classification_report(y_test,pred_test)}\")\n",
    "print(f\"Accuracy Score  : {(accuracy_score(y_test,pred_test)*100)}\")\n",
    "print(f\"Dataset Score : {(GA.score(x_train,y_train))*100}\")"
   ]
  },
  {
   "cell_type": "markdown",
   "id": "0c53f9d4",
   "metadata": {},
   "source": [
    "Accuracy score is 15.72%.\n",
    "It is high error and low accuracy score comparision to previous model\n",
    "Try another method for better accuracy score and less error"
   ]
  },
  {
   "cell_type": "markdown",
   "id": "8fd3934d",
   "metadata": {},
   "source": [
    "# Model-->Decision Tree Classifier"
   ]
  },
  {
   "cell_type": "code",
   "execution_count": 84,
   "id": "5a901bf7",
   "metadata": {},
   "outputs": [
    {
     "name": "stdout",
     "output_type": "stream",
     "text": [
      "Accuracy 0.7219178082191781 Random_state at 0\n",
      "Max accuracy 0.7219178082191781 Max_Random_state 0\n",
      "\n",
      "\n",
      "Accuracy 0.7084931506849315 Random_state at 1\n",
      "Accuracy 0.7150684931506849 Random_state at 2\n",
      "Accuracy 0.7134246575342466 Random_state at 3\n",
      "Accuracy 0.718904109589041 Random_state at 4\n",
      "Accuracy 0.7139726027397261 Random_state at 5\n",
      "Accuracy 0.7115068493150685 Random_state at 6\n",
      "Accuracy 0.7134246575342466 Random_state at 7\n",
      "Accuracy 0.7205479452054795 Random_state at 8\n",
      "Accuracy 0.7186301369863014 Random_state at 9\n",
      "Accuracy 0.709041095890411 Random_state at 10\n",
      "Accuracy 0.7257534246575342 Random_state at 11\n",
      "Max accuracy 0.7257534246575342 Max_Random_state 11\n",
      "\n",
      "\n",
      "Accuracy 0.7084931506849315 Random_state at 12\n",
      "Accuracy 0.7153424657534246 Random_state at 13\n",
      "Accuracy 0.7167123287671233 Random_state at 14\n",
      "Accuracy 0.7147945205479452 Random_state at 15\n",
      "Accuracy 0.7180821917808219 Random_state at 16\n",
      "Accuracy 0.7084931506849315 Random_state at 17\n",
      "Accuracy 0.7106849315068493 Random_state at 18\n",
      "Accuracy 0.7271232876712329 Random_state at 19\n",
      "Max accuracy 0.7271232876712329 Max_Random_state 19\n",
      "\n",
      "\n",
      "Accuracy 0.7101369863013699 Random_state at 20\n",
      "Accuracy 0.7246575342465753 Random_state at 21\n",
      "Accuracy 0.7265753424657534 Random_state at 22\n",
      "Accuracy 0.7241095890410959 Random_state at 23\n",
      "Accuracy 0.7153424657534246 Random_state at 24\n",
      "Accuracy 0.7142465753424657 Random_state at 25\n",
      "Accuracy 0.7161643835616438 Random_state at 26\n",
      "Accuracy 0.7210958904109589 Random_state at 27\n",
      "Accuracy 0.7298630136986302 Random_state at 28\n",
      "Max accuracy 0.7298630136986302 Max_Random_state 28\n",
      "\n",
      "\n",
      "Accuracy 0.7235616438356164 Random_state at 29\n",
      "Accuracy 0.7249315068493151 Random_state at 30\n",
      "Accuracy 0.7068493150684931 Random_state at 31\n",
      "Accuracy 0.7186301369863014 Random_state at 32\n",
      "Accuracy 0.7117808219178082 Random_state at 33\n",
      "Accuracy 0.709041095890411 Random_state at 34\n",
      "Accuracy 0.7210958904109589 Random_state at 35\n",
      "Accuracy 0.7147945205479452 Random_state at 36\n",
      "Accuracy 0.7076712328767123 Random_state at 37\n",
      "Accuracy 0.7210958904109589 Random_state at 38\n",
      "Accuracy 0.701917808219178 Random_state at 39\n"
     ]
    }
   ],
   "source": [
    "maxAcc=0      #maximum accuracy\n",
    "maxRand=0\n",
    "\n",
    "for i in range(0,40):\n",
    "    x_train,x_test,y_train,y_test=train_test_split(x,y,test_size=0.20,random_state=i)\n",
    "    DTC.fit(x_train,y_train)\n",
    "    pred_test=DTC.predict(x_test)\n",
    "    Accuracy=accuracy_score(y_test,pred_test)\n",
    "    print('Accuracy', Accuracy,'Random_state at',i )\n",
    "    \n",
    "    if Accuracy>maxAcc:\n",
    "        maxAcc=Accuracy\n",
    "        maxRand=i\n",
    "        print('Max accuracy',maxAcc,'Max_Random_state',i)\n",
    "        print('\\n')"
   ]
  },
  {
   "cell_type": "markdown",
   "id": "a044eae1",
   "metadata": {},
   "source": [
    "At random state 28 model give accuracy score 72.98%"
   ]
  },
  {
   "cell_type": "code",
   "execution_count": 85,
   "id": "5fd400dc",
   "metadata": {},
   "outputs": [
    {
     "name": "stdout",
     "output_type": "stream",
     "text": [
      "Confusion Matrix : [[63  0  0 ...  0  0  0]\n",
      " [ 0 53  0 ...  0  0  4]\n",
      " [ 0  0 71 ...  0  0  0]\n",
      " ...\n",
      " [ 0  0  0 ... 46  4  0]\n",
      " [ 0  0  0 ...  4 47  0]\n",
      " [ 0  2  0 ...  0  0 40]]\n",
      "Classification Report :               precision    recall  f1-score   support\n",
      "\n",
      "           0       0.82      0.88      0.85        72\n",
      "           1       0.77      0.65      0.70        82\n",
      "           2       0.91      0.90      0.90        79\n",
      "           3       0.78      0.81      0.80        63\n",
      "           4       0.75      0.85      0.79        66\n",
      "           5       0.71      0.71      0.71        56\n",
      "           6       0.84      0.61      0.71        77\n",
      "           7       0.72      0.80      0.76        61\n",
      "           8       0.87      0.87      0.87        70\n",
      "           9       0.60      0.68      0.64        63\n",
      "          10       0.64      0.65      0.65        72\n",
      "          11       0.77      0.82      0.80        67\n",
      "          12       0.75      0.81      0.78        59\n",
      "          13       0.63      0.71      0.67        58\n",
      "          14       0.76      0.73      0.74        66\n",
      "          15       0.56      0.74      0.64        65\n",
      "          16       0.91      0.82      0.86        61\n",
      "          17       0.85      0.73      0.78        62\n",
      "          18       0.69      0.74      0.71        61\n",
      "          19       0.78      0.67      0.72        79\n",
      "          20       0.82      0.80      0.81        59\n",
      "          21       0.51      0.64      0.57        56\n",
      "          22       0.80      0.84      0.82        61\n",
      "          23       0.85      0.75      0.80        69\n",
      "          24       0.60      0.58      0.59        59\n",
      "          25       0.74      0.66      0.70        70\n",
      "          26       0.52      0.66      0.58        74\n",
      "          27       0.79      0.71      0.74        68\n",
      "          28       0.76      0.79      0.78        63\n",
      "          29       0.81      0.75      0.78        69\n",
      "          30       0.86      0.83      0.85        77\n",
      "          31       0.60      0.69      0.65        59\n",
      "          32       0.79      0.69      0.74        75\n",
      "          33       0.66      0.61      0.63        61\n",
      "          34       0.75      0.74      0.75        66\n",
      "          35       0.76      0.78      0.77        72\n",
      "          36       0.68      0.56      0.61        77\n",
      "          37       0.65      0.55      0.60        66\n",
      "          38       0.67      0.78      0.72        74\n",
      "          39       0.79      0.81      0.80        78\n",
      "          40       0.77      0.85      0.81        68\n",
      "          41       0.68      0.67      0.68        64\n",
      "          42       0.86      0.94      0.90        66\n",
      "          43       0.77      0.72      0.75        76\n",
      "          44       0.83      0.82      0.83        73\n",
      "          45       0.67      0.74      0.71        66\n",
      "          46       0.78      0.72      0.75        74\n",
      "          47       0.75      0.72      0.74        64\n",
      "          48       0.71      0.61      0.66        72\n",
      "          49       0.76      0.80      0.78        70\n",
      "          50       0.46      0.49      0.48        51\n",
      "          51       0.68      0.61      0.64        75\n",
      "          52       0.59      0.66      0.63        71\n",
      "          53       0.62      0.59      0.60        68\n",
      "\n",
      "    accuracy                           0.73      3650\n",
      "   macro avg       0.73      0.73      0.73      3650\n",
      "weighted avg       0.74      0.73      0.73      3650\n",
      "\n",
      "Accuracy Score  : 72.93150684931507\n",
      "Dataset Score : 96.96554558531406\n"
     ]
    }
   ],
   "source": [
    "x_train,x_test,y_train,y_test=train_test_split(x,y,test_size=0.20,random_state=28)\n",
    "DTC.fit(x_train,y_train)\n",
    "pred_test=DTC.predict(x_test)\n",
    "print(f\"Confusion Matrix : {confusion_matrix(y_test,pred_test)}\")\n",
    "print(f\"Classification Report : {classification_report(y_test,pred_test)}\")\n",
    "print(f\"Accuracy Score  : {(accuracy_score(y_test,pred_test)*100)}\")\n",
    "print(f\"Dataset Score : {(DTC.score(x_train,y_train))*100}\")"
   ]
  },
  {
   "cell_type": "markdown",
   "id": "eceaf6d1",
   "metadata": {},
   "source": [
    "Accuracy score is 72.93%.\n",
    "It is low error and high accuracy score comparision to previous model\n",
    "Try another method for better accuracy score and less error"
   ]
  },
  {
   "cell_type": "markdown",
   "id": "16abce2e",
   "metadata": {},
   "source": [
    "# Model-->SVC"
   ]
  },
  {
   "cell_type": "code",
   "execution_count": 86,
   "id": "72173136",
   "metadata": {},
   "outputs": [
    {
     "name": "stdout",
     "output_type": "stream",
     "text": [
      "Accuracy 0.6854794520547945 Random_state at 0\n",
      "Max accuracy 0.6854794520547945 Max_Random_state 0\n",
      "\n",
      "\n",
      "Accuracy 0.684931506849315 Random_state at 1\n",
      "Accuracy 0.687945205479452 Random_state at 2\n",
      "Max accuracy 0.687945205479452 Max_Random_state 2\n",
      "\n",
      "\n",
      "Accuracy 0.6772602739726027 Random_state at 3\n",
      "Accuracy 0.6789041095890411 Random_state at 4\n",
      "Accuracy 0.6805479452054795 Random_state at 5\n",
      "Accuracy 0.684931506849315 Random_state at 6\n",
      "Accuracy 0.676986301369863 Random_state at 7\n",
      "Accuracy 0.6797260273972603 Random_state at 8\n",
      "Accuracy 0.6854794520547945 Random_state at 9\n",
      "Accuracy 0.6915068493150685 Random_state at 10\n",
      "Max accuracy 0.6915068493150685 Max_Random_state 10\n",
      "\n",
      "\n",
      "Accuracy 0.6808219178082192 Random_state at 11\n",
      "Accuracy 0.6816438356164384 Random_state at 12\n",
      "Accuracy 0.6895890410958904 Random_state at 13\n",
      "Accuracy 0.6884931506849316 Random_state at 14\n",
      "Accuracy 0.7038356164383561 Random_state at 15\n",
      "Max accuracy 0.7038356164383561 Max_Random_state 15\n",
      "\n",
      "\n",
      "Accuracy 0.689041095890411 Random_state at 16\n",
      "Accuracy 0.673972602739726 Random_state at 17\n",
      "Accuracy 0.6772602739726027 Random_state at 18\n",
      "Accuracy 0.6895890410958904 Random_state at 19\n",
      "Accuracy 0.672054794520548 Random_state at 20\n",
      "Accuracy 0.6923287671232877 Random_state at 21\n",
      "Accuracy 0.6843835616438356 Random_state at 22\n",
      "Accuracy 0.6863013698630137 Random_state at 23\n",
      "Accuracy 0.676986301369863 Random_state at 24\n",
      "Accuracy 0.6876712328767123 Random_state at 25\n",
      "Accuracy 0.6841095890410959 Random_state at 26\n",
      "Accuracy 0.6808219178082192 Random_state at 27\n",
      "Accuracy 0.6857534246575342 Random_state at 28\n",
      "Accuracy 0.689041095890411 Random_state at 29\n",
      "Accuracy 0.7038356164383561 Random_state at 30\n",
      "Accuracy 0.6893150684931507 Random_state at 31\n",
      "Accuracy 0.6893150684931507 Random_state at 32\n",
      "Accuracy 0.6747945205479452 Random_state at 33\n",
      "Accuracy 0.6841095890410959 Random_state at 34\n",
      "Accuracy 0.6835616438356165 Random_state at 35\n",
      "Accuracy 0.684931506849315 Random_state at 36\n",
      "Accuracy 0.6767123287671233 Random_state at 37\n",
      "Accuracy 0.6742465753424658 Random_state at 38\n",
      "Accuracy 0.6736986301369863 Random_state at 39\n"
     ]
    }
   ],
   "source": [
    "maxAcc=0      #maximum accuracy\n",
    "maxRand=0\n",
    "\n",
    "for i in range(0,40):\n",
    "    x_train,x_test,y_train,y_test=train_test_split(x,y,test_size=0.20,random_state=i)\n",
    "    SV.fit(x_train,y_train)\n",
    "    pred_test=SV.predict(x_test)\n",
    "    Accuracy=accuracy_score(y_test,pred_test)\n",
    "    print('Accuracy', Accuracy,'Random_state at',i )\n",
    "    \n",
    "    if Accuracy>maxAcc:\n",
    "        maxAcc=Accuracy\n",
    "        maxRand=i\n",
    "        print('Max accuracy',maxAcc,'Max_Random_state',i)\n",
    "        print('\\n')"
   ]
  },
  {
   "cell_type": "markdown",
   "id": "83e06bb4",
   "metadata": {},
   "source": [
    "At random state 15 model give accuracy score 70.38%"
   ]
  },
  {
   "cell_type": "code",
   "execution_count": 87,
   "id": "5e400fc2",
   "metadata": {},
   "outputs": [
    {
     "name": "stdout",
     "output_type": "stream",
     "text": [
      "Confusion Matrix : [[62  0  0 ...  0  0  0]\n",
      " [ 0 33  0 ...  0  0  1]\n",
      " [ 0  0 57 ...  0  0  0]\n",
      " ...\n",
      " [ 0  0  0 ... 43 11  0]\n",
      " [ 0  0  0 ...  2 48  0]\n",
      " [ 0  0  0 ...  0  0 43]]\n",
      "Classification Report :               precision    recall  f1-score   support\n",
      "\n",
      "           0       0.75      0.83      0.78        75\n",
      "           1       0.67      0.49      0.56        68\n",
      "           2       0.93      0.83      0.88        69\n",
      "           3       0.79      0.64      0.71        66\n",
      "           4       0.73      0.80      0.76        59\n",
      "           5       0.81      0.75      0.78        63\n",
      "           6       0.57      0.59      0.58        49\n",
      "           7       0.68      0.68      0.68        71\n",
      "           8       0.77      0.90      0.83        63\n",
      "           9       0.57      0.69      0.62        70\n",
      "          10       0.73      0.78      0.76        78\n",
      "          11       0.68      0.81      0.74        70\n",
      "          12       0.71      0.74      0.73        82\n",
      "          13       0.46      0.53      0.50        73\n",
      "          14       0.77      0.76      0.76        70\n",
      "          15       0.58      0.81      0.68        64\n",
      "          16       0.89      0.85      0.87        66\n",
      "          17       0.81      0.91      0.86        67\n",
      "          18       0.60      0.63      0.61        67\n",
      "          19       0.65      0.80      0.72        59\n",
      "          20       0.86      0.82      0.84        62\n",
      "          21       0.56      0.62      0.59        66\n",
      "          22       0.77      0.66      0.71        67\n",
      "          23       0.78      0.80      0.79        71\n",
      "          24       0.65      0.35      0.45        69\n",
      "          25       0.91      0.52      0.67        61\n",
      "          26       0.57      0.61      0.59        67\n",
      "          27       0.63      0.78      0.70        58\n",
      "          28       0.80      0.77      0.79        69\n",
      "          29       0.70      0.77      0.73        70\n",
      "          30       0.85      0.81      0.83        70\n",
      "          31       0.47      0.44      0.46        70\n",
      "          32       0.84      0.78      0.81        67\n",
      "          33       0.70      0.64      0.67        75\n",
      "          34       0.74      0.89      0.81        79\n",
      "          35       0.76      0.71      0.73        48\n",
      "          36       0.69      0.61      0.65        72\n",
      "          37       0.60      0.60      0.60        63\n",
      "          38       0.51      0.59      0.55        64\n",
      "          39       0.72      0.81      0.76        72\n",
      "          40       0.73      0.95      0.83        62\n",
      "          41       0.77      0.49      0.60        70\n",
      "          42       0.88      0.91      0.89        77\n",
      "          43       0.74      0.67      0.70        67\n",
      "          44       0.69      0.71      0.70        78\n",
      "          45       0.71      0.75      0.73        73\n",
      "          46       0.79      0.79      0.79        62\n",
      "          47       0.75      0.67      0.70        75\n",
      "          48       0.75      0.57      0.65        68\n",
      "          49       0.83      0.79      0.81        72\n",
      "          50       0.31      0.19      0.24        57\n",
      "          51       0.69      0.61      0.65        71\n",
      "          52       0.53      0.76      0.63        63\n",
      "          53       0.69      0.65      0.67        66\n",
      "\n",
      "    accuracy                           0.70      3650\n",
      "   macro avg       0.71      0.70      0.70      3650\n",
      "weighted avg       0.71      0.70      0.70      3650\n",
      "\n",
      "Accuracy Score  : 70.3835616438356\n",
      "Dataset Score : 70.38153298171108\n"
     ]
    }
   ],
   "source": [
    "x_train,x_test,y_train,y_test=train_test_split(x,y,test_size=0.20,random_state=15)\n",
    "SV.fit(x_train,y_train)\n",
    "pred_test=SV.predict(x_test)\n",
    "print(f\"Confusion Matrix : {confusion_matrix(y_test,pred_test)}\")\n",
    "print(f\"Classification Report : {classification_report(y_test,pred_test)}\")\n",
    "print(f\"Accuracy Score  : {(accuracy_score(y_test,pred_test)*100)}\")\n",
    "print(f\"Dataset Score : {(SV.score(x_train,y_train))*100}\")"
   ]
  },
  {
   "cell_type": "markdown",
   "id": "0f30d99d",
   "metadata": {},
   "source": [
    "Accuracy score is 70.38%.\n",
    "It is low error and low accuracy score comparision to previous model\n",
    "Try another method for better accuracy score and less error"
   ]
  },
  {
   "cell_type": "markdown",
   "id": "f0ceeea5",
   "metadata": {},
   "source": [
    "# Model--->Kneighbors Classifiere"
   ]
  },
  {
   "cell_type": "code",
   "execution_count": 88,
   "id": "952e2319",
   "metadata": {},
   "outputs": [
    {
     "name": "stdout",
     "output_type": "stream",
     "text": [
      "Accuracy 0.7835616438356164 Random_state at 0\n",
      "Max accuracy 0.7835616438356164 Max_Random_state 0\n",
      "\n",
      "\n",
      "Accuracy 0.7753424657534247 Random_state at 1\n",
      "Accuracy 0.7860273972602739 Random_state at 2\n",
      "Max accuracy 0.7860273972602739 Max_Random_state 2\n",
      "\n",
      "\n",
      "Accuracy 0.783013698630137 Random_state at 3\n",
      "Accuracy 0.7843835616438356 Random_state at 4\n",
      "Accuracy 0.7865753424657534 Random_state at 5\n",
      "Max accuracy 0.7865753424657534 Max_Random_state 5\n",
      "\n",
      "\n",
      "Accuracy 0.78 Random_state at 6\n",
      "Accuracy 0.7756164383561643 Random_state at 7\n",
      "Accuracy 0.7824657534246575 Random_state at 8\n",
      "Accuracy 0.7895890410958905 Random_state at 9\n",
      "Max accuracy 0.7895890410958905 Max_Random_state 9\n",
      "\n",
      "\n",
      "Accuracy 0.7887671232876712 Random_state at 10\n",
      "Accuracy 0.7715068493150685 Random_state at 11\n",
      "Accuracy 0.783013698630137 Random_state at 12\n",
      "Accuracy 0.7756164383561643 Random_state at 13\n",
      "Accuracy 0.7904109589041096 Random_state at 14\n",
      "Max accuracy 0.7904109589041096 Max_Random_state 14\n",
      "\n",
      "\n",
      "Accuracy 0.7934246575342466 Random_state at 15\n",
      "Max accuracy 0.7934246575342466 Max_Random_state 15\n",
      "\n",
      "\n",
      "Accuracy 0.7857534246575343 Random_state at 16\n",
      "Accuracy 0.7824657534246575 Random_state at 17\n",
      "Accuracy 0.7764383561643836 Random_state at 18\n",
      "Accuracy 0.7824657534246575 Random_state at 19\n",
      "Accuracy 0.7786301369863013 Random_state at 20\n",
      "Accuracy 0.7813698630136986 Random_state at 21\n",
      "Accuracy 0.7906849315068493 Random_state at 22\n",
      "Accuracy 0.7821917808219178 Random_state at 23\n",
      "Accuracy 0.7780821917808219 Random_state at 24\n",
      "Accuracy 0.7898630136986301 Random_state at 25\n",
      "Accuracy 0.7871232876712329 Random_state at 26\n",
      "Accuracy 0.78 Random_state at 27\n",
      "Accuracy 0.7821917808219178 Random_state at 28\n",
      "Accuracy 0.7912328767123288 Random_state at 29\n",
      "Accuracy 0.7887671232876712 Random_state at 30\n",
      "Accuracy 0.7783561643835616 Random_state at 31\n",
      "Accuracy 0.7860273972602739 Random_state at 32\n",
      "Accuracy 0.7736986301369863 Random_state at 33\n",
      "Accuracy 0.7843835616438356 Random_state at 34\n",
      "Accuracy 0.7863013698630137 Random_state at 35\n",
      "Accuracy 0.7824657534246575 Random_state at 36\n",
      "Accuracy 0.7736986301369863 Random_state at 37\n",
      "Accuracy 0.7772602739726028 Random_state at 38\n",
      "Accuracy 0.7720547945205479 Random_state at 39\n"
     ]
    }
   ],
   "source": [
    "maxAcc=0      #maximum accuracy\n",
    "maxRand=0\n",
    "\n",
    "for i in range(0,40):\n",
    "    x_train,x_test,y_train,y_test=train_test_split(x,y,test_size=0.20,random_state=i)\n",
    "    KN.fit(x_train,y_train)\n",
    "    pred_test=KN.predict(x_test)\n",
    "    Accuracy=accuracy_score(y_test,pred_test)\n",
    "    print('Accuracy', Accuracy,'Random_state at',i )\n",
    "    \n",
    "    if Accuracy>maxAcc:\n",
    "        maxAcc=Accuracy\n",
    "        maxRand=i\n",
    "        print('Max accuracy',maxAcc,'Max_Random_state',i)\n",
    "        print('\\n')"
   ]
  },
  {
   "cell_type": "markdown",
   "id": "48ffa49c",
   "metadata": {},
   "source": [
    "At random state 15 model give accuracy score is 79.34%"
   ]
  },
  {
   "cell_type": "code",
   "execution_count": 89,
   "id": "66edf57f",
   "metadata": {},
   "outputs": [
    {
     "name": "stdout",
     "output_type": "stream",
     "text": [
      "Confusion Matrix : [[69  0  0 ...  0  0  0]\n",
      " [ 0 51  0 ...  0  0  1]\n",
      " [ 0  0 65 ...  0  0  0]\n",
      " ...\n",
      " [ 0  0  0 ... 39  3  0]\n",
      " [ 0  0  0 ...  3 41  0]\n",
      " [ 0  0  0 ...  0  0 48]]\n",
      "Classification Report :               precision    recall  f1-score   support\n",
      "\n",
      "           0       0.87      0.92      0.90        75\n",
      "           1       0.77      0.75      0.76        68\n",
      "           2       0.92      0.94      0.93        69\n",
      "           3       0.78      0.79      0.78        66\n",
      "           4       0.88      0.88      0.88        59\n",
      "           5       0.80      0.76      0.78        63\n",
      "           6       0.59      0.65      0.62        49\n",
      "           7       0.83      0.87      0.85        71\n",
      "           8       0.78      0.92      0.85        63\n",
      "           9       0.75      0.74      0.75        70\n",
      "          10       0.81      0.81      0.81        78\n",
      "          11       0.90      0.90      0.90        70\n",
      "          12       0.87      0.88      0.87        82\n",
      "          13       0.59      0.66      0.62        73\n",
      "          14       0.88      0.84      0.86        70\n",
      "          15       0.54      0.70      0.61        64\n",
      "          16       0.95      0.91      0.93        66\n",
      "          17       0.88      0.87      0.87        67\n",
      "          18       0.79      0.93      0.86        67\n",
      "          19       0.77      0.86      0.82        59\n",
      "          20       0.96      0.89      0.92        62\n",
      "          21       0.70      0.79      0.74        66\n",
      "          22       0.71      0.81      0.76        67\n",
      "          23       0.76      0.85      0.80        71\n",
      "          24       0.73      0.65      0.69        69\n",
      "          25       0.68      0.67      0.68        61\n",
      "          26       0.74      0.81      0.77        67\n",
      "          27       0.75      0.83      0.79        58\n",
      "          28       0.93      0.91      0.92        69\n",
      "          29       0.86      0.90      0.88        70\n",
      "          30       0.87      0.87      0.87        70\n",
      "          31       0.64      0.74      0.69        70\n",
      "          32       0.85      0.76      0.80        67\n",
      "          33       0.77      0.81      0.79        75\n",
      "          34       0.88      0.95      0.91        79\n",
      "          35       0.87      0.81      0.84        48\n",
      "          36       0.83      0.60      0.69        72\n",
      "          37       0.75      0.71      0.73        63\n",
      "          38       0.79      0.83      0.81        64\n",
      "          39       0.88      0.78      0.82        72\n",
      "          40       0.80      0.92      0.86        62\n",
      "          41       0.76      0.73      0.74        70\n",
      "          42       0.99      0.90      0.94        77\n",
      "          43       0.84      0.76      0.80        67\n",
      "          44       0.83      0.82      0.83        78\n",
      "          45       0.64      0.64      0.64        73\n",
      "          46       0.84      0.82      0.83        62\n",
      "          47       0.85      0.68      0.76        75\n",
      "          48       0.89      0.71      0.79        68\n",
      "          49       0.88      0.85      0.87        72\n",
      "          50       0.46      0.44      0.45        57\n",
      "          51       0.70      0.55      0.61        71\n",
      "          52       0.72      0.65      0.68        63\n",
      "          53       0.80      0.73      0.76        66\n",
      "\n",
      "    accuracy                           0.79      3650\n",
      "   macro avg       0.79      0.79      0.79      3650\n",
      "weighted avg       0.80      0.79      0.79      3650\n",
      "\n",
      "Accuracy Score  : 79.34246575342466\n",
      "Dataset Score : 85.4921569970546\n"
     ]
    }
   ],
   "source": [
    "x_train,x_test,y_train,y_test=train_test_split(x,y,test_size=0.20,random_state=15)\n",
    "KN.fit(x_train,y_train)\n",
    "pred_test=KN.predict(x_test)\n",
    "print(f\"Confusion Matrix : {confusion_matrix(y_test,pred_test)}\")\n",
    "print(f\"Classification Report : {classification_report(y_test,pred_test)}\")\n",
    "print(f\"Accuracy Score  : {(accuracy_score(y_test,pred_test)*100)}\")\n",
    "print(f\"Dataset Score : {(KN.score(x_train,y_train))*100}\")"
   ]
  },
  {
   "cell_type": "markdown",
   "id": "bdd67341",
   "metadata": {},
   "source": [
    "Accuracy score is 79.34%.\n",
    "It is high error and low accuracy score comparision to previous model\n",
    "Try another method for better accuracy score and less error"
   ]
  },
  {
   "cell_type": "markdown",
   "id": "44f28447",
   "metadata": {},
   "source": [
    "# Model-->Ada Boost Classifier"
   ]
  },
  {
   "cell_type": "code",
   "execution_count": 90,
   "id": "bb22873e",
   "metadata": {},
   "outputs": [
    {
     "name": "stdout",
     "output_type": "stream",
     "text": [
      "Accuracy 0.06273972602739726 Random_state at 0\n",
      "Max accuracy 0.06273972602739726 Max_Random_state 0\n",
      "\n",
      "\n",
      "Accuracy 0.05232876712328767 Random_state at 1\n",
      "Accuracy 0.056164383561643834 Random_state at 2\n",
      "Accuracy 0.044931506849315066 Random_state at 3\n",
      "Accuracy 0.0526027397260274 Random_state at 4\n",
      "Accuracy 0.05863013698630137 Random_state at 5\n",
      "Accuracy 0.05589041095890411 Random_state at 6\n",
      "Accuracy 0.0663013698630137 Random_state at 7\n",
      "Max accuracy 0.0663013698630137 Max_Random_state 7\n",
      "\n",
      "\n",
      "Accuracy 0.05452054794520548 Random_state at 8\n",
      "Accuracy 0.05452054794520548 Random_state at 9\n",
      "Accuracy 0.044931506849315066 Random_state at 10\n",
      "Accuracy 0.04328767123287671 Random_state at 11\n",
      "Accuracy 0.06219178082191781 Random_state at 12\n",
      "Accuracy 0.056164383561643834 Random_state at 13\n",
      "Accuracy 0.05150684931506849 Random_state at 14\n",
      "Accuracy 0.06904109589041096 Random_state at 15\n",
      "Max accuracy 0.06904109589041096 Max_Random_state 15\n",
      "\n",
      "\n",
      "Accuracy 0.06027397260273973 Random_state at 16\n",
      "Accuracy 0.07123287671232877 Random_state at 17\n",
      "Max accuracy 0.07123287671232877 Max_Random_state 17\n",
      "\n",
      "\n",
      "Accuracy 0.04 Random_state at 18\n",
      "Accuracy 0.0547945205479452 Random_state at 19\n",
      "Accuracy 0.06410958904109589 Random_state at 20\n",
      "Accuracy 0.049589041095890414 Random_state at 21\n",
      "Accuracy 0.06657534246575343 Random_state at 22\n",
      "Accuracy 0.049315068493150684 Random_state at 23\n",
      "Accuracy 0.04438356164383562 Random_state at 24\n",
      "Accuracy 0.05506849315068493 Random_state at 25\n",
      "Accuracy 0.04547945205479452 Random_state at 26\n",
      "Accuracy 0.06712328767123288 Random_state at 27\n",
      "Accuracy 0.04575342465753424 Random_state at 28\n",
      "Accuracy 0.04328767123287671 Random_state at 29\n",
      "Accuracy 0.06657534246575343 Random_state at 30\n",
      "Accuracy 0.07698630136986301 Random_state at 31\n",
      "Max accuracy 0.07698630136986301 Max_Random_state 31\n",
      "\n",
      "\n",
      "Accuracy 0.056438356164383564 Random_state at 32\n",
      "Accuracy 0.05342465753424658 Random_state at 33\n",
      "Accuracy 0.05506849315068493 Random_state at 34\n",
      "Accuracy 0.06904109589041096 Random_state at 35\n",
      "Accuracy 0.06164383561643835 Random_state at 36\n",
      "Accuracy 0.03671232876712329 Random_state at 37\n",
      "Accuracy 0.054246575342465755 Random_state at 38\n",
      "Accuracy 0.06027397260273973 Random_state at 39\n"
     ]
    }
   ],
   "source": [
    "maxAcc=0      #maximum accuracy\n",
    "maxRand=0\n",
    "\n",
    "for i in range(0,40):\n",
    "    x_train,x_test,y_train,y_test=train_test_split(x,y,test_size=0.20,random_state=i)\n",
    "    AD.fit(x_train,y_train)\n",
    "    pred_test=AD.predict(x_test)\n",
    "    Accuracy=accuracy_score(y_test,pred_test)\n",
    "    print('Accuracy', Accuracy,'Random_state at',i )\n",
    "    \n",
    "    if Accuracy>maxAcc:\n",
    "        maxAcc=Accuracy\n",
    "        maxRand=i\n",
    "        print('Max accuracy',maxAcc,'Max_Random_state',i)\n",
    "        print('\\n')"
   ]
  },
  {
   "cell_type": "markdown",
   "id": "7f5a1609",
   "metadata": {},
   "source": [
    "At random state 31 model give accuracy score is 7.69%"
   ]
  },
  {
   "cell_type": "code",
   "execution_count": 91,
   "id": "b4e3b675",
   "metadata": {},
   "outputs": [
    {
     "name": "stdout",
     "output_type": "stream",
     "text": [
      "Confusion Matrix : [[0 0 0 ... 0 0 0]\n",
      " [0 0 0 ... 0 0 0]\n",
      " [0 0 0 ... 0 0 0]\n",
      " ...\n",
      " [0 0 0 ... 0 0 0]\n",
      " [0 0 0 ... 0 0 0]\n",
      " [0 0 0 ... 0 0 0]]\n",
      "Classification Report :               precision    recall  f1-score   support\n",
      "\n",
      "           0       0.00      0.00      0.00        67\n",
      "           1       0.00      0.00      0.00        69\n",
      "           2       0.00      0.00      0.00        56\n",
      "           3       0.69      0.14      0.23        79\n",
      "           4       0.00      0.00      0.00        84\n",
      "           5       0.00      0.00      0.00        82\n",
      "           6       1.00      0.03      0.07        59\n",
      "           7       0.00      0.00      0.00        77\n",
      "           8       0.00      0.00      0.00        69\n",
      "           9       0.00      0.00      0.00        68\n",
      "          10       0.00      0.00      0.00        79\n",
      "          11       0.00      0.00      0.00        65\n",
      "          12       0.07      0.25      0.11        56\n",
      "          13       0.00      0.00      0.00        66\n",
      "          14       0.00      0.00      0.00        66\n",
      "          15       0.48      0.16      0.24        83\n",
      "          16       0.22      0.32      0.26        59\n",
      "          17       0.14      0.02      0.03        58\n",
      "          18       0.00      0.00      0.00        64\n",
      "          19       0.00      0.00      0.00        71\n",
      "          20       0.00      0.00      0.00        68\n",
      "          21       0.04      0.02      0.02        60\n",
      "          22       0.30      0.28      0.29        64\n",
      "          23       0.00      0.00      0.00        74\n",
      "          24       0.00      0.00      0.00        63\n",
      "          25       0.06      1.00      0.11        66\n",
      "          26       0.08      0.04      0.06        70\n",
      "          27       0.07      0.37      0.12        78\n",
      "          28       0.00      0.00      0.00        67\n",
      "          29       0.00      0.00      0.00        79\n",
      "          30       0.18      0.30      0.23        76\n",
      "          31       0.00      0.00      0.00        66\n",
      "          32       0.00      0.00      0.00        67\n",
      "          33       0.00      0.00      0.00        58\n",
      "          34       0.00      0.00      0.00        70\n",
      "          35       0.00      0.00      0.00        68\n",
      "          36       0.03      0.31      0.06        54\n",
      "          37       0.05      0.08      0.06        60\n",
      "          38       0.10      0.37      0.16        76\n",
      "          39       0.00      0.00      0.00        61\n",
      "          40       0.08      0.02      0.03        64\n",
      "          41       0.06      0.15      0.08        60\n",
      "          42       0.00      0.00      0.00        69\n",
      "          43       0.59      0.26      0.36        62\n",
      "          44       0.00      0.00      0.00        71\n",
      "          45       0.00      0.00      0.00        63\n",
      "          46       0.00      0.00      0.00        82\n",
      "          47       0.00      0.00      0.00        67\n",
      "          48       0.02      0.08      0.03        64\n",
      "          49       0.00      0.00      0.00        62\n",
      "          50       0.00      0.00      0.00        62\n",
      "          51       0.00      0.00      0.00        65\n",
      "          52       0.00      0.00      0.00        69\n",
      "          53       0.00      0.00      0.00        68\n",
      "\n",
      "    accuracy                           0.08      3650\n",
      "   macro avg       0.08      0.08      0.05      3650\n",
      "weighted avg       0.08      0.08      0.05      3650\n",
      "\n",
      "Accuracy Score  : 7.698630136986301\n",
      "Dataset Score : 7.843002945407219\n"
     ]
    }
   ],
   "source": [
    "x_train,x_test,y_train,y_test=train_test_split(x,y,test_size=0.20,random_state=31)\n",
    "AD.fit(x_train,y_train)\n",
    "pred_test=AD.predict(x_test)\n",
    "print(f\"Confusion Matrix : {confusion_matrix(y_test,pred_test)}\")\n",
    "print(f\"Classification Report : {classification_report(y_test,pred_test)}\")\n",
    "print(f\"Accuracy Score  : {(accuracy_score(y_test,pred_test)*100)}\")\n",
    "print(f\"Dataset Score : {(AD.score(x_train,y_train))*100}\")"
   ]
  },
  {
   "cell_type": "markdown",
   "id": "7e2447e3",
   "metadata": {},
   "source": [
    "Accuracy score is 7.69%.\n",
    "It is low error and LOW accuracy score comparision to previous model\n",
    "Try another method for better accuracy score and less error"
   ]
  },
  {
   "cell_type": "markdown",
   "id": "98ce6acf",
   "metadata": {},
   "source": [
    "# Model-->Gradient Boosting Clasifier"
   ]
  },
  {
   "cell_type": "code",
   "execution_count": 92,
   "id": "e0a620ed",
   "metadata": {
    "scrolled": true
   },
   "outputs": [
    {
     "name": "stdout",
     "output_type": "stream",
     "text": [
      "Accuracy 0.7372602739726027 Random_state at 0\n",
      "Max accuracy 0.7372602739726027 Max_Random_state 0\n",
      "\n",
      "\n",
      "Accuracy 0.7449315068493151 Random_state at 1\n",
      "Max accuracy 0.7449315068493151 Max_Random_state 1\n",
      "\n",
      "\n",
      "Accuracy 0.7586301369863013 Random_state at 2\n",
      "Max accuracy 0.7586301369863013 Max_Random_state 2\n",
      "\n",
      "\n",
      "Accuracy 0.7421917808219178 Random_state at 3\n",
      "Accuracy 0.7372602739726027 Random_state at 4\n",
      "Accuracy 0.7504109589041096 Random_state at 5\n",
      "Accuracy 0.7375342465753425 Random_state at 6\n",
      "Accuracy 0.7495890410958904 Random_state at 7\n",
      "Accuracy 0.7487671232876713 Random_state at 8\n",
      "Accuracy 0.7421917808219178 Random_state at 9\n",
      "Accuracy 0.7482191780821917 Random_state at 10\n",
      "Accuracy 0.743013698630137 Random_state at 11\n",
      "Accuracy 0.746027397260274 Random_state at 12\n",
      "Accuracy 0.7273972602739726 Random_state at 13\n",
      "Accuracy 0.7572602739726028 Random_state at 14\n",
      "Accuracy 0.7594520547945205 Random_state at 15\n",
      "Max accuracy 0.7594520547945205 Max_Random_state 15\n",
      "\n",
      "\n",
      "Accuracy 0.7416438356164383 Random_state at 16\n",
      "Accuracy 0.7515068493150685 Random_state at 17\n",
      "Accuracy 0.7383561643835617 Random_state at 18\n",
      "Accuracy 0.7457534246575342 Random_state at 19\n",
      "Accuracy 0.7408219178082192 Random_state at 20\n",
      "Accuracy 0.7564383561643836 Random_state at 21\n",
      "Accuracy 0.7526027397260274 Random_state at 22\n",
      "Accuracy 0.7471232876712329 Random_state at 23\n",
      "Accuracy 0.7353424657534247 Random_state at 24\n",
      "Accuracy 0.7452054794520548 Random_state at 25\n",
      "Accuracy 0.7421917808219178 Random_state at 26\n",
      "Accuracy 0.7449315068493151 Random_state at 27\n",
      "Accuracy 0.7501369863013698 Random_state at 28\n",
      "Accuracy 0.7523287671232877 Random_state at 29\n",
      "Accuracy 0.7504109589041096 Random_state at 30\n",
      "Accuracy 0.7482191780821917 Random_state at 31\n",
      "Accuracy 0.7427397260273972 Random_state at 32\n"
     ]
    },
    {
     "ename": "KeyboardInterrupt",
     "evalue": "",
     "output_type": "error",
     "traceback": [
      "\u001b[1;31m---------------------------------------------------------------------------\u001b[0m",
      "\u001b[1;31mKeyboardInterrupt\u001b[0m                         Traceback (most recent call last)",
      "\u001b[1;32m~\\AppData\\Local\\Temp/ipykernel_7580/826566114.py\u001b[0m in \u001b[0;36m<module>\u001b[1;34m\u001b[0m\n\u001b[0;32m      4\u001b[0m \u001b[1;32mfor\u001b[0m \u001b[0mi\u001b[0m \u001b[1;32min\u001b[0m \u001b[0mrange\u001b[0m\u001b[1;33m(\u001b[0m\u001b[1;36m0\u001b[0m\u001b[1;33m,\u001b[0m\u001b[1;36m40\u001b[0m\u001b[1;33m)\u001b[0m\u001b[1;33m:\u001b[0m\u001b[1;33m\u001b[0m\u001b[1;33m\u001b[0m\u001b[0m\n\u001b[0;32m      5\u001b[0m     \u001b[0mx_train\u001b[0m\u001b[1;33m,\u001b[0m\u001b[0mx_test\u001b[0m\u001b[1;33m,\u001b[0m\u001b[0my_train\u001b[0m\u001b[1;33m,\u001b[0m\u001b[0my_test\u001b[0m\u001b[1;33m=\u001b[0m\u001b[0mtrain_test_split\u001b[0m\u001b[1;33m(\u001b[0m\u001b[0mx\u001b[0m\u001b[1;33m,\u001b[0m\u001b[0my\u001b[0m\u001b[1;33m,\u001b[0m\u001b[0mtest_size\u001b[0m\u001b[1;33m=\u001b[0m\u001b[1;36m0.20\u001b[0m\u001b[1;33m,\u001b[0m\u001b[0mrandom_state\u001b[0m\u001b[1;33m=\u001b[0m\u001b[0mi\u001b[0m\u001b[1;33m)\u001b[0m\u001b[1;33m\u001b[0m\u001b[1;33m\u001b[0m\u001b[0m\n\u001b[1;32m----> 6\u001b[1;33m     \u001b[0mGR\u001b[0m\u001b[1;33m.\u001b[0m\u001b[0mfit\u001b[0m\u001b[1;33m(\u001b[0m\u001b[0mx_train\u001b[0m\u001b[1;33m,\u001b[0m\u001b[0my_train\u001b[0m\u001b[1;33m)\u001b[0m\u001b[1;33m\u001b[0m\u001b[1;33m\u001b[0m\u001b[0m\n\u001b[0m\u001b[0;32m      7\u001b[0m     \u001b[0mpred_test\u001b[0m\u001b[1;33m=\u001b[0m\u001b[0mGR\u001b[0m\u001b[1;33m.\u001b[0m\u001b[0mpredict\u001b[0m\u001b[1;33m(\u001b[0m\u001b[0mx_test\u001b[0m\u001b[1;33m)\u001b[0m\u001b[1;33m\u001b[0m\u001b[1;33m\u001b[0m\u001b[0m\n\u001b[0;32m      8\u001b[0m     \u001b[0mAccuracy\u001b[0m\u001b[1;33m=\u001b[0m\u001b[0maccuracy_score\u001b[0m\u001b[1;33m(\u001b[0m\u001b[0my_test\u001b[0m\u001b[1;33m,\u001b[0m\u001b[0mpred_test\u001b[0m\u001b[1;33m)\u001b[0m\u001b[1;33m\u001b[0m\u001b[1;33m\u001b[0m\u001b[0m\n",
      "\u001b[1;32m~\\AppData\\Roaming\\Python\\Python39\\site-packages\\sklearn\\ensemble\\_gb.py\u001b[0m in \u001b[0;36mfit\u001b[1;34m(self, X, y, sample_weight, monitor)\u001b[0m\n\u001b[0;32m    666\u001b[0m \u001b[1;33m\u001b[0m\u001b[0m\n\u001b[0;32m    667\u001b[0m         \u001b[1;31m# fit the boosting stages\u001b[0m\u001b[1;33m\u001b[0m\u001b[1;33m\u001b[0m\u001b[0m\n\u001b[1;32m--> 668\u001b[1;33m         n_stages = self._fit_stages(\n\u001b[0m\u001b[0;32m    669\u001b[0m             \u001b[0mX\u001b[0m\u001b[1;33m,\u001b[0m\u001b[1;33m\u001b[0m\u001b[1;33m\u001b[0m\u001b[0m\n\u001b[0;32m    670\u001b[0m             \u001b[0my\u001b[0m\u001b[1;33m,\u001b[0m\u001b[1;33m\u001b[0m\u001b[1;33m\u001b[0m\u001b[0m\n",
      "\u001b[1;32m~\\AppData\\Roaming\\Python\\Python39\\site-packages\\sklearn\\ensemble\\_gb.py\u001b[0m in \u001b[0;36m_fit_stages\u001b[1;34m(self, X, y, raw_predictions, sample_weight, random_state, X_val, y_val, sample_weight_val, begin_at_stage, monitor)\u001b[0m\n\u001b[0;32m    743\u001b[0m \u001b[1;33m\u001b[0m\u001b[0m\n\u001b[0;32m    744\u001b[0m             \u001b[1;31m# fit next stage of trees\u001b[0m\u001b[1;33m\u001b[0m\u001b[1;33m\u001b[0m\u001b[0m\n\u001b[1;32m--> 745\u001b[1;33m             raw_predictions = self._fit_stage(\n\u001b[0m\u001b[0;32m    746\u001b[0m                 \u001b[0mi\u001b[0m\u001b[1;33m,\u001b[0m\u001b[1;33m\u001b[0m\u001b[1;33m\u001b[0m\u001b[0m\n\u001b[0;32m    747\u001b[0m                 \u001b[0mX\u001b[0m\u001b[1;33m,\u001b[0m\u001b[1;33m\u001b[0m\u001b[1;33m\u001b[0m\u001b[0m\n",
      "\u001b[1;32m~\\AppData\\Roaming\\Python\\Python39\\site-packages\\sklearn\\ensemble\\_gb.py\u001b[0m in \u001b[0;36m_fit_stage\u001b[1;34m(self, i, X, y, raw_predictions, sample_weight, sample_mask, random_state, X_csc, X_csr)\u001b[0m\n\u001b[0;32m    221\u001b[0m                 \u001b[0my\u001b[0m \u001b[1;33m=\u001b[0m \u001b[0mnp\u001b[0m\u001b[1;33m.\u001b[0m\u001b[0marray\u001b[0m\u001b[1;33m(\u001b[0m\u001b[0moriginal_y\u001b[0m \u001b[1;33m==\u001b[0m \u001b[0mk\u001b[0m\u001b[1;33m,\u001b[0m \u001b[0mdtype\u001b[0m\u001b[1;33m=\u001b[0m\u001b[0mnp\u001b[0m\u001b[1;33m.\u001b[0m\u001b[0mfloat64\u001b[0m\u001b[1;33m)\u001b[0m\u001b[1;33m\u001b[0m\u001b[1;33m\u001b[0m\u001b[0m\n\u001b[0;32m    222\u001b[0m \u001b[1;33m\u001b[0m\u001b[0m\n\u001b[1;32m--> 223\u001b[1;33m             residual = loss.negative_gradient(\n\u001b[0m\u001b[0;32m    224\u001b[0m                 \u001b[0my\u001b[0m\u001b[1;33m,\u001b[0m \u001b[0mraw_predictions_copy\u001b[0m\u001b[1;33m,\u001b[0m \u001b[0mk\u001b[0m\u001b[1;33m=\u001b[0m\u001b[0mk\u001b[0m\u001b[1;33m,\u001b[0m \u001b[0msample_weight\u001b[0m\u001b[1;33m=\u001b[0m\u001b[0msample_weight\u001b[0m\u001b[1;33m\u001b[0m\u001b[1;33m\u001b[0m\u001b[0m\n\u001b[0;32m    225\u001b[0m             )\n",
      "\u001b[1;32m~\\AppData\\Roaming\\Python\\Python39\\site-packages\\sklearn\\ensemble\\_gb_losses.py\u001b[0m in \u001b[0;36mnegative_gradient\u001b[1;34m(self, y, raw_predictions, k, **kwargs)\u001b[0m\n\u001b[0;32m    821\u001b[0m         \"\"\"\n\u001b[0;32m    822\u001b[0m         return y - np.nan_to_num(\n\u001b[1;32m--> 823\u001b[1;33m             \u001b[0mnp\u001b[0m\u001b[1;33m.\u001b[0m\u001b[0mexp\u001b[0m\u001b[1;33m(\u001b[0m\u001b[0mraw_predictions\u001b[0m\u001b[1;33m[\u001b[0m\u001b[1;33m:\u001b[0m\u001b[1;33m,\u001b[0m \u001b[0mk\u001b[0m\u001b[1;33m]\u001b[0m \u001b[1;33m-\u001b[0m \u001b[0mlogsumexp\u001b[0m\u001b[1;33m(\u001b[0m\u001b[0mraw_predictions\u001b[0m\u001b[1;33m,\u001b[0m \u001b[0maxis\u001b[0m\u001b[1;33m=\u001b[0m\u001b[1;36m1\u001b[0m\u001b[1;33m)\u001b[0m\u001b[1;33m)\u001b[0m\u001b[1;33m\u001b[0m\u001b[1;33m\u001b[0m\u001b[0m\n\u001b[0m\u001b[0;32m    824\u001b[0m         )\n\u001b[0;32m    825\u001b[0m \u001b[1;33m\u001b[0m\u001b[0m\n",
      "\u001b[1;32m~\\anaconda3\\lib\\site-packages\\scipy\\special\\_logsumexp.py\u001b[0m in \u001b[0;36mlogsumexp\u001b[1;34m(a, axis, b, keepdims, return_sign)\u001b[0m\n\u001b[0;32m    108\u001b[0m         \u001b[0mtmp\u001b[0m \u001b[1;33m=\u001b[0m \u001b[0mb\u001b[0m \u001b[1;33m*\u001b[0m \u001b[0mnp\u001b[0m\u001b[1;33m.\u001b[0m\u001b[0mexp\u001b[0m\u001b[1;33m(\u001b[0m\u001b[0ma\u001b[0m \u001b[1;33m-\u001b[0m \u001b[0ma_max\u001b[0m\u001b[1;33m)\u001b[0m\u001b[1;33m\u001b[0m\u001b[1;33m\u001b[0m\u001b[0m\n\u001b[0;32m    109\u001b[0m     \u001b[1;32melse\u001b[0m\u001b[1;33m:\u001b[0m\u001b[1;33m\u001b[0m\u001b[1;33m\u001b[0m\u001b[0m\n\u001b[1;32m--> 110\u001b[1;33m         \u001b[0mtmp\u001b[0m \u001b[1;33m=\u001b[0m \u001b[0mnp\u001b[0m\u001b[1;33m.\u001b[0m\u001b[0mexp\u001b[0m\u001b[1;33m(\u001b[0m\u001b[0ma\u001b[0m \u001b[1;33m-\u001b[0m \u001b[0ma_max\u001b[0m\u001b[1;33m)\u001b[0m\u001b[1;33m\u001b[0m\u001b[1;33m\u001b[0m\u001b[0m\n\u001b[0m\u001b[0;32m    111\u001b[0m \u001b[1;33m\u001b[0m\u001b[0m\n\u001b[0;32m    112\u001b[0m     \u001b[1;31m# suppress warnings about log of zero\u001b[0m\u001b[1;33m\u001b[0m\u001b[1;33m\u001b[0m\u001b[0m\n",
      "\u001b[1;31mKeyboardInterrupt\u001b[0m: "
     ]
    }
   ],
   "source": [
    "maxAcc=0      #maximum accuracy\n",
    "maxRand=0\n",
    "\n",
    "for i in range(0,40):\n",
    "    x_train,x_test,y_train,y_test=train_test_split(x,y,test_size=0.20,random_state=i)\n",
    "    GR.fit(x_train,y_train)\n",
    "    pred_test=GR.predict(x_test)\n",
    "    Accuracy=accuracy_score(y_test,pred_test)\n",
    "    print('Accuracy', Accuracy,'Random_state at',i )\n",
    "    \n",
    "    if Accuracy>maxAcc:\n",
    "        maxAcc=Accuracy\n",
    "        maxRand=i\n",
    "        print('Max accuracy',maxAcc,'Max_Random_state',i)\n",
    "        print('\\n')"
   ]
  },
  {
   "cell_type": "markdown",
   "id": "13620bd6",
   "metadata": {},
   "source": [
    "At random state 15 model give accuracy score is 75.94%"
   ]
  },
  {
   "cell_type": "code",
   "execution_count": 93,
   "id": "aabc56bb",
   "metadata": {},
   "outputs": [
    {
     "name": "stdout",
     "output_type": "stream",
     "text": [
      "Confusion Matrix : [[59  0  0 ...  0  0  0]\n",
      " [ 0 46  0 ...  0  0  1]\n",
      " [ 0  1 61 ...  0  0  0]\n",
      " ...\n",
      " [ 0  0  0 ... 43  7  0]\n",
      " [ 0  0  0 ...  7 44  0]\n",
      " [ 0  0  0 ...  0  0 46]]\n",
      "Classification Report :               precision    recall  f1-score   support\n",
      "\n",
      "           0       0.86      0.79      0.82        75\n",
      "           1       0.71      0.68      0.69        68\n",
      "           2       0.97      0.88      0.92        69\n",
      "           3       0.76      0.67      0.71        66\n",
      "           4       0.82      0.92      0.86        59\n",
      "           5       0.73      0.75      0.74        63\n",
      "           6       0.71      0.71      0.71        49\n",
      "           7       0.85      0.80      0.83        71\n",
      "           8       0.81      0.95      0.88        63\n",
      "           9       0.86      0.86      0.86        70\n",
      "          10       0.69      0.79      0.74        78\n",
      "          11       0.79      0.83      0.81        70\n",
      "          12       0.86      0.83      0.84        82\n",
      "          13       0.65      0.56      0.60        73\n",
      "          14       0.75      0.77      0.76        70\n",
      "          15       0.65      0.64      0.65        64\n",
      "          16       0.88      0.89      0.89        66\n",
      "          17       0.82      0.87      0.84        67\n",
      "          18       0.68      0.79      0.73        67\n",
      "          19       0.70      0.80      0.75        59\n",
      "          20       0.89      0.82      0.86        62\n",
      "          21       0.71      0.62      0.66        66\n",
      "          22       0.80      0.70      0.75        67\n",
      "          23       0.78      0.76      0.77        71\n",
      "          24       0.68      0.70      0.69        69\n",
      "          25       0.58      0.72      0.64        61\n",
      "          26       0.66      0.67      0.67        67\n",
      "          27       0.67      0.72      0.69        58\n",
      "          28       0.83      0.86      0.84        69\n",
      "          29       0.83      0.77      0.80        70\n",
      "          30       0.92      0.86      0.89        70\n",
      "          31       0.61      0.54      0.58        70\n",
      "          32       0.85      0.78      0.81        67\n",
      "          33       0.72      0.71      0.71        75\n",
      "          34       0.80      0.89      0.84        79\n",
      "          35       0.82      0.85      0.84        48\n",
      "          36       0.70      0.60      0.65        72\n",
      "          37       0.70      0.76      0.73        63\n",
      "          38       0.66      0.77      0.71        64\n",
      "          39       0.76      0.86      0.81        72\n",
      "          40       0.84      0.95      0.89        62\n",
      "          41       0.67      0.74      0.70        70\n",
      "          42       0.98      0.82      0.89        77\n",
      "          43       0.79      0.72      0.75        67\n",
      "          44       0.86      0.83      0.84        78\n",
      "          45       0.71      0.70      0.70        73\n",
      "          46       0.83      0.85      0.84        62\n",
      "          47       0.77      0.68      0.72        75\n",
      "          48       0.82      0.72      0.77        68\n",
      "          49       0.84      0.79      0.81        72\n",
      "          50       0.42      0.40      0.41        57\n",
      "          51       0.68      0.61      0.64        71\n",
      "          52       0.56      0.70      0.62        63\n",
      "          53       0.71      0.70      0.70        66\n",
      "\n",
      "    accuracy                           0.76      3650\n",
      "   macro avg       0.76      0.76      0.76      3650\n",
      "weighted avg       0.76      0.76      0.76      3650\n",
      "\n",
      "Accuracy Score  : 75.86301369863013\n",
      "Dataset Score : 91.73231043222138\n"
     ]
    }
   ],
   "source": [
    "x_train,x_test,y_train,y_test=train_test_split(x,y,test_size=0.20,random_state=15)\n",
    "GR.fit(x_train,y_train)\n",
    "pred_test=GR.predict(x_test)\n",
    "print(f\"Confusion Matrix : {confusion_matrix(y_test,pred_test)}\")\n",
    "print(f\"Classification Report : {classification_report(y_test,pred_test)}\")\n",
    "print(f\"Accuracy Score  : {(accuracy_score(y_test,pred_test)*100)}\")\n",
    "print(f\"Dataset Score : {(GR.score(x_train,y_train))*100}\")"
   ]
  },
  {
   "cell_type": "markdown",
   "id": "073fe0ab",
   "metadata": {},
   "source": [
    "Accuracy score is 75.86%.\n",
    "It is low error and high accuracy score comparision to previous model\n",
    "Try another method for better accuracy score and less error"
   ]
  },
  {
   "cell_type": "markdown",
   "id": "087e683a",
   "metadata": {},
   "source": [
    "# Model-->Random Forest Classifier"
   ]
  },
  {
   "cell_type": "code",
   "execution_count": 94,
   "id": "3a9f8e6b",
   "metadata": {},
   "outputs": [
    {
     "name": "stdout",
     "output_type": "stream",
     "text": [
      "Accuracy 0.829041095890411 Random_state at 0\n",
      "Max accuracy 0.829041095890411 Max_Random_state 0\n",
      "\n",
      "\n",
      "Accuracy 0.827945205479452 Random_state at 1\n",
      "Accuracy 0.8394520547945206 Random_state at 2\n",
      "Max accuracy 0.8394520547945206 Max_Random_state 2\n",
      "\n",
      "\n",
      "Accuracy 0.8323287671232876 Random_state at 3\n",
      "Accuracy 0.8345205479452055 Random_state at 4\n",
      "Accuracy 0.8361643835616438 Random_state at 5\n",
      "Accuracy 0.8336986301369863 Random_state at 6\n",
      "Accuracy 0.829041095890411 Random_state at 7\n",
      "Accuracy 0.8304109589041095 Random_state at 8\n",
      "Accuracy 0.827945205479452 Random_state at 9\n",
      "Accuracy 0.8358904109589042 Random_state at 10\n",
      "Accuracy 0.8334246575342465 Random_state at 11\n",
      "Accuracy 0.8424657534246576 Random_state at 12\n",
      "Max accuracy 0.8424657534246576 Max_Random_state 12\n",
      "\n",
      "\n",
      "Accuracy 0.8287671232876712 Random_state at 13\n",
      "Accuracy 0.8378082191780822 Random_state at 14\n",
      "Accuracy 0.8397260273972603 Random_state at 15\n",
      "Accuracy 0.8315068493150685 Random_state at 16\n",
      "Accuracy 0.829041095890411 Random_state at 17\n",
      "Accuracy 0.8326027397260274 Random_state at 18\n",
      "Accuracy 0.838904109589041 Random_state at 19\n",
      "Accuracy 0.8326027397260274 Random_state at 20\n",
      "Accuracy 0.8435616438356165 Random_state at 21\n",
      "Max accuracy 0.8435616438356165 Max_Random_state 21\n",
      "\n",
      "\n",
      "Accuracy 0.843013698630137 Random_state at 22\n",
      "Accuracy 0.8416438356164384 Random_state at 23\n",
      "Accuracy 0.827945205479452 Random_state at 24\n",
      "Accuracy 0.8353424657534246 Random_state at 25\n",
      "Accuracy 0.832054794520548 Random_state at 26\n",
      "Accuracy 0.8323287671232876 Random_state at 27\n",
      "Accuracy 0.8457534246575342 Random_state at 28\n",
      "Max accuracy 0.8457534246575342 Max_Random_state 28\n",
      "\n",
      "\n",
      "Accuracy 0.84 Random_state at 29\n",
      "Accuracy 0.8432876712328767 Random_state at 30\n",
      "Accuracy 0.8326027397260274 Random_state at 31\n",
      "Accuracy 0.8375342465753425 Random_state at 32\n",
      "Accuracy 0.832054794520548 Random_state at 33\n",
      "Accuracy 0.8254794520547946 Random_state at 34\n",
      "Accuracy 0.843013698630137 Random_state at 35\n",
      "Accuracy 0.8435616438356165 Random_state at 36\n",
      "Accuracy 0.8304109589041095 Random_state at 37\n",
      "Accuracy 0.8287671232876712 Random_state at 38\n",
      "Accuracy 0.8145205479452055 Random_state at 39\n"
     ]
    }
   ],
   "source": [
    "maxAcc=0      #maximum accuracy\n",
    "maxRand=0\n",
    "\n",
    "for i in range(0,40):\n",
    "    x_train,x_test,y_train,y_test=train_test_split(x,y,test_size=0.20,random_state=i)\n",
    "    RF.fit(x_train,y_train)\n",
    "    pred_test=RF.predict(x_test)\n",
    "    Accuracy=accuracy_score(y_test,pred_test)\n",
    "    print('Accuracy', Accuracy,'Random_state at',i )\n",
    "    \n",
    "    if Accuracy>maxAcc:\n",
    "        maxAcc=Accuracy\n",
    "        maxRand=i\n",
    "        print('Max accuracy',maxAcc,'Max_Random_state',i)\n",
    "        print('\\n')"
   ]
  },
  {
   "cell_type": "markdown",
   "id": "31e9bd15",
   "metadata": {},
   "source": [
    "At random state 28 model give accuracy score 84.57%"
   ]
  },
  {
   "cell_type": "code",
   "execution_count": 95,
   "id": "a16ce3ac",
   "metadata": {},
   "outputs": [
    {
     "name": "stdout",
     "output_type": "stream",
     "text": [
      "Confusion Matrix : [[65  0  0 ...  0  0  0]\n",
      " [ 0 66  0 ...  0  0  2]\n",
      " [ 0  0 79 ...  0  0  0]\n",
      " ...\n",
      " [ 0  0  0 ... 48  9  0]\n",
      " [ 0  0  0 ...  4 55  0]\n",
      " [ 0  1  0 ...  0  0 50]]\n",
      "Classification Report :               precision    recall  f1-score   support\n",
      "\n",
      "           0       0.87      0.90      0.88        72\n",
      "           1       0.88      0.80      0.84        82\n",
      "           2       0.98      1.00      0.99        79\n",
      "           3       0.95      0.86      0.90        63\n",
      "           4       0.86      0.91      0.88        66\n",
      "           5       0.91      0.93      0.92        56\n",
      "           6       0.88      0.69      0.77        77\n",
      "           7       0.85      0.90      0.87        61\n",
      "           8       0.91      0.96      0.93        70\n",
      "           9       0.83      0.92      0.87        63\n",
      "          10       0.83      0.86      0.84        72\n",
      "          11       0.85      0.90      0.87        67\n",
      "          12       0.83      0.97      0.89        59\n",
      "          13       0.76      0.76      0.76        58\n",
      "          14       0.83      0.86      0.84        66\n",
      "          15       0.71      0.63      0.67        65\n",
      "          16       0.96      0.90      0.93        61\n",
      "          17       0.95      0.89      0.92        62\n",
      "          18       0.81      0.84      0.82        61\n",
      "          19       0.87      0.87      0.87        79\n",
      "          20       0.94      0.86      0.90        59\n",
      "          21       0.74      0.86      0.79        56\n",
      "          22       0.84      0.85      0.85        61\n",
      "          23       0.86      0.91      0.89        69\n",
      "          24       0.72      0.61      0.66        59\n",
      "          25       0.71      0.66      0.68        70\n",
      "          26       0.82      0.76      0.79        74\n",
      "          27       0.86      0.87      0.86        68\n",
      "          28       0.94      0.92      0.93        63\n",
      "          29       0.92      0.86      0.89        69\n",
      "          30       0.94      0.94      0.94        77\n",
      "          31       0.73      0.80      0.76        59\n",
      "          32       0.93      0.89      0.91        75\n",
      "          33       0.84      0.75      0.79        61\n",
      "          34       0.94      0.88      0.91        66\n",
      "          35       0.85      0.85      0.85        72\n",
      "          36       0.86      0.73      0.79        77\n",
      "          37       0.85      0.77      0.81        66\n",
      "          38       0.88      0.91      0.89        74\n",
      "          39       0.86      0.88      0.87        78\n",
      "          40       0.89      0.93      0.91        68\n",
      "          41       0.83      0.86      0.85        64\n",
      "          42       0.94      0.94      0.94        66\n",
      "          43       0.91      0.88      0.89        76\n",
      "          44       0.88      0.88      0.88        73\n",
      "          45       0.68      0.76      0.71        66\n",
      "          46       0.81      0.84      0.82        74\n",
      "          47       0.83      0.94      0.88        64\n",
      "          48       0.92      0.82      0.87        72\n",
      "          49       0.86      0.91      0.89        70\n",
      "          50       0.57      0.57      0.57        51\n",
      "          51       0.72      0.64      0.68        75\n",
      "          52       0.53      0.77      0.63        71\n",
      "          53       0.81      0.74      0.77        68\n",
      "\n",
      "    accuracy                           0.84      3650\n",
      "   macro avg       0.84      0.84      0.84      3650\n",
      "weighted avg       0.84      0.84      0.84      3650\n",
      "\n",
      "Accuracy Score  : 84.10958904109589\n",
      "Dataset Score : 96.96554558531406\n"
     ]
    }
   ],
   "source": [
    "x_train,x_test,y_train,y_test=train_test_split(x,y,test_size=0.20,random_state=28)\n",
    "RF.fit(x_train,y_train)\n",
    "pred_test=RF.predict(x_test)\n",
    "print(f\"Confusion Matrix : {confusion_matrix(y_test,pred_test)}\")\n",
    "print(f\"Classification Report : {classification_report(y_test,pred_test)}\")\n",
    "print(f\"Accuracy Score  : {(accuracy_score(y_test,pred_test)*100)}\")\n",
    "print(f\"Dataset Score : {(RF.score(x_train,y_train))*100}\")"
   ]
  },
  {
   "cell_type": "markdown",
   "id": "8b7ec220",
   "metadata": {},
   "source": [
    "Accuracy score is 84.10%.\n",
    "It is low error and high accuracy score comparision to previous model\n",
    "Dataset score is 96.96%"
   ]
  },
  {
   "cell_type": "markdown",
   "id": "c48e55a0",
   "metadata": {},
   "source": [
    "In train test split model selection method RANDOM FOREST CLASSIFIER give high accuracy score and high avg and high precision score.\n",
    "Percision_score-->84%\n",
    "Avg-->84%\n",
    "Accuracy_score -->84.10%(approx)\n",
    "Dataset/training scoer -->96.96%"
   ]
  },
  {
   "cell_type": "markdown",
   "id": "7e99be64",
   "metadata": {},
   "source": [
    "### Try diffrent model selection for find best model"
   ]
  },
  {
   "cell_type": "markdown",
   "id": "5df137b4",
   "metadata": {},
   "source": [
    "# Cross_Val_Score"
   ]
  },
  {
   "cell_type": "markdown",
   "id": "e40565bf",
   "metadata": {},
   "source": [
    "# CV-->Logistic Regression"
   ]
  },
  {
   "cell_type": "code",
   "execution_count": 96,
   "id": "16f437e6",
   "metadata": {},
   "outputs": [
    {
     "name": "stdout",
     "output_type": "stream",
     "text": [
      "At cross fold  CV 2,and the mean_score is:0.01090522061340556 and the test accuracy is 0.23397260273972603\n",
      "\n",
      "\n",
      "At cross fold  CV 3,and the mean_score is:0.10400569894240781 and the test accuracy is 0.23397260273972603\n",
      "\n",
      "\n",
      "At cross fold  CV 4,and the mean_score is:0.10943057365426097 and the test accuracy is 0.23397260273972603\n",
      "\n",
      "\n",
      "At cross fold  CV 5,and the mean_score is:0.13627898805077013 and the test accuracy is 0.23397260273972603\n",
      "\n",
      "\n",
      "At cross fold  CV 6,and the mean_score is:0.13250142349249425 and the test accuracy is 0.23397260273972603\n",
      "\n",
      "\n",
      "At cross fold  CV 7,and the mean_score is:0.15206312674667105 and the test accuracy is 0.23397260273972603\n",
      "\n",
      "\n",
      "At cross fold  CV 8,and the mean_score is:0.15792627893189215 and the test accuracy is 0.23397260273972603\n",
      "\n",
      "\n",
      "At cross fold  CV 9,and the mean_score is:0.16379001278056343 and the test accuracy is 0.23397260273972603\n",
      "\n",
      "\n"
     ]
    }
   ],
   "source": [
    "pred=LO.predict(x_test)\n",
    "for i in range(2,10):\n",
    "    test_accuracy=accuracy_score(y_test,pred) \n",
    "    cv_score=cross_val_score(LO,x,y,cv=i)\n",
    "    Accuracy=cv_score.mean()\n",
    "    std_score=cv_score.std()\n",
    "    print(f'At cross fold  CV {i},and the mean_score is:{Accuracy} and the test accuracy is {test_accuracy}')\n",
    "    print('\\n')"
   ]
  },
  {
   "cell_type": "markdown",
   "id": "b4563677",
   "metadata": {},
   "source": [
    "At cv=9 model give mean score is 16.37%"
   ]
  },
  {
   "cell_type": "code",
   "execution_count": 97,
   "id": "7def5eab",
   "metadata": {},
   "outputs": [],
   "source": [
    "from sklearn.metrics import plot_roc_curve"
   ]
  },
  {
   "cell_type": "markdown",
   "id": "d3da270a",
   "metadata": {},
   "source": [
    "# CV--->GaussianNB"
   ]
  },
  {
   "cell_type": "code",
   "execution_count": 101,
   "id": "8f7d54ff",
   "metadata": {},
   "outputs": [
    {
     "name": "stdout",
     "output_type": "stream",
     "text": [
      "At cross fold  CV 2,and the mean_score is:0.01912437467344892 and the test accuracy is 0.23397260273972603\n",
      "\n",
      "\n",
      "At cross fold  CV 3,and the mean_score is:0.06148282097649186 and the test accuracy is 0.23397260273972603\n",
      "\n",
      "\n",
      "At cross fold  CV 4,and the mean_score is:0.05726358334863376 and the test accuracy is 0.23397260273972603\n",
      "\n",
      "\n",
      "At cross fold  CV 5,and the mean_score is:0.08027700589765632 and the test accuracy is 0.23397260273972603\n",
      "\n",
      "\n",
      "At cross fold  CV 6,and the mean_score is:0.07803270202405102 and the test accuracy is 0.23397260273972603\n",
      "\n",
      "\n",
      "At cross fold  CV 7,and the mean_score is:0.09342977697408075 and the test accuracy is 0.23397260273972603\n",
      "\n",
      "\n",
      "At cross fold  CV 8,and the mean_score is:0.09249843715239368 and the test accuracy is 0.23397260273972603\n",
      "\n",
      "\n",
      "At cross fold  CV 9,and the mean_score is:0.09792351252827136 and the test accuracy is 0.23397260273972603\n",
      "\n",
      "\n"
     ]
    }
   ],
   "source": [
    "pred_=GA.predict(x_test)\n",
    "for i in range(2,10):\n",
    "    test_accuracy=accuracy_score(y_test,pred) \n",
    "    cv_score=cross_val_score(GA,x,y,cv=i)\n",
    "    Accuracy=cv_score.mean()\n",
    "    std_score=cv_score.std()\n",
    "    print(f'At cross fold  CV {i},and the mean_score is:{Accuracy} and the test accuracy is {test_accuracy}')\n",
    "    print('\\n')"
   ]
  },
  {
   "cell_type": "markdown",
   "id": "53f6b6d4",
   "metadata": {},
   "source": [
    "At cv=9 model give mean score is 9.79%"
   ]
  },
  {
   "cell_type": "markdown",
   "id": "1e58d7b2",
   "metadata": {},
   "source": [
    "# CV-->Decision Tree Classifier"
   ]
  },
  {
   "cell_type": "code",
   "execution_count": 103,
   "id": "4a799569",
   "metadata": {},
   "outputs": [
    {
     "name": "stdout",
     "output_type": "stream",
     "text": [
      "At cross fold  CV 2,and the mean_score is:0.007671449076048116 and the test accuracy is 0.7293150684931506\n",
      "\n",
      "\n",
      "At cross fold  CV 3,and the mean_score is:0.3972820428516631 and the test accuracy is 0.7293150684931506\n",
      "\n",
      "\n",
      "At cross fold  CV 4,and the mean_score is:0.4499981408894504 and the test accuracy is 0.7293150684931506\n",
      "\n",
      "\n",
      "At cross fold  CV 5,and the mean_score is:0.5001329394054291 and the test accuracy is 0.7293150684931506\n",
      "\n",
      "\n",
      "At cross fold  CV 6,and the mean_score is:0.4924127543774421 and the test accuracy is 0.7293150684931506\n",
      "\n",
      "\n",
      "At cross fold  CV 7,and the mean_score is:0.5466600909638883 and the test accuracy is 0.7293150684931506\n",
      "\n",
      "\n",
      "At cross fold  CV 8,and the mean_score is:0.5574010776059979 and the test accuracy is 0.7293150684931506\n",
      "\n",
      "\n",
      "At cross fold  CV 9,and the mean_score is:0.5500032921762648 and the test accuracy is 0.7293150684931506\n",
      "\n",
      "\n"
     ]
    }
   ],
   "source": [
    "pred=DTC.predict(x_test)\n",
    "for i in range(2,10):\n",
    "    test_accuracy=accuracy_score(y_test,pred) \n",
    "    cv_score=cross_val_score(DTC,x,y,cv=i)\n",
    "    Accuracy=cv_score.mean()\n",
    "    std_score=cv_score.std()\n",
    "    print(f'At cross fold  CV {i},and the mean_score is:{Accuracy} and the test accuracy is {test_accuracy}')\n",
    "    print('\\n')"
   ]
  },
  {
   "cell_type": "markdown",
   "id": "d4980940",
   "metadata": {},
   "source": [
    "At cv=9 model give mean_scoer is 75.58%"
   ]
  },
  {
   "cell_type": "markdown",
   "id": "7716d4fc",
   "metadata": {},
   "source": [
    "# CV-->SVC"
   ]
  },
  {
   "cell_type": "code",
   "execution_count": 105,
   "id": "74d726ec",
   "metadata": {},
   "outputs": [
    {
     "name": "stdout",
     "output_type": "stream",
     "text": [
      "At cross fold  CV 2,and the mean_score is:0.01638452252977245 and the test accuracy is 0.7024657534246576\n",
      "\n",
      "\n",
      "At cross fold  CV 3,and the mean_score is:0.4029809852594663 and the test accuracy is 0.7024657534246576\n",
      "\n",
      "\n",
      "At cross fold  CV 4,and the mean_score is:0.46566890557380564 and the test accuracy is 0.7024657534246576\n",
      "\n",
      "\n",
      "At cross fold  CV 5,and the mean_score is:0.5315309805275981 and the test accuracy is 0.7024657534246576\n",
      "\n",
      "\n",
      "At cross fold  CV 6,and the mean_score is:0.5170746852696111 and the test accuracy is 0.7024657534246576\n",
      "\n",
      "\n",
      "At cross fold  CV 7,and the mean_score is:0.5664967943448956 and the test accuracy is 0.7024657534246576\n",
      "\n",
      "\n",
      "At cross fold  CV 8,and the mean_score is:0.5805287487113951 and the test accuracy is 0.7024657534246576\n",
      "\n",
      "\n",
      "At cross fold  CV 9,and the mean_score is:0.5848610598904705 and the test accuracy is 0.7024657534246576\n",
      "\n",
      "\n"
     ]
    }
   ],
   "source": [
    "pred=SV.predict(x_test)\n",
    "for i in range(2,10):\n",
    "    test_accuracy=accuracy_score(y_test,pred) \n",
    "    cv_score=cross_val_score(SV,x,y,cv=i)\n",
    "    Accuracy=cv_score.mean()\n",
    "    std_score=cv_score.std()\n",
    "    print(f'At cross fold  CV {i},and the mean_score is:{Accuracy} and the test accuracy is {test_accuracy}')\n",
    "    print('\\n')"
   ]
  },
  {
   "cell_type": "markdown",
   "id": "e9d3ece2",
   "metadata": {},
   "source": [
    "At cv=9 model give mean score is 58.48%"
   ]
  },
  {
   "cell_type": "markdown",
   "id": "39d2918e",
   "metadata": {},
   "source": [
    "# CV-->Kneighbors Classifier"
   ]
  },
  {
   "cell_type": "code",
   "execution_count": 106,
   "id": "831ddd96",
   "metadata": {},
   "outputs": [
    {
     "name": "stdout",
     "output_type": "stream",
     "text": [
      "At cross fold  CV 2,and the mean_score is:0.015672554094875474 and the test accuracy is 0.841917808219178\n",
      "\n",
      "\n",
      "At cross fold  CV 3,and the mean_score is:0.43120170968272237 and the test accuracy is 0.841917808219178\n",
      "\n",
      "\n",
      "At cross fold  CV 4,and the mean_score is:0.48753263411561054 and the test accuracy is 0.841917808219178\n",
      "\n",
      "\n",
      "At cross fold  CV 5,and the mean_score is:0.5478044275594365 and the test accuracy is 0.841917808219178\n",
      "\n",
      "\n",
      "At cross fold  CV 6,and the mean_score is:0.5398135770735877 and the test accuracy is 0.841917808219178\n",
      "\n",
      "\n",
      "At cross fold  CV 7,and the mean_score is:0.6020055893473615 and the test accuracy is 0.841917808219178\n",
      "\n",
      "\n",
      "At cross fold  CV 8,and the mean_score is:0.6144449431938035 and the test accuracy is 0.841917808219178\n",
      "\n",
      "\n",
      "At cross fold  CV 9,and the mean_score is:0.6115390940255272 and the test accuracy is 0.841917808219178\n",
      "\n",
      "\n"
     ]
    }
   ],
   "source": [
    "pred=KN.predict(x_test)\n",
    "for i in range(2,10):\n",
    "    test_accuracy=accuracy_score(y_test,pred) \n",
    "    cv_score=cross_val_score(KN,x,y,cv=i)\n",
    "    Accuracy=cv_score.mean()\n",
    "    std_score=cv_score.std()\n",
    "    print(f'At cross fold  CV {i},and the mean_score is:{Accuracy} and the test accuracy is {test_accuracy}')\n",
    "    print('\\n')"
   ]
  },
  {
   "cell_type": "markdown",
   "id": "0c5a3118",
   "metadata": {},
   "source": [
    "At cv=8 model give mean score is 61.44%"
   ]
  },
  {
   "cell_type": "markdown",
   "id": "91f1c4e7",
   "metadata": {},
   "source": [
    "# CV-->Ada Boost Classifier"
   ]
  },
  {
   "cell_type": "code",
   "execution_count": 107,
   "id": "2cf8798c",
   "metadata": {},
   "outputs": [
    {
     "name": "stdout",
     "output_type": "stream",
     "text": [
      "At cross fold  CV 2,and the mean_score is:0.01271277918240618 and the test accuracy is 0.08356164383561644\n",
      "\n",
      "\n",
      "At cross fold  CV 3,and the mean_score is:0.04345443585949915 and the test accuracy is 0.08356164383561644\n",
      "\n",
      "\n",
      "At cross fold  CV 4,and the mean_score is:0.03161787390195983 and the test accuracy is 0.08356164383561644\n",
      "\n",
      "\n",
      "At cross fold  CV 5,and the mean_score is:0.044716248024416524 and the test accuracy is 0.08356164383561644\n",
      "\n",
      "\n",
      "At cross fold  CV 6,and the mean_score is:0.036386222970848474 and the test accuracy is 0.08356164383561644\n",
      "\n",
      "\n",
      "At cross fold  CV 7,and the mean_score is:0.04230368787330813 and the test accuracy is 0.08356164383561644\n",
      "\n",
      "\n",
      "At cross fold  CV 8,and the mean_score is:0.040715157911966435 and the test accuracy is 0.08356164383561644\n",
      "\n",
      "\n",
      "At cross fold  CV 9,and the mean_score is:0.050960996522834784 and the test accuracy is 0.08356164383561644\n",
      "\n",
      "\n"
     ]
    }
   ],
   "source": [
    "pred=AD.predict(x_test)\n",
    "for i in range(2,10):\n",
    "    test_accuracy=accuracy_score(y_test,pred) \n",
    "    cv_score=cross_val_score(AD,x,y,cv=i)\n",
    "    Accuracy=cv_score.mean()\n",
    "    std_score=cv_score.std()\n",
    "    print(f'At cross fold  CV {i},and the mean_score is:{Accuracy} and the test accuracy is {test_accuracy}')\n",
    "    print('\\n')"
   ]
  },
  {
   "cell_type": "markdown",
   "id": "e8df74ca",
   "metadata": {},
   "source": [
    "At cv=9 model give mean score is 5.09%"
   ]
  },
  {
   "cell_type": "markdown",
   "id": "0b4dc38b",
   "metadata": {},
   "source": [
    "# CV-->Random Forest Classifier"
   ]
  },
  {
   "cell_type": "code",
   "execution_count": null,
   "id": "3e14ba90",
   "metadata": {},
   "outputs": [],
   "source": [
    "pred=RF.predict(x_test)\n",
    "for i in range(2,10):\n",
    "    test_accuracy=accuracy_score(y_test,pred) \n",
    "    cv_score=cross_val_score(RF,x,y,cv=i)\n",
    "    Accuracy=cv_score.mean()\n",
    "    std_score=cv_score.std()\n",
    "    print(f'At cross fold  CV {i},and the mean_score is:{Accuracy} and the test accuracy is {test_accuracy}')\n",
    "    print('\\n')"
   ]
  },
  {
   "cell_type": "markdown",
   "id": "52ce4b3f",
   "metadata": {},
   "source": [
    "At cv=9 model give mean score is 91.64%"
   ]
  },
  {
   "cell_type": "markdown",
   "id": "8522aa7f",
   "metadata": {},
   "source": [
    "# Random Forest Classifier give me highest accuracy."
   ]
  },
  {
   "cell_type": "code",
   "execution_count": null,
   "id": "f707c8b5",
   "metadata": {},
   "outputs": [],
   "source": []
  },
  {
   "cell_type": "code",
   "execution_count": null,
   "id": "96f76ce4",
   "metadata": {},
   "outputs": [],
   "source": []
  },
  {
   "cell_type": "code",
   "execution_count": null,
   "id": "d1838986",
   "metadata": {},
   "outputs": [],
   "source": []
  }
 ],
 "metadata": {
  "kernelspec": {
   "display_name": "Python 3 (ipykernel)",
   "language": "python",
   "name": "python3"
  },
  "language_info": {
   "codemirror_mode": {
    "name": "ipython",
    "version": 3
   },
   "file_extension": ".py",
   "mimetype": "text/x-python",
   "name": "python",
   "nbconvert_exporter": "python",
   "pygments_lexer": "ipython3",
   "version": "3.9.7"
  }
 },
 "nbformat": 4,
 "nbformat_minor": 5
}
